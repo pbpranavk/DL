{
  "cells": [
    {
      "cell_type": "markdown",
      "source": [
        "## In this attempt I tried maintaining the convolution filters size same as the one in lecture video and then, increased the latent space to 8 dimensions, the results were far better than the previous model as they were able to decode correctly however they were a little blurry and the parameters were nearly 300k"
      ],
      "metadata": {
        "id": "cX-qhzYRXiIp"
      }
    },
    {
      "cell_type": "markdown",
      "metadata": {
        "id": "MkoGLH_Tj5wn"
      },
      "source": [
        "## Imports"
      ]
    },
    {
      "cell_type": "code",
      "execution_count": null,
      "metadata": {
        "id": "ORj09gnrj5wp"
      },
      "outputs": [],
      "source": [
        "import torch\n",
        "import torch.nn as nn\n",
        "import matplotlib.pyplot as plt"
      ]
    },
    {
      "cell_type": "markdown",
      "metadata": {
        "id": "0La6NChED9cA"
      },
      "source": [
        "#### Import utility functions"
      ]
    },
    {
      "cell_type": "code",
      "execution_count": null,
      "metadata": {
        "id": "nTJrtTNxD9cB"
      },
      "outputs": [],
      "source": [
        "from helper_data import get_dataloaders_mnist\n",
        "from helper_train import train_autoencoder_v1\n",
        "from helper_utils import set_deterministic, set_all_seeds\n",
        "from helper_plotting import plot_training_loss\n",
        "from helper_plotting import plot_generated_images\n",
        "from helper_plotting import plot_latent_space_with_labels"
      ]
    },
    {
      "cell_type": "code",
      "execution_count": null,
      "metadata": {
        "colab": {
          "base_uri": "https://localhost:8080/"
        },
        "id": "NnT0sZIwj5wu",
        "outputId": "d0e70825-a194-40ef-88ac-5b901f17d4aa"
      },
      "outputs": [
        {
          "output_type": "stream",
          "name": "stdout",
          "text": [
            "Device: cuda:0\n"
          ]
        }
      ],
      "source": [
        "##########################\n",
        "### SETTINGS\n",
        "##########################\n",
        "\n",
        "# Device\n",
        "CUDA_DEVICE_NUM = 3\n",
        "NUM_CLASSES = 10\n",
        "DEVICE = torch.device(f'cuda:{0}' if torch.cuda.is_available() else 'cpu')\n",
        "print('Device:', DEVICE)\n",
        "\n",
        "# Hyperparameters\n",
        "RANDOM_SEED = 123\n",
        "LEARNING_RATE = 0.0005\n",
        "BATCH_SIZE = 32\n",
        "NUM_EPOCHS = 10"
      ]
    },
    {
      "cell_type": "code",
      "execution_count": null,
      "metadata": {
        "id": "TLF_8xLVD9cD"
      },
      "outputs": [],
      "source": [
        "set_deterministic\n",
        "set_all_seeds(RANDOM_SEED)"
      ]
    },
    {
      "cell_type": "markdown",
      "metadata": {
        "id": "Piw9gQfoD9cD"
      },
      "source": [
        "## Dataset"
      ]
    },
    {
      "cell_type": "code",
      "execution_count": null,
      "metadata": {
        "colab": {
          "base_uri": "https://localhost:8080/",
          "height": 423,
          "referenced_widgets": [
            "3eba6172aebb4b36963e8e33d9cf1023",
            "16387e64fd694603a391f0a391d061d0",
            "1be1f315cca94d579ef7a12b0c562762",
            "4b808251d1614057a77a6b921c7a708a",
            "9d9b1ad241934a7581eee9717d05d2ee",
            "4c53d87732784c6682c19147ccad5cde",
            "ec3058f292864239a4ee04f10495d7e6",
            "90713272d8544f9b8ed9528481964882",
            "832547a0b0374b3da4c7580eb5ce5a54",
            "7a293c355216444d9c559b9a4f42abc7",
            "7a50c0c3837849b2baba2476e92546b1",
            "13516a271ddb4bc59ed7d16a1929e070",
            "04d006159d174c029dcf232bf3e0798b",
            "94990f4d3b4f409cbb45e0f07ed9660d",
            "55d71bac157946469dd82ff88826e52f",
            "d29278ebe7034a17b8d7a089a15cc274",
            "804fdb29489c41a786511cc3d60c70e2",
            "cf05eaf6e3f243c781a09bbb382d9532",
            "f6dfe342a9bc4ffd915280fc43e321a0",
            "ec9c116b4d2f4a40ae822a7fac9f5e8b",
            "29b26696b14844c29f6651c73a9f714a",
            "ea8611a15f894273a4f4a4d60bc3971a",
            "29da4183cb8045e6840ba8c91e441fc0",
            "bd90603c3595473b898d5777038db107",
            "1e1f382ab1c844c3a9bad6ad7122b9de",
            "4e80c91bdd9845798e7675053ab0e085",
            "29aceb8cfdde43cf9c7fc40f9dd744e6",
            "aea09f649cc947e1bdf5e30e66132844",
            "1291435fe358426b9c62e6d4f5ab9457",
            "d2f05d08ae454c82897ff65f96e4b649",
            "3aef4463585042e3b3c6e0023db573de",
            "d7582967fde04159be6f902e5ba2fa4b",
            "86b6c45b660a4cf5afa8d3d1b0c14077",
            "569deea434574ae3bbd7a0d17baeb57e",
            "105234e34a3646c8a1cc02a196d5dcf6",
            "63c9bbfbc8834346b13e5e1f9f3e5314",
            "a8e67e6ba5cc45a49b4c2c5560f24883",
            "3720888efef44798a03cca238da35f33",
            "fc1d419d20434566b59bd16dbb82f8dd",
            "9e402f7329764fa68c4107413a39b4d5",
            "7ff5e88d49944712a55d1cd8bc7eb41e",
            "c87343d821d846859c7641985221a12e",
            "3fcce71f21914e78bf2003c2b237c708",
            "311805b465fc418e943356419fcf53f1"
          ]
        },
        "id": "2P0c6aRbD9cE",
        "outputId": "d25199ee-dd05-4f4f-bf91-f3a33b2ab6e0"
      },
      "outputs": [
        {
          "output_type": "stream",
          "name": "stdout",
          "text": [
            "Downloading http://yann.lecun.com/exdb/mnist/train-images-idx3-ubyte.gz\n",
            "Downloading http://yann.lecun.com/exdb/mnist/train-images-idx3-ubyte.gz to data/MNIST/raw/train-images-idx3-ubyte.gz\n"
          ]
        },
        {
          "output_type": "display_data",
          "data": {
            "text/plain": [
              "  0%|          | 0/9912422 [00:00<?, ?it/s]"
            ],
            "application/vnd.jupyter.widget-view+json": {
              "version_major": 2,
              "version_minor": 0,
              "model_id": "3eba6172aebb4b36963e8e33d9cf1023"
            }
          },
          "metadata": {}
        },
        {
          "output_type": "stream",
          "name": "stdout",
          "text": [
            "Extracting data/MNIST/raw/train-images-idx3-ubyte.gz to data/MNIST/raw\n",
            "\n",
            "Downloading http://yann.lecun.com/exdb/mnist/train-labels-idx1-ubyte.gz\n",
            "Downloading http://yann.lecun.com/exdb/mnist/train-labels-idx1-ubyte.gz to data/MNIST/raw/train-labels-idx1-ubyte.gz\n"
          ]
        },
        {
          "output_type": "display_data",
          "data": {
            "text/plain": [
              "  0%|          | 0/28881 [00:00<?, ?it/s]"
            ],
            "application/vnd.jupyter.widget-view+json": {
              "version_major": 2,
              "version_minor": 0,
              "model_id": "13516a271ddb4bc59ed7d16a1929e070"
            }
          },
          "metadata": {}
        },
        {
          "output_type": "stream",
          "name": "stdout",
          "text": [
            "Extracting data/MNIST/raw/train-labels-idx1-ubyte.gz to data/MNIST/raw\n",
            "\n",
            "Downloading http://yann.lecun.com/exdb/mnist/t10k-images-idx3-ubyte.gz\n",
            "Downloading http://yann.lecun.com/exdb/mnist/t10k-images-idx3-ubyte.gz to data/MNIST/raw/t10k-images-idx3-ubyte.gz\n"
          ]
        },
        {
          "output_type": "display_data",
          "data": {
            "text/plain": [
              "  0%|          | 0/1648877 [00:00<?, ?it/s]"
            ],
            "application/vnd.jupyter.widget-view+json": {
              "version_major": 2,
              "version_minor": 0,
              "model_id": "29da4183cb8045e6840ba8c91e441fc0"
            }
          },
          "metadata": {}
        },
        {
          "output_type": "stream",
          "name": "stdout",
          "text": [
            "Extracting data/MNIST/raw/t10k-images-idx3-ubyte.gz to data/MNIST/raw\n",
            "\n",
            "Downloading http://yann.lecun.com/exdb/mnist/t10k-labels-idx1-ubyte.gz\n",
            "Downloading http://yann.lecun.com/exdb/mnist/t10k-labels-idx1-ubyte.gz to data/MNIST/raw/t10k-labels-idx1-ubyte.gz\n"
          ]
        },
        {
          "output_type": "display_data",
          "data": {
            "text/plain": [
              "  0%|          | 0/4542 [00:00<?, ?it/s]"
            ],
            "application/vnd.jupyter.widget-view+json": {
              "version_major": 2,
              "version_minor": 0,
              "model_id": "569deea434574ae3bbd7a0d17baeb57e"
            }
          },
          "metadata": {}
        },
        {
          "output_type": "stream",
          "name": "stdout",
          "text": [
            "Extracting data/MNIST/raw/t10k-labels-idx1-ubyte.gz to data/MNIST/raw\n",
            "\n"
          ]
        }
      ],
      "source": [
        "##########################\n",
        "### Dataset\n",
        "##########################\n",
        "\n",
        "train_loader, valid_loader, test_loader = get_dataloaders_mnist(\n",
        "    batch_size=BATCH_SIZE,\n",
        "    num_workers=2,\n",
        "    validation_fraction=0.)"
      ]
    },
    {
      "cell_type": "code",
      "execution_count": null,
      "metadata": {
        "colab": {
          "base_uri": "https://localhost:8080/"
        },
        "id": "Ll9oFgWZD9cE",
        "outputId": "8e5647fb-6918-4890-95c0-3fa3000513a5"
      },
      "outputs": [
        {
          "output_type": "stream",
          "name": "stdout",
          "text": [
            "Training Set:\n",
            "\n",
            "Image batch dimensions: torch.Size([32, 1, 28, 28])\n",
            "Image label dimensions: torch.Size([32])\n",
            "tensor([1, 2, 1, 9, 0, 6, 9, 8, 0, 1])\n",
            "\n",
            "Validation Set:\n",
            "\n",
            "Testing Set:\n",
            "Image batch dimensions: torch.Size([32, 1, 28, 28])\n",
            "Image label dimensions: torch.Size([32])\n",
            "tensor([7, 2, 1, 0, 4, 1, 4, 9, 5, 9])\n"
          ]
        }
      ],
      "source": [
        "# Checking the dataset\n",
        "print('Training Set:\\n')\n",
        "for images, labels in train_loader:\n",
        "    print('Image batch dimensions:', images.size())\n",
        "    print('Image label dimensions:', labels.size())\n",
        "    print(labels[:10])\n",
        "    break\n",
        "\n",
        "# Checking the dataset\n",
        "print('\\nValidation Set:')\n",
        "for images, labels in valid_loader:\n",
        "    print('Image batch dimensions:', images.size())\n",
        "    print('Image label dimensions:', labels.size())\n",
        "    print(labels[:10])\n",
        "    break\n",
        "\n",
        "# Checking the dataset\n",
        "print('\\nTesting Set:')\n",
        "for images, labels in test_loader:\n",
        "    print('Image batch dimensions:', images.size())\n",
        "    print('Image label dimensions:', labels.size())\n",
        "    print(labels[:10])\n",
        "    break"
      ]
    },
    {
      "cell_type": "markdown",
      "metadata": {
        "id": "DgRVKtsCD9cF"
      },
      "source": [
        "## Model"
      ]
    },
    {
      "cell_type": "code",
      "execution_count": null,
      "metadata": {
        "id": "uyENJ3nCD9cF"
      },
      "outputs": [],
      "source": [
        "##########################\n",
        "### MODEL\n",
        "##########################\n",
        "\n",
        "\n",
        "class Reshape(nn.Module):\n",
        "    def __init__(self, *args):\n",
        "        super().__init__()\n",
        "        self.shape = args\n",
        "\n",
        "    def forward(self, x):\n",
        "        return x.view(self.shape)\n",
        "\n",
        "\n",
        "class Trim(nn.Module):\n",
        "    def __init__(self, *args):\n",
        "        super().__init__()\n",
        "\n",
        "    def forward(self, x):\n",
        "        return x[:, :, :28, :28]\n",
        "\n",
        "\n",
        "class AutoEncoder(nn.Module):\n",
        "    def __init__(self):\n",
        "        super().__init__()\n",
        "\n",
        "        self.encoder = nn.Sequential( #784\n",
        "                nn.Conv2d(1, 16, stride=(1, 1), kernel_size=(3, 3), padding=1),\n",
        "                nn.LeakyReLU(0.01),\n",
        "                nn.Conv2d(16, 32, stride=(2, 2), kernel_size=(3, 3), padding=1),\n",
        "                nn.LeakyReLU(0.01),\n",
        "                nn.Conv2d(32, 64, stride=(2, 2), kernel_size=(3, 3), padding=1),\n",
        "                nn.LeakyReLU(0.01),\n",
        "                nn.Conv2d(64, 128, stride=(1, 1), kernel_size=(3, 3), padding=1),\n",
        "                nn.Flatten(),\n",
        "                nn.Linear(128 * 7 * 7, 8)\n",
        "        )\n",
        "        self.decoder = nn.Sequential(\n",
        "                torch.nn.Linear(8, 128 * 7 * 7),\n",
        "                Reshape(-1, 128, 7, 7),\n",
        "                nn.ConvTranspose2d(128, 64, stride=(1, 1), kernel_size=(3, 3), padding=1),\n",
        "                nn.LeakyReLU(0.01),\n",
        "                nn.ConvTranspose2d(64, 32, stride=(2, 2), kernel_size=(3, 3), padding=1),\n",
        "                nn.LeakyReLU(0.01),\n",
        "                nn.ConvTranspose2d(32, 16, stride=(2, 2), kernel_size=(3, 3), padding=0),\n",
        "                nn.LeakyReLU(0.01),\n",
        "                nn.ConvTranspose2d(16, 1, stride=(1, 1), kernel_size=(3, 3), padding=0),\n",
        "                Trim(),  # 1x29x29 -> 1x28x28\n",
        "                nn.Sigmoid()\n",
        "                )\n",
        "\n",
        "    def forward(self, x):\n",
        "        x = self.encoder(x)\n",
        "        x = self.decoder(x)\n",
        "        return x"
      ]
    },
    {
      "cell_type": "code",
      "execution_count": null,
      "metadata": {
        "id": "_lza9t_uj5w1"
      },
      "outputs": [],
      "source": [
        "set_all_seeds(RANDOM_SEED)\n",
        "\n",
        "model = AutoEncoder()\n",
        "model.to(DEVICE)\n",
        "\n",
        "optimizer = torch.optim.Adam(model.parameters(), lr=LEARNING_RATE)"
      ]
    },
    {
      "cell_type": "code",
      "source": [
        "sum(p.numel() for p in model.parameters() if p.requires_grad)"
      ],
      "metadata": {
        "colab": {
          "base_uri": "https://localhost:8080/"
        },
        "id": "sFfG4oygMw9Q",
        "outputId": "7ecd9c1e-ad57-460b-b244-01b944329baa"
      },
      "execution_count": null,
      "outputs": [
        {
          "output_type": "execute_result",
          "data": {
            "text/plain": [
              "300809"
            ]
          },
          "metadata": {},
          "execution_count": 12
        }
      ]
    },
    {
      "cell_type": "markdown",
      "metadata": {
        "id": "RAodboScj5w6"
      },
      "source": [
        "## Training"
      ]
    },
    {
      "cell_type": "code",
      "execution_count": null,
      "metadata": {
        "colab": {
          "base_uri": "https://localhost:8080/"
        },
        "id": "Dzh3ROmRj5w7",
        "outputId": "43e5ba94-c2c2-4874-8e5c-b68321dc88b5"
      },
      "outputs": [
        {
          "output_type": "stream",
          "name": "stdout",
          "text": [
            "Epoch: 001/010 | Batch 0000/1875 | Loss: 0.2140\n",
            "Epoch: 001/010 | Batch 0250/1875 | Loss: 0.0416\n",
            "Epoch: 001/010 | Batch 0500/1875 | Loss: 0.0311\n",
            "Epoch: 001/010 | Batch 0750/1875 | Loss: 0.0289\n",
            "Epoch: 001/010 | Batch 1000/1875 | Loss: 0.0248\n",
            "Epoch: 001/010 | Batch 1250/1875 | Loss: 0.0230\n",
            "Epoch: 001/010 | Batch 1500/1875 | Loss: 0.0190\n",
            "Epoch: 001/010 | Batch 1750/1875 | Loss: 0.0212\n",
            "Time elapsed: 0.94 min\n",
            "Epoch: 002/010 | Batch 0000/1875 | Loss: 0.0168\n",
            "Epoch: 002/010 | Batch 0250/1875 | Loss: 0.0273\n",
            "Epoch: 002/010 | Batch 0500/1875 | Loss: 0.0231\n",
            "Epoch: 002/010 | Batch 0750/1875 | Loss: 0.0206\n",
            "Epoch: 002/010 | Batch 1000/1875 | Loss: 0.0178\n",
            "Epoch: 002/010 | Batch 1250/1875 | Loss: 0.0210\n",
            "Epoch: 002/010 | Batch 1500/1875 | Loss: 0.0214\n",
            "Epoch: 002/010 | Batch 1750/1875 | Loss: 0.0188\n",
            "Time elapsed: 1.74 min\n",
            "Epoch: 003/010 | Batch 0000/1875 | Loss: 0.0181\n",
            "Epoch: 003/010 | Batch 0250/1875 | Loss: 0.0205\n",
            "Epoch: 003/010 | Batch 0500/1875 | Loss: 0.0187\n",
            "Epoch: 003/010 | Batch 0750/1875 | Loss: 0.0244\n",
            "Epoch: 003/010 | Batch 1000/1875 | Loss: 0.0168\n",
            "Epoch: 003/010 | Batch 1250/1875 | Loss: 0.0191\n",
            "Epoch: 003/010 | Batch 1500/1875 | Loss: 0.0202\n",
            "Epoch: 003/010 | Batch 1750/1875 | Loss: 0.0157\n",
            "Time elapsed: 2.54 min\n",
            "Epoch: 004/010 | Batch 0000/1875 | Loss: 0.0168\n",
            "Epoch: 004/010 | Batch 0250/1875 | Loss: 0.0162\n",
            "Epoch: 004/010 | Batch 0500/1875 | Loss: 0.0193\n",
            "Epoch: 004/010 | Batch 0750/1875 | Loss: 0.0169\n",
            "Epoch: 004/010 | Batch 1000/1875 | Loss: 0.0188\n",
            "Epoch: 004/010 | Batch 1250/1875 | Loss: 0.0158\n",
            "Epoch: 004/010 | Batch 1500/1875 | Loss: 0.0181\n",
            "Epoch: 004/010 | Batch 1750/1875 | Loss: 0.0164\n",
            "Time elapsed: 3.32 min\n",
            "Epoch: 005/010 | Batch 0000/1875 | Loss: 0.0160\n",
            "Epoch: 005/010 | Batch 0250/1875 | Loss: 0.0183\n",
            "Epoch: 005/010 | Batch 0500/1875 | Loss: 0.0136\n",
            "Epoch: 005/010 | Batch 0750/1875 | Loss: 0.0153\n",
            "Epoch: 005/010 | Batch 1000/1875 | Loss: 0.0174\n",
            "Epoch: 005/010 | Batch 1250/1875 | Loss: 0.0159\n",
            "Epoch: 005/010 | Batch 1500/1875 | Loss: 0.0156\n",
            "Epoch: 005/010 | Batch 1750/1875 | Loss: 0.0170\n",
            "Time elapsed: 4.10 min\n",
            "Epoch: 006/010 | Batch 0000/1875 | Loss: 0.0163\n",
            "Epoch: 006/010 | Batch 0250/1875 | Loss: 0.0173\n",
            "Epoch: 006/010 | Batch 0500/1875 | Loss: 0.0166\n",
            "Epoch: 006/010 | Batch 0750/1875 | Loss: 0.0186\n",
            "Epoch: 006/010 | Batch 1000/1875 | Loss: 0.0172\n",
            "Epoch: 006/010 | Batch 1250/1875 | Loss: 0.0189\n",
            "Epoch: 006/010 | Batch 1500/1875 | Loss: 0.0201\n",
            "Epoch: 006/010 | Batch 1750/1875 | Loss: 0.0152\n",
            "Time elapsed: 4.88 min\n",
            "Epoch: 007/010 | Batch 0000/1875 | Loss: 0.0164\n",
            "Epoch: 007/010 | Batch 0250/1875 | Loss: 0.0175\n",
            "Epoch: 007/010 | Batch 0500/1875 | Loss: 0.0151\n",
            "Epoch: 007/010 | Batch 0750/1875 | Loss: 0.0164\n",
            "Epoch: 007/010 | Batch 1000/1875 | Loss: 0.0164\n",
            "Epoch: 007/010 | Batch 1250/1875 | Loss: 0.0188\n",
            "Epoch: 007/010 | Batch 1500/1875 | Loss: 0.0185\n",
            "Epoch: 007/010 | Batch 1750/1875 | Loss: 0.0150\n",
            "Time elapsed: 5.65 min\n",
            "Epoch: 008/010 | Batch 0000/1875 | Loss: 0.0155\n",
            "Epoch: 008/010 | Batch 0250/1875 | Loss: 0.0136\n",
            "Epoch: 008/010 | Batch 0500/1875 | Loss: 0.0124\n",
            "Epoch: 008/010 | Batch 0750/1875 | Loss: 0.0165\n",
            "Epoch: 008/010 | Batch 1000/1875 | Loss: 0.0197\n",
            "Epoch: 008/010 | Batch 1250/1875 | Loss: 0.0169\n",
            "Epoch: 008/010 | Batch 1500/1875 | Loss: 0.0147\n",
            "Epoch: 008/010 | Batch 1750/1875 | Loss: 0.0159\n",
            "Time elapsed: 6.44 min\n",
            "Epoch: 009/010 | Batch 0000/1875 | Loss: 0.0141\n",
            "Epoch: 009/010 | Batch 0250/1875 | Loss: 0.0161\n",
            "Epoch: 009/010 | Batch 0500/1875 | Loss: 0.0191\n",
            "Epoch: 009/010 | Batch 0750/1875 | Loss: 0.0164\n",
            "Epoch: 009/010 | Batch 1000/1875 | Loss: 0.0132\n",
            "Epoch: 009/010 | Batch 1250/1875 | Loss: 0.0138\n",
            "Epoch: 009/010 | Batch 1500/1875 | Loss: 0.0174\n",
            "Epoch: 009/010 | Batch 1750/1875 | Loss: 0.0152\n",
            "Time elapsed: 7.21 min\n",
            "Epoch: 010/010 | Batch 0000/1875 | Loss: 0.0124\n",
            "Epoch: 010/010 | Batch 0250/1875 | Loss: 0.0170\n",
            "Epoch: 010/010 | Batch 0500/1875 | Loss: 0.0173\n",
            "Epoch: 010/010 | Batch 0750/1875 | Loss: 0.0160\n",
            "Epoch: 010/010 | Batch 1000/1875 | Loss: 0.0182\n",
            "Epoch: 010/010 | Batch 1250/1875 | Loss: 0.0130\n",
            "Epoch: 010/010 | Batch 1500/1875 | Loss: 0.0156\n",
            "Epoch: 010/010 | Batch 1750/1875 | Loss: 0.0176\n",
            "Time elapsed: 8.00 min\n",
            "Total Training Time: 8.00 min\n"
          ]
        }
      ],
      "source": [
        "log_dict = train_autoencoder_v1(num_epochs=NUM_EPOCHS, model=model,\n",
        "                                optimizer=optimizer, device=DEVICE,\n",
        "                                train_loader=train_loader,\n",
        "                                skip_epoch_stats=True,\n",
        "                                logging_interval=250)"
      ]
    },
    {
      "cell_type": "markdown",
      "metadata": {
        "id": "sUWJqlDaD9cJ"
      },
      "source": [
        "## Evaluation"
      ]
    },
    {
      "cell_type": "code",
      "execution_count": null,
      "metadata": {
        "colab": {
          "base_uri": "https://localhost:8080/",
          "height": 297
        },
        "id": "za-CThqUD9cJ",
        "outputId": "5ce12867-acfb-47e0-c8b2-24ee7028ca7b"
      },
      "outputs": [
        {
          "output_type": "display_data",
          "data": {
            "text/plain": [
              "<Figure size 432x288 with 2 Axes>"
            ],
            "image/png": "[encoded data removed]"
          },
          "metadata": {
            "needs_background": "light"
          }
        }
      ],
      "source": [
        "plot_training_loss(log_dict['train_loss_per_batch'], NUM_EPOCHS)\n",
        "plt.show()"
      ]
    },
    {
      "cell_type": "markdown",
      "source": [
        "## Original plotting with the given model in lecture"
      ],
      "metadata": {
        "id": "4c6eYskmUc1J"
      }
    },
    {
      "cell_type": "code",
      "execution_count": null,
      "metadata": {
        "id": "GnzZ-OCDD9cK",
        "outputId": "be52c59d-9be0-4570-f419-e52d1824a8da"
      },
      "outputs": [
        {
          "data": {
            "image/png": "[encoded data removed]",
            "text/plain": [
              "<Figure size 1440x180 with 30 Axes>"
            ]
          },
          "metadata": {
            "needs_background": "light"
          },
          "output_type": "display_data"
        }
      ],
      "source": [
        "plot_generated_images(data_loader=train_loader, model=model, device=DEVICE)"
      ]
    },
    {
      "cell_type": "markdown",
      "source": [
        "![8_channel.jpeg](data:image/jpeg;base64,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)"
      ],
      "metadata": {
        "id": "eX7FZhuVjwg_"
      }
    },
    {
      "cell_type": "markdown",
      "source": [
        "## This model with 8 dim latent space"
      ],
      "metadata": {
        "id": "N9IWyb8_Ug6M"
      }
    },
    {
      "cell_type": "code",
      "source": [
        "plot_generated_images(data_loader=train_loader, model=model, device=DEVICE)"
      ],
      "metadata": {
        "colab": {
          "base_uri": "https://localhost:8080/",
          "height": 167
        },
        "id": "VeslrkWIG98x",
        "outputId": "575ca286-1913-4f27-c17f-7f1655842f56"
      },
      "execution_count": null,
      "outputs": [
        {
          "output_type": "display_data",
          "data": {
            "text/plain": [
              "<Figure size 1440x180 with 30 Axes>"
            ],
            "image/png": "[encoded data removed]"
          },
          "metadata": {
            "needs_background": "light"
          }
        }
      ]
    },
    {
      "cell_type": "code",
      "execution_count": null,
      "metadata": {
        "colab": {
          "base_uri": "https://localhost:8080/",
          "height": 265
        },
        "id": "TXmxVui7D9cK",
        "outputId": "eeae9763-cd08-4778-931e-2e13e0b86f03"
      },
      "outputs": [
        {
          "output_type": "display_data",
          "data": {
            "text/plain": [
              "<Figure size 432x288 with 1 Axes>"
            ],
            "image/png": "[encoded data removed]"
          },
          "metadata": {
            "needs_background": "light"
          }
        }
      ],
      "source": [
        "plot_latent_space_with_labels(\n",
        "    num_classes=NUM_CLASSES,\n",
        "    data_loader=train_loader,\n",
        "    model=model,\n",
        "    device=DEVICE)\n",
        "\n",
        "plt.legend()\n",
        "plt.show()"
      ]
    },
    {
      "cell_type": "markdown",
      "source": [
        "## Decoding one particular image and a new image (Not part of exercise)"
      ],
      "metadata": {
        "id": "WKqxS9-YW1Hg"
      }
    },
    {
      "cell_type": "code",
      "source": [
        "sample_img = None\n",
        "sample_labels = None\n",
        "for images, labels in train_loader:\n",
        "    sample_img = images\n",
        "    sample_labels = labels\n",
        "    break"
      ],
      "metadata": {
        "id": "2OEB5rF_Ht_S"
      },
      "execution_count": null,
      "outputs": []
    },
    {
      "cell_type": "code",
      "source": [
        "sample_img = sample_img.to(DEVICE)\n",
        "encoded_sample =  model.encoder(sample_img)"
      ],
      "metadata": {
        "id": "27bl_PZrJiRt"
      },
      "execution_count": null,
      "outputs": []
    },
    {
      "cell_type": "code",
      "source": [
        "len(encoded_sample)"
      ],
      "metadata": {
        "colab": {
          "base_uri": "https://localhost:8080/"
        },
        "id": "3nDWRWykKOQR",
        "outputId": "230057a8-e385-4222-bc3e-2e6fe1bcc400"
      },
      "execution_count": null,
      "outputs": [
        {
          "output_type": "execute_result",
          "data": {
            "text/plain": [
              "32"
            ]
          },
          "metadata": {},
          "execution_count": 19
        }
      ]
    },
    {
      "cell_type": "code",
      "source": [
        "len(encoded_sample[7])"
      ],
      "metadata": {
        "colab": {
          "base_uri": "https://localhost:8080/"
        },
        "id": "a1YEG-34KPxd",
        "outputId": "c6628943-3e17-44f3-b149-5bcec06367bd"
      },
      "execution_count": null,
      "outputs": [
        {
          "output_type": "execute_result",
          "data": {
            "text/plain": [
              "8"
            ]
          },
          "metadata": {},
          "execution_count": 20
        }
      ]
    },
    {
      "cell_type": "code",
      "source": [
        "sample_labels[7]"
      ],
      "metadata": {
        "colab": {
          "base_uri": "https://localhost:8080/"
        },
        "id": "XQseOb8bKY_6",
        "outputId": "4ae83144-4c4e-43ad-f6b7-42de9c137025"
      },
      "execution_count": null,
      "outputs": [
        {
          "output_type": "execute_result",
          "data": {
            "text/plain": [
              "tensor(8)"
            ]
          },
          "metadata": {},
          "execution_count": 21
        }
      ]
    },
    {
      "cell_type": "code",
      "source": [
        "encoded_sample[7]"
      ],
      "metadata": {
        "colab": {
          "base_uri": "https://localhost:8080/"
        },
        "id": "3iG1IVwBKcbP",
        "outputId": "6c9a3b70-6a99-4061-cd24-ebb3314bc774"
      },
      "execution_count": null,
      "outputs": [
        {
          "output_type": "execute_result",
          "data": {
            "text/plain": [
              "tensor([ 2.7270, -0.6923,  1.5392, -1.0557, -2.0304,  1.4998, -1.3445,  0.6561],\n",
              "       device='cuda:0', grad_fn=<SelectBackward0>)"
            ]
          },
          "metadata": {},
          "execution_count": 22
        }
      ]
    },
    {
      "cell_type": "code",
      "execution_count": null,
      "metadata": {
        "colab": {
          "base_uri": "https://localhost:8080/",
          "height": 265
        },
        "id": "9VZouxdxD9cK",
        "outputId": "0b65aab1-ab6e-4f52-c68b-ce72e3fac2ab"
      },
      "outputs": [
        {
          "output_type": "display_data",
          "data": {
            "text/plain": [
              "<Figure size 432x288 with 1 Axes>"
            ],
            "image/png": "[encoded data removed]"
          },
          "metadata": {
            "needs_background": "light"
          }
        }
      ],
      "source": [
        "with torch.no_grad():\n",
        "    new_image = model.decoder(encoded_sample[7].to(DEVICE))\n",
        "    new_image.squeeze_(0)\n",
        "    new_image.squeeze_(0)\n",
        "plt.imshow(new_image.to('cpu').numpy(), cmap='binary')\n",
        "plt.show()"
      ]
    },
    {
      "cell_type": "code",
      "source": [
        "with torch.no_grad():\n",
        "    new_image = model.decoder(torch.tensor([ 3.7270, -1.6923,  2.5392, -2.0557, -3.0304,  0.4998, 1.3445,  -0.6561]).to(DEVICE))\n",
        "    new_image.squeeze_(0)\n",
        "    new_image.squeeze_(0)\n",
        "plt.imshow(new_image.to('cpu').numpy(), cmap='binary')\n",
        "plt.show()"
      ],
      "metadata": {
        "colab": {
          "base_uri": "https://localhost:8080/",
          "height": 265
        },
        "id": "O9TebbDsHasl",
        "outputId": "2d42de1b-62de-486d-f5ca-148632ea567e"
      },
      "execution_count": null,
      "outputs": [
        {
          "output_type": "display_data",
          "data": {
            "text/plain": [
              "<Figure size 432x288 with 1 Axes>"
            ],
            "image/png": "[encoded data removed]"
          },
          "metadata": {
            "needs_background": "light"
          }
        }
      ]
    },
    {
      "cell_type": "markdown",
      "source": [
        "## Very interesting observation, with some random values fed into the decoder, we get a completely random output which is not even a digit."
      ],
      "metadata": {
        "id": "-aibsmPgZ1zg"
      }
    },
    {
      "cell_type": "code",
      "source": [],
      "metadata": {
        "id": "t-hXHc2dK1JW"
      },
      "execution_count": null,
      "outputs": []
    }
  ],
  "metadata": {
    "accelerator": "GPU",
    "colab": {
      "provenance": []
    },
    "kernelspec": {
      "display_name": "Python 3",
      "language": "python",
      "name": "python3"
    },
    "language_info": {
      "codemirror_mode": {
        "name": "ipython",
        "version": 3
      },
      "file_extension": ".py",
      "mimetype": "text/x-python",
      "name": "python",
      "nbconvert_exporter": "python",
      "pygments_lexer": "ipython3",
      "version": "3.9.2"
    },
    "toc": {
      "nav_menu": {},
      "number_sections": true,
      "sideBar": true,
      "skip_h1_title": false,
      "title_cell": "Table of Contents",
      "title_sidebar": "Contents",
      "toc_cell": true,
      "toc_position": {
        "height": "calc(100% - 180px)",
        "left": "10px",
        "top": "150px",
        "width": "371px"
      },
      "toc_section_display": true,
      "toc_window_display": true
    },
    "widgets": {
      "application/vnd.jupyter.widget-state+json": {
        "3eba6172aebb4b36963e8e33d9cf1023": {
          "model_module": "@jupyter-widgets/controls",
          "model_name": "HBoxModel",
          "model_module_version": "1.5.0",
          "state": {
            "_dom_classes": [],
            "_model_module": "@jupyter-widgets/controls",
            "_model_module_version": "1.5.0",
            "_model_name": "HBoxModel",
            "_view_count": null,
            "_view_module": "@jupyter-widgets/controls",
            "_view_module_version": "1.5.0",
            "_view_name": "HBoxView",
            "box_style": "",
            "children": [
              "IPY_MODEL_16387e64fd694603a391f0a391d061d0",
              "IPY_MODEL_1be1f315cca94d579ef7a12b0c562762",
              "IPY_MODEL_4b808251d1614057a77a6b921c7a708a"
            ],
            "layout": "IPY_MODEL_9d9b1ad241934a7581eee9717d05d2ee"
          }
        },
        "16387e64fd694603a391f0a391d061d0": {
          "model_module": "@jupyter-widgets/controls",
          "model_name": "HTMLModel",
          "model_module_version": "1.5.0",
          "state": {
            "_dom_classes": [],
            "_model_module": "@jupyter-widgets/controls",
            "_model_module_version": "1.5.0",
            "_model_name": "HTMLModel",
            "_view_count": null,
            "_view_module": "@jupyter-widgets/controls",
            "_view_module_version": "1.5.0",
            "_view_name": "HTMLView",
            "description": "",
            "description_tooltip": null,
            "layout": "IPY_MODEL_4c53d87732784c6682c19147ccad5cde",
            "placeholder": "​",
            "style": "IPY_MODEL_ec3058f292864239a4ee04f10495d7e6",
            "value": "100%"
          }
        },
        "1be1f315cca94d579ef7a12b0c562762": {
          "model_module": "@jupyter-widgets/controls",
          "model_name": "FloatProgressModel",
          "model_module_version": "1.5.0",
          "state": {
            "_dom_classes": [],
            "_model_module": "@jupyter-widgets/controls",
            "_model_module_version": "1.5.0",
            "_model_name": "FloatProgressModel",
            "_view_count": null,
            "_view_module": "@jupyter-widgets/controls",
            "_view_module_version": "1.5.0",
            "_view_name": "ProgressView",
            "bar_style": "success",
            "description": "",
            "description_tooltip": null,
            "layout": "IPY_MODEL_90713272d8544f9b8ed9528481964882",
            "max": 9912422,
            "min": 0,
            "orientation": "horizontal",
            "style": "IPY_MODEL_832547a0b0374b3da4c7580eb5ce5a54",
            "value": 9912422
          }
        },
        "4b808251d1614057a77a6b921c7a708a": {
          "model_module": "@jupyter-widgets/controls",
          "model_name": "HTMLModel",
          "model_module_version": "1.5.0",
          "state": {
            "_dom_classes": [],
            "_model_module": "@jupyter-widgets/controls",
            "_model_module_version": "1.5.0",
            "_model_name": "HTMLModel",
            "_view_count": null,
            "_view_module": "@jupyter-widgets/controls",
            "_view_module_version": "1.5.0",
            "_view_name": "HTMLView",
            "description": "",
            "description_tooltip": null,
            "layout": "IPY_MODEL_7a293c355216444d9c559b9a4f42abc7",
            "placeholder": "​",
            "style": "IPY_MODEL_7a50c0c3837849b2baba2476e92546b1",
            "value": " 9912422/9912422 [00:00&lt;00:00, 20187365.61it/s]"
          }
        },
        "9d9b1ad241934a7581eee9717d05d2ee": {
          "model_module": "@jupyter-widgets/base",
          "model_name": "LayoutModel",
          "model_module_version": "1.2.0",
          "state": {
            "_model_module": "@jupyter-widgets/base",
            "_model_module_version": "1.2.0",
            "_model_name": "LayoutModel",
            "_view_count": null,
            "_view_module": "@jupyter-widgets/base",
            "_view_module_version": "1.2.0",
            "_view_name": "LayoutView",
            "align_content": null,
            "align_items": null,
            "align_self": null,
            "border": null,
            "bottom": null,
            "display": null,
            "flex": null,
            "flex_flow": null,
            "grid_area": null,
            "grid_auto_columns": null,
            "grid_auto_flow": null,
            "grid_auto_rows": null,
            "grid_column": null,
            "grid_gap": null,
            "grid_row": null,
            "grid_template_areas": null,
            "grid_template_columns": null,
            "grid_template_rows": null,
            "height": null,
            "justify_content": null,
            "justify_items": null,
            "left": null,
            "margin": null,
            "max_height": null,
            "max_width": null,
            "min_height": null,
            "min_width": null,
            "object_fit": null,
            "object_position": null,
            "order": null,
            "overflow": null,
            "overflow_x": null,
            "overflow_y": null,
            "padding": null,
            "right": null,
            "top": null,
            "visibility": null,
            "width": null
          }
        },
        "4c53d87732784c6682c19147ccad5cde": {
          "model_module": "@jupyter-widgets/base",
          "model_name": "LayoutModel",
          "model_module_version": "1.2.0",
          "state": {
            "_model_module": "@jupyter-widgets/base",
            "_model_module_version": "1.2.0",
            "_model_name": "LayoutModel",
            "_view_count": null,
            "_view_module": "@jupyter-widgets/base",
            "_view_module_version": "1.2.0",
            "_view_name": "LayoutView",
            "align_content": null,
            "align_items": null,
            "align_self": null,
            "border": null,
            "bottom": null,
            "display": null,
            "flex": null,
            "flex_flow": null,
            "grid_area": null,
            "grid_auto_columns": null,
            "grid_auto_flow": null,
            "grid_auto_rows": null,
            "grid_column": null,
            "grid_gap": null,
            "grid_row": null,
            "grid_template_areas": null,
            "grid_template_columns": null,
            "grid_template_rows": null,
            "height": null,
            "justify_content": null,
            "justify_items": null,
            "left": null,
            "margin": null,
            "max_height": null,
            "max_width": null,
            "min_height": null,
            "min_width": null,
            "object_fit": null,
            "object_position": null,
            "order": null,
            "overflow": null,
            "overflow_x": null,
            "overflow_y": null,
            "padding": null,
            "right": null,
            "top": null,
            "visibility": null,
            "width": null
          }
        },
        "ec3058f292864239a4ee04f10495d7e6": {
          "model_module": "@jupyter-widgets/controls",
          "model_name": "DescriptionStyleModel",
          "model_module_version": "1.5.0",
          "state": {
            "_model_module": "@jupyter-widgets/controls",
            "_model_module_version": "1.5.0",
            "_model_name": "DescriptionStyleModel",
            "_view_count": null,
            "_view_module": "@jupyter-widgets/base",
            "_view_module_version": "1.2.0",
            "_view_name": "StyleView",
            "description_width": ""
          }
        },
        "90713272d8544f9b8ed9528481964882": {
          "model_module": "@jupyter-widgets/base",
          "model_name": "LayoutModel",
          "model_module_version": "1.2.0",
          "state": {
            "_model_module": "@jupyter-widgets/base",
            "_model_module_version": "1.2.0",
            "_model_name": "LayoutModel",
            "_view_count": null,
            "_view_module": "@jupyter-widgets/base",
            "_view_module_version": "1.2.0",
            "_view_name": "LayoutView",
            "align_content": null,
            "align_items": null,
            "align_self": null,
            "border": null,
            "bottom": null,
            "display": null,
            "flex": null,
            "flex_flow": null,
            "grid_area": null,
            "grid_auto_columns": null,
            "grid_auto_flow": null,
            "grid_auto_rows": null,
            "grid_column": null,
            "grid_gap": null,
            "grid_row": null,
            "grid_template_areas": null,
            "grid_template_columns": null,
            "grid_template_rows": null,
            "height": null,
            "justify_content": null,
            "justify_items": null,
            "left": null,
            "margin": null,
            "max_height": null,
            "max_width": null,
            "min_height": null,
            "min_width": null,
            "object_fit": null,
            "object_position": null,
            "order": null,
            "overflow": null,
            "overflow_x": null,
            "overflow_y": null,
            "padding": null,
            "right": null,
            "top": null,
            "visibility": null,
            "width": null
          }
        },
        "832547a0b0374b3da4c7580eb5ce5a54": {
          "model_module": "@jupyter-widgets/controls",
          "model_name": "ProgressStyleModel",
          "model_module_version": "1.5.0",
          "state": {
            "_model_module": "@jupyter-widgets/controls",
            "_model_module_version": "1.5.0",
            "_model_name": "ProgressStyleModel",
            "_view_count": null,
            "_view_module": "@jupyter-widgets/base",
            "_view_module_version": "1.2.0",
            "_view_name": "StyleView",
            "bar_color": null,
            "description_width": ""
          }
        },
        "7a293c355216444d9c559b9a4f42abc7": {
          "model_module": "@jupyter-widgets/base",
          "model_name": "LayoutModel",
          "model_module_version": "1.2.0",
          "state": {
            "_model_module": "@jupyter-widgets/base",
            "_model_module_version": "1.2.0",
            "_model_name": "LayoutModel",
            "_view_count": null,
            "_view_module": "@jupyter-widgets/base",
            "_view_module_version": "1.2.0",
            "_view_name": "LayoutView",
            "align_content": null,
            "align_items": null,
            "align_self": null,
            "border": null,
            "bottom": null,
            "display": null,
            "flex": null,
            "flex_flow": null,
            "grid_area": null,
            "grid_auto_columns": null,
            "grid_auto_flow": null,
            "grid_auto_rows": null,
            "grid_column": null,
            "grid_gap": null,
            "grid_row": null,
            "grid_template_areas": null,
            "grid_template_columns": null,
            "grid_template_rows": null,
            "height": null,
            "justify_content": null,
            "justify_items": null,
            "left": null,
            "margin": null,
            "max_height": null,
            "max_width": null,
            "min_height": null,
            "min_width": null,
            "object_fit": null,
            "object_position": null,
            "order": null,
            "overflow": null,
            "overflow_x": null,
            "overflow_y": null,
            "padding": null,
            "right": null,
            "top": null,
            "visibility": null,
            "width": null
          }
        },
        "7a50c0c3837849b2baba2476e92546b1": {
          "model_module": "@jupyter-widgets/controls",
          "model_name": "DescriptionStyleModel",
          "model_module_version": "1.5.0",
          "state": {
            "_model_module": "@jupyter-widgets/controls",
            "_model_module_version": "1.5.0",
            "_model_name": "DescriptionStyleModel",
            "_view_count": null,
            "_view_module": "@jupyter-widgets/base",
            "_view_module_version": "1.2.0",
            "_view_name": "StyleView",
            "description_width": ""
          }
        },
        "13516a271ddb4bc59ed7d16a1929e070": {
          "model_module": "@jupyter-widgets/controls",
          "model_name": "HBoxModel",
          "model_module_version": "1.5.0",
          "state": {
            "_dom_classes": [],
            "_model_module": "@jupyter-widgets/controls",
            "_model_module_version": "1.5.0",
            "_model_name": "HBoxModel",
            "_view_count": null,
            "_view_module": "@jupyter-widgets/controls",
            "_view_module_version": "1.5.0",
            "_view_name": "HBoxView",
            "box_style": "",
            "children": [
              "IPY_MODEL_04d006159d174c029dcf232bf3e0798b",
              "IPY_MODEL_94990f4d3b4f409cbb45e0f07ed9660d",
              "IPY_MODEL_55d71bac157946469dd82ff88826e52f"
            ],
            "layout": "IPY_MODEL_d29278ebe7034a17b8d7a089a15cc274"
          }
        },
        "04d006159d174c029dcf232bf3e0798b": {
          "model_module": "@jupyter-widgets/controls",
          "model_name": "HTMLModel",
          "model_module_version": "1.5.0",
          "state": {
            "_dom_classes": [],
            "_model_module": "@jupyter-widgets/controls",
            "_model_module_version": "1.5.0",
            "_model_name": "HTMLModel",
            "_view_count": null,
            "_view_module": "@jupyter-widgets/controls",
            "_view_module_version": "1.5.0",
            "_view_name": "HTMLView",
            "description": "",
            "description_tooltip": null,
            "layout": "IPY_MODEL_804fdb29489c41a786511cc3d60c70e2",
            "placeholder": "​",
            "style": "IPY_MODEL_cf05eaf6e3f243c781a09bbb382d9532",
            "value": "100%"
          }
        },
        "94990f4d3b4f409cbb45e0f07ed9660d": {
          "model_module": "@jupyter-widgets/controls",
          "model_name": "FloatProgressModel",
          "model_module_version": "1.5.0",
          "state": {
            "_dom_classes": [],
            "_model_module": "@jupyter-widgets/controls",
            "_model_module_version": "1.5.0",
            "_model_name": "FloatProgressModel",
            "_view_count": null,
            "_view_module": "@jupyter-widgets/controls",
            "_view_module_version": "1.5.0",
            "_view_name": "ProgressView",
            "bar_style": "success",
            "description": "",
            "description_tooltip": null,
            "layout": "IPY_MODEL_f6dfe342a9bc4ffd915280fc43e321a0",
            "max": 28881,
            "min": 0,
            "orientation": "horizontal",
            "style": "IPY_MODEL_ec9c116b4d2f4a40ae822a7fac9f5e8b",
            "value": 28881
          }
        },
        "55d71bac157946469dd82ff88826e52f": {
          "model_module": "@jupyter-widgets/controls",
          "model_name": "HTMLModel",
          "model_module_version": "1.5.0",
          "state": {
            "_dom_classes": [],
            "_model_module": "@jupyter-widgets/controls",
            "_model_module_version": "1.5.0",
            "_model_name": "HTMLModel",
            "_view_count": null,
            "_view_module": "@jupyter-widgets/controls",
            "_view_module_version": "1.5.0",
            "_view_name": "HTMLView",
            "description": "",
            "description_tooltip": null,
            "layout": "IPY_MODEL_29b26696b14844c29f6651c73a9f714a",
            "placeholder": "​",
            "style": "IPY_MODEL_ea8611a15f894273a4f4a4d60bc3971a",
            "value": " 28881/28881 [00:00&lt;00:00, 913893.68it/s]"
          }
        },
        "d29278ebe7034a17b8d7a089a15cc274": {
          "model_module": "@jupyter-widgets/base",
          "model_name": "LayoutModel",
          "model_module_version": "1.2.0",
          "state": {
            "_model_module": "@jupyter-widgets/base",
            "_model_module_version": "1.2.0",
            "_model_name": "LayoutModel",
            "_view_count": null,
            "_view_module": "@jupyter-widgets/base",
            "_view_module_version": "1.2.0",
            "_view_name": "LayoutView",
            "align_content": null,
            "align_items": null,
            "align_self": null,
            "border": null,
            "bottom": null,
            "display": null,
            "flex": null,
            "flex_flow": null,
            "grid_area": null,
            "grid_auto_columns": null,
            "grid_auto_flow": null,
            "grid_auto_rows": null,
            "grid_column": null,
            "grid_gap": null,
            "grid_row": null,
            "grid_template_areas": null,
            "grid_template_columns": null,
            "grid_template_rows": null,
            "height": null,
            "justify_content": null,
            "justify_items": null,
            "left": null,
            "margin": null,
            "max_height": null,
            "max_width": null,
            "min_height": null,
            "min_width": null,
            "object_fit": null,
            "object_position": null,
            "order": null,
            "overflow": null,
            "overflow_x": null,
            "overflow_y": null,
            "padding": null,
            "right": null,
            "top": null,
            "visibility": null,
            "width": null
          }
        },
        "804fdb29489c41a786511cc3d60c70e2": {
          "model_module": "@jupyter-widgets/base",
          "model_name": "LayoutModel",
          "model_module_version": "1.2.0",
          "state": {
            "_model_module": "@jupyter-widgets/base",
            "_model_module_version": "1.2.0",
            "_model_name": "LayoutModel",
            "_view_count": null,
            "_view_module": "@jupyter-widgets/base",
            "_view_module_version": "1.2.0",
            "_view_name": "LayoutView",
            "align_content": null,
            "align_items": null,
            "align_self": null,
            "border": null,
            "bottom": null,
            "display": null,
            "flex": null,
            "flex_flow": null,
            "grid_area": null,
            "grid_auto_columns": null,
            "grid_auto_flow": null,
            "grid_auto_rows": null,
            "grid_column": null,
            "grid_gap": null,
            "grid_row": null,
            "grid_template_areas": null,
            "grid_template_columns": null,
            "grid_template_rows": null,
            "height": null,
            "justify_content": null,
            "justify_items": null,
            "left": null,
            "margin": null,
            "max_height": null,
            "max_width": null,
            "min_height": null,
            "min_width": null,
            "object_fit": null,
            "object_position": null,
            "order": null,
            "overflow": null,
            "overflow_x": null,
            "overflow_y": null,
            "padding": null,
            "right": null,
            "top": null,
            "visibility": null,
            "width": null
          }
        },
        "cf05eaf6e3f243c781a09bbb382d9532": {
          "model_module": "@jupyter-widgets/controls",
          "model_name": "DescriptionStyleModel",
          "model_module_version": "1.5.0",
          "state": {
            "_model_module": "@jupyter-widgets/controls",
            "_model_module_version": "1.5.0",
            "_model_name": "DescriptionStyleModel",
            "_view_count": null,
            "_view_module": "@jupyter-widgets/base",
            "_view_module_version": "1.2.0",
            "_view_name": "StyleView",
            "description_width": ""
          }
        },
        "f6dfe342a9bc4ffd915280fc43e321a0": {
          "model_module": "@jupyter-widgets/base",
          "model_name": "LayoutModel",
          "model_module_version": "1.2.0",
          "state": {
            "_model_module": "@jupyter-widgets/base",
            "_model_module_version": "1.2.0",
            "_model_name": "LayoutModel",
            "_view_count": null,
            "_view_module": "@jupyter-widgets/base",
            "_view_module_version": "1.2.0",
            "_view_name": "LayoutView",
            "align_content": null,
            "align_items": null,
            "align_self": null,
            "border": null,
            "bottom": null,
            "display": null,
            "flex": null,
            "flex_flow": null,
            "grid_area": null,
            "grid_auto_columns": null,
            "grid_auto_flow": null,
            "grid_auto_rows": null,
            "grid_column": null,
            "grid_gap": null,
            "grid_row": null,
            "grid_template_areas": null,
            "grid_template_columns": null,
            "grid_template_rows": null,
            "height": null,
            "justify_content": null,
            "justify_items": null,
            "left": null,
            "margin": null,
            "max_height": null,
            "max_width": null,
            "min_height": null,
            "min_width": null,
            "object_fit": null,
            "object_position": null,
            "order": null,
            "overflow": null,
            "overflow_x": null,
            "overflow_y": null,
            "padding": null,
            "right": null,
            "top": null,
            "visibility": null,
            "width": null
          }
        },
        "ec9c116b4d2f4a40ae822a7fac9f5e8b": {
          "model_module": "@jupyter-widgets/controls",
          "model_name": "ProgressStyleModel",
          "model_module_version": "1.5.0",
          "state": {
            "_model_module": "@jupyter-widgets/controls",
            "_model_module_version": "1.5.0",
            "_model_name": "ProgressStyleModel",
            "_view_count": null,
            "_view_module": "@jupyter-widgets/base",
            "_view_module_version": "1.2.0",
            "_view_name": "StyleView",
            "bar_color": null,
            "description_width": ""
          }
        },
        "29b26696b14844c29f6651c73a9f714a": {
          "model_module": "@jupyter-widgets/base",
          "model_name": "LayoutModel",
          "model_module_version": "1.2.0",
          "state": {
            "_model_module": "@jupyter-widgets/base",
            "_model_module_version": "1.2.0",
            "_model_name": "LayoutModel",
            "_view_count": null,
            "_view_module": "@jupyter-widgets/base",
            "_view_module_version": "1.2.0",
            "_view_name": "LayoutView",
            "align_content": null,
            "align_items": null,
            "align_self": null,
            "border": null,
            "bottom": null,
            "display": null,
            "flex": null,
            "flex_flow": null,
            "grid_area": null,
            "grid_auto_columns": null,
            "grid_auto_flow": null,
            "grid_auto_rows": null,
            "grid_column": null,
            "grid_gap": null,
            "grid_row": null,
            "grid_template_areas": null,
            "grid_template_columns": null,
            "grid_template_rows": null,
            "height": null,
            "justify_content": null,
            "justify_items": null,
            "left": null,
            "margin": null,
            "max_height": null,
            "max_width": null,
            "min_height": null,
            "min_width": null,
            "object_fit": null,
            "object_position": null,
            "order": null,
            "overflow": null,
            "overflow_x": null,
            "overflow_y": null,
            "padding": null,
            "right": null,
            "top": null,
            "visibility": null,
            "width": null
          }
        },
        "ea8611a15f894273a4f4a4d60bc3971a": {
          "model_module": "@jupyter-widgets/controls",
          "model_name": "DescriptionStyleModel",
          "model_module_version": "1.5.0",
          "state": {
            "_model_module": "@jupyter-widgets/controls",
            "_model_module_version": "1.5.0",
            "_model_name": "DescriptionStyleModel",
            "_view_count": null,
            "_view_module": "@jupyter-widgets/base",
            "_view_module_version": "1.2.0",
            "_view_name": "StyleView",
            "description_width": ""
          }
        },
        "29da4183cb8045e6840ba8c91e441fc0": {
          "model_module": "@jupyter-widgets/controls",
          "model_name": "HBoxModel",
          "model_module_version": "1.5.0",
          "state": {
            "_dom_classes": [],
            "_model_module": "@jupyter-widgets/controls",
            "_model_module_version": "1.5.0",
            "_model_name": "HBoxModel",
            "_view_count": null,
            "_view_module": "@jupyter-widgets/controls",
            "_view_module_version": "1.5.0",
            "_view_name": "HBoxView",
            "box_style": "",
            "children": [
              "IPY_MODEL_bd90603c3595473b898d5777038db107",
              "IPY_MODEL_1e1f382ab1c844c3a9bad6ad7122b9de",
              "IPY_MODEL_4e80c91bdd9845798e7675053ab0e085"
            ],
            "layout": "IPY_MODEL_29aceb8cfdde43cf9c7fc40f9dd744e6"
          }
        },
        "bd90603c3595473b898d5777038db107": {
          "model_module": "@jupyter-widgets/controls",
          "model_name": "HTMLModel",
          "model_module_version": "1.5.0",
          "state": {
            "_dom_classes": [],
            "_model_module": "@jupyter-widgets/controls",
            "_model_module_version": "1.5.0",
            "_model_name": "HTMLModel",
            "_view_count": null,
            "_view_module": "@jupyter-widgets/controls",
            "_view_module_version": "1.5.0",
            "_view_name": "HTMLView",
            "description": "",
            "description_tooltip": null,
            "layout": "IPY_MODEL_aea09f649cc947e1bdf5e30e66132844",
            "placeholder": "​",
            "style": "IPY_MODEL_1291435fe358426b9c62e6d4f5ab9457",
            "value": "100%"
          }
        },
        "1e1f382ab1c844c3a9bad6ad7122b9de": {
          "model_module": "@jupyter-widgets/controls",
          "model_name": "FloatProgressModel",
          "model_module_version": "1.5.0",
          "state": {
            "_dom_classes": [],
            "_model_module": "@jupyter-widgets/controls",
            "_model_module_version": "1.5.0",
            "_model_name": "FloatProgressModel",
            "_view_count": null,
            "_view_module": "@jupyter-widgets/controls",
            "_view_module_version": "1.5.0",
            "_view_name": "ProgressView",
            "bar_style": "success",
            "description": "",
            "description_tooltip": null,
            "layout": "IPY_MODEL_d2f05d08ae454c82897ff65f96e4b649",
            "max": 1648877,
            "min": 0,
            "orientation": "horizontal",
            "style": "IPY_MODEL_3aef4463585042e3b3c6e0023db573de",
            "value": 1648877
          }
        },
        "4e80c91bdd9845798e7675053ab0e085": {
          "model_module": "@jupyter-widgets/controls",
          "model_name": "HTMLModel",
          "model_module_version": "1.5.0",
          "state": {
            "_dom_classes": [],
            "_model_module": "@jupyter-widgets/controls",
            "_model_module_version": "1.5.0",
            "_model_name": "HTMLModel",
            "_view_count": null,
            "_view_module": "@jupyter-widgets/controls",
            "_view_module_version": "1.5.0",
            "_view_name": "HTMLView",
            "description": "",
            "description_tooltip": null,
            "layout": "IPY_MODEL_d7582967fde04159be6f902e5ba2fa4b",
            "placeholder": "​",
            "style": "IPY_MODEL_86b6c45b660a4cf5afa8d3d1b0c14077",
            "value": " 1648877/1648877 [00:00&lt;00:00, 3777591.12it/s]"
          }
        },
        "29aceb8cfdde43cf9c7fc40f9dd744e6": {
          "model_module": "@jupyter-widgets/base",
          "model_name": "LayoutModel",
          "model_module_version": "1.2.0",
          "state": {
            "_model_module": "@jupyter-widgets/base",
            "_model_module_version": "1.2.0",
            "_model_name": "LayoutModel",
            "_view_count": null,
            "_view_module": "@jupyter-widgets/base",
            "_view_module_version": "1.2.0",
            "_view_name": "LayoutView",
            "align_content": null,
            "align_items": null,
            "align_self": null,
            "border": null,
            "bottom": null,
            "display": null,
            "flex": null,
            "flex_flow": null,
            "grid_area": null,
            "grid_auto_columns": null,
            "grid_auto_flow": null,
            "grid_auto_rows": null,
            "grid_column": null,
            "grid_gap": null,
            "grid_row": null,
            "grid_template_areas": null,
            "grid_template_columns": null,
            "grid_template_rows": null,
            "height": null,
            "justify_content": null,
            "justify_items": null,
            "left": null,
            "margin": null,
            "max_height": null,
            "max_width": null,
            "min_height": null,
            "min_width": null,
            "object_fit": null,
            "object_position": null,
            "order": null,
            "overflow": null,
            "overflow_x": null,
            "overflow_y": null,
            "padding": null,
            "right": null,
            "top": null,
            "visibility": null,
            "width": null
          }
        },
        "aea09f649cc947e1bdf5e30e66132844": {
          "model_module": "@jupyter-widgets/base",
          "model_name": "LayoutModel",
          "model_module_version": "1.2.0",
          "state": {
            "_model_module": "@jupyter-widgets/base",
            "_model_module_version": "1.2.0",
            "_model_name": "LayoutModel",
            "_view_count": null,
            "_view_module": "@jupyter-widgets/base",
            "_view_module_version": "1.2.0",
            "_view_name": "LayoutView",
            "align_content": null,
            "align_items": null,
            "align_self": null,
            "border": null,
            "bottom": null,
            "display": null,
            "flex": null,
            "flex_flow": null,
            "grid_area": null,
            "grid_auto_columns": null,
            "grid_auto_flow": null,
            "grid_auto_rows": null,
            "grid_column": null,
            "grid_gap": null,
            "grid_row": null,
            "grid_template_areas": null,
            "grid_template_columns": null,
            "grid_template_rows": null,
            "height": null,
            "justify_content": null,
            "justify_items": null,
            "left": null,
            "margin": null,
            "max_height": null,
            "max_width": null,
            "min_height": null,
            "min_width": null,
            "object_fit": null,
            "object_position": null,
            "order": null,
            "overflow": null,
            "overflow_x": null,
            "overflow_y": null,
            "padding": null,
            "right": null,
            "top": null,
            "visibility": null,
            "width": null
          }
        },
        "1291435fe358426b9c62e6d4f5ab9457": {
          "model_module": "@jupyter-widgets/controls",
          "model_name": "DescriptionStyleModel",
          "model_module_version": "1.5.0",
          "state": {
            "_model_module": "@jupyter-widgets/controls",
            "_model_module_version": "1.5.0",
            "_model_name": "DescriptionStyleModel",
            "_view_count": null,
            "_view_module": "@jupyter-widgets/base",
            "_view_module_version": "1.2.0",
            "_view_name": "StyleView",
            "description_width": ""
          }
        },
        "d2f05d08ae454c82897ff65f96e4b649": {
          "model_module": "@jupyter-widgets/base",
          "model_name": "LayoutModel",
          "model_module_version": "1.2.0",
          "state": {
            "_model_module": "@jupyter-widgets/base",
            "_model_module_version": "1.2.0",
            "_model_name": "LayoutModel",
            "_view_count": null,
            "_view_module": "@jupyter-widgets/base",
            "_view_module_version": "1.2.0",
            "_view_name": "LayoutView",
            "align_content": null,
            "align_items": null,
            "align_self": null,
            "border": null,
            "bottom": null,
            "display": null,
            "flex": null,
            "flex_flow": null,
            "grid_area": null,
            "grid_auto_columns": null,
            "grid_auto_flow": null,
            "grid_auto_rows": null,
            "grid_column": null,
            "grid_gap": null,
            "grid_row": null,
            "grid_template_areas": null,
            "grid_template_columns": null,
            "grid_template_rows": null,
            "height": null,
            "justify_content": null,
            "justify_items": null,
            "left": null,
            "margin": null,
            "max_height": null,
            "max_width": null,
            "min_height": null,
            "min_width": null,
            "object_fit": null,
            "object_position": null,
            "order": null,
            "overflow": null,
            "overflow_x": null,
            "overflow_y": null,
            "padding": null,
            "right": null,
            "top": null,
            "visibility": null,
            "width": null
          }
        },
        "3aef4463585042e3b3c6e0023db573de": {
          "model_module": "@jupyter-widgets/controls",
          "model_name": "ProgressStyleModel",
          "model_module_version": "1.5.0",
          "state": {
            "_model_module": "@jupyter-widgets/controls",
            "_model_module_version": "1.5.0",
            "_model_name": "ProgressStyleModel",
            "_view_count": null,
            "_view_module": "@jupyter-widgets/base",
            "_view_module_version": "1.2.0",
            "_view_name": "StyleView",
            "bar_color": null,
            "description_width": ""
          }
        },
        "d7582967fde04159be6f902e5ba2fa4b": {
          "model_module": "@jupyter-widgets/base",
          "model_name": "LayoutModel",
          "model_module_version": "1.2.0",
          "state": {
            "_model_module": "@jupyter-widgets/base",
            "_model_module_version": "1.2.0",
            "_model_name": "LayoutModel",
            "_view_count": null,
            "_view_module": "@jupyter-widgets/base",
            "_view_module_version": "1.2.0",
            "_view_name": "LayoutView",
            "align_content": null,
            "align_items": null,
            "align_self": null,
            "border": null,
            "bottom": null,
            "display": null,
            "flex": null,
            "flex_flow": null,
            "grid_area": null,
            "grid_auto_columns": null,
            "grid_auto_flow": null,
            "grid_auto_rows": null,
            "grid_column": null,
            "grid_gap": null,
            "grid_row": null,
            "grid_template_areas": null,
            "grid_template_columns": null,
            "grid_template_rows": null,
            "height": null,
            "justify_content": null,
            "justify_items": null,
            "left": null,
            "margin": null,
            "max_height": null,
            "max_width": null,
            "min_height": null,
            "min_width": null,
            "object_fit": null,
            "object_position": null,
            "order": null,
            "overflow": null,
            "overflow_x": null,
            "overflow_y": null,
            "padding": null,
            "right": null,
            "top": null,
            "visibility": null,
            "width": null
          }
        },
        "86b6c45b660a4cf5afa8d3d1b0c14077": {
          "model_module": "@jupyter-widgets/controls",
          "model_name": "DescriptionStyleModel",
          "model_module_version": "1.5.0",
          "state": {
            "_model_module": "@jupyter-widgets/controls",
            "_model_module_version": "1.5.0",
            "_model_name": "DescriptionStyleModel",
            "_view_count": null,
            "_view_module": "@jupyter-widgets/base",
            "_view_module_version": "1.2.0",
            "_view_name": "StyleView",
            "description_width": ""
          }
        },
        "569deea434574ae3bbd7a0d17baeb57e": {
          "model_module": "@jupyter-widgets/controls",
          "model_name": "HBoxModel",
          "model_module_version": "1.5.0",
          "state": {
            "_dom_classes": [],
            "_model_module": "@jupyter-widgets/controls",
            "_model_module_version": "1.5.0",
            "_model_name": "HBoxModel",
            "_view_count": null,
            "_view_module": "@jupyter-widgets/controls",
            "_view_module_version": "1.5.0",
            "_view_name": "HBoxView",
            "box_style": "",
            "children": [
              "IPY_MODEL_105234e34a3646c8a1cc02a196d5dcf6",
              "IPY_MODEL_63c9bbfbc8834346b13e5e1f9f3e5314",
              "IPY_MODEL_a8e67e6ba5cc45a49b4c2c5560f24883"
            ],
            "layout": "IPY_MODEL_3720888efef44798a03cca238da35f33"
          }
        },
        "105234e34a3646c8a1cc02a196d5dcf6": {
          "model_module": "@jupyter-widgets/controls",
          "model_name": "HTMLModel",
          "model_module_version": "1.5.0",
          "state": {
            "_dom_classes": [],
            "_model_module": "@jupyter-widgets/controls",
            "_model_module_version": "1.5.0",
            "_model_name": "HTMLModel",
            "_view_count": null,
            "_view_module": "@jupyter-widgets/controls",
            "_view_module_version": "1.5.0",
            "_view_name": "HTMLView",
            "description": "",
            "description_tooltip": null,
            "layout": "IPY_MODEL_fc1d419d20434566b59bd16dbb82f8dd",
            "placeholder": "​",
            "style": "IPY_MODEL_9e402f7329764fa68c4107413a39b4d5",
            "value": "100%"
          }
        },
        "63c9bbfbc8834346b13e5e1f9f3e5314": {
          "model_module": "@jupyter-widgets/controls",
          "model_name": "FloatProgressModel",
          "model_module_version": "1.5.0",
          "state": {
            "_dom_classes": [],
            "_model_module": "@jupyter-widgets/controls",
            "_model_module_version": "1.5.0",
            "_model_name": "FloatProgressModel",
            "_view_count": null,
            "_view_module": "@jupyter-widgets/controls",
            "_view_module_version": "1.5.0",
            "_view_name": "ProgressView",
            "bar_style": "success",
            "description": "",
            "description_tooltip": null,
            "layout": "IPY_MODEL_7ff5e88d49944712a55d1cd8bc7eb41e",
            "max": 4542,
            "min": 0,
            "orientation": "horizontal",
            "style": "IPY_MODEL_c87343d821d846859c7641985221a12e",
            "value": 4542
          }
        },
        "a8e67e6ba5cc45a49b4c2c5560f24883": {
          "model_module": "@jupyter-widgets/controls",
          "model_name": "HTMLModel",
          "model_module_version": "1.5.0",
          "state": {
            "_dom_classes": [],
            "_model_module": "@jupyter-widgets/controls",
            "_model_module_version": "1.5.0",
            "_model_name": "HTMLModel",
            "_view_count": null,
            "_view_module": "@jupyter-widgets/controls",
            "_view_module_version": "1.5.0",
            "_view_name": "HTMLView",
            "description": "",
            "description_tooltip": null,
            "layout": "IPY_MODEL_3fcce71f21914e78bf2003c2b237c708",
            "placeholder": "​",
            "style": "IPY_MODEL_311805b465fc418e943356419fcf53f1",
            "value": " 4542/4542 [00:00&lt;00:00, 144286.12it/s]"
          }
        },
        "3720888efef44798a03cca238da35f33": {
          "model_module": "@jupyter-widgets/base",
          "model_name": "LayoutModel",
          "model_module_version": "1.2.0",
          "state": {
            "_model_module": "@jupyter-widgets/base",
            "_model_module_version": "1.2.0",
            "_model_name": "LayoutModel",
            "_view_count": null,
            "_view_module": "@jupyter-widgets/base",
            "_view_module_version": "1.2.0",
            "_view_name": "LayoutView",
            "align_content": null,
            "align_items": null,
            "align_self": null,
            "border": null,
            "bottom": null,
            "display": null,
            "flex": null,
            "flex_flow": null,
            "grid_area": null,
            "grid_auto_columns": null,
            "grid_auto_flow": null,
            "grid_auto_rows": null,
            "grid_column": null,
            "grid_gap": null,
            "grid_row": null,
            "grid_template_areas": null,
            "grid_template_columns": null,
            "grid_template_rows": null,
            "height": null,
            "justify_content": null,
            "justify_items": null,
            "left": null,
            "margin": null,
            "max_height": null,
            "max_width": null,
            "min_height": null,
            "min_width": null,
            "object_fit": null,
            "object_position": null,
            "order": null,
            "overflow": null,
            "overflow_x": null,
            "overflow_y": null,
            "padding": null,
            "right": null,
            "top": null,
            "visibility": null,
            "width": null
          }
        },
        "fc1d419d20434566b59bd16dbb82f8dd": {
          "model_module": "@jupyter-widgets/base",
          "model_name": "LayoutModel",
          "model_module_version": "1.2.0",
          "state": {
            "_model_module": "@jupyter-widgets/base",
            "_model_module_version": "1.2.0",
            "_model_name": "LayoutModel",
            "_view_count": null,
            "_view_module": "@jupyter-widgets/base",
            "_view_module_version": "1.2.0",
            "_view_name": "LayoutView",
            "align_content": null,
            "align_items": null,
            "align_self": null,
            "border": null,
            "bottom": null,
            "display": null,
            "flex": null,
            "flex_flow": null,
            "grid_area": null,
            "grid_auto_columns": null,
            "grid_auto_flow": null,
            "grid_auto_rows": null,
            "grid_column": null,
            "grid_gap": null,
            "grid_row": null,
            "grid_template_areas": null,
            "grid_template_columns": null,
            "grid_template_rows": null,
            "height": null,
            "justify_content": null,
            "justify_items": null,
            "left": null,
            "margin": null,
            "max_height": null,
            "max_width": null,
            "min_height": null,
            "min_width": null,
            "object_fit": null,
            "object_position": null,
            "order": null,
            "overflow": null,
            "overflow_x": null,
            "overflow_y": null,
            "padding": null,
            "right": null,
            "top": null,
            "visibility": null,
            "width": null
          }
        },
        "9e402f7329764fa68c4107413a39b4d5": {
          "model_module": "@jupyter-widgets/controls",
          "model_name": "DescriptionStyleModel",
          "model_module_version": "1.5.0",
          "state": {
            "_model_module": "@jupyter-widgets/controls",
            "_model_module_version": "1.5.0",
            "_model_name": "DescriptionStyleModel",
            "_view_count": null,
            "_view_module": "@jupyter-widgets/base",
            "_view_module_version": "1.2.0",
            "_view_name": "StyleView",
            "description_width": ""
          }
        },
        "7ff5e88d49944712a55d1cd8bc7eb41e": {
          "model_module": "@jupyter-widgets/base",
          "model_name": "LayoutModel",
          "model_module_version": "1.2.0",
          "state": {
            "_model_module": "@jupyter-widgets/base",
            "_model_module_version": "1.2.0",
            "_model_name": "LayoutModel",
            "_view_count": null,
            "_view_module": "@jupyter-widgets/base",
            "_view_module_version": "1.2.0",
            "_view_name": "LayoutView",
            "align_content": null,
            "align_items": null,
            "align_self": null,
            "border": null,
            "bottom": null,
            "display": null,
            "flex": null,
            "flex_flow": null,
            "grid_area": null,
            "grid_auto_columns": null,
            "grid_auto_flow": null,
            "grid_auto_rows": null,
            "grid_column": null,
            "grid_gap": null,
            "grid_row": null,
            "grid_template_areas": null,
            "grid_template_columns": null,
            "grid_template_rows": null,
            "height": null,
            "justify_content": null,
            "justify_items": null,
            "left": null,
            "margin": null,
            "max_height": null,
            "max_width": null,
            "min_height": null,
            "min_width": null,
            "object_fit": null,
            "object_position": null,
            "order": null,
            "overflow": null,
            "overflow_x": null,
            "overflow_y": null,
            "padding": null,
            "right": null,
            "top": null,
            "visibility": null,
            "width": null
          }
        },
        "c87343d821d846859c7641985221a12e": {
          "model_module": "@jupyter-widgets/controls",
          "model_name": "ProgressStyleModel",
          "model_module_version": "1.5.0",
          "state": {
            "_model_module": "@jupyter-widgets/controls",
            "_model_module_version": "1.5.0",
            "_model_name": "ProgressStyleModel",
            "_view_count": null,
            "_view_module": "@jupyter-widgets/base",
            "_view_module_version": "1.2.0",
            "_view_name": "StyleView",
            "bar_color": null,
            "description_width": ""
          }
        },
        "3fcce71f21914e78bf2003c2b237c708": {
          "model_module": "@jupyter-widgets/base",
          "model_name": "LayoutModel",
          "model_module_version": "1.2.0",
          "state": {
            "_model_module": "@jupyter-widgets/base",
            "_model_module_version": "1.2.0",
            "_model_name": "LayoutModel",
            "_view_count": null,
            "_view_module": "@jupyter-widgets/base",
            "_view_module_version": "1.2.0",
            "_view_name": "LayoutView",
            "align_content": null,
            "align_items": null,
            "align_self": null,
            "border": null,
            "bottom": null,
            "display": null,
            "flex": null,
            "flex_flow": null,
            "grid_area": null,
            "grid_auto_columns": null,
            "grid_auto_flow": null,
            "grid_auto_rows": null,
            "grid_column": null,
            "grid_gap": null,
            "grid_row": null,
            "grid_template_areas": null,
            "grid_template_columns": null,
            "grid_template_rows": null,
            "height": null,
            "justify_content": null,
            "justify_items": null,
            "left": null,
            "margin": null,
            "max_height": null,
            "max_width": null,
            "min_height": null,
            "min_width": null,
            "object_fit": null,
            "object_position": null,
            "order": null,
            "overflow": null,
            "overflow_x": null,
            "overflow_y": null,
            "padding": null,
            "right": null,
            "top": null,
            "visibility": null,
            "width": null
          }
        },
        "311805b465fc418e943356419fcf53f1": {
          "model_module": "@jupyter-widgets/controls",
          "model_name": "DescriptionStyleModel",
          "model_module_version": "1.5.0",
          "state": {
            "_model_module": "@jupyter-widgets/controls",
            "_model_module_version": "1.5.0",
            "_model_name": "DescriptionStyleModel",
            "_view_count": null,
            "_view_module": "@jupyter-widgets/base",
            "_view_module_version": "1.2.0",
            "_view_name": "StyleView",
            "description_width": ""
          }
        }
      }
    }
  },
  "nbformat": 4,
  "nbformat_minor": 0
}