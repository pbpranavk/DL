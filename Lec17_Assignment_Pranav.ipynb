{
  "cells": [
    {
      "cell_type": "code",
      "execution_count": null,
      "metadata": {
        "id": "IsGd8jjJApus"
      },
      "outputs": [],
      "source": [
        "import torch\n",
        "from torchvision import datasets\n",
        "from torch.utils.data import DataLoader\n",
        "from torchvision.transforms import ToTensor\n",
        "from torchvision import transforms"
      ]
    },
    {
      "cell_type": "markdown",
      "source": [
        "## Splitting data, setting up the model and plotting graphs with first 20 items and the rest as validation set"
      ],
      "metadata": {
        "id": "ntZir8-iYA0T"
      }
    },
    {
      "cell_type": "code",
      "execution_count": null,
      "metadata": {
        "id": "d1ulUWDvDrA1"
      },
      "outputs": [],
      "source": [
        "mnist_dataset = datasets.MNIST(\n",
        "    root = \"datasets\",\n",
        "    train = True,\n",
        "    download=True,\n",
        "    transform = ToTensor()\n",
        ")"
      ]
    },
    {
      "cell_type": "code",
      "source": [
        "train_dataset = []\n",
        "validation_dataset = []\n",
        "\n",
        "for j, item in enumerate(mnist_dataset):\n",
        "        if j < 20:\n",
        "          train_dataset.append(item)\n",
        "        else:\n",
        "          validation_dataset.append(item)"
      ],
      "metadata": {
        "id": "BXiaHOoCOcvs"
      },
      "execution_count": null,
      "outputs": []
    },
    {
      "cell_type": "code",
      "source": [
        "len(validation_dataset)"
      ],
      "metadata": {
        "colab": {
          "base_uri": "https://localhost:8080/"
        },
        "id": "xhqC9NEDO-Sf",
        "outputId": "dc5ca756-e994-454e-a722-a45ce5b158ad"
      },
      "execution_count": null,
      "outputs": [
        {
          "output_type": "execute_result",
          "data": {
            "text/plain": [
              "59980"
            ]
          },
          "metadata": {},
          "execution_count": 79
        }
      ]
    },
    {
      "cell_type": "code",
      "execution_count": null,
      "metadata": {
        "id": "K_B-Wm5tFZAs"
      },
      "outputs": [],
      "source": [
        "train_loader = DataLoader(\n",
        "        dataset=train_dataset,\n",
        "        batch_size=20,\n",
        "        drop_last=False,\n",
        "        shuffle=True,\n",
        "        num_workers=0)\n",
        "\n",
        "valid_loader = DataLoader(\n",
        "        dataset=validation_dataset,\n",
        "        batch_size=20,\n",
        "        shuffle=False,\n",
        "        num_workers=0)"
      ]
    },
    {
      "cell_type": "code",
      "execution_count": null,
      "metadata": {
        "id": "XneVsyhxEVrs"
      },
      "outputs": [],
      "source": [
        "class MNISTClassifier(torch.nn.Module):\n",
        "\n",
        "    def __init__(self, num_features, num_hidden1, num_hidden2, num_classes):\n",
        "        super().__init__()\n",
        "\n",
        "        self.num_classes = num_classes\n",
        "\n",
        "        self.model = torch.nn.Sequential(\n",
        "            torch.nn.Flatten(),\n",
        "            torch.nn.Linear(num_features, num_hidden1),\n",
        "            torch.nn.ReLU(),\n",
        "            torch.nn.Linear(num_hidden1, num_hidden2),\n",
        "            torch.nn.ReLU(),\n",
        "            torch.nn.Linear(num_hidden2, num_classes)\n",
        "            )\n",
        "\n",
        "    def forward(self, x):\n",
        "        return self.model(x)\n",
        "\n",
        "\n",
        "model = MNISTClassifier(num_features=28*28,\n",
        "            num_hidden1=50,\n",
        "            num_hidden2=20,\n",
        "            num_classes=10)\n",
        "\n",
        "\n",
        "optimizer = torch.optim.SGD(model.parameters(), lr=0.05)"
      ]
    },
    {
      "cell_type": "code",
      "source": [
        "def compute_accuracy(model, data_loader):\n",
        "\n",
        "    with torch.no_grad():\n",
        "\n",
        "        correct_pred, num_examples = 0, 0\n",
        "\n",
        "        for i, (features, targets) in enumerate(data_loader):\n",
        "\n",
        "            logits = model(features)\n",
        "            _, predicted_labels = torch.max(logits, 1)\n",
        "\n",
        "            num_examples += targets.size(0)\n",
        "            correct_pred += (predicted_labels == targets).sum()\n",
        "    return correct_pred.float()/num_examples * 100\n"
      ],
      "metadata": {
        "id": "k4Z7wGsMqN-E"
      },
      "execution_count": null,
      "outputs": []
    },
    {
      "cell_type": "code",
      "execution_count": null,
      "metadata": {
        "colab": {
          "base_uri": "https://localhost:8080/"
        },
        "id": "a9rgpD9REXh7",
        "outputId": "04b3d3f0-5679-425e-f6bd-27e13bb2bc60"
      },
      "outputs": [
        {
          "output_type": "stream",
          "name": "stdout",
          "text": [
            "Epoch 1 : loss - 2.273500919342041\n",
            "Epoch 2 : loss - 2.2662720680236816\n",
            "Epoch 3 : loss - 2.2597827911376953\n",
            "Epoch 4 : loss - 2.2535927295684814\n",
            "Epoch 5 : loss - 2.247537612915039\n",
            "Epoch 6 : loss - 2.241497278213501\n",
            "Epoch 7 : loss - 2.2353029251098633\n",
            "Epoch 8 : loss - 2.229020118713379\n",
            "Epoch 9 : loss - 2.22263765335083\n",
            "Epoch 10 : loss - 2.216282367706299\n",
            "Epoch 11 : loss - 2.2096166610717773\n",
            "Epoch 12 : loss - 2.202549695968628\n",
            "Epoch 13 : loss - 2.1953721046447754\n",
            "Epoch 14 : loss - 2.1881895065307617\n",
            "Epoch 15 : loss - 2.180872917175293\n",
            "Epoch 16 : loss - 2.1733288764953613\n",
            "Epoch 17 : loss - 2.1654722690582275\n",
            "Epoch 18 : loss - 2.1572177410125732\n",
            "Epoch 19 : loss - 2.1487886905670166\n",
            "Epoch 20 : loss - 2.1400437355041504\n",
            "Epoch 21 : loss - 2.1311264038085938\n",
            "Epoch 22 : loss - 2.122016429901123\n",
            "Epoch 23 : loss - 2.112189769744873\n",
            "Epoch 24 : loss - 2.1021981239318848\n",
            "Epoch 25 : loss - 2.0918984413146973\n",
            "Epoch 26 : loss - 2.081373691558838\n",
            "Epoch 27 : loss - 2.070620059967041\n",
            "Epoch 28 : loss - 2.05942964553833\n",
            "Epoch 29 : loss - 2.0478386878967285\n",
            "Epoch 30 : loss - 2.035766839981079\n",
            "Epoch 31 : loss - 2.0232434272766113\n",
            "Epoch 32 : loss - 2.010471820831299\n",
            "Epoch 33 : loss - 1.9973983764648438\n",
            "Epoch 34 : loss - 1.9841161966323853\n",
            "Epoch 35 : loss - 1.9709562063217163\n",
            "Epoch 36 : loss - 1.957146406173706\n",
            "Epoch 37 : loss - 1.942562460899353\n",
            "Epoch 38 : loss - 1.9278377294540405\n",
            "Epoch 39 : loss - 1.913206696510315\n",
            "Epoch 40 : loss - 1.8985824584960938\n",
            "Epoch 41 : loss - 1.883587121963501\n",
            "Epoch 42 : loss - 1.8689050674438477\n",
            "Epoch 43 : loss - 1.8539537191390991\n",
            "Epoch 44 : loss - 1.8392305374145508\n",
            "Epoch 45 : loss - 1.8243401050567627\n",
            "Epoch 46 : loss - 1.8092563152313232\n",
            "Epoch 47 : loss - 1.7941429615020752\n",
            "Epoch 48 : loss - 1.7798573970794678\n",
            "Epoch 49 : loss - 1.7652397155761719\n",
            "Epoch 50 : loss - 1.7510461807250977\n",
            "Epoch 51 : loss - 1.7361923456192017\n",
            "Epoch 52 : loss - 1.7216594219207764\n",
            "Epoch 53 : loss - 1.706788420677185\n",
            "Epoch 54 : loss - 1.6923964023590088\n",
            "Epoch 55 : loss - 1.677997350692749\n",
            "Epoch 56 : loss - 1.6632602214813232\n",
            "Epoch 57 : loss - 1.6490545272827148\n",
            "Epoch 58 : loss - 1.6345382928848267\n",
            "Epoch 59 : loss - 1.6198556423187256\n",
            "Epoch 60 : loss - 1.6053636074066162\n",
            "Epoch 61 : loss - 1.59088134765625\n",
            "Epoch 62 : loss - 1.5760581493377686\n",
            "Epoch 63 : loss - 1.561292052268982\n",
            "Epoch 64 : loss - 1.5466268062591553\n",
            "Epoch 65 : loss - 1.5321145057678223\n",
            "Epoch 66 : loss - 1.5172773599624634\n",
            "Epoch 67 : loss - 1.5023319721221924\n",
            "Epoch 68 : loss - 1.4875996112823486\n",
            "Epoch 69 : loss - 1.4728482961654663\n",
            "Epoch 70 : loss - 1.4578466415405273\n",
            "Epoch 71 : loss - 1.4429570436477661\n",
            "Epoch 72 : loss - 1.4280390739440918\n",
            "Epoch 73 : loss - 1.4131977558135986\n",
            "Epoch 74 : loss - 1.3983222246170044\n",
            "Epoch 75 : loss - 1.3840020895004272\n",
            "Epoch 76 : loss - 1.3687928915023804\n",
            "Epoch 77 : loss - 1.3540635108947754\n",
            "Epoch 78 : loss - 1.338850736618042\n",
            "Epoch 79 : loss - 1.3242148160934448\n",
            "Epoch 80 : loss - 1.3081347942352295\n",
            "Epoch 81 : loss - 1.2929490804672241\n",
            "Epoch 82 : loss - 1.2777180671691895\n",
            "Epoch 83 : loss - 1.2628097534179688\n",
            "Epoch 84 : loss - 1.2465089559555054\n",
            "Epoch 85 : loss - 1.2307343482971191\n",
            "Epoch 86 : loss - 1.2151985168457031\n",
            "Epoch 87 : loss - 1.1998472213745117\n",
            "Epoch 88 : loss - 1.1839118003845215\n",
            "Epoch 89 : loss - 1.1687278747558594\n",
            "Epoch 90 : loss - 1.1523158550262451\n",
            "Epoch 91 : loss - 1.1370224952697754\n",
            "Epoch 92 : loss - 1.1201847791671753\n",
            "Epoch 93 : loss - 1.1039364337921143\n",
            "Epoch 94 : loss - 1.0880916118621826\n",
            "Epoch 95 : loss - 1.0717623233795166\n",
            "Epoch 96 : loss - 1.0558865070343018\n",
            "Epoch 97 : loss - 1.0396511554718018\n",
            "Epoch 98 : loss - 1.0239017009735107\n",
            "Epoch 99 : loss - 1.0088902711868286\n",
            "Epoch 100 : loss - 0.9925673604011536\n",
            "Epoch 101 : loss - 0.976469874382019\n",
            "Epoch 102 : loss - 0.95994633436203\n",
            "Epoch 103 : loss - 0.9441773295402527\n",
            "Epoch 104 : loss - 0.928960919380188\n",
            "Epoch 105 : loss - 0.9140558242797852\n",
            "Epoch 106 : loss - 0.8967398405075073\n",
            "Epoch 107 : loss - 0.8804380297660828\n",
            "Epoch 108 : loss - 0.8650752902030945\n",
            "Epoch 109 : loss - 0.850745677947998\n",
            "Epoch 110 : loss - 0.8342645764350891\n",
            "Epoch 111 : loss - 0.8186185956001282\n",
            "Epoch 112 : loss - 0.8035866022109985\n",
            "Epoch 113 : loss - 0.7884201407432556\n",
            "Epoch 114 : loss - 0.772715151309967\n",
            "Epoch 115 : loss - 0.7581993341445923\n",
            "Epoch 116 : loss - 0.7435880303382874\n",
            "Epoch 117 : loss - 0.7286035418510437\n",
            "Epoch 118 : loss - 0.714399516582489\n",
            "Epoch 119 : loss - 0.6996414661407471\n",
            "Epoch 120 : loss - 0.6853412389755249\n",
            "Epoch 121 : loss - 0.6714490056037903\n",
            "Epoch 122 : loss - 0.6578158736228943\n",
            "Epoch 123 : loss - 0.6438537836074829\n",
            "Epoch 124 : loss - 0.6303890347480774\n",
            "Epoch 125 : loss - 0.6175909638404846\n",
            "Epoch 126 : loss - 0.6046721339225769\n",
            "Epoch 127 : loss - 0.5916340947151184\n",
            "Epoch 128 : loss - 0.578413188457489\n",
            "Epoch 129 : loss - 0.5660291314125061\n",
            "Epoch 130 : loss - 0.5543447136878967\n",
            "Epoch 131 : loss - 0.5425086617469788\n",
            "Epoch 132 : loss - 0.5302531123161316\n",
            "Epoch 133 : loss - 0.5183135867118835\n",
            "Epoch 134 : loss - 0.5076232552528381\n",
            "Epoch 135 : loss - 0.4970130920410156\n",
            "Epoch 136 : loss - 0.4853665828704834\n",
            "Epoch 137 : loss - 0.4742567539215088\n",
            "Epoch 138 : loss - 0.46347904205322266\n",
            "Epoch 139 : loss - 0.45356035232543945\n",
            "Epoch 140 : loss - 0.4439786970615387\n",
            "Epoch 141 : loss - 0.43337297439575195\n",
            "Epoch 142 : loss - 0.4234592318534851\n",
            "Epoch 143 : loss - 0.4142647683620453\n",
            "Epoch 144 : loss - 0.40475624799728394\n",
            "Epoch 145 : loss - 0.3952324688434601\n",
            "Epoch 146 : loss - 0.38655945658683777\n",
            "Epoch 147 : loss - 0.3775887191295624\n",
            "Epoch 148 : loss - 0.3687126338481903\n",
            "Epoch 149 : loss - 0.3606404662132263\n",
            "Epoch 150 : loss - 0.3522804379463196\n",
            "Epoch 151 : loss - 0.3443675637245178\n",
            "Epoch 152 : loss - 0.3362904191017151\n",
            "Epoch 153 : loss - 0.328213632106781\n",
            "Epoch 154 : loss - 0.32068151235580444\n",
            "Epoch 155 : loss - 0.3132289946079254\n",
            "Epoch 156 : loss - 0.3060309886932373\n",
            "Epoch 157 : loss - 0.2986438572406769\n",
            "Epoch 158 : loss - 0.292184442281723\n",
            "Epoch 159 : loss - 0.2854054868221283\n",
            "Epoch 160 : loss - 0.27832573652267456\n",
            "Epoch 161 : loss - 0.27160462737083435\n",
            "Epoch 162 : loss - 0.26557523012161255\n",
            "Epoch 163 : loss - 0.25921064615249634\n",
            "Epoch 164 : loss - 0.25315389037132263\n",
            "Epoch 165 : loss - 0.247005894780159\n",
            "Epoch 166 : loss - 0.24115367233753204\n",
            "Epoch 167 : loss - 0.23551997542381287\n",
            "Epoch 168 : loss - 0.23001711070537567\n",
            "Epoch 169 : loss - 0.2243201732635498\n",
            "Epoch 170 : loss - 0.21902242302894592\n",
            "Epoch 171 : loss - 0.21404770016670227\n",
            "Epoch 172 : loss - 0.20935165882110596\n",
            "Epoch 173 : loss - 0.20402279496192932\n",
            "Epoch 174 : loss - 0.19909550249576569\n",
            "Epoch 175 : loss - 0.1945892870426178\n",
            "Epoch 176 : loss - 0.1901787370443344\n",
            "Epoch 177 : loss - 0.18561136722564697\n",
            "Epoch 178 : loss - 0.18135926127433777\n",
            "Epoch 179 : loss - 0.1771482527256012\n",
            "Epoch 180 : loss - 0.17308267951011658\n",
            "Epoch 181 : loss - 0.16917406022548676\n",
            "Epoch 182 : loss - 0.1653098315000534\n",
            "Epoch 183 : loss - 0.1614547073841095\n",
            "Epoch 184 : loss - 0.1580028533935547\n",
            "Epoch 185 : loss - 0.1541222780942917\n",
            "Epoch 186 : loss - 0.15073390305042267\n",
            "Epoch 187 : loss - 0.1473437398672104\n",
            "Epoch 188 : loss - 0.14416192471981049\n",
            "Epoch 189 : loss - 0.14098858833312988\n",
            "Epoch 190 : loss - 0.1378701776266098\n",
            "Epoch 191 : loss - 0.13494154810905457\n",
            "Epoch 192 : loss - 0.13201026618480682\n",
            "Epoch 193 : loss - 0.12917384505271912\n",
            "Epoch 194 : loss - 0.1264086663722992\n",
            "Epoch 195 : loss - 0.12378980964422226\n",
            "Epoch 196 : loss - 0.121188685297966\n",
            "Epoch 197 : loss - 0.11875877529382706\n",
            "Epoch 198 : loss - 0.11622896045446396\n",
            "Epoch 199 : loss - 0.11401591449975967\n",
            "Epoch 200 : loss - 0.11156954616308212\n"
          ]
        }
      ],
      "source": [
        "train_acc_list, valid_acc_list = [], []\n",
        "\n",
        "for epoch in range(200):\n",
        "\n",
        "  for batch_idx, (features, targets) in enumerate(train_loader):\n",
        "\n",
        "    logits = model(features)\n",
        "    loss = torch.nn.functional.cross_entropy(logits, targets)\n",
        "    optimizer.zero_grad()\n",
        "\n",
        "    loss.backward()\n",
        "\n",
        "    optimizer.step()\n",
        "\n",
        "  print(f\"Epoch {epoch + 1} : loss - {loss}\")\n",
        "\n",
        "  with torch.no_grad():\n",
        "    train_acc = compute_accuracy(model, train_loader)\n",
        "    valid_acc = compute_accuracy(model, valid_loader)\n",
        "    train_acc_list.append(train_acc.item())\n",
        "    valid_acc_list.append(valid_acc.item())\n"
      ]
    },
    {
      "cell_type": "code",
      "source": [
        "import numpy as np\n",
        "import matplotlib.pyplot as plt"
      ],
      "metadata": {
        "id": "hu6ZaO4sqldO"
      },
      "execution_count": null,
      "outputs": []
    },
    {
      "cell_type": "code",
      "execution_count": null,
      "metadata": {
        "id": "fJRJo-dyFyHe"
      },
      "outputs": [],
      "source": [
        "def plot_accuracy(train_acc_list, valid_acc_list):\n",
        "\n",
        "    num_epochs = len(train_acc_list)\n",
        "\n",
        "    plt.plot(np.arange(1, num_epochs+1),\n",
        "             train_acc_list, label='Training')\n",
        "    plt.plot(np.arange(1, num_epochs+1),\n",
        "             valid_acc_list, label='Validation')\n",
        "    # plt.plot(np.arange(1, num_epochs+1),\n",
        "    #          test_acc_list, label='Test')\n",
        "\n",
        "\n",
        "    plt.xlabel('Epoch')\n",
        "    plt.ylabel('Accuracy')\n",
        "    plt.legend()\n",
        "\n",
        "    plt.tight_layout()\n"
      ]
    },
    {
      "cell_type": "code",
      "source": [
        "plot_accuracy(train_acc_list, valid_acc_list)"
      ],
      "metadata": {
        "colab": {
          "base_uri": "https://localhost:8080/",
          "height": 297
        },
        "id": "WrJgJp1mun9S",
        "outputId": "17c9b74f-1ad9-4fb1-9434-d2eca5c36981"
      },
      "execution_count": null,
      "outputs": [
        {
          "output_type": "display_data",
          "data": {
            "text/plain": [
              "<Figure size 432x288 with 1 Axes>"
            ],
            "image/png": "[encoded data removed]"
          },
          "metadata": {
            "needs_background": "light"
          }
        }
      ]
    },
    {
      "cell_type": "markdown",
      "source": [
        "## Here we can see that the accuracies at the end of 200 epochs are 100% for training and almost 45% to 50% for validation set. We can see this a clear case of overfitting, the reason being there are only 20 items for training data and the model was not able to generalise thereby overfitting and memorising the training 20 samples."
      ],
      "metadata": {
        "id": "nbqpvMa2fDdt"
      }
    },
    {
      "cell_type": "markdown",
      "source": [
        "## Augmenting the data and training the model and plotting the results"
      ],
      "metadata": {
        "id": "yhEkSrLYYPgR"
      }
    },
    {
      "cell_type": "code",
      "source": [
        "\n",
        "augmented_train_data = []\n",
        "\n",
        "my_transform = transforms.Compose([\n",
        "    transforms.RandomRotation(30),\n",
        "    transforms.ToTensor(),\n",
        "])\n",
        "\n",
        "\n",
        "for i in range(100):\n",
        "    mnist_new = datasets.MNIST('data', train=True, download=True, transform=my_transform)\n",
        "    for j, item in enumerate(mnist_new):\n",
        "        if j >= 20:\n",
        "            break\n",
        "        augmented_train_data.append(item)\n",
        "\n",
        "len(augmented_train_data)"
      ],
      "metadata": {
        "colab": {
          "base_uri": "https://localhost:8080/"
        },
        "id": "LL7LCUZ2qjPR",
        "outputId": "81a72102-f2ee-48d5-d8d3-b5edabeef5b8"
      },
      "execution_count": null,
      "outputs": [
        {
          "output_type": "execute_result",
          "data": {
            "text/plain": [
              "2000"
            ]
          },
          "metadata": {},
          "execution_count": 87
        }
      ]
    },
    {
      "cell_type": "code",
      "source": [
        "train_loader = DataLoader(\n",
        "        dataset=augmented_train_data,\n",
        "        batch_size=20,\n",
        "        drop_last=False,\n",
        "        shuffle=True,\n",
        "        num_workers=0)\n"
      ],
      "metadata": {
        "id": "zQHyVMo_u8eW"
      },
      "execution_count": null,
      "outputs": []
    },
    {
      "cell_type": "code",
      "source": [
        "model_augmented = MNISTClassifier(num_features=28*28,\n",
        "            num_hidden1=50,\n",
        "            num_hidden2=20,\n",
        "            num_classes=10)\n",
        "\n",
        "\n",
        "optimizer = torch.optim.SGD(model_augmented.parameters(), lr=0.05)"
      ],
      "metadata": {
        "id": "-e3oBK4iTrG5"
      },
      "execution_count": null,
      "outputs": []
    },
    {
      "cell_type": "code",
      "source": [
        "train_acc_list, valid_acc_list = [], []\n",
        "\n",
        "for epoch in range(200):\n",
        "\n",
        "  for batch_idx, (features, targets) in enumerate(train_loader):\n",
        "\n",
        "    logits = model_augmented(features)\n",
        "    loss = torch.nn.functional.cross_entropy(logits, targets)\n",
        "    optimizer.zero_grad()\n",
        "\n",
        "    loss.backward()\n",
        "\n",
        "    optimizer.step()\n",
        "\n",
        "  print(f\"Epoch {epoch + 1} : loss - {loss}\")\n",
        "\n",
        "  with torch.no_grad():\n",
        "    train_acc = compute_accuracy(model_augmented, train_loader)\n",
        "    valid_acc = compute_accuracy(model_augmented, valid_loader)\n",
        "    train_acc_list.append(train_acc.item())\n",
        "    valid_acc_list.append(valid_acc.item())\n"
      ],
      "metadata": {
        "colab": {
          "base_uri": "https://localhost:8080/"
        },
        "id": "lFQnbvR6u03D",
        "outputId": "6adcd3bb-6aa0-4d56-e316-e3c70f066003"
      },
      "execution_count": null,
      "outputs": [
        {
          "output_type": "stream",
          "name": "stdout",
          "text": [
            "Epoch 1 : loss - 1.4949709177017212\n",
            "Epoch 2 : loss - 0.5933522582054138\n",
            "Epoch 3 : loss - 0.17367130517959595\n",
            "Epoch 4 : loss - 0.07415150105953217\n",
            "Epoch 5 : loss - 0.025140877813100815\n",
            "Epoch 6 : loss - 0.028671782463788986\n",
            "Epoch 7 : loss - 0.017751967534422874\n",
            "Epoch 8 : loss - 0.013562297448515892\n",
            "Epoch 9 : loss - 0.006646392401307821\n",
            "Epoch 10 : loss - 0.007758378051221371\n",
            "Epoch 11 : loss - 0.005335135851055384\n",
            "Epoch 12 : loss - 0.003506205976009369\n",
            "Epoch 13 : loss - 0.0034095991868525743\n",
            "Epoch 14 : loss - 0.0029313373379409313\n",
            "Epoch 15 : loss - 0.002081753686070442\n",
            "Epoch 16 : loss - 0.002574005862697959\n",
            "Epoch 17 : loss - 0.00266580143943429\n",
            "Epoch 18 : loss - 0.0019809151999652386\n",
            "Epoch 19 : loss - 0.0022191740572452545\n",
            "Epoch 20 : loss - 0.0029121118132025003\n",
            "Epoch 21 : loss - 0.0019288432085886598\n",
            "Epoch 22 : loss - 0.0017912887269631028\n",
            "Epoch 23 : loss - 0.0009159217588603497\n",
            "Epoch 24 : loss - 0.0019340630387887359\n",
            "Epoch 25 : loss - 0.0011556936660781503\n",
            "Epoch 26 : loss - 0.001646043499931693\n",
            "Epoch 27 : loss - 0.001702532172203064\n",
            "Epoch 28 : loss - 0.001592966029420495\n",
            "Epoch 29 : loss - 0.00145477126352489\n",
            "Epoch 30 : loss - 0.000706104445271194\n",
            "Epoch 31 : loss - 0.0012413051445037127\n",
            "Epoch 32 : loss - 0.0008287357049994171\n",
            "Epoch 33 : loss - 0.00112997239921242\n",
            "Epoch 34 : loss - 0.0007323658210225403\n",
            "Epoch 35 : loss - 0.0008801334770396352\n",
            "Epoch 36 : loss - 0.0013989332364872098\n",
            "Epoch 37 : loss - 0.001021025120280683\n",
            "Epoch 38 : loss - 0.00071461230982095\n",
            "Epoch 39 : loss - 0.0003639651113189757\n",
            "Epoch 40 : loss - 0.0006471484084613621\n",
            "Epoch 41 : loss - 0.0005986822070553899\n",
            "Epoch 42 : loss - 0.000699736992828548\n",
            "Epoch 43 : loss - 0.0006289432640187442\n",
            "Epoch 44 : loss - 0.0007826498476788402\n",
            "Epoch 45 : loss - 0.0007130628218874335\n",
            "Epoch 46 : loss - 0.0007892389548942447\n",
            "Epoch 47 : loss - 0.00045548431808128953\n",
            "Epoch 48 : loss - 0.0006744224228896201\n",
            "Epoch 49 : loss - 0.0008304922957904637\n",
            "Epoch 50 : loss - 0.0005778653430752456\n",
            "Epoch 51 : loss - 0.0003641795483417809\n",
            "Epoch 52 : loss - 0.0003992714046034962\n",
            "Epoch 53 : loss - 0.00030028619221411645\n",
            "Epoch 54 : loss - 0.000560807588044554\n",
            "Epoch 55 : loss - 0.0004910117713734508\n",
            "Epoch 56 : loss - 0.0004290904907975346\n",
            "Epoch 57 : loss - 0.00046605890383943915\n",
            "Epoch 58 : loss - 0.0004399667086545378\n",
            "Epoch 59 : loss - 0.000418749958043918\n",
            "Epoch 60 : loss - 0.0003625661483965814\n",
            "Epoch 61 : loss - 0.0002458014932926744\n",
            "Epoch 62 : loss - 0.0005290706176310778\n",
            "Epoch 63 : loss - 0.0004858060274273157\n",
            "Epoch 64 : loss - 0.0003450840595178306\n",
            "Epoch 65 : loss - 0.0002993080415762961\n",
            "Epoch 66 : loss - 0.0004893773002550006\n",
            "Epoch 67 : loss - 0.00019316635734867305\n",
            "Epoch 68 : loss - 0.00028293702052906156\n",
            "Epoch 69 : loss - 0.0005848839646205306\n",
            "Epoch 70 : loss - 0.0002477327361702919\n",
            "Epoch 71 : loss - 0.0004531120357569307\n",
            "Epoch 72 : loss - 0.00028655497590079904\n",
            "Epoch 73 : loss - 0.0005606497870758176\n",
            "Epoch 74 : loss - 0.00021243006631266326\n",
            "Epoch 75 : loss - 0.0003734390193130821\n",
            "Epoch 76 : loss - 0.00042750959983095527\n",
            "Epoch 77 : loss - 0.0003037915739696473\n",
            "Epoch 78 : loss - 0.0003317426308058202\n",
            "Epoch 79 : loss - 0.0009806493762880564\n",
            "Epoch 80 : loss - 0.00022819200239609927\n",
            "Epoch 81 : loss - 0.00026686995988711715\n",
            "Epoch 82 : loss - 0.000242767040617764\n",
            "Epoch 83 : loss - 0.0002388445136602968\n",
            "Epoch 84 : loss - 0.00023055246856529266\n",
            "Epoch 85 : loss - 0.00026734924176707864\n",
            "Epoch 86 : loss - 0.0003658111672848463\n",
            "Epoch 87 : loss - 0.0002270239347126335\n",
            "Epoch 88 : loss - 0.00024172016128432006\n",
            "Epoch 89 : loss - 0.00016796542331576347\n",
            "Epoch 90 : loss - 0.00022848183289170265\n",
            "Epoch 91 : loss - 0.00022942255600355566\n",
            "Epoch 92 : loss - 0.00043210643343627453\n",
            "Epoch 93 : loss - 0.0002769010607153177\n",
            "Epoch 94 : loss - 0.00039702531648799777\n",
            "Epoch 95 : loss - 0.00025662750704213977\n",
            "Epoch 96 : loss - 0.00020265339117031544\n",
            "Epoch 97 : loss - 0.00019099769997410476\n",
            "Epoch 98 : loss - 0.0005159314023330808\n",
            "Epoch 99 : loss - 0.00014852687309030443\n",
            "Epoch 100 : loss - 0.00010831324470927939\n",
            "Epoch 101 : loss - 0.00019363270257599652\n",
            "Epoch 102 : loss - 0.00015398740652017295\n",
            "Epoch 103 : loss - 0.00021507397468667477\n",
            "Epoch 104 : loss - 0.00011879295198014006\n",
            "Epoch 105 : loss - 0.0001410724362358451\n",
            "Epoch 106 : loss - 0.0004007765091955662\n",
            "Epoch 107 : loss - 0.0002275024598930031\n",
            "Epoch 108 : loss - 0.0002683894126676023\n",
            "Epoch 109 : loss - 0.00040900736348703504\n",
            "Epoch 110 : loss - 0.000286637048702687\n",
            "Epoch 111 : loss - 0.0003073432599194348\n",
            "Epoch 112 : loss - 0.00016828750085551292\n",
            "Epoch 113 : loss - 0.00013768082135356963\n",
            "Epoch 114 : loss - 0.00018857928807847202\n",
            "Epoch 115 : loss - 0.00016474025323987007\n",
            "Epoch 116 : loss - 0.0003001021104864776\n",
            "Epoch 117 : loss - 0.00024238503829110414\n",
            "Epoch 118 : loss - 8.840301597956568e-05\n",
            "Epoch 119 : loss - 0.00017414669855497777\n",
            "Epoch 120 : loss - 0.00026175781385973096\n",
            "Epoch 121 : loss - 0.0002932530187536031\n",
            "Epoch 122 : loss - 0.00020996309467591345\n",
            "Epoch 123 : loss - 0.00022365304175764322\n",
            "Epoch 124 : loss - 0.00024816617951728404\n",
            "Epoch 125 : loss - 0.00018584675854071975\n",
            "Epoch 126 : loss - 0.0001329657679889351\n",
            "Epoch 127 : loss - 0.00024494589888490736\n",
            "Epoch 128 : loss - 0.00017440695955883712\n",
            "Epoch 129 : loss - 0.0001429644034942612\n",
            "Epoch 130 : loss - 0.00017417494382243603\n",
            "Epoch 131 : loss - 0.0002052031923085451\n",
            "Epoch 132 : loss - 0.00024411865160800517\n",
            "Epoch 133 : loss - 8.551559585612267e-05\n",
            "Epoch 134 : loss - 0.00014368080883286893\n",
            "Epoch 135 : loss - 0.00011896842624992132\n",
            "Epoch 136 : loss - 0.0001527771382825449\n",
            "Epoch 137 : loss - 0.00015149274258874357\n",
            "Epoch 138 : loss - 0.00015326065476983786\n",
            "Epoch 139 : loss - 0.00019820879970211536\n",
            "Epoch 140 : loss - 0.00012345350114628673\n",
            "Epoch 141 : loss - 0.00015695480396971107\n",
            "Epoch 142 : loss - 9.437688277103007e-05\n",
            "Epoch 143 : loss - 0.00017588280024938285\n",
            "Epoch 144 : loss - 0.00010691255010897294\n",
            "Epoch 145 : loss - 0.00031766953179612756\n",
            "Epoch 146 : loss - 0.0001531660236651078\n",
            "Epoch 147 : loss - 0.00012925430200994015\n",
            "Epoch 148 : loss - 0.00018002714205067605\n",
            "Epoch 149 : loss - 0.00016490225971210748\n",
            "Epoch 150 : loss - 0.00010077601473312825\n",
            "Epoch 151 : loss - 0.00010008351819124073\n",
            "Epoch 152 : loss - 0.00010003318311646581\n",
            "Epoch 153 : loss - 0.00015592209820169955\n",
            "Epoch 154 : loss - 0.0001061829534592107\n",
            "Epoch 155 : loss - 0.0001547029532957822\n",
            "Epoch 156 : loss - 0.00022734401863999665\n",
            "Epoch 157 : loss - 8.155610703397542e-05\n",
            "Epoch 158 : loss - 0.00017716403817757964\n",
            "Epoch 159 : loss - 0.0001360117457807064\n",
            "Epoch 160 : loss - 0.0001105018745874986\n",
            "Epoch 161 : loss - 0.0001025576057145372\n",
            "Epoch 162 : loss - 0.00014942190318834037\n",
            "Epoch 163 : loss - 9.973285341402516e-05\n",
            "Epoch 164 : loss - 0.00011259852908551693\n",
            "Epoch 165 : loss - 6.829465564806014e-05\n",
            "Epoch 166 : loss - 0.0003081505710724741\n",
            "Epoch 167 : loss - 9.691275772638619e-05\n",
            "Epoch 168 : loss - 0.0001531100569991395\n",
            "Epoch 169 : loss - 5.4654454288538545e-05\n",
            "Epoch 170 : loss - 0.0001829340762924403\n",
            "Epoch 171 : loss - 6.16035467828624e-05\n",
            "Epoch 172 : loss - 0.0002535647654440254\n",
            "Epoch 173 : loss - 0.00015061160956975073\n",
            "Epoch 174 : loss - 7.02746183378622e-05\n",
            "Epoch 175 : loss - 0.00016708756447769701\n",
            "Epoch 176 : loss - 5.6585133279440925e-05\n",
            "Epoch 177 : loss - 5.704434079234488e-05\n",
            "Epoch 178 : loss - 5.8319994423072785e-05\n",
            "Epoch 179 : loss - 0.00011326429375912994\n",
            "Epoch 180 : loss - 7.943230593809858e-05\n",
            "Epoch 181 : loss - 8.482746488880366e-05\n",
            "Epoch 182 : loss - 0.00011418241774663329\n",
            "Epoch 183 : loss - 0.00010943214874714613\n",
            "Epoch 184 : loss - 0.00010317769920220599\n",
            "Epoch 185 : loss - 4.6906861825846136e-05\n",
            "Epoch 186 : loss - 0.0001734198012854904\n",
            "Epoch 187 : loss - 0.00011031079338863492\n",
            "Epoch 188 : loss - 9.244775719707832e-05\n",
            "Epoch 189 : loss - 0.00010972793825203553\n",
            "Epoch 190 : loss - 0.00015520474698860198\n",
            "Epoch 191 : loss - 7.455128070432693e-05\n",
            "Epoch 192 : loss - 8.501976844854653e-05\n",
            "Epoch 193 : loss - 6.268850120250136e-05\n",
            "Epoch 194 : loss - 0.0002017999067902565\n",
            "Epoch 195 : loss - 0.00012955584679730237\n",
            "Epoch 196 : loss - 8.11499630799517e-05\n",
            "Epoch 197 : loss - 9.980153845390305e-05\n",
            "Epoch 198 : loss - 0.0001842406636569649\n",
            "Epoch 199 : loss - 0.00015157477173488587\n",
            "Epoch 200 : loss - 8.589467324782163e-05\n"
          ]
        }
      ]
    },
    {
      "cell_type": "code",
      "source": [
        "plot_accuracy(train_acc_list, valid_acc_list)"
      ],
      "metadata": {
        "colab": {
          "base_uri": "https://localhost:8080/",
          "height": 297
        },
        "id": "RaZUjORRu-aS",
        "outputId": "7af753e7-c2d5-4f8d-c356-e920ce04dc38"
      },
      "execution_count": null,
      "outputs": [
        {
          "output_type": "display_data",
          "data": {
            "text/plain": [
              "<Figure size 432x288 with 1 Axes>"
            ],
            "image/png": "[encoded data removed]"
          },
          "metadata": {
            "needs_background": "light"
          }
        }
      ]
    },
    {
      "cell_type": "markdown",
      "source": [
        "## Even in this, with the augmentation the training accuracy becomes 100% whereas the validation accuracy is almost 60%, a signmificant improvement from the previous case but it is still overfitting.\n",
        "\n",
        "## We can see that augmenting data and increasing the training set size has reduced overfitting and helped in generalising the model but the difference between training and validation accuracies is still large and the model is still overfitting."
      ],
      "metadata": {
        "id": "vOzJgSoAhKrS"
      }
    },
    {
      "cell_type": "code",
      "source": [],
      "metadata": {
        "id": "6TQQ9ee_v6ya"
      },
      "execution_count": null,
      "outputs": []
    }
  ],
  "metadata": {
    "colab": {
      "provenance": []
    },
    "kernelspec": {
      "display_name": "Python 3",
      "name": "python3"
    },
    "language_info": {
      "name": "python"
    }
  },
  "nbformat": 4,
  "nbformat_minor": 0
}