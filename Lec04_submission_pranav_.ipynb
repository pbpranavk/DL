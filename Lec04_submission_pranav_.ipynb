{
  "cells": [
    {
      "cell_type": "markdown",
      "metadata": {
        "id": "FzD_boMiVdUn"
      },
      "source": [
        "#L04 Submission Pranav"
      ]
    },
    {
      "cell_type": "code",
      "execution_count": null,
      "metadata": {
        "id": "IepjNp_2VdUp"
      },
      "outputs": [],
      "source": [
        "import numpy as np\n",
        "import matplotlib.pyplot as plt\n",
        "import torch\n",
        "%matplotlib inline"
      ]
    },
    {
      "cell_type": "markdown",
      "source": [
        "# 1 Answer Printing the number of wrongly predicted training examples for each of the 5 epochs"
      ],
      "metadata": {
        "id": "iYGfz7OL-8Hr"
      }
    },
    {
      "cell_type": "markdown",
      "metadata": {
        "id": "ISZnsGraVdUq"
      },
      "source": [
        "## Preparing the dataset"
      ]
    },
    {
      "cell_type": "code",
      "execution_count": null,
      "metadata": {
        "colab": {
          "base_uri": "https://localhost:8080/"
        },
        "id": "rquFekiRVdUq",
        "outputId": "2790bb87-c29d-4e32-a726-69aeda79d24e"
      },
      "outputs": [
        {
          "output_type": "stream",
          "name": "stdout",
          "text": [
            "Class label counts: [50 50]\n",
            "X.shape: (100, 2)\n",
            "y.shape: (100,)\n"
          ]
        },
        {
          "output_type": "stream",
          "name": "stderr",
          "text": [
            "/usr/local/lib/python3.7/dist-packages/ipykernel_launcher.py:7: DeprecationWarning: `np.int` is a deprecated alias for the builtin `int`. To silence this warning, use `int` by itself. Doing this will not modify any behavior and is safe. When replacing `np.int`, you may wish to use e.g. `np.int64` or `np.int32` to specify the precision. If you wish to review your current use, check the release note link for additional information.\n",
            "Deprecated in NumPy 1.20; for more details and guidance: https://numpy.org/devdocs/release/1.20.0-notes.html#deprecations\n",
            "  import sys\n"
          ]
        }
      ],
      "source": [
        "##########################\n",
        "### DATASET\n",
        "##########################\n",
        "\n",
        "data = np.genfromtxt('1_perceptron_toydata.txt', delimiter='\\t')\n",
        "X, y = data[:, :2], data[:, 2]\n",
        "y = y.astype(np.int)\n",
        "\n",
        "print('Class label counts:', np.bincount(y))\n",
        "print('X.shape:', X.shape)\n",
        "print('y.shape:', y.shape)\n",
        "\n",
        "# Shuffling & train/test split\n",
        "shuffle_idx = np.arange(y.shape[0])\n",
        "shuffle_rng = np.random.RandomState(123)\n",
        "shuffle_rng.shuffle(shuffle_idx)\n",
        "X, y = X[shuffle_idx], y[shuffle_idx]\n",
        "\n",
        "X_train, X_test = X[shuffle_idx[:70]], X[shuffle_idx[70:]]\n",
        "y_train, y_test = y[shuffle_idx[:70]], y[shuffle_idx[70:]]\n",
        "# X_train, X_test = X[:70], X[70:]\n",
        "# y_train, y_test = y[:70], y[70:]\n",
        "\n",
        "# Normalize (mean zero, unit variance)\n",
        "mu, sigma = X_train.mean(axis=0), X_train.std(axis=0)\n",
        "X_train = (X_train - mu) / sigma\n",
        "X_test = (X_test - mu) / sigma"
      ]
    },
    {
      "cell_type": "code",
      "execution_count": null,
      "metadata": {
        "colab": {
          "base_uri": "https://localhost:8080/",
          "height": 295
        },
        "id": "JNzErBzgVdUs",
        "outputId": "6f07b0a2-ff4a-448a-c7b4-e9f358685132"
      },
      "outputs": [
        {
          "output_type": "display_data",
          "data": {
            "text/plain": [
              "<Figure size 432x288 with 1 Axes>"
            ],
            "image/png": "[encoded data removed]"
          },
          "metadata": {
            "needs_background": "light"
          }
        }
      ],
      "source": [
        "plt.scatter(X_train[y_train==0, 0], X_train[y_train==0, 1], label='class 0', marker='o')\n",
        "plt.scatter(X_train[y_train==1, 0], X_train[y_train==1, 1], label='class 1', marker='s')\n",
        "plt.title('Training set')\n",
        "plt.xlabel('feature 1')\n",
        "plt.ylabel('feature 2')\n",
        "plt.xlim([-3, 3])\n",
        "plt.ylim([-3, 3])\n",
        "plt.legend()\n",
        "plt.show()"
      ]
    },
    {
      "cell_type": "code",
      "execution_count": null,
      "metadata": {
        "colab": {
          "base_uri": "https://localhost:8080/",
          "height": 295
        },
        "id": "8ClHDmTaVdUs",
        "outputId": "4f06880f-628b-4aea-98b3-22f04c984238"
      },
      "outputs": [
        {
          "output_type": "display_data",
          "data": {
            "text/plain": [
              "<Figure size 432x288 with 1 Axes>"
            ],
            "image/png": "[encoded data removed]"
          },
          "metadata": {
            "needs_background": "light"
          }
        }
      ],
      "source": [
        "plt.scatter(X_test[y_test==0, 0], X_test[y_test==0, 1], label='class 0', marker='o')\n",
        "plt.scatter(X_test[y_test==1, 0], X_test[y_test==1, 1], label='class 1', marker='s')\n",
        "plt.title('Test set')\n",
        "plt.xlabel('feature 1')\n",
        "plt.ylabel('feature 2')\n",
        "plt.xlim([-3, 3])\n",
        "plt.ylim([-3, 3])\n",
        "plt.legend()\n",
        "plt.show()"
      ]
    },
    {
      "cell_type": "markdown",
      "source": [
        "# Changing the train method in the model so that it could print the wrongly predicted items during training, I added a array called wrongly_predicted_items and adding it whenever it was wrongly predicted, then printing it at the end of each epoch"
      ],
      "metadata": {
        "id": "J0v0C0Te_Gkd"
      }
    },
    {
      "cell_type": "markdown",
      "metadata": {
        "id": "7lEsCbgyVdUt"
      },
      "source": [
        "## Defining the Perceptron model"
      ]
    },
    {
      "cell_type": "code",
      "execution_count": null,
      "metadata": {
        "id": "7hmeneYBVdUt"
      },
      "outputs": [],
      "source": [
        "device = torch.device(\"cuda:0\" if torch.cuda.is_available() else \"cpu\")\n",
        "\n",
        "\n",
        "class Perceptron():\n",
        "    def __init__(self, num_features):\n",
        "        self.num_features = num_features\n",
        "        self.weights = torch.zeros(num_features, 1,\n",
        "                                   dtype=torch.float32, device=device)\n",
        "        self.bias = torch.zeros(1, dtype=torch.float32, device=device)\n",
        "\n",
        "        self.ones = torch.ones(1)\n",
        "        self.zeros = torch.zeros(1)\n",
        "\n",
        "    def forward(self, x):\n",
        "        linear = torch.mm(x, self.weights) + self.bias\n",
        "        predictions = torch.where(linear > 0., self.ones, self.zeros)\n",
        "        return predictions\n",
        "\n",
        "    def backward(self, x, y):\n",
        "        predictions = self.forward(x)\n",
        "        errors = y - predictions\n",
        "        return errors\n",
        "\n",
        "    def train(self, x, y, epochs):\n",
        "        for e in range(epochs):\n",
        "            wrongly_predicted_items = 0\n",
        "            for i in range(y.shape[0]):\n",
        "                errors = self.backward(x[i].reshape(1, self.num_features), y[i]).reshape(-1)\n",
        "                self.weights += (errors * x[i]).reshape(self.num_features, 1)\n",
        "                self.bias += errors\n",
        "\n",
        "                #Adding the number of wrongly predicted items while training in each epoch\n",
        "                for item in errors:\n",
        "                  wrongly_predicted_items += 1 if item != 0. else 0\n",
        "            print(wrongly_predicted_items)\n",
        "\n",
        "    def evaluate(self, x, y):\n",
        "        predictions = self.forward(x).reshape(-1)\n",
        "        accuracy = torch.sum(predictions == y).float() / y.shape[0]\n",
        "        return accuracy"
      ]
    },
    {
      "cell_type": "markdown",
      "metadata": {
        "id": "MyTP6GFlVdUu"
      },
      "source": [
        "## Training the Perceptron"
      ]
    },
    {
      "cell_type": "code",
      "execution_count": null,
      "metadata": {
        "colab": {
          "base_uri": "https://localhost:8080/"
        },
        "id": "fqMYEVfmVdUv",
        "outputId": "93e05930-c9d5-47ec-e235-91a5304a325e"
      },
      "outputs": [
        {
          "output_type": "stream",
          "name": "stdout",
          "text": [
            "3\n",
            "0\n",
            "0\n",
            "0\n",
            "0\n",
            "Model parameters:\n",
            "  Weights: tensor([[1.2734],\n",
            "        [1.3464]])\n",
            "  Bias: tensor([-1.])\n"
          ]
        }
      ],
      "source": [
        "ppn = Perceptron(num_features=2)\n",
        "\n",
        "X_train_tensor = torch.tensor(X_train, dtype=torch.float32, device=device)\n",
        "y_train_tensor = torch.tensor(y_train, dtype=torch.float32, device=device)\n",
        "\n",
        "ppn.train(X_train_tensor, y_train_tensor, epochs=5)\n",
        "\n",
        "print('Model parameters:')\n",
        "print('  Weights: %s' % ppn.weights)\n",
        "print('  Bias: %s' % ppn.bias)"
      ]
    },
    {
      "cell_type": "code",
      "source": [
        "train_acc = ppn.evaluate(X_train_tensor, y_train_tensor)\n",
        "print('Train set accuracy: %.2f%%' % (train_acc*100))"
      ],
      "metadata": {
        "colab": {
          "base_uri": "https://localhost:8080/"
        },
        "id": "jbufYnV534vq",
        "outputId": "3c246501-664f-40c9-eb1a-9c4564bb53ff"
      },
      "execution_count": null,
      "outputs": [
        {
          "output_type": "stream",
          "name": "stdout",
          "text": [
            "Train set accuracy: 100.00%\n"
          ]
        }
      ]
    },
    {
      "cell_type": "markdown",
      "source": [
        "## As we can see, in the first epoch we got 3 errors while training and after adjusting the weights from the second epoch that dropped to 0, it suggests that the perceptron model could've been trained to just 2 epochs and the performance would've been the same."
      ],
      "metadata": {
        "id": "OxQqsjXD_xTm"
      }
    },
    {
      "cell_type": "markdown",
      "metadata": {
        "id": "2sqvJcPBVdUv"
      },
      "source": [
        "## Evaluating the model"
      ]
    },
    {
      "cell_type": "code",
      "execution_count": null,
      "metadata": {
        "colab": {
          "base_uri": "https://localhost:8080/"
        },
        "id": "RtFreAtAVdUv",
        "outputId": "331dd115-edae-4fe1-a0ac-ef0e31a0a176"
      },
      "outputs": [
        {
          "output_type": "stream",
          "name": "stdout",
          "text": [
            "Test set accuracy: 93.33%\n"
          ]
        }
      ],
      "source": [
        "X_test_tensor = torch.tensor(X_test, dtype=torch.float32, device=device)\n",
        "y_test_tensor = torch.tensor(y_test, dtype=torch.float32, device=device)\n",
        "\n",
        "test_acc = ppn.evaluate(X_test_tensor, y_test_tensor)\n",
        "print('Test set accuracy: %.2f%%' % (test_acc*100))"
      ]
    },
    {
      "cell_type": "markdown",
      "source": [
        "# 2nd Answer, Not shuffling the data and training on the data for 10 epochs"
      ],
      "metadata": {
        "id": "SzWJHWGsATEq"
      }
    },
    {
      "cell_type": "code",
      "source": [
        "##########################\n",
        "### DATASET\n",
        "##########################\n",
        "\n",
        "data = np.genfromtxt('1_perceptron_toydata.txt', delimiter='\\t')\n",
        "X, y = data[:, :2], data[:, 2]\n",
        "y = y.astype(np.int)\n",
        "\n",
        "print('Class label counts:', np.bincount(y))\n",
        "print('X.shape:', X.shape)\n",
        "print('y.shape:', y.shape)\n",
        "\n",
        "\n",
        "X_train, X_test = X[:70], X[70:]\n",
        "y_train, y_test = y[:70], y[70:]\n",
        "\n",
        "# Normalize (mean zero, unit variance)\n",
        "mu, sigma = X_train.mean(axis=0), X_train.std(axis=0)\n",
        "X_train = (X_train - mu) / sigma\n",
        "X_test = (X_test - mu) / sigma"
      ],
      "metadata": {
        "colab": {
          "base_uri": "https://localhost:8080/"
        },
        "id": "qcgtugRAAO3K",
        "outputId": "4c463efc-ffa6-42cc-b775-f6f4b4acf935"
      },
      "execution_count": null,
      "outputs": [
        {
          "output_type": "stream",
          "name": "stdout",
          "text": [
            "Class label counts: [50 50]\n",
            "X.shape: (100, 2)\n",
            "y.shape: (100,)\n"
          ]
        },
        {
          "output_type": "stream",
          "name": "stderr",
          "text": [
            "/usr/local/lib/python3.7/dist-packages/ipykernel_launcher.py:7: DeprecationWarning: `np.int` is a deprecated alias for the builtin `int`. To silence this warning, use `int` by itself. Doing this will not modify any behavior and is safe. When replacing `np.int`, you may wish to use e.g. `np.int64` or `np.int32` to specify the precision. If you wish to review your current use, check the release note link for additional information.\n",
            "Deprecated in NumPy 1.20; for more details and guidance: https://numpy.org/devdocs/release/1.20.0-notes.html#deprecations\n",
            "  import sys\n"
          ]
        }
      ]
    },
    {
      "cell_type": "markdown",
      "source": [
        "## Training data for 10 epochs"
      ],
      "metadata": {
        "id": "tHmAUL2VA7hB"
      }
    },
    {
      "cell_type": "code",
      "source": [
        "ppn = Perceptron(num_features=2)\n",
        "\n",
        "X_train_tensor = torch.tensor(X_train, dtype=torch.float32, device=device)\n",
        "y_train_tensor = torch.tensor(y_train, dtype=torch.float32, device=device)\n",
        "\n",
        "ppn.train(X_train_tensor, y_train_tensor, epochs=10)\n",
        "\n",
        "print('Model parameters:')\n",
        "print('  Weights: %s' % ppn.weights)\n",
        "print('  Bias: %s' % ppn.bias)"
      ],
      "metadata": {
        "colab": {
          "base_uri": "https://localhost:8080/"
        },
        "id": "yUZn3B_2AOsh",
        "outputId": "d50abc79-49cb-4311-f577-783f5235ecc6"
      },
      "execution_count": null,
      "outputs": [
        {
          "output_type": "stream",
          "name": "stdout",
          "text": [
            "1\n",
            "6\n",
            "2\n",
            "2\n",
            "1\n",
            "0\n",
            "0\n",
            "0\n",
            "0\n",
            "0\n",
            "Model parameters:\n",
            "  Weights: tensor([[3.2400],\n",
            "        [1.7200]])\n",
            "  Bias: tensor([-4.])\n"
          ]
        }
      ]
    },
    {
      "cell_type": "markdown",
      "source": [
        "# We can notice a difference in the performance, firstly it took 3 iterations for getting to 0 errors and interestingly the errors in second epoch were more than first.\n",
        "\n",
        "# I think this is because of not shuffling the data was not properly split and it caused issues."
      ],
      "metadata": {
        "id": "8ST7gCcvBD99"
      }
    },
    {
      "cell_type": "code",
      "source": [
        "train_acc = ppn.evaluate(X_train_tensor, y_train_tensor)\n",
        "print('Train set accuracy: %.2f%%' % (train_acc*100))"
      ],
      "metadata": {
        "colab": {
          "base_uri": "https://localhost:8080/"
        },
        "id": "-Q2VkMo1AOgm",
        "outputId": "879dea53-4369-4544-c7c3-b1370825b64c"
      },
      "execution_count": null,
      "outputs": [
        {
          "output_type": "stream",
          "name": "stdout",
          "text": [
            "Train set accuracy: 100.00%\n"
          ]
        }
      ]
    },
    {
      "cell_type": "code",
      "source": [
        "X_test_tensor = torch.tensor(X_test, dtype=torch.float32, device=device)\n",
        "y_test_tensor = torch.tensor(y_test, dtype=torch.float32, device=device)\n",
        "\n",
        "test_acc = ppn.evaluate(X_test_tensor, y_test_tensor)\n",
        "print('Test set accuracy: %.2f%%' % (test_acc*100))"
      ],
      "metadata": {
        "colab": {
          "base_uri": "https://localhost:8080/"
        },
        "id": "N7QJ33n9BpM2",
        "outputId": "3d5cb095-0687-4514-c179-7ca7875f8e95"
      },
      "execution_count": null,
      "outputs": [
        {
          "output_type": "stream",
          "name": "stdout",
          "text": [
            "Test set accuracy: 100.00%\n"
          ]
        }
      ]
    },
    {
      "cell_type": "markdown",
      "source": [
        "# However the interesting thing to note here is that, the test accurracy as well as train accuracy is 100%, we could attribute it to training for 10 epochs and not shuffling the data.\n",
        "\n",
        "# This could also be a case of overfitting and we will have to keep an eye for overfitting & data drift incase we chose to deploy this model"
      ],
      "metadata": {
        "id": "4fM31speBtlc"
      }
    },
    {
      "cell_type": "markdown",
      "source": [
        "# 3 Answer"
      ],
      "metadata": {
        "id": "7nCyA7YzCIFt"
      }
    },
    {
      "cell_type": "markdown",
      "source": [
        "# a) Visualising the dataset"
      ],
      "metadata": {
        "id": "uLD0MjrVCK44"
      }
    },
    {
      "cell_type": "code",
      "source": [
        "import numpy as np;\n",
        "\n",
        "a1 = np.random.uniform(4,6,[200,2])\n",
        "\n",
        "a2 = np.random.uniform(0,10,[200,2])\n",
        "\n",
        "Data_X = np.vstack((a1,a2))\n",
        "\n",
        "Data_Y = np.hstack((np.ones(200).T,np.zeros(200).T)).astype(int)\n",
        "\n"
      ],
      "metadata": {
        "id": "UL0VnjjoBsal"
      },
      "execution_count": null,
      "outputs": []
    },
    {
      "cell_type": "code",
      "source": [
        "print(Data_X.shape)\n",
        "print(Data_Y.shape)"
      ],
      "metadata": {
        "colab": {
          "base_uri": "https://localhost:8080/"
        },
        "id": "Mn-Lb5EdCUke",
        "outputId": "ed9d2c1e-3a8d-478a-c90d-a4fe82e74ba8"
      },
      "execution_count": null,
      "outputs": [
        {
          "output_type": "stream",
          "name": "stdout",
          "text": [
            "(400, 2)\n",
            "(400,)\n"
          ]
        }
      ]
    },
    {
      "cell_type": "code",
      "source": [
        "X = Data_X\n",
        "y = Data_Y\n",
        "\n",
        "print('Class label counts:', np.bincount(y))\n",
        "print('X.shape:', X.shape)\n",
        "print('y.shape:', y.shape)\n"
      ],
      "metadata": {
        "colab": {
          "base_uri": "https://localhost:8080/"
        },
        "id": "ku8rJfiuDfIo",
        "outputId": "5feedf7e-b58d-43c7-df1f-47085f979826"
      },
      "execution_count": null,
      "outputs": [
        {
          "output_type": "stream",
          "name": "stdout",
          "text": [
            "Class label counts: [200 200]\n",
            "X.shape: (400, 2)\n",
            "y.shape: (400,)\n"
          ]
        }
      ]
    },
    {
      "cell_type": "code",
      "source": [
        "plt.scatter(X[y==0, 0], X[y==0, 1], label='class 0', marker='o')\n",
        "plt.scatter(X[y==1, 0], X[y==1, 1], label='class 1', marker='s')\n",
        "plt.title('Plotting data set')\n",
        "plt.xlabel('feature 1')\n",
        "plt.ylabel('feature 2')\n",
        "plt.legend()\n",
        "plt.show()"
      ],
      "metadata": {
        "colab": {
          "base_uri": "https://localhost:8080/",
          "height": 295
        },
        "id": "6A5XWjYzDTe_",
        "outputId": "4215bbe5-6752-4513-9dd6-a1b4e6e1b4b7"
      },
      "execution_count": null,
      "outputs": [
        {
          "output_type": "display_data",
          "data": {
            "text/plain": [
              "<Figure size 432x288 with 1 Axes>"
            ],
            "image/png": "[encoded data removed]"
          },
          "metadata": {
            "needs_background": "light"
          }
        }
      ]
    },
    {
      "cell_type": "markdown",
      "source": [
        "## Since the dataset is not-linear, ie the dataset can't be divided by a line the accurracy of a perceptron trained on this problem will be very low.\n",
        "\n",
        "## In my opinion, inorder to get a good accuracy on this dataset we will have to introduce non-linearity to the neural net by using multiple layers and multiple activation functions"
      ],
      "metadata": {
        "id": "Gy-7O5A4Dqim"
      }
    },
    {
      "cell_type": "markdown",
      "source": [
        "# 3b) Training the model on first 150 classes of class 0 and first 150 classes of class 1"
      ],
      "metadata": {
        "id": "0mLFflMhEDL_"
      }
    },
    {
      "cell_type": "code",
      "source": [
        "y"
      ],
      "metadata": {
        "colab": {
          "base_uri": "https://localhost:8080/"
        },
        "id": "vxV0ba_VDXFT",
        "outputId": "941d8617-e7ae-4c1b-8c49-a4fa3fdcc100"
      },
      "execution_count": null,
      "outputs": [
        {
          "output_type": "execute_result",
          "data": {
            "text/plain": [
              "array([1, 1, 1, 1, 1, 1, 1, 1, 1, 1, 1, 1, 1, 1, 1, 1, 1, 1, 1, 1, 1, 1,\n",
              "       1, 1, 1, 1, 1, 1, 1, 1, 1, 1, 1, 1, 1, 1, 1, 1, 1, 1, 1, 1, 1, 1,\n",
              "       1, 1, 1, 1, 1, 1, 1, 1, 1, 1, 1, 1, 1, 1, 1, 1, 1, 1, 1, 1, 1, 1,\n",
              "       1, 1, 1, 1, 1, 1, 1, 1, 1, 1, 1, 1, 1, 1, 1, 1, 1, 1, 1, 1, 1, 1,\n",
              "       1, 1, 1, 1, 1, 1, 1, 1, 1, 1, 1, 1, 1, 1, 1, 1, 1, 1, 1, 1, 1, 1,\n",
              "       1, 1, 1, 1, 1, 1, 1, 1, 1, 1, 1, 1, 1, 1, 1, 1, 1, 1, 1, 1, 1, 1,\n",
              "       1, 1, 1, 1, 1, 1, 1, 1, 1, 1, 1, 1, 1, 1, 1, 1, 1, 1, 1, 1, 1, 1,\n",
              "       1, 1, 1, 1, 1, 1, 1, 1, 1, 1, 1, 1, 1, 1, 1, 1, 1, 1, 1, 1, 1, 1,\n",
              "       1, 1, 1, 1, 1, 1, 1, 1, 1, 1, 1, 1, 1, 1, 1, 1, 1, 1, 1, 1, 1, 1,\n",
              "       1, 1, 0, 0, 0, 0, 0, 0, 0, 0, 0, 0, 0, 0, 0, 0, 0, 0, 0, 0, 0, 0,\n",
              "       0, 0, 0, 0, 0, 0, 0, 0, 0, 0, 0, 0, 0, 0, 0, 0, 0, 0, 0, 0, 0, 0,\n",
              "       0, 0, 0, 0, 0, 0, 0, 0, 0, 0, 0, 0, 0, 0, 0, 0, 0, 0, 0, 0, 0, 0,\n",
              "       0, 0, 0, 0, 0, 0, 0, 0, 0, 0, 0, 0, 0, 0, 0, 0, 0, 0, 0, 0, 0, 0,\n",
              "       0, 0, 0, 0, 0, 0, 0, 0, 0, 0, 0, 0, 0, 0, 0, 0, 0, 0, 0, 0, 0, 0,\n",
              "       0, 0, 0, 0, 0, 0, 0, 0, 0, 0, 0, 0, 0, 0, 0, 0, 0, 0, 0, 0, 0, 0,\n",
              "       0, 0, 0, 0, 0, 0, 0, 0, 0, 0, 0, 0, 0, 0, 0, 0, 0, 0, 0, 0, 0, 0,\n",
              "       0, 0, 0, 0, 0, 0, 0, 0, 0, 0, 0, 0, 0, 0, 0, 0, 0, 0, 0, 0, 0, 0,\n",
              "       0, 0, 0, 0, 0, 0, 0, 0, 0, 0, 0, 0, 0, 0, 0, 0, 0, 0, 0, 0, 0, 0,\n",
              "       0, 0, 0, 0])"
            ]
          },
          "metadata": {},
          "execution_count": 36
        }
      ]
    },
    {
      "cell_type": "code",
      "source": [
        "X.shape"
      ],
      "metadata": {
        "colab": {
          "base_uri": "https://localhost:8080/"
        },
        "id": "jFtQtpOxuBza",
        "outputId": "3e439951-063b-452c-a032-2cbca53c5bdc"
      },
      "execution_count": null,
      "outputs": [
        {
          "output_type": "execute_result",
          "data": {
            "text/plain": [
              "(400, 2)"
            ]
          },
          "metadata": {},
          "execution_count": 37
        }
      ]
    },
    {
      "cell_type": "code",
      "source": [
        "X_train_1, X_test_1 = X[0:150] , X[150:200]\n",
        "y_train_1, y_test_1 = y[0:150], y[150:200]"
      ],
      "metadata": {
        "id": "7KDep40pDXCH"
      },
      "execution_count": null,
      "outputs": []
    },
    {
      "cell_type": "code",
      "source": [
        "X_train_2, X_test_2 = X[200:350] , X[350:]\n",
        "y_train_2, y_test_2 = y[200:350], y[350:]"
      ],
      "metadata": {
        "id": "3b8HeWKGEaFp"
      },
      "execution_count": null,
      "outputs": []
    },
    {
      "cell_type": "code",
      "source": [
        "print(X_train_1.shape)\n",
        "print(X_test_1.shape)\n",
        "print(X_train_2.shape)\n",
        "print(X_train_2.shape)"
      ],
      "metadata": {
        "colab": {
          "base_uri": "https://localhost:8080/"
        },
        "id": "WNJzDFxmEaD1",
        "outputId": "d8b394c3-eea9-454f-f830-81c6932468cc"
      },
      "execution_count": null,
      "outputs": [
        {
          "output_type": "stream",
          "name": "stdout",
          "text": [
            "(150, 2)\n",
            "(50, 2)\n",
            "(150, 2)\n",
            "(150, 2)\n"
          ]
        }
      ]
    },
    {
      "cell_type": "code",
      "source": [
        "X_train = np.concatenate((X_train_1, X_train_2), axis=0)\n",
        "X_test = np.concatenate((X_test_1, X_test_2), axis=0)\n",
        "y_train = np.concatenate((y_train_1, y_train_2), axis=0)\n",
        "y_test = np.concatenate((y_test_1, y_test_2), axis=0)"
      ],
      "metadata": {
        "id": "W-668d1XG4MA"
      },
      "execution_count": null,
      "outputs": []
    },
    {
      "cell_type": "code",
      "source": [
        "ppn = Perceptron(num_features=2)\n",
        "\n",
        "X_train_tensor = torch.tensor(X_train, dtype=torch.float32, device=device)\n",
        "y_train_tensor = torch.tensor(y_train, dtype=torch.float32, device=device)\n",
        "\n",
        "ppn.train(X_train_tensor, y_train_tensor, epochs=10)\n",
        "\n",
        "print('Model parameters:')\n",
        "print('  Weights: %s' % ppn.weights)\n",
        "print('  Bias: %s' % ppn.bias)"
      ],
      "metadata": {
        "colab": {
          "base_uri": "https://localhost:8080/"
        },
        "id": "N-tVlUYoEaBL",
        "outputId": "3f09dda4-049e-4b6d-afb3-5be0b32b45bc"
      },
      "execution_count": null,
      "outputs": [
        {
          "output_type": "stream",
          "name": "stdout",
          "text": [
            "3\n",
            "2\n",
            "4\n",
            "2\n",
            "2\n",
            "3\n",
            "2\n",
            "2\n",
            "4\n",
            "4\n",
            "Model parameters:\n",
            "  Weights: tensor([[-9.5989],\n",
            "        [-0.9693]])\n",
            "  Bias: tensor([0.])\n"
          ]
        }
      ]
    },
    {
      "cell_type": "code",
      "execution_count": null,
      "metadata": {
        "colab": {
          "base_uri": "https://localhost:8080/"
        },
        "id": "qmc_Ir_DVdUw",
        "outputId": "ce1d33bd-745a-474a-9354-f9e323e16918"
      },
      "outputs": [
        {
          "output_type": "stream",
          "name": "stdout",
          "text": [
            "3\n",
            "2\n",
            "4\n",
            "2\n",
            "2\n",
            "3\n",
            "2\n",
            "2\n",
            "4\n",
            "4\n",
            "Model parameters:\n",
            "  Weights: tensor([[-9.5989],\n",
            "        [-0.9693]])\n",
            "  Bias: tensor([0.])\n"
          ]
        }
      ],
      "source": [
        "ppn = Perceptron(num_features=2)\n",
        "\n",
        "X_train_tensor = torch.tensor(X_train, dtype=torch.float32, device=device)\n",
        "y_train_tensor = torch.tensor(y_train, dtype=torch.float32, device=device)\n",
        "\n",
        "ppn.train(X_train_tensor, y_train_tensor, epochs=10)\n",
        "\n",
        "print('Model parameters:')\n",
        "print('  Weights: %s' % ppn.weights)\n",
        "print('  Bias: %s' % ppn.bias)"
      ]
    },
    {
      "cell_type": "code",
      "source": [
        "train_acc = ppn.evaluate(X_train_tensor, y_train_tensor)\n",
        "print('Train set accuracy: %.2f%%' % (train_acc*100))"
      ],
      "metadata": {
        "colab": {
          "base_uri": "https://localhost:8080/"
        },
        "id": "h1QO7X6wHPkH",
        "outputId": "ba5b7772-e440-4518-fcf2-238a3dd4346d"
      },
      "execution_count": null,
      "outputs": [
        {
          "output_type": "stream",
          "name": "stdout",
          "text": [
            "Train set accuracy: 50.00%\n"
          ]
        }
      ]
    },
    {
      "cell_type": "code",
      "source": [
        "X_test_tensor = torch.tensor(X_test, dtype=torch.float32, device=device)\n",
        "y_test_tensor = torch.tensor(y_test, dtype=torch.float32, device=device)\n",
        "\n",
        "test_acc = ppn.evaluate(X_test_tensor, y_test_tensor)\n",
        "print('Test set accuracy: %.2f%%' % (test_acc*100))"
      ],
      "metadata": {
        "colab": {
          "base_uri": "https://localhost:8080/"
        },
        "id": "D0wIa7STHPiN",
        "outputId": "4c1cd9af-d32f-4758-c0e0-664cff4ea403"
      },
      "execution_count": null,
      "outputs": [
        {
          "output_type": "stream",
          "name": "stdout",
          "text": [
            "Test set accuracy: 50.00%\n"
          ]
        }
      ]
    },
    {
      "cell_type": "markdown",
      "source": [
        "#3c - I dont expect a model to perform well on test data when it doesn't do well in training data, that is because if the distributions of both training and testing data is same and if the model wasn't able to learn properly from training data there can't be a way for it to perform well on test data."
      ],
      "metadata": {
        "id": "oPCfZaiXHnSl"
      }
    },
    {
      "cell_type": "code",
      "source": [],
      "metadata": {
        "id": "4FKXyvPdH4Dz"
      },
      "execution_count": null,
      "outputs": []
    }
  ],
  "metadata": {
    "kernelspec": {
      "display_name": "Python 3",
      "language": "python",
      "name": "python3"
    },
    "language_info": {
      "codemirror_mode": {
        "name": "ipython",
        "version": 3
      },
      "file_extension": ".py",
      "mimetype": "text/x-python",
      "name": "python",
      "nbconvert_exporter": "python",
      "pygments_lexer": "ipython3",
      "version": "3.8.2"
    },
    "toc": {
      "nav_menu": {},
      "number_sections": true,
      "sideBar": true,
      "skip_h1_title": false,
      "title_cell": "Table of Contents",
      "title_sidebar": "Contents",
      "toc_cell": false,
      "toc_position": {},
      "toc_section_display": true,
      "toc_window_display": false
    },
    "colab": {
      "provenance": []
    }
  },
  "nbformat": 4,
  "nbformat_minor": 0
}