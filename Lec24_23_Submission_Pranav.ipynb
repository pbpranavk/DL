{
  "cells": [
    {
      "cell_type": "code",
      "execution_count": null,
      "metadata": {
        "id": "_crBA6s-m4hc"
      },
      "outputs": [],
      "source": [
        "import torch\n",
        "import torchvision\n",
        "import numpy as np\n",
        "import matplotlib.pyplot as plt\n",
        "import PIL"
      ]
    },
    {
      "cell_type": "code",
      "execution_count": null,
      "metadata": {
        "id": "z7x5Ri7Knajf"
      },
      "outputs": [],
      "source": [
        "# From local helper files\n",
        "from helper_evaluation import set_all_seeds, set_deterministic, compute_confusion_matrix\n",
        "from helper_train import train_model\n",
        "from helper_plotting import plot_training_loss, plot_accuracy, show_examples, plot_confusion_matrix\n",
        "from helper_dataset import get_dataloaders_cifar10, UnNormalize"
      ]
    },
    {
      "cell_type": "code",
      "execution_count": null,
      "metadata": {
        "id": "DvTV1SK0nbvq"
      },
      "outputs": [],
      "source": [
        "RANDOM_SEED = 123\n",
        "BATCH_SIZE = 256\n",
        "NUM_EPOCHS = 40\n",
        "DEVICE = torch.device('cuda:0' if torch.cuda.is_available() else 'cpu')"
      ]
    },
    {
      "cell_type": "code",
      "execution_count": null,
      "metadata": {
        "colab": {
          "base_uri": "https://localhost:8080/",
          "height": 136,
          "referenced_widgets": [
            "508f221442bd46fda6bd68387bf19698",
            "9224bb6058ee4b3e9d6bed1169d83db8",
            "324bda556b524717a698d817afddd357",
            "f2911ea44f49423985ab262ab3e956ba",
            "d54f4aeba1044663b51da71651118c20",
            "5d7a7044987742e99097ce2b93a6fd4c",
            "f1c6cede3bb7467c9100e9038b7356a0",
            "0317895ab11e4f9282ef6b9e88ae88c1",
            "6fe358dd1fa1458e8ade3ee1c4b53a8b",
            "0d4f7a0d0f9f4db2af738dc4c6912331",
            "50374f7af46544d5afa4249d2995aaef"
          ]
        },
        "id": "iDSwX2yUn1br",
        "outputId": "6810385b-fc76-4ae3-8397-4b8219d28e6a"
      },
      "outputs": [
        {
          "output_type": "stream",
          "name": "stdout",
          "text": [
            "Downloading https://www.cs.toronto.edu/~kriz/cifar-10-python.tar.gz to data/cifar-10-python.tar.gz\n"
          ]
        },
        {
          "output_type": "display_data",
          "data": {
            "text/plain": [
              "  0%|          | 0/170498071 [00:00<?, ?it/s]"
            ],
            "application/vnd.jupyter.widget-view+json": {
              "version_major": 2,
              "version_minor": 0,
              "model_id": "508f221442bd46fda6bd68387bf19698"
            }
          },
          "metadata": {}
        },
        {
          "output_type": "stream",
          "name": "stdout",
          "text": [
            "Extracting data/cifar-10-python.tar.gz to data\n",
            "Image batch dimensions: torch.Size([256, 3, 16, 16])\n",
            "Image label dimensions: torch.Size([256])\n",
            "Class labels of 10 examples: tensor([0, 9, 2, 5, 2, 1, 4, 2, 7, 7])\n"
          ]
        }
      ],
      "source": [
        "train_transforms = torchvision.transforms.Compose([\n",
        "    torchvision.transforms.Resize((16, 16)),\n",
        "    torchvision.transforms.ToTensor(),\n",
        "    torchvision.transforms.Normalize((0.5, 0.5, 0.5), (0.5, 0.5, 0.5))\n",
        "                                      ])\n",
        "\n",
        "\n",
        "test_transforms = torchvision.transforms.Compose([\n",
        "    torchvision.transforms.Resize((16, 16)),\n",
        "    torchvision.transforms.ToTensor(),\n",
        "    torchvision.transforms.Normalize((0.5, 0.5, 0.5), (0.5, 0.5, 0.5))])\n",
        "\n",
        "\n",
        "train_loader, valid_loader, test_loader = get_dataloaders_cifar10(\n",
        "    batch_size=BATCH_SIZE,\n",
        "    validation_fraction=0.1,\n",
        "    train_transforms=train_transforms,\n",
        "    test_transforms=test_transforms,\n",
        "    num_workers=2)\n",
        "\n",
        "# Checking the dataset\n",
        "for images, labels in train_loader:\n",
        "    print('Image batch dimensions:', images.shape)\n",
        "    print('Image label dimensions:', labels.shape)\n",
        "    print('Class labels of 10 examples:', labels[:10])\n",
        "    break"
      ]
    },
    {
      "cell_type": "code",
      "execution_count": null,
      "metadata": {
        "id": "ENSdrE5soa1i"
      },
      "outputs": [],
      "source": [
        "class CNN1(torch.nn.Module):\n",
        "  def __init__(self, num_classes):\n",
        "    super().__init__()\n",
        "    self.features = torch.nn.Sequential(\n",
        "            # Conv 1\n",
        "            torch.nn.Conv2d(3, 16, kernel_size=3, padding=\"same\"), # output 16 - 3 + 1 => 16\n",
        "                            # , stride=4, padding=2),\n",
        "            torch.nn.ReLU(inplace=True),\n",
        "            torch.nn.MaxPool2d(kernel_size=2), # 16 / 2 => output 8\n",
        "\n",
        "            # Conv 2\n",
        "            torch.nn.Conv2d(16, 32, kernel_size=2, padding=\"same\"), # output 7 - 2 + 1 => 8\n",
        "                            # , padding=2),\n",
        "            torch.nn.ReLU(inplace=True),\n",
        "            torch.nn.MaxPool2d(kernel_size=2) #output 8 / 2 => output 4\n",
        "    )\n",
        "\n",
        "    self.classifier = torch.nn.Sequential(\n",
        "         torch.nn.Linear(32*4*4, 100),\n",
        "          torch.nn.ReLU(inplace=True),\n",
        "          torch.nn.Linear(100, num_classes),\n",
        "    )\n",
        "\n",
        "  def forward(self, x):\n",
        "    x = self.features(x)\n",
        "    x = torch.flatten(x, 1)\n",
        "    # print(x.size())\n",
        "    logits = self.classifier(x)\n",
        "    return logits"
      ]
    },
    {
      "cell_type": "code",
      "execution_count": null,
      "metadata": {
        "id": "4NBsMPfZquYQ"
      },
      "outputs": [],
      "source": [
        "model1 = CNN1(num_classes=10)"
      ]
    },
    {
      "cell_type": "code",
      "execution_count": null,
      "metadata": {
        "id": "9ZgwpJwerBx-"
      },
      "outputs": [],
      "source": [
        "model1 = model1.to(DEVICE)"
      ]
    },
    {
      "cell_type": "code",
      "execution_count": null,
      "metadata": {
        "id": "cD9NdQCvrOe0"
      },
      "outputs": [],
      "source": [
        "optimizer = torch.optim.SGD(model1.parameters(), lr=0.1)\n",
        "scheduler = torch.optim.lr_scheduler.ReduceLROnPlateau(optimizer,\n",
        "                                                       factor=0.1,\n",
        "                                                       mode='max',\n",
        "                                                       verbose=True)\n"
      ]
    },
    {
      "cell_type": "code",
      "execution_count": null,
      "metadata": {
        "colab": {
          "base_uri": "https://localhost:8080/"
        },
        "id": "7lnhlL_RrQjd",
        "outputId": "e2b42a18-0912-41af-fc2e-7849b67cceab"
      },
      "outputs": [
        {
          "output_type": "stream",
          "name": "stderr",
          "text": [
            "/usr/local/lib/python3.7/dist-packages/torch/nn/modules/conv.py:454: UserWarning: Using padding='same' with even kernel lengths and odd dilation may require a zero-padded copy of the input be created (Triggered internally at  ../aten/src/ATen/native/Convolution.cpp:882.)\n",
            "  self.padding, self.dilation, self.groups)\n"
          ]
        },
        {
          "output_type": "stream",
          "name": "stdout",
          "text": [
            "Epoch: 001/010 | Batch 0000/0175 | Loss: 2.3107\n",
            "Epoch: 001/010 | Batch 0100/0175 | Loss: 2.1200\n",
            "Epoch: 001/010 | Train: 30.04% | Validation: 29.90%\n",
            "Time elapsed: 1.16 min\n",
            "Epoch: 002/010 | Batch 0000/0175 | Loss: 1.9083\n",
            "Epoch: 002/010 | Batch 0100/0175 | Loss: 1.8180\n",
            "Epoch: 002/010 | Train: 38.68% | Validation: 38.36%\n",
            "Time elapsed: 2.22 min\n",
            "Epoch: 003/010 | Batch 0000/0175 | Loss: 1.7657\n",
            "Epoch: 003/010 | Batch 0100/0175 | Loss: 1.6283\n",
            "Epoch: 003/010 | Train: 43.52% | Validation: 42.60%\n",
            "Time elapsed: 3.27 min\n",
            "Epoch: 004/010 | Batch 0000/0175 | Loss: 1.6700\n",
            "Epoch: 004/010 | Batch 0100/0175 | Loss: 1.7042\n",
            "Epoch: 004/010 | Train: 46.99% | Validation: 46.14%\n",
            "Time elapsed: 4.32 min\n",
            "Epoch: 005/010 | Batch 0000/0175 | Loss: 1.4037\n",
            "Epoch: 005/010 | Batch 0100/0175 | Loss: 1.4912\n",
            "Epoch: 005/010 | Train: 50.75% | Validation: 49.74%\n",
            "Time elapsed: 5.35 min\n",
            "Epoch: 006/010 | Batch 0000/0175 | Loss: 1.4252\n",
            "Epoch: 006/010 | Batch 0100/0175 | Loss: 1.3006\n",
            "Epoch: 006/010 | Train: 50.73% | Validation: 50.34%\n",
            "Time elapsed: 6.39 min\n",
            "Epoch: 007/010 | Batch 0000/0175 | Loss: 1.3887\n",
            "Epoch: 007/010 | Batch 0100/0175 | Loss: 1.2501\n",
            "Epoch: 007/010 | Train: 52.40% | Validation: 51.52%\n",
            "Time elapsed: 7.43 min\n",
            "Epoch: 008/010 | Batch 0000/0175 | Loss: 1.3049\n",
            "Epoch: 008/010 | Batch 0100/0175 | Loss: 1.2453\n",
            "Epoch: 008/010 | Train: 53.39% | Validation: 51.32%\n",
            "Time elapsed: 8.44 min\n",
            "Epoch: 009/010 | Batch 0000/0175 | Loss: 1.2285\n",
            "Epoch: 009/010 | Batch 0100/0175 | Loss: 1.2858\n",
            "Epoch: 009/010 | Train: 56.43% | Validation: 55.44%\n",
            "Time elapsed: 9.48 min\n",
            "Epoch: 010/010 | Batch 0000/0175 | Loss: 1.2854\n",
            "Epoch: 010/010 | Batch 0100/0175 | Loss: 1.2725\n",
            "Epoch: 010/010 | Train: 57.67% | Validation: 56.42%\n",
            "Time elapsed: 10.51 min\n",
            "Total Training Time: 10.51 min\n",
            "Test accuracy 56.13%\n"
          ]
        }
      ],
      "source": [
        "minibatch_loss_list, train_acc_list, valid_acc_list = train_model(\n",
        "    model=model1,\n",
        "    num_epochs=NUM_EPOCHS,\n",
        "    train_loader=train_loader,\n",
        "    valid_loader=valid_loader,\n",
        "    test_loader=test_loader,\n",
        "    optimizer=optimizer,\n",
        "    device=DEVICE,\n",
        "    scheduler=None,\n",
        "    scheduler_on='valid_acc',\n",
        "    logging_interval=100)"
      ]
    },
    {
      "cell_type": "code",
      "source": [
        "plot_training_loss(minibatch_loss_list=minibatch_loss_list,\n",
        "                   num_epochs=NUM_EPOCHS,\n",
        "                   iter_per_epoch=len(train_loader),\n",
        "                   results_dir=None,\n",
        "                   averaging_iterations=20)\n",
        "\n",
        "plt.show()\n",
        "\n",
        "plot_accuracy(train_acc_list=train_acc_list,\n",
        "              valid_acc_list=valid_acc_list,\n",
        "              results_dir=None)\n",
        "\n",
        "# plt.ylim([80, 100])\n",
        "plt.show()"
      ],
      "metadata": {
        "colab": {
          "base_uri": "https://localhost:8080/",
          "height": 577
        },
        "id": "_iVP0uoKVqlu",
        "outputId": "b9a868b3-3c49-47c2-f2fb-a847a2e4a0e9"
      },
      "execution_count": null,
      "outputs": [
        {
          "output_type": "display_data",
          "data": {
            "text/plain": [
              "<Figure size 432x288 with 2 Axes>"
            ],
            "image/png": "[encoded data removed]"
          },
          "metadata": {
            "needs_background": "light"
          }
        },
        {
          "output_type": "display_data",
          "data": {
            "text/plain": [
              "<Figure size 432x288 with 1 Axes>"
            ],
            "image/png": "[encoded data removed]"
          },
          "metadata": {
            "needs_background": "light"
          }
        }
      ]
    },
    {
      "cell_type": "code",
      "execution_count": null,
      "metadata": {
        "id": "XHrZZK8RrS0_"
      },
      "outputs": [],
      "source": [
        "class CNN2(torch.nn.Module):\n",
        "  def __init__(self, num_classes):\n",
        "    super().__init__()\n",
        "    self.features = torch.nn.Sequential(\n",
        "            # Conv 1\n",
        "            torch.nn.Conv2d(3, 16, kernel_size=3, padding=\"same\"), # output 16 - 3 + 1 => 16\n",
        "                            # , stride=4, padding=2),\n",
        "            torch.nn.ReLU(inplace=True),\n",
        "            torch.nn.MaxPool2d(kernel_size=2), # 16 / 2 => output 8\n",
        "\n",
        "            # Conv 2\n",
        "            torch.nn.Conv2d(16, 32, kernel_size=2, padding=\"same\"), # output 7 - 2 + 1 => 8\n",
        "                            # , padding=2),\n",
        "            torch.nn.ReLU(inplace=True),\n",
        "            torch.nn.MaxPool2d(kernel_size=2), #output 8 / 2 => output 4\n",
        "\n",
        "            # Conv 3\n",
        "            torch.nn.Conv2d(32, 64, kernel_size=2, padding=\"same\"), # output 7 - 2 + 1 => 4\n",
        "                            # , padding=2),\n",
        "            torch.nn.ReLU(inplace=True),\n",
        "            torch.nn.MaxPool2d(kernel_size=2) #output 4 / 2 => output 2\n",
        "\n",
        "    )\n",
        "\n",
        "    self.classifier = torch.nn.Sequential(\n",
        "         torch.nn.Linear(64*2*2, 100),\n",
        "          torch.nn.ReLU(inplace=True),\n",
        "          torch.nn.Linear(100, num_classes),\n",
        "    )\n",
        "\n",
        "  def forward(self, x):\n",
        "    x = self.features(x)\n",
        "    x = torch.flatten(x, 1)\n",
        "    # print(x.size())\n",
        "    logits = self.classifier(x)\n",
        "    return logits"
      ]
    },
    {
      "cell_type": "code",
      "source": [
        "model2 = CNN2(num_classes=10)"
      ],
      "metadata": {
        "id": "U2_V1c17sshW"
      },
      "execution_count": null,
      "outputs": []
    },
    {
      "cell_type": "code",
      "source": [
        "model2 = model2.to(DEVICE)"
      ],
      "metadata": {
        "id": "Q1KpYFHAu7ID"
      },
      "execution_count": null,
      "outputs": []
    },
    {
      "cell_type": "code",
      "source": [
        "optimizer2 = torch.optim.SGD(model2.parameters(), lr=0.1)\n",
        "scheduler2 = torch.optim.lr_scheduler.ReduceLROnPlateau(optimizer,\n",
        "                                                       factor=0.1,\n",
        "                                                       mode='max',\n",
        "                                                       verbose=True)\n"
      ],
      "metadata": {
        "id": "lAceB_hdswMr"
      },
      "execution_count": null,
      "outputs": []
    },
    {
      "cell_type": "code",
      "source": [
        "minibatch_loss_list2, train_acc_list2, valid_acc_list2 = train_model(\n",
        "    model=model2,\n",
        "    num_epochs=NUM_EPOCHS,\n",
        "    train_loader=train_loader,\n",
        "    valid_loader=valid_loader,\n",
        "    test_loader=test_loader,\n",
        "    optimizer=optimizer2,\n",
        "    device=DEVICE,\n",
        "    scheduler=None,\n",
        "    scheduler_on='valid_acc',\n",
        "    logging_interval=100)"
      ],
      "metadata": {
        "colab": {
          "base_uri": "https://localhost:8080/"
        },
        "id": "4X-yJyPfs0HJ",
        "outputId": "f16bfb11-c401-4ff3-96d9-2c3d14416401"
      },
      "execution_count": null,
      "outputs": [
        {
          "output_type": "stream",
          "name": "stdout",
          "text": [
            "Epoch: 001/010 | Batch 0000/0175 | Loss: 2.3064\n",
            "Epoch: 001/010 | Batch 0100/0175 | Loss: 2.2864\n",
            "Epoch: 001/010 | Train: 22.01% | Validation: 21.94%\n",
            "Time elapsed: 1.05 min\n",
            "Epoch: 002/010 | Batch 0000/0175 | Loss: 2.1762\n",
            "Epoch: 002/010 | Batch 0100/0175 | Loss: 2.0107\n",
            "Epoch: 002/010 | Train: 28.13% | Validation: 27.68%\n",
            "Time elapsed: 2.08 min\n",
            "Epoch: 003/010 | Batch 0000/0175 | Loss: 1.9441\n",
            "Epoch: 003/010 | Batch 0100/0175 | Loss: 1.7988\n",
            "Epoch: 003/010 | Train: 34.48% | Validation: 34.52%\n",
            "Time elapsed: 3.12 min\n",
            "Epoch: 004/010 | Batch 0000/0175 | Loss: 1.7538\n",
            "Epoch: 004/010 | Batch 0100/0175 | Loss: 1.6146\n",
            "Epoch: 004/010 | Train: 38.63% | Validation: 38.98%\n",
            "Time elapsed: 4.15 min\n",
            "Epoch: 005/010 | Batch 0000/0175 | Loss: 1.6855\n",
            "Epoch: 005/010 | Batch 0100/0175 | Loss: 1.8705\n",
            "Epoch: 005/010 | Train: 41.14% | Validation: 41.40%\n",
            "Time elapsed: 5.17 min\n",
            "Epoch: 006/010 | Batch 0000/0175 | Loss: 1.5370\n",
            "Epoch: 006/010 | Batch 0100/0175 | Loss: 1.6231\n",
            "Epoch: 006/010 | Train: 40.54% | Validation: 41.22%\n",
            "Time elapsed: 6.20 min\n",
            "Epoch: 007/010 | Batch 0000/0175 | Loss: 1.6076\n",
            "Epoch: 007/010 | Batch 0100/0175 | Loss: 1.4583\n",
            "Epoch: 007/010 | Train: 45.01% | Validation: 44.86%\n",
            "Time elapsed: 7.22 min\n",
            "Epoch: 008/010 | Batch 0000/0175 | Loss: 1.5329\n",
            "Epoch: 008/010 | Batch 0100/0175 | Loss: 1.4953\n",
            "Epoch: 008/010 | Train: 47.04% | Validation: 46.62%\n",
            "Time elapsed: 8.24 min\n",
            "Epoch: 009/010 | Batch 0000/0175 | Loss: 1.4519\n",
            "Epoch: 009/010 | Batch 0100/0175 | Loss: 1.3998\n",
            "Epoch: 009/010 | Train: 45.86% | Validation: 46.26%\n",
            "Time elapsed: 9.25 min\n",
            "Epoch: 010/010 | Batch 0000/0175 | Loss: 1.4021\n",
            "Epoch: 010/010 | Batch 0100/0175 | Loss: 1.3101\n",
            "Epoch: 010/010 | Train: 50.69% | Validation: 50.16%\n",
            "Time elapsed: 10.25 min\n",
            "Total Training Time: 10.25 min\n",
            "Test accuracy 50.06%\n"
          ]
        }
      ]
    },
    {
      "cell_type": "code",
      "source": [
        "plot_training_loss(minibatch_loss_list=minibatch_loss_list2,\n",
        "                   num_epochs=NUM_EPOCHS,\n",
        "                   iter_per_epoch=len(train_loader),\n",
        "                   results_dir=None,\n",
        "                   averaging_iterations=20)\n",
        "\n",
        "plt.show()\n",
        "\n",
        "plot_accuracy(train_acc_list=train_acc_list2,\n",
        "              valid_acc_list=valid_acc_list2,\n",
        "              results_dir=None)\n",
        "\n",
        "# plt.ylim([80, 100])\n",
        "plt.show()"
      ],
      "metadata": {
        "colab": {
          "base_uri": "https://localhost:8080/",
          "height": 577
        },
        "id": "QAbft5_jVvrv",
        "outputId": "2c1b2bc4-ab99-4615-f6a8-70b987fbd2ee"
      },
      "execution_count": null,
      "outputs": [
        {
          "output_type": "display_data",
          "data": {
            "text/plain": [
              "<Figure size 432x288 with 2 Axes>"
            ],
            "image/png": "[encoded data removed]"
          },
          "metadata": {
            "needs_background": "light"
          }
        },
        {
          "output_type": "display_data",
          "data": {
            "text/plain": [
              "<Figure size 432x288 with 1 Axes>"
            ],
            "image/png": "[encoded data removed]"
          },
          "metadata": {
            "needs_background": "light"
          }
        }
      ]
    },
    {
      "cell_type": "markdown",
      "source": [
        "## Data Augmentation"
      ],
      "metadata": {
        "id": "BkNJqg47x2x0"
      }
    },
    {
      "cell_type": "code",
      "source": [
        "training_transforms = torchvision.transforms.Compose([\n",
        "    torchvision.transforms.Resize((16, 16)),\n",
        "    torchvision.transforms.ToTensor(),\n",
        "    torchvision.transforms.RandomRotation(degrees=30, interpolation=PIL.Image.BILINEAR),\n",
        "    torchvision.transforms.Normalize((0.5, 0.5, 0.5), (0.5, 0.5, 0.5))\n",
        "])\n",
        "\n",
        "test_transforms = torchvision.transforms.Compose([\n",
        "      torchvision.transforms.Resize((16, 16)),\n",
        "    torchvision.transforms.ToTensor(),\n",
        "    torchvision.transforms.Normalize((0.5, 0.5, 0.5), (0.5, 0.5, 0.5))\n",
        "])\n",
        "\n",
        "\n",
        "\n",
        "train_loader_augmented, valid_loader_augmented, test_loader_augmented = get_dataloaders_cifar10(\n",
        "    batch_size=BATCH_SIZE,\n",
        "    validation_fraction=0.1,\n",
        "    train_transforms=train_transforms,\n",
        "    test_transforms=test_transforms,\n",
        "    num_workers=2)\n",
        "\n"
      ],
      "metadata": {
        "colab": {
          "base_uri": "https://localhost:8080/"
        },
        "id": "mA_RZuAku0GO",
        "outputId": "981df560-cd3a-4d95-f419-6abf394a06fc"
      },
      "execution_count": null,
      "outputs": [
        {
          "output_type": "stream",
          "name": "stderr",
          "text": [
            "/usr/local/lib/python3.7/dist-packages/torchvision/transforms/transforms.py:1306: UserWarning: Argument 'interpolation' of type int is deprecated since 0.13 and will be removed in 0.15. Please use InterpolationMode enum.\n",
            "  \"Argument 'interpolation' of type int is deprecated since 0.13 and will be removed in 0.15. \"\n"
          ]
        },
        {
          "output_type": "stream",
          "name": "stdout",
          "text": [
            "Files already downloaded and verified\n"
          ]
        }
      ]
    },
    {
      "cell_type": "code",
      "source": [
        "model1_augmented = CNN1(num_classes=10)"
      ],
      "metadata": {
        "id": "9ndytLiUy51M"
      },
      "execution_count": null,
      "outputs": []
    },
    {
      "cell_type": "code",
      "source": [
        "model1_augmented = model1_augmented.to(DEVICE)"
      ],
      "metadata": {
        "id": "bjN7O_x3y5rY"
      },
      "execution_count": null,
      "outputs": []
    },
    {
      "cell_type": "code",
      "source": [
        "optimizer_augmented = torch.optim.SGD(model1_augmented.parameters(), lr=0.1)\n",
        "scheduler_augmented = torch.optim.lr_scheduler.ReduceLROnPlateau(optimizer,\n",
        "                                                       factor=0.1,\n",
        "                                                       mode='max',\n",
        "                                                       verbose=True)\n"
      ],
      "metadata": {
        "id": "m6XqYNgDy5hk"
      },
      "execution_count": null,
      "outputs": []
    },
    {
      "cell_type": "code",
      "source": [
        "minibatch_loss_list_augmented1, train_acc_list_augmented1, valid_acc_list_augmented1 = train_model(\n",
        "    model=model1_augmented,\n",
        "    num_epochs=NUM_EPOCHS,\n",
        "    train_loader=train_loader_augmented,\n",
        "    valid_loader=valid_loader_augmented,\n",
        "    test_loader=test_loader_augmented,\n",
        "    optimizer=optimizer_augmented,\n",
        "    device=DEVICE,\n",
        "    scheduler=None,\n",
        "    scheduler_on='valid_acc',\n",
        "    logging_interval=100)"
      ],
      "metadata": {
        "colab": {
          "base_uri": "https://localhost:8080/",
          "height": 1000
        },
        "id": "gMItmdxHyUvx",
        "outputId": "d8499e1e-9d91-441b-82b5-94651d2eb72e"
      },
      "execution_count": null,
      "outputs": [
        {
          "output_type": "stream",
          "name": "stdout",
          "text": [
            "Epoch: 001/200 | Batch 0000/0175 | Loss: 2.3148\n",
            "Epoch: 001/200 | Batch 0100/0175 | Loss: 2.1903\n",
            "Epoch: 001/200 | Train: 29.50% | Validation: 29.52%\n",
            "Time elapsed: 1.03 min\n",
            "Epoch: 002/200 | Batch 0000/0175 | Loss: 1.8754\n",
            "Epoch: 002/200 | Batch 0100/0175 | Loss: 1.8607\n",
            "Epoch: 002/200 | Train: 37.80% | Validation: 38.42%\n",
            "Time elapsed: 2.04 min\n",
            "Epoch: 003/200 | Batch 0000/0175 | Loss: 1.6420\n",
            "Epoch: 003/200 | Batch 0100/0175 | Loss: 1.6492\n",
            "Epoch: 003/200 | Train: 44.00% | Validation: 42.74%\n",
            "Time elapsed: 3.03 min\n",
            "Epoch: 004/200 | Batch 0000/0175 | Loss: 1.5914\n",
            "Epoch: 004/200 | Batch 0100/0175 | Loss: 1.6133\n",
            "Epoch: 004/200 | Train: 45.89% | Validation: 45.44%\n",
            "Time elapsed: 4.05 min\n",
            "Epoch: 005/200 | Batch 0000/0175 | Loss: 1.4920\n",
            "Epoch: 005/200 | Batch 0100/0175 | Loss: 1.4084\n",
            "Epoch: 005/200 | Train: 49.60% | Validation: 49.00%\n",
            "Time elapsed: 5.05 min\n",
            "Epoch: 006/200 | Batch 0000/0175 | Loss: 1.3994\n",
            "Epoch: 006/200 | Batch 0100/0175 | Loss: 1.3412\n",
            "Epoch: 006/200 | Train: 51.70% | Validation: 51.18%\n",
            "Time elapsed: 6.05 min\n",
            "Epoch: 007/200 | Batch 0000/0175 | Loss: 1.3779\n",
            "Epoch: 007/200 | Batch 0100/0175 | Loss: 1.3370\n",
            "Epoch: 007/200 | Train: 52.32% | Validation: 51.82%\n",
            "Time elapsed: 7.05 min\n",
            "Epoch: 008/200 | Batch 0000/0175 | Loss: 1.2955\n",
            "Epoch: 008/200 | Batch 0100/0175 | Loss: 1.2618\n",
            "Epoch: 008/200 | Train: 53.98% | Validation: 53.10%\n",
            "Time elapsed: 8.06 min\n",
            "Epoch: 009/200 | Batch 0000/0175 | Loss: 1.2390\n",
            "Epoch: 009/200 | Batch 0100/0175 | Loss: 1.2337\n",
            "Epoch: 009/200 | Train: 56.24% | Validation: 55.82%\n",
            "Time elapsed: 9.06 min\n",
            "Epoch: 010/200 | Batch 0000/0175 | Loss: 1.2523\n",
            "Epoch: 010/200 | Batch 0100/0175 | Loss: 1.2770\n",
            "Epoch: 010/200 | Train: 56.65% | Validation: 55.92%\n",
            "Time elapsed: 10.06 min\n",
            "Epoch: 011/200 | Batch 0000/0175 | Loss: 1.2074\n",
            "Epoch: 011/200 | Batch 0100/0175 | Loss: 1.3200\n",
            "Epoch: 011/200 | Train: 57.09% | Validation: 56.72%\n",
            "Time elapsed: 11.05 min\n",
            "Epoch: 012/200 | Batch 0000/0175 | Loss: 1.2549\n",
            "Epoch: 012/200 | Batch 0100/0175 | Loss: 1.0894\n",
            "Epoch: 012/200 | Train: 58.74% | Validation: 57.36%\n",
            "Time elapsed: 12.06 min\n",
            "Epoch: 013/200 | Batch 0000/0175 | Loss: 1.1947\n",
            "Epoch: 013/200 | Batch 0100/0175 | Loss: 1.1765\n",
            "Epoch: 013/200 | Train: 60.63% | Validation: 58.64%\n",
            "Time elapsed: 13.08 min\n",
            "Epoch: 014/200 | Batch 0000/0175 | Loss: 1.1961\n",
            "Epoch: 014/200 | Batch 0100/0175 | Loss: 1.1816\n",
            "Epoch: 014/200 | Train: 61.75% | Validation: 58.66%\n",
            "Time elapsed: 14.10 min\n",
            "Epoch: 015/200 | Batch 0000/0175 | Loss: 1.0895\n",
            "Epoch: 015/200 | Batch 0100/0175 | Loss: 1.0552\n",
            "Epoch: 015/200 | Train: 62.52% | Validation: 60.24%\n",
            "Time elapsed: 15.12 min\n",
            "Epoch: 016/200 | Batch 0000/0175 | Loss: 1.0076\n",
            "Epoch: 016/200 | Batch 0100/0175 | Loss: 1.0254\n",
            "Epoch: 016/200 | Train: 61.48% | Validation: 58.54%\n",
            "Time elapsed: 16.13 min\n",
            "Epoch: 017/200 | Batch 0000/0175 | Loss: 1.0743\n",
            "Epoch: 017/200 | Batch 0100/0175 | Loss: 1.1721\n",
            "Epoch: 017/200 | Train: 63.75% | Validation: 60.68%\n",
            "Time elapsed: 17.13 min\n",
            "Epoch: 018/200 | Batch 0000/0175 | Loss: 1.0992\n",
            "Epoch: 018/200 | Batch 0100/0175 | Loss: 0.9466\n",
            "Epoch: 018/200 | Train: 64.87% | Validation: 61.92%\n",
            "Time elapsed: 18.16 min\n",
            "Epoch: 019/200 | Batch 0000/0175 | Loss: 1.0100\n",
            "Epoch: 019/200 | Batch 0100/0175 | Loss: 1.1097\n",
            "Epoch: 019/200 | Train: 64.94% | Validation: 61.60%\n",
            "Time elapsed: 19.17 min\n",
            "Epoch: 020/200 | Batch 0000/0175 | Loss: 1.0213\n",
            "Epoch: 020/200 | Batch 0100/0175 | Loss: 1.1055\n",
            "Epoch: 020/200 | Train: 66.13% | Validation: 62.72%\n",
            "Time elapsed: 20.18 min\n",
            "Epoch: 021/200 | Batch 0000/0175 | Loss: 1.0420\n",
            "Epoch: 021/200 | Batch 0100/0175 | Loss: 0.8931\n",
            "Epoch: 021/200 | Train: 66.16% | Validation: 61.74%\n",
            "Time elapsed: 21.19 min\n",
            "Epoch: 022/200 | Batch 0000/0175 | Loss: 1.0587\n",
            "Epoch: 022/200 | Batch 0100/0175 | Loss: 0.9567\n",
            "Epoch: 022/200 | Train: 67.09% | Validation: 63.02%\n",
            "Time elapsed: 22.19 min\n",
            "Epoch: 023/200 | Batch 0000/0175 | Loss: 1.0669\n",
            "Epoch: 023/200 | Batch 0100/0175 | Loss: 0.8600\n",
            "Epoch: 023/200 | Train: 67.84% | Validation: 62.86%\n",
            "Time elapsed: 23.19 min\n",
            "Epoch: 024/200 | Batch 0000/0175 | Loss: 0.9439\n",
            "Epoch: 024/200 | Batch 0100/0175 | Loss: 0.9063\n",
            "Epoch: 024/200 | Train: 68.36% | Validation: 63.48%\n",
            "Time elapsed: 24.19 min\n",
            "Epoch: 025/200 | Batch 0000/0175 | Loss: 1.0403\n",
            "Epoch: 025/200 | Batch 0100/0175 | Loss: 1.0171\n",
            "Epoch: 025/200 | Train: 69.99% | Validation: 64.46%\n",
            "Time elapsed: 25.17 min\n",
            "Epoch: 026/200 | Batch 0000/0175 | Loss: 0.8498\n",
            "Epoch: 026/200 | Batch 0100/0175 | Loss: 0.8427\n",
            "Epoch: 026/200 | Train: 70.53% | Validation: 64.70%\n",
            "Time elapsed: 26.17 min\n",
            "Epoch: 027/200 | Batch 0000/0175 | Loss: 0.7758\n",
            "Epoch: 027/200 | Batch 0100/0175 | Loss: 0.9058\n",
            "Epoch: 027/200 | Train: 70.68% | Validation: 63.84%\n",
            "Time elapsed: 27.16 min\n",
            "Epoch: 028/200 | Batch 0000/0175 | Loss: 0.8855\n",
            "Epoch: 028/200 | Batch 0100/0175 | Loss: 0.8881\n",
            "Epoch: 028/200 | Train: 71.53% | Validation: 65.12%\n",
            "Time elapsed: 28.15 min\n",
            "Epoch: 029/200 | Batch 0000/0175 | Loss: 0.8177\n",
            "Epoch: 029/200 | Batch 0100/0175 | Loss: 0.9540\n",
            "Epoch: 029/200 | Train: 69.85% | Validation: 63.66%\n",
            "Time elapsed: 29.15 min\n",
            "Epoch: 030/200 | Batch 0000/0175 | Loss: 0.9553\n",
            "Epoch: 030/200 | Batch 0100/0175 | Loss: 0.8446\n",
            "Epoch: 030/200 | Train: 71.78% | Validation: 64.54%\n",
            "Time elapsed: 30.16 min\n",
            "Epoch: 031/200 | Batch 0000/0175 | Loss: 0.8080\n",
            "Epoch: 031/200 | Batch 0100/0175 | Loss: 0.8003\n",
            "Epoch: 031/200 | Train: 72.52% | Validation: 64.44%\n",
            "Time elapsed: 31.18 min\n",
            "Epoch: 032/200 | Batch 0000/0175 | Loss: 0.8102\n",
            "Epoch: 032/200 | Batch 0100/0175 | Loss: 0.7658\n",
            "Epoch: 032/200 | Train: 73.18% | Validation: 65.02%\n",
            "Time elapsed: 32.17 min\n",
            "Epoch: 033/200 | Batch 0000/0175 | Loss: 0.7072\n",
            "Epoch: 033/200 | Batch 0100/0175 | Loss: 0.8225\n",
            "Epoch: 033/200 | Train: 73.41% | Validation: 64.70%\n",
            "Time elapsed: 33.15 min\n",
            "Epoch: 034/200 | Batch 0000/0175 | Loss: 0.6741\n",
            "Epoch: 034/200 | Batch 0100/0175 | Loss: 0.7405\n",
            "Epoch: 034/200 | Train: 73.09% | Validation: 64.40%\n",
            "Time elapsed: 34.16 min\n",
            "Epoch: 035/200 | Batch 0000/0175 | Loss: 0.8302\n",
            "Epoch: 035/200 | Batch 0100/0175 | Loss: 0.8017\n",
            "Epoch: 035/200 | Train: 72.76% | Validation: 63.46%\n",
            "Time elapsed: 35.15 min\n",
            "Epoch: 036/200 | Batch 0000/0175 | Loss: 0.8319\n",
            "Epoch: 036/200 | Batch 0100/0175 | Loss: 0.8461\n",
            "Epoch: 036/200 | Train: 73.73% | Validation: 63.84%\n",
            "Time elapsed: 36.16 min\n",
            "Epoch: 037/200 | Batch 0000/0175 | Loss: 0.6183\n",
            "Epoch: 037/200 | Batch 0100/0175 | Loss: 0.8088\n",
            "Epoch: 037/200 | Train: 73.84% | Validation: 64.08%\n",
            "Time elapsed: 37.16 min\n",
            "Epoch: 038/200 | Batch 0000/0175 | Loss: 0.6809\n",
            "Epoch: 038/200 | Batch 0100/0175 | Loss: 0.7810\n",
            "Epoch: 038/200 | Train: 75.88% | Validation: 64.90%\n",
            "Time elapsed: 38.14 min\n",
            "Epoch: 039/200 | Batch 0000/0175 | Loss: 0.6267\n",
            "Epoch: 039/200 | Batch 0100/0175 | Loss: 0.6177\n",
            "Epoch: 039/200 | Train: 76.50% | Validation: 65.46%\n",
            "Time elapsed: 39.12 min\n",
            "Epoch: 040/200 | Batch 0000/0175 | Loss: 0.6199\n",
            "Epoch: 040/200 | Batch 0100/0175 | Loss: 0.7197\n",
            "Epoch: 040/200 | Train: 76.58% | Validation: 65.16%\n",
            "Time elapsed: 40.11 min\n",
            "Epoch: 041/200 | Batch 0000/0175 | Loss: 0.6925\n"
          ]
        },
        {
          "output_type": "error",
          "ename": "KeyboardInterrupt",
          "evalue": "ignored",
          "traceback": [
            "\u001b[0;31m---------------------------------------------------------------------------\u001b[0m",
            "\u001b[0;31mKeyboardInterrupt\u001b[0m                         Traceback (most recent call last)",
            "\u001b[0;32m<ipython-input-23-4b24166132f3>\u001b[0m in \u001b[0;36m<module>\u001b[0;34m\u001b[0m\n\u001b[1;32m      9\u001b[0m     \u001b[0mscheduler\u001b[0m\u001b[0;34m=\u001b[0m\u001b[0;32mNone\u001b[0m\u001b[0;34m,\u001b[0m\u001b[0;34m\u001b[0m\u001b[0;34m\u001b[0m\u001b[0m\n\u001b[1;32m     10\u001b[0m     \u001b[0mscheduler_on\u001b[0m\u001b[0;34m=\u001b[0m\u001b[0;34m'valid_acc'\u001b[0m\u001b[0;34m,\u001b[0m\u001b[0;34m\u001b[0m\u001b[0;34m\u001b[0m\u001b[0m\n\u001b[0;32m---> 11\u001b[0;31m     logging_interval=100)\n\u001b[0m",
            "\u001b[0;32m/content/helper_train.py\u001b[0m in \u001b[0;36mtrain_model\u001b[0;34m(model, num_epochs, train_loader, valid_loader, test_loader, optimizer, device, logging_interval, scheduler, scheduler_on)\u001b[0m\n\u001b[1;32m     16\u001b[0m \u001b[0;34m\u001b[0m\u001b[0m\n\u001b[1;32m     17\u001b[0m         \u001b[0mmodel\u001b[0m\u001b[0;34m.\u001b[0m\u001b[0mtrain\u001b[0m\u001b[0;34m(\u001b[0m\u001b[0;34m)\u001b[0m\u001b[0;34m\u001b[0m\u001b[0;34m\u001b[0m\u001b[0m\n\u001b[0;32m---> 18\u001b[0;31m         \u001b[0;32mfor\u001b[0m \u001b[0mbatch_idx\u001b[0m\u001b[0;34m,\u001b[0m \u001b[0;34m(\u001b[0m\u001b[0mfeatures\u001b[0m\u001b[0;34m,\u001b[0m \u001b[0mtargets\u001b[0m\u001b[0;34m)\u001b[0m \u001b[0;32min\u001b[0m \u001b[0menumerate\u001b[0m\u001b[0;34m(\u001b[0m\u001b[0mtrain_loader\u001b[0m\u001b[0;34m)\u001b[0m\u001b[0;34m:\u001b[0m\u001b[0;34m\u001b[0m\u001b[0;34m\u001b[0m\u001b[0m\n\u001b[0m\u001b[1;32m     19\u001b[0m \u001b[0;34m\u001b[0m\u001b[0m\n\u001b[1;32m     20\u001b[0m             \u001b[0mfeatures\u001b[0m \u001b[0;34m=\u001b[0m \u001b[0mfeatures\u001b[0m\u001b[0;34m.\u001b[0m\u001b[0mto\u001b[0m\u001b[0;34m(\u001b[0m\u001b[0mdevice\u001b[0m\u001b[0;34m)\u001b[0m\u001b[0;34m\u001b[0m\u001b[0;34m\u001b[0m\u001b[0m\n",
            "\u001b[0;32m/usr/local/lib/python3.7/dist-packages/torch/utils/data/dataloader.py\u001b[0m in \u001b[0;36m__next__\u001b[0;34m(self)\u001b[0m\n\u001b[1;32m    679\u001b[0m                 \u001b[0;31m# TODO(https://github.com/pytorch/pytorch/issues/76750)\u001b[0m\u001b[0;34m\u001b[0m\u001b[0;34m\u001b[0m\u001b[0;34m\u001b[0m\u001b[0m\n\u001b[1;32m    680\u001b[0m                 \u001b[0mself\u001b[0m\u001b[0;34m.\u001b[0m\u001b[0m_reset\u001b[0m\u001b[0;34m(\u001b[0m\u001b[0;34m)\u001b[0m  \u001b[0;31m# type: ignore[call-arg]\u001b[0m\u001b[0;34m\u001b[0m\u001b[0;34m\u001b[0m\u001b[0m\n\u001b[0;32m--> 681\u001b[0;31m             \u001b[0mdata\u001b[0m \u001b[0;34m=\u001b[0m \u001b[0mself\u001b[0m\u001b[0;34m.\u001b[0m\u001b[0m_next_data\u001b[0m\u001b[0;34m(\u001b[0m\u001b[0;34m)\u001b[0m\u001b[0;34m\u001b[0m\u001b[0;34m\u001b[0m\u001b[0m\n\u001b[0m\u001b[1;32m    682\u001b[0m             \u001b[0mself\u001b[0m\u001b[0;34m.\u001b[0m\u001b[0m_num_yielded\u001b[0m \u001b[0;34m+=\u001b[0m \u001b[0;36m1\u001b[0m\u001b[0;34m\u001b[0m\u001b[0;34m\u001b[0m\u001b[0m\n\u001b[1;32m    683\u001b[0m             \u001b[0;32mif\u001b[0m \u001b[0mself\u001b[0m\u001b[0;34m.\u001b[0m\u001b[0m_dataset_kind\u001b[0m \u001b[0;34m==\u001b[0m \u001b[0m_DatasetKind\u001b[0m\u001b[0;34m.\u001b[0m\u001b[0mIterable\u001b[0m \u001b[0;32mand\u001b[0m\u001b[0;31m \u001b[0m\u001b[0;31m\\\u001b[0m\u001b[0;34m\u001b[0m\u001b[0;34m\u001b[0m\u001b[0m\n",
            "\u001b[0;32m/usr/local/lib/python3.7/dist-packages/torch/utils/data/dataloader.py\u001b[0m in \u001b[0;36m_next_data\u001b[0;34m(self)\u001b[0m\n\u001b[1;32m   1357\u001b[0m \u001b[0;34m\u001b[0m\u001b[0m\n\u001b[1;32m   1358\u001b[0m             \u001b[0;32massert\u001b[0m \u001b[0;32mnot\u001b[0m \u001b[0mself\u001b[0m\u001b[0;34m.\u001b[0m\u001b[0m_shutdown\u001b[0m \u001b[0;32mand\u001b[0m \u001b[0mself\u001b[0m\u001b[0;34m.\u001b[0m\u001b[0m_tasks_outstanding\u001b[0m \u001b[0;34m>\u001b[0m \u001b[0;36m0\u001b[0m\u001b[0;34m\u001b[0m\u001b[0;34m\u001b[0m\u001b[0m\n\u001b[0;32m-> 1359\u001b[0;31m             \u001b[0midx\u001b[0m\u001b[0;34m,\u001b[0m \u001b[0mdata\u001b[0m \u001b[0;34m=\u001b[0m \u001b[0mself\u001b[0m\u001b[0;34m.\u001b[0m\u001b[0m_get_data\u001b[0m\u001b[0;34m(\u001b[0m\u001b[0;34m)\u001b[0m\u001b[0;34m\u001b[0m\u001b[0;34m\u001b[0m\u001b[0m\n\u001b[0m\u001b[1;32m   1360\u001b[0m             \u001b[0mself\u001b[0m\u001b[0;34m.\u001b[0m\u001b[0m_tasks_outstanding\u001b[0m \u001b[0;34m-=\u001b[0m \u001b[0;36m1\u001b[0m\u001b[0;34m\u001b[0m\u001b[0;34m\u001b[0m\u001b[0m\n\u001b[1;32m   1361\u001b[0m             \u001b[0;32mif\u001b[0m \u001b[0mself\u001b[0m\u001b[0;34m.\u001b[0m\u001b[0m_dataset_kind\u001b[0m \u001b[0;34m==\u001b[0m \u001b[0m_DatasetKind\u001b[0m\u001b[0;34m.\u001b[0m\u001b[0mIterable\u001b[0m\u001b[0;34m:\u001b[0m\u001b[0;34m\u001b[0m\u001b[0;34m\u001b[0m\u001b[0m\n",
            "\u001b[0;32m/usr/local/lib/python3.7/dist-packages/torch/utils/data/dataloader.py\u001b[0m in \u001b[0;36m_get_data\u001b[0;34m(self)\u001b[0m\n\u001b[1;32m   1323\u001b[0m         \u001b[0;32melse\u001b[0m\u001b[0;34m:\u001b[0m\u001b[0;34m\u001b[0m\u001b[0;34m\u001b[0m\u001b[0m\n\u001b[1;32m   1324\u001b[0m             \u001b[0;32mwhile\u001b[0m \u001b[0;32mTrue\u001b[0m\u001b[0;34m:\u001b[0m\u001b[0;34m\u001b[0m\u001b[0;34m\u001b[0m\u001b[0m\n\u001b[0;32m-> 1325\u001b[0;31m                 \u001b[0msuccess\u001b[0m\u001b[0;34m,\u001b[0m \u001b[0mdata\u001b[0m \u001b[0;34m=\u001b[0m \u001b[0mself\u001b[0m\u001b[0;34m.\u001b[0m\u001b[0m_try_get_data\u001b[0m\u001b[0;34m(\u001b[0m\u001b[0;34m)\u001b[0m\u001b[0;34m\u001b[0m\u001b[0;34m\u001b[0m\u001b[0m\n\u001b[0m\u001b[1;32m   1326\u001b[0m                 \u001b[0;32mif\u001b[0m \u001b[0msuccess\u001b[0m\u001b[0;34m:\u001b[0m\u001b[0;34m\u001b[0m\u001b[0;34m\u001b[0m\u001b[0m\n\u001b[1;32m   1327\u001b[0m                     \u001b[0;32mreturn\u001b[0m \u001b[0mdata\u001b[0m\u001b[0;34m\u001b[0m\u001b[0;34m\u001b[0m\u001b[0m\n",
            "\u001b[0;32m/usr/local/lib/python3.7/dist-packages/torch/utils/data/dataloader.py\u001b[0m in \u001b[0;36m_try_get_data\u001b[0;34m(self, timeout)\u001b[0m\n\u001b[1;32m   1161\u001b[0m         \u001b[0;31m#   (bool: whether successfully get data, any: data if successful else None)\u001b[0m\u001b[0;34m\u001b[0m\u001b[0;34m\u001b[0m\u001b[0;34m\u001b[0m\u001b[0m\n\u001b[1;32m   1162\u001b[0m         \u001b[0;32mtry\u001b[0m\u001b[0;34m:\u001b[0m\u001b[0;34m\u001b[0m\u001b[0;34m\u001b[0m\u001b[0m\n\u001b[0;32m-> 1163\u001b[0;31m             \u001b[0mdata\u001b[0m \u001b[0;34m=\u001b[0m \u001b[0mself\u001b[0m\u001b[0;34m.\u001b[0m\u001b[0m_data_queue\u001b[0m\u001b[0;34m.\u001b[0m\u001b[0mget\u001b[0m\u001b[0;34m(\u001b[0m\u001b[0mtimeout\u001b[0m\u001b[0;34m=\u001b[0m\u001b[0mtimeout\u001b[0m\u001b[0;34m)\u001b[0m\u001b[0;34m\u001b[0m\u001b[0;34m\u001b[0m\u001b[0m\n\u001b[0m\u001b[1;32m   1164\u001b[0m             \u001b[0;32mreturn\u001b[0m \u001b[0;34m(\u001b[0m\u001b[0;32mTrue\u001b[0m\u001b[0;34m,\u001b[0m \u001b[0mdata\u001b[0m\u001b[0;34m)\u001b[0m\u001b[0;34m\u001b[0m\u001b[0;34m\u001b[0m\u001b[0m\n\u001b[1;32m   1165\u001b[0m         \u001b[0;32mexcept\u001b[0m \u001b[0mException\u001b[0m \u001b[0;32mas\u001b[0m \u001b[0me\u001b[0m\u001b[0;34m:\u001b[0m\u001b[0;34m\u001b[0m\u001b[0;34m\u001b[0m\u001b[0m\n",
            "\u001b[0;32m/usr/lib/python3.7/multiprocessing/queues.py\u001b[0m in \u001b[0;36mget\u001b[0;34m(self, block, timeout)\u001b[0m\n\u001b[1;32m    102\u001b[0m                 \u001b[0;32mif\u001b[0m \u001b[0mblock\u001b[0m\u001b[0;34m:\u001b[0m\u001b[0;34m\u001b[0m\u001b[0;34m\u001b[0m\u001b[0m\n\u001b[1;32m    103\u001b[0m                     \u001b[0mtimeout\u001b[0m \u001b[0;34m=\u001b[0m \u001b[0mdeadline\u001b[0m \u001b[0;34m-\u001b[0m \u001b[0mtime\u001b[0m\u001b[0;34m.\u001b[0m\u001b[0mmonotonic\u001b[0m\u001b[0;34m(\u001b[0m\u001b[0;34m)\u001b[0m\u001b[0;34m\u001b[0m\u001b[0;34m\u001b[0m\u001b[0m\n\u001b[0;32m--> 104\u001b[0;31m                     \u001b[0;32mif\u001b[0m \u001b[0;32mnot\u001b[0m \u001b[0mself\u001b[0m\u001b[0;34m.\u001b[0m\u001b[0m_poll\u001b[0m\u001b[0;34m(\u001b[0m\u001b[0mtimeout\u001b[0m\u001b[0;34m)\u001b[0m\u001b[0;34m:\u001b[0m\u001b[0;34m\u001b[0m\u001b[0;34m\u001b[0m\u001b[0m\n\u001b[0m\u001b[1;32m    105\u001b[0m                         \u001b[0;32mraise\u001b[0m \u001b[0mEmpty\u001b[0m\u001b[0;34m\u001b[0m\u001b[0;34m\u001b[0m\u001b[0m\n\u001b[1;32m    106\u001b[0m                 \u001b[0;32melif\u001b[0m \u001b[0;32mnot\u001b[0m \u001b[0mself\u001b[0m\u001b[0;34m.\u001b[0m\u001b[0m_poll\u001b[0m\u001b[0;34m(\u001b[0m\u001b[0;34m)\u001b[0m\u001b[0;34m:\u001b[0m\u001b[0;34m\u001b[0m\u001b[0;34m\u001b[0m\u001b[0m\n",
            "\u001b[0;32m/usr/lib/python3.7/multiprocessing/connection.py\u001b[0m in \u001b[0;36mpoll\u001b[0;34m(self, timeout)\u001b[0m\n\u001b[1;32m    255\u001b[0m         \u001b[0mself\u001b[0m\u001b[0;34m.\u001b[0m\u001b[0m_check_closed\u001b[0m\u001b[0;34m(\u001b[0m\u001b[0;34m)\u001b[0m\u001b[0;34m\u001b[0m\u001b[0;34m\u001b[0m\u001b[0m\n\u001b[1;32m    256\u001b[0m         \u001b[0mself\u001b[0m\u001b[0;34m.\u001b[0m\u001b[0m_check_readable\u001b[0m\u001b[0;34m(\u001b[0m\u001b[0;34m)\u001b[0m\u001b[0;34m\u001b[0m\u001b[0;34m\u001b[0m\u001b[0m\n\u001b[0;32m--> 257\u001b[0;31m         \u001b[0;32mreturn\u001b[0m \u001b[0mself\u001b[0m\u001b[0;34m.\u001b[0m\u001b[0m_poll\u001b[0m\u001b[0;34m(\u001b[0m\u001b[0mtimeout\u001b[0m\u001b[0;34m)\u001b[0m\u001b[0;34m\u001b[0m\u001b[0;34m\u001b[0m\u001b[0m\n\u001b[0m\u001b[1;32m    258\u001b[0m \u001b[0;34m\u001b[0m\u001b[0m\n\u001b[1;32m    259\u001b[0m     \u001b[0;32mdef\u001b[0m \u001b[0m__enter__\u001b[0m\u001b[0;34m(\u001b[0m\u001b[0mself\u001b[0m\u001b[0;34m)\u001b[0m\u001b[0;34m:\u001b[0m\u001b[0;34m\u001b[0m\u001b[0;34m\u001b[0m\u001b[0m\n",
            "\u001b[0;32m/usr/lib/python3.7/multiprocessing/connection.py\u001b[0m in \u001b[0;36m_poll\u001b[0;34m(self, timeout)\u001b[0m\n\u001b[1;32m    412\u001b[0m \u001b[0;34m\u001b[0m\u001b[0m\n\u001b[1;32m    413\u001b[0m     \u001b[0;32mdef\u001b[0m \u001b[0m_poll\u001b[0m\u001b[0;34m(\u001b[0m\u001b[0mself\u001b[0m\u001b[0;34m,\u001b[0m \u001b[0mtimeout\u001b[0m\u001b[0;34m)\u001b[0m\u001b[0;34m:\u001b[0m\u001b[0;34m\u001b[0m\u001b[0;34m\u001b[0m\u001b[0m\n\u001b[0;32m--> 414\u001b[0;31m         \u001b[0mr\u001b[0m \u001b[0;34m=\u001b[0m \u001b[0mwait\u001b[0m\u001b[0;34m(\u001b[0m\u001b[0;34m[\u001b[0m\u001b[0mself\u001b[0m\u001b[0;34m]\u001b[0m\u001b[0;34m,\u001b[0m \u001b[0mtimeout\u001b[0m\u001b[0;34m)\u001b[0m\u001b[0;34m\u001b[0m\u001b[0;34m\u001b[0m\u001b[0m\n\u001b[0m\u001b[1;32m    415\u001b[0m         \u001b[0;32mreturn\u001b[0m \u001b[0mbool\u001b[0m\u001b[0;34m(\u001b[0m\u001b[0mr\u001b[0m\u001b[0;34m)\u001b[0m\u001b[0;34m\u001b[0m\u001b[0;34m\u001b[0m\u001b[0m\n\u001b[1;32m    416\u001b[0m \u001b[0;34m\u001b[0m\u001b[0m\n",
            "\u001b[0;32m/usr/lib/python3.7/multiprocessing/connection.py\u001b[0m in \u001b[0;36mwait\u001b[0;34m(object_list, timeout)\u001b[0m\n\u001b[1;32m    919\u001b[0m \u001b[0;34m\u001b[0m\u001b[0m\n\u001b[1;32m    920\u001b[0m             \u001b[0;32mwhile\u001b[0m \u001b[0;32mTrue\u001b[0m\u001b[0;34m:\u001b[0m\u001b[0;34m\u001b[0m\u001b[0;34m\u001b[0m\u001b[0m\n\u001b[0;32m--> 921\u001b[0;31m                 \u001b[0mready\u001b[0m \u001b[0;34m=\u001b[0m \u001b[0mselector\u001b[0m\u001b[0;34m.\u001b[0m\u001b[0mselect\u001b[0m\u001b[0;34m(\u001b[0m\u001b[0mtimeout\u001b[0m\u001b[0;34m)\u001b[0m\u001b[0;34m\u001b[0m\u001b[0;34m\u001b[0m\u001b[0m\n\u001b[0m\u001b[1;32m    922\u001b[0m                 \u001b[0;32mif\u001b[0m \u001b[0mready\u001b[0m\u001b[0;34m:\u001b[0m\u001b[0;34m\u001b[0m\u001b[0;34m\u001b[0m\u001b[0m\n\u001b[1;32m    923\u001b[0m                     \u001b[0;32mreturn\u001b[0m \u001b[0;34m[\u001b[0m\u001b[0mkey\u001b[0m\u001b[0;34m.\u001b[0m\u001b[0mfileobj\u001b[0m \u001b[0;32mfor\u001b[0m \u001b[0;34m(\u001b[0m\u001b[0mkey\u001b[0m\u001b[0;34m,\u001b[0m \u001b[0mevents\u001b[0m\u001b[0;34m)\u001b[0m \u001b[0;32min\u001b[0m \u001b[0mready\u001b[0m\u001b[0;34m]\u001b[0m\u001b[0;34m\u001b[0m\u001b[0;34m\u001b[0m\u001b[0m\n",
            "\u001b[0;32m/usr/lib/python3.7/selectors.py\u001b[0m in \u001b[0;36mselect\u001b[0;34m(self, timeout)\u001b[0m\n\u001b[1;32m    413\u001b[0m         \u001b[0mready\u001b[0m \u001b[0;34m=\u001b[0m \u001b[0;34m[\u001b[0m\u001b[0;34m]\u001b[0m\u001b[0;34m\u001b[0m\u001b[0;34m\u001b[0m\u001b[0m\n\u001b[1;32m    414\u001b[0m         \u001b[0;32mtry\u001b[0m\u001b[0;34m:\u001b[0m\u001b[0;34m\u001b[0m\u001b[0;34m\u001b[0m\u001b[0m\n\u001b[0;32m--> 415\u001b[0;31m             \u001b[0mfd_event_list\u001b[0m \u001b[0;34m=\u001b[0m \u001b[0mself\u001b[0m\u001b[0;34m.\u001b[0m\u001b[0m_selector\u001b[0m\u001b[0;34m.\u001b[0m\u001b[0mpoll\u001b[0m\u001b[0;34m(\u001b[0m\u001b[0mtimeout\u001b[0m\u001b[0;34m)\u001b[0m\u001b[0;34m\u001b[0m\u001b[0;34m\u001b[0m\u001b[0m\n\u001b[0m\u001b[1;32m    416\u001b[0m         \u001b[0;32mexcept\u001b[0m \u001b[0mInterruptedError\u001b[0m\u001b[0;34m:\u001b[0m\u001b[0;34m\u001b[0m\u001b[0;34m\u001b[0m\u001b[0m\n\u001b[1;32m    417\u001b[0m             \u001b[0;32mreturn\u001b[0m \u001b[0mready\u001b[0m\u001b[0;34m\u001b[0m\u001b[0;34m\u001b[0m\u001b[0m\n",
            "\u001b[0;31mKeyboardInterrupt\u001b[0m: "
          ]
        }
      ]
    },
    {
      "cell_type": "code",
      "source": [
        "plot_training_loss(minibatch_loss_list=minibatch_loss_list_augmented1,\n",
        "                   num_epochs=NUM_EPOCHS,\n",
        "                   iter_per_epoch=len(train_loader),\n",
        "                   results_dir=None,\n",
        "                   averaging_iterations=20)\n",
        "\n",
        "plt.show()\n",
        "\n",
        "plot_accuracy(train_acc_list=train_acc_list_augmented1,\n",
        "              valid_acc_list=valid_acc_list_augmented1,\n",
        "              results_dir=None)\n",
        "\n",
        "plt.ylim([80, 100])\n",
        "plt.show()"
      ],
      "metadata": {
        "colab": {
          "base_uri": "https://localhost:8080/",
          "height": 236
        },
        "id": "qmlUVj_zV4_O",
        "outputId": "ccd3447d-998e-42f8-b857-200b6d125a2f"
      },
      "execution_count": null,
      "outputs": [
        {
          "output_type": "error",
          "ename": "NameError",
          "evalue": "ignored",
          "traceback": [
            "\u001b[0;31m---------------------------------------------------------------------------\u001b[0m",
            "\u001b[0;31mNameError\u001b[0m                                 Traceback (most recent call last)",
            "\u001b[0;32m<ipython-input-24-b733a797cf57>\u001b[0m in \u001b[0;36m<module>\u001b[0;34m\u001b[0m\n\u001b[0;32m----> 1\u001b[0;31m plot_training_loss(minibatch_loss_list=minibatch_loss_list_augmented1,\n\u001b[0m\u001b[1;32m      2\u001b[0m                    \u001b[0mnum_epochs\u001b[0m\u001b[0;34m=\u001b[0m\u001b[0mNUM_EPOCHS\u001b[0m\u001b[0;34m,\u001b[0m\u001b[0;34m\u001b[0m\u001b[0;34m\u001b[0m\u001b[0m\n\u001b[1;32m      3\u001b[0m                    \u001b[0miter_per_epoch\u001b[0m\u001b[0;34m=\u001b[0m\u001b[0mlen\u001b[0m\u001b[0;34m(\u001b[0m\u001b[0mtrain_loader\u001b[0m\u001b[0;34m)\u001b[0m\u001b[0;34m,\u001b[0m\u001b[0;34m\u001b[0m\u001b[0;34m\u001b[0m\u001b[0m\n\u001b[1;32m      4\u001b[0m                    \u001b[0mresults_dir\u001b[0m\u001b[0;34m=\u001b[0m\u001b[0;32mNone\u001b[0m\u001b[0;34m,\u001b[0m\u001b[0;34m\u001b[0m\u001b[0;34m\u001b[0m\u001b[0m\n\u001b[1;32m      5\u001b[0m                    averaging_iterations=20)\n",
            "\u001b[0;31mNameError\u001b[0m: name 'minibatch_loss_list_augmented1' is not defined"
          ]
        }
      ]
    },
    {
      "cell_type": "markdown",
      "source": [
        "## Dropout"
      ],
      "metadata": {
        "id": "3iSsHrv50DGH"
      }
    },
    {
      "cell_type": "code",
      "source": [
        "class CNN1Dropout(torch.nn.Module):\n",
        "  def __init__(self, num_classes, drop_probas=[]):\n",
        "    super().__init__()\n",
        "    self.features = torch.nn.Sequential(\n",
        "            # Conv 1\n",
        "            torch.nn.Conv2d(3, 16, kernel_size=3, padding=\"same\"), # output 16 - 3 + 1 => 16\n",
        "                            # , stride=4, padding=2),\n",
        "            torch.nn.Dropout2d(p=drop_probas[0]),\n",
        "            torch.nn.ReLU(inplace=True),\n",
        "            torch.nn.MaxPool2d(kernel_size=2), # 16 / 2 => output 8\n",
        "\n",
        "            # Conv 2\n",
        "            torch.nn.Conv2d(16, 32, kernel_size=2, padding=\"same\"), # output 7 - 2 + 1 => 8\n",
        "                            # , padding=2),\n",
        "            torch.nn.Dropout2d(p=drop_probas[1]),\n",
        "            torch.nn.ReLU(inplace=True),\n",
        "            torch.nn.MaxPool2d(kernel_size=2) #output 8 / 2 => output 4\n",
        "    )\n",
        "\n",
        "    self.classifier = torch.nn.Sequential(\n",
        "         torch.nn.Linear(32*4*4, 100),\n",
        "          torch.nn.ReLU(inplace=True),\n",
        "          torch.nn.Linear(100, num_classes),\n",
        "    )\n",
        "\n",
        "  def forward(self, x):\n",
        "    x = self.features(x)\n",
        "    x = torch.flatten(x, 1)\n",
        "    # print(x.size())\n",
        "    logits = self.classifier(x)\n",
        "    return logits"
      ],
      "metadata": {
        "id": "S5-ah8dMyzQx"
      },
      "execution_count": null,
      "outputs": []
    },
    {
      "cell_type": "code",
      "source": [
        "model_dropout = CNN1Dropout(num_classes=10, drop_probas=[0.5, 0.5])"
      ],
      "metadata": {
        "id": "Cn1APOfj0oFG"
      },
      "execution_count": null,
      "outputs": []
    },
    {
      "cell_type": "code",
      "source": [
        "model_dropout = model_dropout.to(DEVICE)"
      ],
      "metadata": {
        "id": "6X0aesuy0lfv"
      },
      "execution_count": null,
      "outputs": []
    },
    {
      "cell_type": "code",
      "source": [
        "optimizer_dropout = torch.optim.SGD(model_dropout.parameters(), lr=0.1)\n",
        "scheduler_dropout = torch.optim.lr_scheduler.ReduceLROnPlateau(optimizer,\n",
        "                                                       factor=0.1,\n",
        "                                                       mode='max',\n",
        "                                                       verbose=True)\n"
      ],
      "metadata": {
        "id": "EFo2EXzM0lXu"
      },
      "execution_count": null,
      "outputs": []
    },
    {
      "cell_type": "code",
      "source": [
        "minibatch_loss_list_dropout, train_acc_list_dropout, valid_acc_list_dropout = train_model(\n",
        "    model=model_dropout,\n",
        "    num_epochs=NUM_EPOCHS,\n",
        "    train_loader=train_loader,\n",
        "    valid_loader=valid_loader,\n",
        "    test_loader=test_loader,\n",
        "    optimizer=optimizer_dropout,\n",
        "    device=DEVICE,\n",
        "    scheduler=None,\n",
        "    scheduler_on='valid_acc',\n",
        "    logging_interval=100)"
      ],
      "metadata": {
        "colab": {
          "base_uri": "https://localhost:8080/"
        },
        "id": "drkBSiJG0k0W",
        "outputId": "e00b43ad-b454-4f42-9717-a42bd1ebe71f"
      },
      "execution_count": null,
      "outputs": [
        {
          "output_type": "stream",
          "name": "stderr",
          "text": [
            "Exception ignored in: <function _MultiProcessingDataLoaderIter.__del__ at 0x7f6381a9e5f0>\n"
          ]
        },
        {
          "output_type": "stream",
          "name": "stdout",
          "text": [
            "Epoch: 001/010 | Batch 0000/0175 | Loss: 2.3020\n"
          ]
        },
        {
          "output_type": "stream",
          "name": "stderr",
          "text": [
            "Traceback (most recent call last):\n",
            "  File \"/usr/local/lib/python3.7/dist-packages/torch/utils/data/dataloader.py\", line 1510, in __del__\n",
            "    self._shutdown_workers()\n",
            "  File \"/usr/local/lib/python3.7/dist-packages/torch/utils/data/dataloader.py\", line 1493, in _shutdown_workers\n",
            "    if w.is_alive():\n",
            "  File \"/usr/lib/python3.7/multiprocessing/process.py\", line 151, in is_alive\n",
            "    assert self._parent_pid == os.getpid(), 'can only test a child process'\n",
            "AssertionError: can only test a child process\n",
            "Exception ignored in: <function _MultiProcessingDataLoaderIter.__del__ at 0x7f6381a9e5f0>\n",
            "Traceback (most recent call last):\n",
            "  File \"/usr/local/lib/python3.7/dist-packages/torch/utils/data/dataloader.py\", line 1510, in __del__\n",
            "    self._shutdown_workers()\n",
            "  File \"/usr/local/lib/python3.7/dist-packages/torch/utils/data/dataloader.py\", line 1493, in _shutdown_workers\n",
            "    if w.is_alive():\n",
            "  File \"/usr/lib/python3.7/multiprocessing/process.py\", line 151, in is_alive\n",
            "    assert self._parent_pid == os.getpid(), 'can only test a child process'\n",
            "AssertionError: can only test a child process\n"
          ]
        },
        {
          "output_type": "stream",
          "name": "stdout",
          "text": [
            "Epoch: 001/010 | Batch 0100/0175 | Loss: 2.3109\n",
            "Epoch: 001/010 | Train: 6.17% | Validation: 6.30%\n",
            "Time elapsed: 1.04 min\n",
            "Epoch: 002/010 | Batch 0000/0175 | Loss: 2.3064\n",
            "Epoch: 002/010 | Batch 0100/0175 | Loss: 2.3031\n",
            "Epoch: 002/010 | Train: 6.17% | Validation: 6.30%\n",
            "Time elapsed: 2.09 min\n",
            "Epoch: 003/010 | Batch 0000/0175 | Loss: 2.3146\n",
            "Epoch: 003/010 | Batch 0100/0175 | Loss: 2.3152\n",
            "Epoch: 003/010 | Train: 6.17% | Validation: 6.30%\n",
            "Time elapsed: 3.21 min\n",
            "Epoch: 004/010 | Batch 0000/0175 | Loss: 2.3025\n",
            "Epoch: 004/010 | Batch 0100/0175 | Loss: 2.3094\n",
            "Epoch: 004/010 | Train: 6.15% | Validation: 6.30%\n",
            "Time elapsed: 4.27 min\n",
            "Epoch: 005/010 | Batch 0000/0175 | Loss: 2.2981\n",
            "Epoch: 005/010 | Batch 0100/0175 | Loss: 2.3052\n",
            "Epoch: 005/010 | Train: 6.15% | Validation: 6.30%\n",
            "Time elapsed: 5.38 min\n",
            "Epoch: 006/010 | Batch 0000/0175 | Loss: 2.3051\n",
            "Epoch: 006/010 | Batch 0100/0175 | Loss: 2.3033\n",
            "Epoch: 006/010 | Train: 6.16% | Validation: 6.30%\n",
            "Time elapsed: 6.43 min\n",
            "Epoch: 007/010 | Batch 0000/0175 | Loss: 2.3076\n",
            "Epoch: 007/010 | Batch 0100/0175 | Loss: 2.3137\n",
            "Epoch: 007/010 | Train: 6.17% | Validation: 6.30%\n",
            "Time elapsed: 7.46 min\n",
            "Epoch: 008/010 | Batch 0000/0175 | Loss: 2.3142\n",
            "Epoch: 008/010 | Batch 0100/0175 | Loss: 2.3178\n",
            "Epoch: 008/010 | Train: 6.16% | Validation: 6.30%\n",
            "Time elapsed: 8.48 min\n",
            "Epoch: 009/010 | Batch 0000/0175 | Loss: 2.3098\n",
            "Epoch: 009/010 | Batch 0100/0175 | Loss: 2.3091\n",
            "Epoch: 009/010 | Train: 6.16% | Validation: 6.30%\n",
            "Time elapsed: 9.51 min\n",
            "Epoch: 010/010 | Batch 0000/0175 | Loss: 2.3042\n",
            "Epoch: 010/010 | Batch 0100/0175 | Loss: 2.3015\n",
            "Epoch: 010/010 | Train: 6.16% | Validation: 6.30%\n",
            "Time elapsed: 10.52 min\n",
            "Total Training Time: 10.52 min\n",
            "Test accuracy 6.59%\n"
          ]
        }
      ]
    },
    {
      "cell_type": "code",
      "source": [
        "plot_training_loss(minibatch_loss_list=minibatch_loss_list_dropout,\n",
        "                   num_epochs=NUM_EPOCHS,\n",
        "                   iter_per_epoch=len(train_loader),\n",
        "                   results_dir=None,\n",
        "                   averaging_iterations=20)\n",
        "\n",
        "plt.show()\n",
        "\n",
        "plot_accuracy(train_acc_list=train_acc_list_dropout,\n",
        "              valid_acc_list=valid_acc_list_dropout,\n",
        "              results_dir=None)\n",
        "\n",
        "plt.ylim([80, 100])\n",
        "plt.show()"
      ],
      "metadata": {
        "id": "ROsPVbXcWDOR"
      },
      "execution_count": null,
      "outputs": []
    },
    {
      "cell_type": "code",
      "source": [
        "class CNN2Dropout(torch.nn.Module):\n",
        "  def __init__(self, num_classes, drop_probas=[]):\n",
        "    super().__init__()\n",
        "    self.features = torch.nn.Sequential(\n",
        "            # Conv 1\n",
        "            torch.nn.Conv2d(3, 16, kernel_size=3, padding=\"same\"), # output 16 - 3 + 1 => 16\n",
        "                            # , stride=4, padding=2),\n",
        "            torch.nn.Dropout2d(p=drop_probas[0]),\n",
        "            torch.nn.ReLU(inplace=True),\n",
        "            torch.nn.MaxPool2d(kernel_size=2), # 16 / 2 => output 8\n",
        "\n",
        "            # Conv 2\n",
        "            torch.nn.Conv2d(16, 32, kernel_size=2, padding=\"same\"), # output 7 - 2 + 1 => 8\n",
        "                            # , padding=2),\n",
        "            torch.nn.Dropout2d(p=drop_probas[1]),\n",
        "            torch.nn.ReLU(inplace=True),\n",
        "            torch.nn.MaxPool2d(kernel_size=2), #output 8 / 2 => output 4\n",
        "\n",
        "            # Conv 3\n",
        "            torch.nn.Conv2d(32, 64, kernel_size=2, padding=\"same\"), # output 7 - 2 + 1 => 4\n",
        "                            # , padding=2),\n",
        "            torch.nn.Dropout2d(p=drop_probas[2]),\n",
        "            torch.nn.ReLU(inplace=True),\n",
        "            torch.nn.MaxPool2d(kernel_size=2) #output 4 / 2 => output 2\n",
        "\n",
        "    )\n",
        "\n",
        "    self.classifier = torch.nn.Sequential(\n",
        "         torch.nn.Linear(64*2*2, 100),\n",
        "          torch.nn.ReLU(inplace=True),\n",
        "          torch.nn.Linear(100, num_classes),\n",
        "    )\n",
        "\n",
        "  def forward(self, x):\n",
        "    x = self.features(x)\n",
        "    x = torch.flatten(x, 1)\n",
        "    # print(x.size())\n",
        "    logits = self.classifier(x)\n",
        "    return logits"
      ],
      "metadata": {
        "id": "032H5jry00cF"
      },
      "execution_count": null,
      "outputs": []
    },
    {
      "cell_type": "code",
      "source": [
        "model2_dropout = CNN2Dropout(num_classes=10, drop_probas=[0.2, 0.4, 0.8])"
      ],
      "metadata": {
        "id": "Y5ahKGqg00Sk"
      },
      "execution_count": null,
      "outputs": []
    },
    {
      "cell_type": "code",
      "source": [
        "model2_dropout = model2_dropout.to(DEVICE)"
      ],
      "metadata": {
        "id": "qtakXxRR00JK"
      },
      "execution_count": null,
      "outputs": []
    },
    {
      "cell_type": "code",
      "source": [
        "optimizer2_dropout = torch.optim.SGD(model2_dropout.parameters(), lr=0.1)\n",
        "scheduler2_dropout = torch.optim.lr_scheduler.ReduceLROnPlateau(optimizer,\n",
        "                                                       factor=0.1,\n",
        "                                                       mode='max',\n",
        "                                                       verbose=True)\n"
      ],
      "metadata": {
        "id": "HaVRgKxL0z_k"
      },
      "execution_count": null,
      "outputs": []
    },
    {
      "cell_type": "code",
      "source": [
        "minibatch_loss_list_dropout2, train_acc_list_dropout2, valid_acc_list_dropout2 = train_model(\n",
        "    model=model2_dropout,\n",
        "    num_epochs=NUM_EPOCHS,\n",
        "    train_loader=train_loader,\n",
        "    valid_loader=valid_loader,\n",
        "    test_loader=test_loader,\n",
        "    optimizer=optimizer2_dropout,\n",
        "    device=DEVICE,\n",
        "    scheduler=None,\n",
        "    scheduler_on='valid_acc',\n",
        "    logging_interval=100)"
      ],
      "metadata": {
        "colab": {
          "base_uri": "https://localhost:8080/"
        },
        "id": "plKsbscH0z1P",
        "outputId": "35919a08-9d7e-462f-850d-13a6fdf21e6a"
      },
      "execution_count": null,
      "outputs": [
        {
          "output_type": "stream",
          "name": "stdout",
          "text": [
            "Epoch: 001/010 | Batch 0000/0175 | Loss: 2.3010\n",
            "Epoch: 001/010 | Batch 0100/0175 | Loss: 2.3011\n",
            "Epoch: 001/010 | Train: 11.75% | Validation: 12.00%\n",
            "Time elapsed: 1.02 min\n",
            "Epoch: 002/010 | Batch 0000/0175 | Loss: 2.3077\n",
            "Epoch: 002/010 | Batch 0100/0175 | Loss: 2.2993\n",
            "Epoch: 002/010 | Train: 11.76% | Validation: 12.00%\n",
            "Time elapsed: 2.04 min\n",
            "Epoch: 003/010 | Batch 0000/0175 | Loss: 2.3054\n",
            "Epoch: 003/010 | Batch 0100/0175 | Loss: 2.3080\n",
            "Epoch: 003/010 | Train: 11.73% | Validation: 12.00%\n",
            "Time elapsed: 3.08 min\n",
            "Epoch: 004/010 | Batch 0000/0175 | Loss: 2.3050\n",
            "Epoch: 004/010 | Batch 0100/0175 | Loss: 2.2970\n",
            "Epoch: 004/010 | Train: 11.74% | Validation: 12.00%\n",
            "Time elapsed: 4.11 min\n",
            "Epoch: 005/010 | Batch 0000/0175 | Loss: 2.3085\n",
            "Epoch: 005/010 | Batch 0100/0175 | Loss: 2.3123\n",
            "Epoch: 005/010 | Train: 11.75% | Validation: 12.00%\n",
            "Time elapsed: 5.13 min\n",
            "Epoch: 006/010 | Batch 0000/0175 | Loss: 2.3067\n",
            "Epoch: 006/010 | Batch 0100/0175 | Loss: 2.2995\n",
            "Epoch: 006/010 | Train: 11.73% | Validation: 12.00%\n",
            "Time elapsed: 6.14 min\n",
            "Epoch: 007/010 | Batch 0000/0175 | Loss: 2.3009\n",
            "Epoch: 007/010 | Batch 0100/0175 | Loss: 2.3082\n",
            "Epoch: 007/010 | Train: 11.75% | Validation: 12.00%\n",
            "Time elapsed: 7.15 min\n",
            "Epoch: 008/010 | Batch 0000/0175 | Loss: 2.3010\n",
            "Epoch: 008/010 | Batch 0100/0175 | Loss: 2.3058\n",
            "Epoch: 008/010 | Train: 11.75% | Validation: 12.00%\n",
            "Time elapsed: 8.17 min\n",
            "Epoch: 009/010 | Batch 0000/0175 | Loss: 2.3018\n",
            "Epoch: 009/010 | Batch 0100/0175 | Loss: 2.3009\n",
            "Epoch: 009/010 | Train: 11.72% | Validation: 12.00%\n",
            "Time elapsed: 9.18 min\n",
            "Epoch: 010/010 | Batch 0000/0175 | Loss: 2.2975\n",
            "Epoch: 010/010 | Batch 0100/0175 | Loss: 2.2963\n",
            "Epoch: 010/010 | Train: 11.75% | Validation: 12.00%\n",
            "Time elapsed: 10.21 min\n",
            "Total Training Time: 10.21 min\n",
            "Test accuracy 11.58%\n"
          ]
        }
      ]
    },
    {
      "cell_type": "code",
      "source": [
        "plot_training_loss(minibatch_loss_list=minibatch_loss_list_dropout2,\n",
        "                   num_epochs=NUM_EPOCHS,\n",
        "                   iter_per_epoch=len(train_loader),\n",
        "                   results_dir=None,\n",
        "                   averaging_iterations=20)\n",
        "\n",
        "plt.show()\n",
        "\n",
        "plot_accuracy(train_acc_list=train_acc_list_dropout2,\n",
        "              valid_acc_list=valid_acc_list_dropout2,\n",
        "              results_dir=None)\n",
        "\n",
        "plt.ylim([80, 100])\n",
        "plt.show()"
      ],
      "metadata": {
        "id": "KSDCzmuuWQTZ"
      },
      "execution_count": null,
      "outputs": []
    },
    {
      "cell_type": "markdown",
      "source": [
        "## Optimser changes"
      ],
      "metadata": {
        "id": "SWIgN7Q62hU5"
      }
    },
    {
      "cell_type": "code",
      "source": [
        "class CNN1RMS(torch.nn.Module):\n",
        "  def __init__(self, num_classes):\n",
        "    super().__init__()\n",
        "    self.features = torch.nn.Sequential(\n",
        "            # Conv 1\n",
        "            torch.nn.Conv2d(3, 16, kernel_size=3, padding=\"same\"), # output 16 - 3 + 1 => 16\n",
        "                            # , stride=4, padding=2),\n",
        "            torch.nn.ReLU(inplace=True),\n",
        "            torch.nn.MaxPool2d(kernel_size=2), # 16 / 2 => output 8\n",
        "\n",
        "            # Conv 2\n",
        "            torch.nn.Conv2d(16, 32, kernel_size=2, padding=\"same\"), # output 7 - 2 + 1 => 8\n",
        "                            # , padding=2),\n",
        "            torch.nn.ReLU(inplace=True),\n",
        "            torch.nn.MaxPool2d(kernel_size=2) #output 8 / 2 => output 4\n",
        "    )\n",
        "\n",
        "    self.classifier = torch.nn.Sequential(\n",
        "         torch.nn.Linear(32*4*4, 100),\n",
        "          torch.nn.ReLU(inplace=True),\n",
        "          torch.nn.Linear(100, num_classes),\n",
        "    )\n",
        "\n",
        "  def forward(self, x):\n",
        "    x = self.features(x)\n",
        "    x = torch.flatten(x, 1)\n",
        "    # print(x.size())\n",
        "    logits = self.classifier(x)\n",
        "    return logits"
      ],
      "metadata": {
        "id": "qsJg_kFE2k0D"
      },
      "execution_count": null,
      "outputs": []
    },
    {
      "cell_type": "code",
      "source": [
        "model1_rms = CNN1RMS(num_classes=10)"
      ],
      "metadata": {
        "id": "jYIV95iB2sM2"
      },
      "execution_count": null,
      "outputs": []
    },
    {
      "cell_type": "code",
      "source": [
        "model1_rms = model1_rms.to(DEVICE)"
      ],
      "metadata": {
        "id": "JXwUTGuH2sFK"
      },
      "execution_count": null,
      "outputs": []
    },
    {
      "cell_type": "code",
      "source": [
        "optimizer_rms = torch.optim.RMSprop(model1_rms.parameters())\n",
        "scheduler_rms = torch.optim.lr_scheduler.ReduceLROnPlateau(optimizer_rms,\n",
        "                                                       factor=0.1,\n",
        "                                                       mode='max',\n",
        "                                                       verbose=True)\n"
      ],
      "metadata": {
        "id": "QTXSHyrE2r8x"
      },
      "execution_count": null,
      "outputs": []
    },
    {
      "cell_type": "code",
      "source": [
        "minibatch_loss_list_rms, train_acc_list_rms, valid_acc_list_rms = train_model(\n",
        "    model=model1_rms,\n",
        "    num_epochs=NUM_EPOCHS,\n",
        "    train_loader=train_loader,\n",
        "    valid_loader=valid_loader,\n",
        "    test_loader=test_loader,\n",
        "    optimizer=optimizer_rms,\n",
        "    device=DEVICE,\n",
        "    scheduler=None,\n",
        "    scheduler_on='valid_acc',\n",
        "    logging_interval=100)"
      ],
      "metadata": {
        "colab": {
          "base_uri": "https://localhost:8080/"
        },
        "id": "HhpHlWIz2r1O",
        "outputId": "05dc82fe-da9f-4df1-e092-52cae50df69e"
      },
      "execution_count": null,
      "outputs": [
        {
          "output_type": "stream",
          "name": "stderr",
          "text": [
            "/usr/local/lib/python3.7/dist-packages/torch/nn/modules/conv.py:454: UserWarning: Using padding='same' with even kernel lengths and odd dilation may require a zero-padded copy of the input be created (Triggered internally at  ../aten/src/ATen/native/Convolution.cpp:882.)\n",
            "  self.padding, self.dilation, self.groups)\n"
          ]
        },
        {
          "output_type": "stream",
          "name": "stdout",
          "text": [
            "Epoch: 001/010 | Batch 0000/0175 | Loss: 2.3034\n",
            "Epoch: 001/010 | Batch 0100/0175 | Loss: 1.7305\n",
            "Epoch: 001/010 | Train: 41.67% | Validation: 40.92%\n",
            "Time elapsed: 1.11 min\n",
            "Epoch: 002/010 | Batch 0000/0175 | Loss: 1.5331\n",
            "Epoch: 002/010 | Batch 0100/0175 | Loss: 1.5468\n",
            "Epoch: 002/010 | Train: 39.65% | Validation: 39.16%\n",
            "Time elapsed: 2.12 min\n",
            "Epoch: 003/010 | Batch 0000/0175 | Loss: 1.7793\n",
            "Epoch: 003/010 | Batch 0100/0175 | Loss: 1.4540\n",
            "Epoch: 003/010 | Train: 50.31% | Validation: 49.22%\n",
            "Time elapsed: 3.13 min\n",
            "Epoch: 004/010 | Batch 0000/0175 | Loss: 1.3717\n",
            "Epoch: 004/010 | Batch 0100/0175 | Loss: 1.3267\n",
            "Epoch: 004/010 | Train: 51.57% | Validation: 49.40%\n",
            "Time elapsed: 4.15 min\n",
            "Epoch: 005/010 | Batch 0000/0175 | Loss: 1.3942\n",
            "Epoch: 005/010 | Batch 0100/0175 | Loss: 1.3168\n",
            "Epoch: 005/010 | Train: 53.59% | Validation: 51.90%\n",
            "Time elapsed: 5.14 min\n",
            "Epoch: 006/010 | Batch 0000/0175 | Loss: 1.4118\n",
            "Epoch: 006/010 | Batch 0100/0175 | Loss: 1.2901\n",
            "Epoch: 006/010 | Train: 55.61% | Validation: 52.94%\n",
            "Time elapsed: 6.15 min\n",
            "Epoch: 007/010 | Batch 0000/0175 | Loss: 1.2763\n",
            "Epoch: 007/010 | Batch 0100/0175 | Loss: 1.1526\n",
            "Epoch: 007/010 | Train: 55.93% | Validation: 53.94%\n",
            "Time elapsed: 7.15 min\n",
            "Epoch: 008/010 | Batch 0000/0175 | Loss: 1.2544\n",
            "Epoch: 008/010 | Batch 0100/0175 | Loss: 1.1639\n",
            "Epoch: 008/010 | Train: 57.32% | Validation: 54.82%\n",
            "Time elapsed: 8.15 min\n",
            "Epoch: 009/010 | Batch 0000/0175 | Loss: 1.1632\n",
            "Epoch: 009/010 | Batch 0100/0175 | Loss: 1.2543\n",
            "Epoch: 009/010 | Train: 53.54% | Validation: 49.70%\n",
            "Time elapsed: 9.15 min\n",
            "Epoch: 010/010 | Batch 0000/0175 | Loss: 1.3033\n",
            "Epoch: 010/010 | Batch 0100/0175 | Loss: 1.1694\n",
            "Epoch: 010/010 | Train: 57.78% | Validation: 54.46%\n",
            "Time elapsed: 10.14 min\n",
            "Total Training Time: 10.14 min\n",
            "Test accuracy 53.25%\n"
          ]
        }
      ]
    },
    {
      "cell_type": "code",
      "source": [
        "plot_training_loss(minibatch_loss_list=minibatch_loss_list_rms,\n",
        "                   num_epochs=NUM_EPOCHS,\n",
        "                   iter_per_epoch=len(train_loader),\n",
        "                   results_dir=None,\n",
        "                   averaging_iterations=20)\n",
        "\n",
        "plt.show()\n",
        "\n",
        "plot_accuracy(train_acc_list=train_acc_list_rms,\n",
        "              valid_acc_list=valid_acc_list_rms,\n",
        "              results_dir=None)\n",
        "\n",
        "plt.ylim([80, 100])\n",
        "plt.show()"
      ],
      "metadata": {
        "id": "cb898BtoWr_m"
      },
      "execution_count": null,
      "outputs": []
    },
    {
      "cell_type": "code",
      "source": [
        "class CNN2Adam(torch.nn.Module):\n",
        "  def __init__(self, num_classes):\n",
        "    super().__init__()\n",
        "    self.features = torch.nn.Sequential(\n",
        "            # Conv 1\n",
        "            torch.nn.Conv2d(3, 16, kernel_size=3, padding=\"same\"), # output 16 - 3 + 1 => 16\n",
        "                            # , stride=4, padding=2),\n",
        "            torch.nn.ReLU(inplace=True),\n",
        "            torch.nn.MaxPool2d(kernel_size=2), # 16 / 2 => output 8\n",
        "\n",
        "            # Conv 2\n",
        "            torch.nn.Conv2d(16, 32, kernel_size=2, padding=\"same\"), # output 7 - 2 + 1 => 8\n",
        "                            # , padding=2),\n",
        "            torch.nn.ReLU(inplace=True),\n",
        "            torch.nn.MaxPool2d(kernel_size=2), #output 8 / 2 => output 4\n",
        "\n",
        "            # Conv 3\n",
        "            torch.nn.Conv2d(32, 64, kernel_size=2, padding=\"same\"), # output 7 - 2 + 1 => 4\n",
        "                            # , padding=2),\n",
        "            torch.nn.ReLU(inplace=True),\n",
        "            torch.nn.MaxPool2d(kernel_size=2) #output 4 / 2 => output 2\n",
        "\n",
        "    )\n",
        "\n",
        "    self.classifier = torch.nn.Sequential(\n",
        "         torch.nn.Linear(64*2*2, 100),\n",
        "          torch.nn.ReLU(inplace=True),\n",
        "          torch.nn.Linear(100, num_classes),\n",
        "    )\n",
        "\n",
        "  def forward(self, x):\n",
        "    x = self.features(x)\n",
        "    x = torch.flatten(x, 1)\n",
        "    # print(x.size())\n",
        "    logits = self.classifier(x)\n",
        "    return logits"
      ],
      "metadata": {
        "id": "_QFsoycz2rwx"
      },
      "execution_count": null,
      "outputs": []
    },
    {
      "cell_type": "code",
      "source": [
        "model2_adam = CNN2Adam(num_classes=10)"
      ],
      "metadata": {
        "id": "FaAvfjau3Hc1"
      },
      "execution_count": null,
      "outputs": []
    },
    {
      "cell_type": "code",
      "source": [
        "model2_adam = model2_adam.to(DEVICE)"
      ],
      "metadata": {
        "id": "GmyBUTN23Ssg"
      },
      "execution_count": null,
      "outputs": []
    },
    {
      "cell_type": "code",
      "source": [
        "optimizer_adam = torch.optim.Adam(model2_adam.parameters())\n",
        "scheduler_rms = torch.optim.lr_scheduler.ReduceLROnPlateau(optimizer_adam,\n",
        "                                                       factor=0.1,\n",
        "                                                       mode='max',\n",
        "                                                       verbose=True)\n"
      ],
      "metadata": {
        "id": "WPox4lVu3YT9"
      },
      "execution_count": null,
      "outputs": []
    },
    {
      "cell_type": "code",
      "source": [
        "minibatch_loss_list_adam, train_acc_list_adam, valid_acc_list_adam = train_model(\n",
        "    model=model2_adam,\n",
        "    num_epochs=NUM_EPOCHS,\n",
        "    train_loader=train_loader,\n",
        "    valid_loader=valid_loader,\n",
        "    test_loader=test_loader,\n",
        "    optimizer=optimizer_adam,\n",
        "    device=DEVICE,\n",
        "    scheduler=None,\n",
        "    scheduler_on='valid_acc',\n",
        "    logging_interval=100)"
      ],
      "metadata": {
        "colab": {
          "base_uri": "https://localhost:8080/"
        },
        "id": "KYxwpVUF3YL3",
        "outputId": "a6feb506-fb55-4651-eb7d-e1b141a9929a"
      },
      "execution_count": null,
      "outputs": [
        {
          "output_type": "stream",
          "name": "stdout",
          "text": [
            "Epoch: 001/010 | Batch 0000/0175 | Loss: 2.3067\n",
            "Epoch: 001/010 | Batch 0100/0175 | Loss: 1.8229\n",
            "Epoch: 001/010 | Train: 38.16% | Validation: 38.88%\n",
            "Time elapsed: 1.09 min\n",
            "Epoch: 002/010 | Batch 0000/0175 | Loss: 1.7034\n",
            "Epoch: 002/010 | Batch 0100/0175 | Loss: 1.5474\n",
            "Epoch: 002/010 | Train: 43.90% | Validation: 43.68%\n",
            "Time elapsed: 2.11 min\n",
            "Epoch: 003/010 | Batch 0000/0175 | Loss: 1.5716\n",
            "Epoch: 003/010 | Batch 0100/0175 | Loss: 1.4982\n",
            "Epoch: 003/010 | Train: 45.99% | Validation: 45.74%\n",
            "Time elapsed: 3.11 min\n",
            "Epoch: 004/010 | Batch 0000/0175 | Loss: 1.4296\n",
            "Epoch: 004/010 | Batch 0100/0175 | Loss: 1.3897\n",
            "Epoch: 004/010 | Train: 48.71% | Validation: 48.54%\n",
            "Time elapsed: 4.11 min\n",
            "Epoch: 005/010 | Batch 0000/0175 | Loss: 1.3245\n",
            "Epoch: 005/010 | Batch 0100/0175 | Loss: 1.3328\n",
            "Epoch: 005/010 | Train: 50.78% | Validation: 49.98%\n",
            "Time elapsed: 5.10 min\n",
            "Epoch: 006/010 | Batch 0000/0175 | Loss: 1.4362\n",
            "Epoch: 006/010 | Batch 0100/0175 | Loss: 1.3799\n",
            "Epoch: 006/010 | Train: 52.13% | Validation: 51.36%\n",
            "Time elapsed: 6.08 min\n",
            "Epoch: 007/010 | Batch 0000/0175 | Loss: 1.3712\n",
            "Epoch: 007/010 | Batch 0100/0175 | Loss: 1.4114\n",
            "Epoch: 007/010 | Train: 51.97% | Validation: 51.88%\n",
            "Time elapsed: 7.07 min\n",
            "Epoch: 008/010 | Batch 0000/0175 | Loss: 1.3563\n",
            "Epoch: 008/010 | Batch 0100/0175 | Loss: 1.2691\n",
            "Epoch: 008/010 | Train: 53.72% | Validation: 53.12%\n",
            "Time elapsed: 8.05 min\n",
            "Epoch: 009/010 | Batch 0000/0175 | Loss: 1.2776\n",
            "Epoch: 009/010 | Batch 0100/0175 | Loss: 1.3395\n",
            "Epoch: 009/010 | Train: 54.52% | Validation: 53.74%\n",
            "Time elapsed: 9.07 min\n",
            "Epoch: 010/010 | Batch 0000/0175 | Loss: 1.3527\n",
            "Epoch: 010/010 | Batch 0100/0175 | Loss: 1.2129\n",
            "Epoch: 010/010 | Train: 56.37% | Validation: 55.20%\n",
            "Time elapsed: 10.06 min\n",
            "Total Training Time: 10.06 min\n",
            "Test accuracy 55.41%\n"
          ]
        }
      ]
    },
    {
      "cell_type": "code",
      "source": [
        "plot_training_loss(minibatch_loss_list=minibatch_loss_list_adam,\n",
        "                   num_epochs=NUM_EPOCHS,\n",
        "                   iter_per_epoch=len(train_loader),\n",
        "                   results_dir=None,\n",
        "                   averaging_iterations=20)\n",
        "\n",
        "plt.show()\n",
        "\n",
        "plot_accuracy(train_acc_list=train_acc_list_adam,\n",
        "              valid_acc_list=valid_acc_list_adam,\n",
        "              results_dir=None)\n",
        "\n",
        "plt.ylim([80, 100])\n",
        "plt.show()"
      ],
      "metadata": {
        "id": "YoG3wYaJ4-6l"
      },
      "execution_count": null,
      "outputs": []
    }
  ],
  "metadata": {
    "accelerator": "GPU",
    "colab": {
      "provenance": []
    },
    "kernelspec": {
      "display_name": "Python 3",
      "name": "python3"
    },
    "language_info": {
      "name": "python"
    },
    "widgets": {
      "application/vnd.jupyter.widget-state+json": {
        "508f221442bd46fda6bd68387bf19698": {
          "model_module": "@jupyter-widgets/controls",
          "model_name": "HBoxModel",
          "model_module_version": "1.5.0",
          "state": {
            "_dom_classes": [],
            "_model_module": "@jupyter-widgets/controls",
            "_model_module_version": "1.5.0",
            "_model_name": "HBoxModel",
            "_view_count": null,
            "_view_module": "@jupyter-widgets/controls",
            "_view_module_version": "1.5.0",
            "_view_name": "HBoxView",
            "box_style": "",
            "children": [
              "IPY_MODEL_9224bb6058ee4b3e9d6bed1169d83db8",
              "IPY_MODEL_324bda556b524717a698d817afddd357",
              "IPY_MODEL_f2911ea44f49423985ab262ab3e956ba"
            ],
            "layout": "IPY_MODEL_d54f4aeba1044663b51da71651118c20"
          }
        },
        "9224bb6058ee4b3e9d6bed1169d83db8": {
          "model_module": "@jupyter-widgets/controls",
          "model_name": "HTMLModel",
          "model_module_version": "1.5.0",
          "state": {
            "_dom_classes": [],
            "_model_module": "@jupyter-widgets/controls",
            "_model_module_version": "1.5.0",
            "_model_name": "HTMLModel",
            "_view_count": null,
            "_view_module": "@jupyter-widgets/controls",
            "_view_module_version": "1.5.0",
            "_view_name": "HTMLView",
            "description": "",
            "description_tooltip": null,
            "layout": "IPY_MODEL_5d7a7044987742e99097ce2b93a6fd4c",
            "placeholder": "​",
            "style": "IPY_MODEL_f1c6cede3bb7467c9100e9038b7356a0",
            "value": "100%"
          }
        },
        "324bda556b524717a698d817afddd357": {
          "model_module": "@jupyter-widgets/controls",
          "model_name": "FloatProgressModel",
          "model_module_version": "1.5.0",
          "state": {
            "_dom_classes": [],
            "_model_module": "@jupyter-widgets/controls",
            "_model_module_version": "1.5.0",
            "_model_name": "FloatProgressModel",
            "_view_count": null,
            "_view_module": "@jupyter-widgets/controls",
            "_view_module_version": "1.5.0",
            "_view_name": "ProgressView",
            "bar_style": "success",
            "description": "",
            "description_tooltip": null,
            "layout": "IPY_MODEL_0317895ab11e4f9282ef6b9e88ae88c1",
            "max": 170498071,
            "min": 0,
            "orientation": "horizontal",
            "style": "IPY_MODEL_6fe358dd1fa1458e8ade3ee1c4b53a8b",
            "value": 170498071
          }
        },
        "f2911ea44f49423985ab262ab3e956ba": {
          "model_module": "@jupyter-widgets/controls",
          "model_name": "HTMLModel",
          "model_module_version": "1.5.0",
          "state": {
            "_dom_classes": [],
            "_model_module": "@jupyter-widgets/controls",
            "_model_module_version": "1.5.0",
            "_model_name": "HTMLModel",
            "_view_count": null,
            "_view_module": "@jupyter-widgets/controls",
            "_view_module_version": "1.5.0",
            "_view_name": "HTMLView",
            "description": "",
            "description_tooltip": null,
            "layout": "IPY_MODEL_0d4f7a0d0f9f4db2af738dc4c6912331",
            "placeholder": "​",
            "style": "IPY_MODEL_50374f7af46544d5afa4249d2995aaef",
            "value": " 170498071/170498071 [00:02&lt;00:00, 84300527.28it/s]"
          }
        },
        "d54f4aeba1044663b51da71651118c20": {
          "model_module": "@jupyter-widgets/base",
          "model_name": "LayoutModel",
          "model_module_version": "1.2.0",
          "state": {
            "_model_module": "@jupyter-widgets/base",
            "_model_module_version": "1.2.0",
            "_model_name": "LayoutModel",
            "_view_count": null,
            "_view_module": "@jupyter-widgets/base",
            "_view_module_version": "1.2.0",
            "_view_name": "LayoutView",
            "align_content": null,
            "align_items": null,
            "align_self": null,
            "border": null,
            "bottom": null,
            "display": null,
            "flex": null,
            "flex_flow": null,
            "grid_area": null,
            "grid_auto_columns": null,
            "grid_auto_flow": null,
            "grid_auto_rows": null,
            "grid_column": null,
            "grid_gap": null,
            "grid_row": null,
            "grid_template_areas": null,
            "grid_template_columns": null,
            "grid_template_rows": null,
            "height": null,
            "justify_content": null,
            "justify_items": null,
            "left": null,
            "margin": null,
            "max_height": null,
            "max_width": null,
            "min_height": null,
            "min_width": null,
            "object_fit": null,
            "object_position": null,
            "order": null,
            "overflow": null,
            "overflow_x": null,
            "overflow_y": null,
            "padding": null,
            "right": null,
            "top": null,
            "visibility": null,
            "width": null
          }
        },
        "5d7a7044987742e99097ce2b93a6fd4c": {
          "model_module": "@jupyter-widgets/base",
          "model_name": "LayoutModel",
          "model_module_version": "1.2.0",
          "state": {
            "_model_module": "@jupyter-widgets/base",
            "_model_module_version": "1.2.0",
            "_model_name": "LayoutModel",
            "_view_count": null,
            "_view_module": "@jupyter-widgets/base",
            "_view_module_version": "1.2.0",
            "_view_name": "LayoutView",
            "align_content": null,
            "align_items": null,
            "align_self": null,
            "border": null,
            "bottom": null,
            "display": null,
            "flex": null,
            "flex_flow": null,
            "grid_area": null,
            "grid_auto_columns": null,
            "grid_auto_flow": null,
            "grid_auto_rows": null,
            "grid_column": null,
            "grid_gap": null,
            "grid_row": null,
            "grid_template_areas": null,
            "grid_template_columns": null,
            "grid_template_rows": null,
            "height": null,
            "justify_content": null,
            "justify_items": null,
            "left": null,
            "margin": null,
            "max_height": null,
            "max_width": null,
            "min_height": null,
            "min_width": null,
            "object_fit": null,
            "object_position": null,
            "order": null,
            "overflow": null,
            "overflow_x": null,
            "overflow_y": null,
            "padding": null,
            "right": null,
            "top": null,
            "visibility": null,
            "width": null
          }
        },
        "f1c6cede3bb7467c9100e9038b7356a0": {
          "model_module": "@jupyter-widgets/controls",
          "model_name": "DescriptionStyleModel",
          "model_module_version": "1.5.0",
          "state": {
            "_model_module": "@jupyter-widgets/controls",
            "_model_module_version": "1.5.0",
            "_model_name": "DescriptionStyleModel",
            "_view_count": null,
            "_view_module": "@jupyter-widgets/base",
            "_view_module_version": "1.2.0",
            "_view_name": "StyleView",
            "description_width": ""
          }
        },
        "0317895ab11e4f9282ef6b9e88ae88c1": {
          "model_module": "@jupyter-widgets/base",
          "model_name": "LayoutModel",
          "model_module_version": "1.2.0",
          "state": {
            "_model_module": "@jupyter-widgets/base",
            "_model_module_version": "1.2.0",
            "_model_name": "LayoutModel",
            "_view_count": null,
            "_view_module": "@jupyter-widgets/base",
            "_view_module_version": "1.2.0",
            "_view_name": "LayoutView",
            "align_content": null,
            "align_items": null,
            "align_self": null,
            "border": null,
            "bottom": null,
            "display": null,
            "flex": null,
            "flex_flow": null,
            "grid_area": null,
            "grid_auto_columns": null,
            "grid_auto_flow": null,
            "grid_auto_rows": null,
            "grid_column": null,
            "grid_gap": null,
            "grid_row": null,
            "grid_template_areas": null,
            "grid_template_columns": null,
            "grid_template_rows": null,
            "height": null,
            "justify_content": null,
            "justify_items": null,
            "left": null,
            "margin": null,
            "max_height": null,
            "max_width": null,
            "min_height": null,
            "min_width": null,
            "object_fit": null,
            "object_position": null,
            "order": null,
            "overflow": null,
            "overflow_x": null,
            "overflow_y": null,
            "padding": null,
            "right": null,
            "top": null,
            "visibility": null,
            "width": null
          }
        },
        "6fe358dd1fa1458e8ade3ee1c4b53a8b": {
          "model_module": "@jupyter-widgets/controls",
          "model_name": "ProgressStyleModel",
          "model_module_version": "1.5.0",
          "state": {
            "_model_module": "@jupyter-widgets/controls",
            "_model_module_version": "1.5.0",
            "_model_name": "ProgressStyleModel",
            "_view_count": null,
            "_view_module": "@jupyter-widgets/base",
            "_view_module_version": "1.2.0",
            "_view_name": "StyleView",
            "bar_color": null,
            "description_width": ""
          }
        },
        "0d4f7a0d0f9f4db2af738dc4c6912331": {
          "model_module": "@jupyter-widgets/base",
          "model_name": "LayoutModel",
          "model_module_version": "1.2.0",
          "state": {
            "_model_module": "@jupyter-widgets/base",
            "_model_module_version": "1.2.0",
            "_model_name": "LayoutModel",
            "_view_count": null,
            "_view_module": "@jupyter-widgets/base",
            "_view_module_version": "1.2.0",
            "_view_name": "LayoutView",
            "align_content": null,
            "align_items": null,
            "align_self": null,
            "border": null,
            "bottom": null,
            "display": null,
            "flex": null,
            "flex_flow": null,
            "grid_area": null,
            "grid_auto_columns": null,
            "grid_auto_flow": null,
            "grid_auto_rows": null,
            "grid_column": null,
            "grid_gap": null,
            "grid_row": null,
            "grid_template_areas": null,
            "grid_template_columns": null,
            "grid_template_rows": null,
            "height": null,
            "justify_content": null,
            "justify_items": null,
            "left": null,
            "margin": null,
            "max_height": null,
            "max_width": null,
            "min_height": null,
            "min_width": null,
            "object_fit": null,
            "object_position": null,
            "order": null,
            "overflow": null,
            "overflow_x": null,
            "overflow_y": null,
            "padding": null,
            "right": null,
            "top": null,
            "visibility": null,
            "width": null
          }
        },
        "50374f7af46544d5afa4249d2995aaef": {
          "model_module": "@jupyter-widgets/controls",
          "model_name": "DescriptionStyleModel",
          "model_module_version": "1.5.0",
          "state": {
            "_model_module": "@jupyter-widgets/controls",
            "_model_module_version": "1.5.0",
            "_model_name": "DescriptionStyleModel",
            "_view_count": null,
            "_view_module": "@jupyter-widgets/base",
            "_view_module_version": "1.2.0",
            "_view_name": "StyleView",
            "description_width": ""
          }
        }
      }
    }
  },
  "nbformat": 4,
  "nbformat_minor": 0
}