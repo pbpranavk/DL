{
  "nbformat": 4,
  "nbformat_minor": 0,
  "metadata": {
    "colab": {
      "provenance": []
    },
    "kernelspec": {
      "name": "python3",
      "display_name": "Python 3"
    },
    "language_info": {
      "name": "python"
    },
    "accelerator": "GPU",
    "widgets": {
      "application/vnd.jupyter.widget-state+json": {
        "9711091f8c8b4305bbd82710f48f8ab4": {
          "model_module": "@jupyter-widgets/controls",
          "model_name": "HBoxModel",
          "model_module_version": "1.5.0",
          "state": {
            "_dom_classes": [],
            "_model_module": "@jupyter-widgets/controls",
            "_model_module_version": "1.5.0",
            "_model_name": "HBoxModel",
            "_view_count": null,
            "_view_module": "@jupyter-widgets/controls",
            "_view_module_version": "1.5.0",
            "_view_name": "HBoxView",
            "box_style": "",
            "children": [
              "IPY_MODEL_48b5c9898ea842fc9b793ad069c2195b",
              "IPY_MODEL_547844a972464e6f934f75b9fa8b477e",
              "IPY_MODEL_5b80b497fe6448d5ad1cb270632b069c"
            ],
            "layout": "IPY_MODEL_4c99e07fd577408dbb5cbebe4e2612e1"
          }
        },
        "48b5c9898ea842fc9b793ad069c2195b": {
          "model_module": "@jupyter-widgets/controls",
          "model_name": "HTMLModel",
          "model_module_version": "1.5.0",
          "state": {
            "_dom_classes": [],
            "_model_module": "@jupyter-widgets/controls",
            "_model_module_version": "1.5.0",
            "_model_name": "HTMLModel",
            "_view_count": null,
            "_view_module": "@jupyter-widgets/controls",
            "_view_module_version": "1.5.0",
            "_view_name": "HTMLView",
            "description": "",
            "description_tooltip": null,
            "layout": "IPY_MODEL_2e56a6885ba14bd5b3b251dd1ae5843d",
            "placeholder": "​",
            "style": "IPY_MODEL_8f8a541eba774937ad769eab29a02692",
            "value": "100%"
          }
        },
        "547844a972464e6f934f75b9fa8b477e": {
          "model_module": "@jupyter-widgets/controls",
          "model_name": "FloatProgressModel",
          "model_module_version": "1.5.0",
          "state": {
            "_dom_classes": [],
            "_model_module": "@jupyter-widgets/controls",
            "_model_module_version": "1.5.0",
            "_model_name": "FloatProgressModel",
            "_view_count": null,
            "_view_module": "@jupyter-widgets/controls",
            "_view_module_version": "1.5.0",
            "_view_name": "ProgressView",
            "bar_style": "success",
            "description": "",
            "description_tooltip": null,
            "layout": "IPY_MODEL_134fb43260974b9bb2610d5b8573b821",
            "max": 170498071,
            "min": 0,
            "orientation": "horizontal",
            "style": "IPY_MODEL_7aab7c3f2a57417b917beaa50b6e705a",
            "value": 170498071
          }
        },
        "5b80b497fe6448d5ad1cb270632b069c": {
          "model_module": "@jupyter-widgets/controls",
          "model_name": "HTMLModel",
          "model_module_version": "1.5.0",
          "state": {
            "_dom_classes": [],
            "_model_module": "@jupyter-widgets/controls",
            "_model_module_version": "1.5.0",
            "_model_name": "HTMLModel",
            "_view_count": null,
            "_view_module": "@jupyter-widgets/controls",
            "_view_module_version": "1.5.0",
            "_view_name": "HTMLView",
            "description": "",
            "description_tooltip": null,
            "layout": "IPY_MODEL_7902db18c4a04d04b9bdd9c03598b8b5",
            "placeholder": "​",
            "style": "IPY_MODEL_57bff74f567747d09b0d8aad62186153",
            "value": " 170498071/170498071 [00:01&lt;00:00, 111401825.98it/s]"
          }
        },
        "4c99e07fd577408dbb5cbebe4e2612e1": {
          "model_module": "@jupyter-widgets/base",
          "model_name": "LayoutModel",
          "model_module_version": "1.2.0",
          "state": {
            "_model_module": "@jupyter-widgets/base",
            "_model_module_version": "1.2.0",
            "_model_name": "LayoutModel",
            "_view_count": null,
            "_view_module": "@jupyter-widgets/base",
            "_view_module_version": "1.2.0",
            "_view_name": "LayoutView",
            "align_content": null,
            "align_items": null,
            "align_self": null,
            "border": null,
            "bottom": null,
            "display": null,
            "flex": null,
            "flex_flow": null,
            "grid_area": null,
            "grid_auto_columns": null,
            "grid_auto_flow": null,
            "grid_auto_rows": null,
            "grid_column": null,
            "grid_gap": null,
            "grid_row": null,
            "grid_template_areas": null,
            "grid_template_columns": null,
            "grid_template_rows": null,
            "height": null,
            "justify_content": null,
            "justify_items": null,
            "left": null,
            "margin": null,
            "max_height": null,
            "max_width": null,
            "min_height": null,
            "min_width": null,
            "object_fit": null,
            "object_position": null,
            "order": null,
            "overflow": null,
            "overflow_x": null,
            "overflow_y": null,
            "padding": null,
            "right": null,
            "top": null,
            "visibility": null,
            "width": null
          }
        },
        "2e56a6885ba14bd5b3b251dd1ae5843d": {
          "model_module": "@jupyter-widgets/base",
          "model_name": "LayoutModel",
          "model_module_version": "1.2.0",
          "state": {
            "_model_module": "@jupyter-widgets/base",
            "_model_module_version": "1.2.0",
            "_model_name": "LayoutModel",
            "_view_count": null,
            "_view_module": "@jupyter-widgets/base",
            "_view_module_version": "1.2.0",
            "_view_name": "LayoutView",
            "align_content": null,
            "align_items": null,
            "align_self": null,
            "border": null,
            "bottom": null,
            "display": null,
            "flex": null,
            "flex_flow": null,
            "grid_area": null,
            "grid_auto_columns": null,
            "grid_auto_flow": null,
            "grid_auto_rows": null,
            "grid_column": null,
            "grid_gap": null,
            "grid_row": null,
            "grid_template_areas": null,
            "grid_template_columns": null,
            "grid_template_rows": null,
            "height": null,
            "justify_content": null,
            "justify_items": null,
            "left": null,
            "margin": null,
            "max_height": null,
            "max_width": null,
            "min_height": null,
            "min_width": null,
            "object_fit": null,
            "object_position": null,
            "order": null,
            "overflow": null,
            "overflow_x": null,
            "overflow_y": null,
            "padding": null,
            "right": null,
            "top": null,
            "visibility": null,
            "width": null
          }
        },
        "8f8a541eba774937ad769eab29a02692": {
          "model_module": "@jupyter-widgets/controls",
          "model_name": "DescriptionStyleModel",
          "model_module_version": "1.5.0",
          "state": {
            "_model_module": "@jupyter-widgets/controls",
            "_model_module_version": "1.5.0",
            "_model_name": "DescriptionStyleModel",
            "_view_count": null,
            "_view_module": "@jupyter-widgets/base",
            "_view_module_version": "1.2.0",
            "_view_name": "StyleView",
            "description_width": ""
          }
        },
        "134fb43260974b9bb2610d5b8573b821": {
          "model_module": "@jupyter-widgets/base",
          "model_name": "LayoutModel",
          "model_module_version": "1.2.0",
          "state": {
            "_model_module": "@jupyter-widgets/base",
            "_model_module_version": "1.2.0",
            "_model_name": "LayoutModel",
            "_view_count": null,
            "_view_module": "@jupyter-widgets/base",
            "_view_module_version": "1.2.0",
            "_view_name": "LayoutView",
            "align_content": null,
            "align_items": null,
            "align_self": null,
            "border": null,
            "bottom": null,
            "display": null,
            "flex": null,
            "flex_flow": null,
            "grid_area": null,
            "grid_auto_columns": null,
            "grid_auto_flow": null,
            "grid_auto_rows": null,
            "grid_column": null,
            "grid_gap": null,
            "grid_row": null,
            "grid_template_areas": null,
            "grid_template_columns": null,
            "grid_template_rows": null,
            "height": null,
            "justify_content": null,
            "justify_items": null,
            "left": null,
            "margin": null,
            "max_height": null,
            "max_width": null,
            "min_height": null,
            "min_width": null,
            "object_fit": null,
            "object_position": null,
            "order": null,
            "overflow": null,
            "overflow_x": null,
            "overflow_y": null,
            "padding": null,
            "right": null,
            "top": null,
            "visibility": null,
            "width": null
          }
        },
        "7aab7c3f2a57417b917beaa50b6e705a": {
          "model_module": "@jupyter-widgets/controls",
          "model_name": "ProgressStyleModel",
          "model_module_version": "1.5.0",
          "state": {
            "_model_module": "@jupyter-widgets/controls",
            "_model_module_version": "1.5.0",
            "_model_name": "ProgressStyleModel",
            "_view_count": null,
            "_view_module": "@jupyter-widgets/base",
            "_view_module_version": "1.2.0",
            "_view_name": "StyleView",
            "bar_color": null,
            "description_width": ""
          }
        },
        "7902db18c4a04d04b9bdd9c03598b8b5": {
          "model_module": "@jupyter-widgets/base",
          "model_name": "LayoutModel",
          "model_module_version": "1.2.0",
          "state": {
            "_model_module": "@jupyter-widgets/base",
            "_model_module_version": "1.2.0",
            "_model_name": "LayoutModel",
            "_view_count": null,
            "_view_module": "@jupyter-widgets/base",
            "_view_module_version": "1.2.0",
            "_view_name": "LayoutView",
            "align_content": null,
            "align_items": null,
            "align_self": null,
            "border": null,
            "bottom": null,
            "display": null,
            "flex": null,
            "flex_flow": null,
            "grid_area": null,
            "grid_auto_columns": null,
            "grid_auto_flow": null,
            "grid_auto_rows": null,
            "grid_column": null,
            "grid_gap": null,
            "grid_row": null,
            "grid_template_areas": null,
            "grid_template_columns": null,
            "grid_template_rows": null,
            "height": null,
            "justify_content": null,
            "justify_items": null,
            "left": null,
            "margin": null,
            "max_height": null,
            "max_width": null,
            "min_height": null,
            "min_width": null,
            "object_fit": null,
            "object_position": null,
            "order": null,
            "overflow": null,
            "overflow_x": null,
            "overflow_y": null,
            "padding": null,
            "right": null,
            "top": null,
            "visibility": null,
            "width": null
          }
        },
        "57bff74f567747d09b0d8aad62186153": {
          "model_module": "@jupyter-widgets/controls",
          "model_name": "DescriptionStyleModel",
          "model_module_version": "1.5.0",
          "state": {
            "_model_module": "@jupyter-widgets/controls",
            "_model_module_version": "1.5.0",
            "_model_name": "DescriptionStyleModel",
            "_view_count": null,
            "_view_module": "@jupyter-widgets/base",
            "_view_module_version": "1.2.0",
            "_view_name": "StyleView",
            "description_width": ""
          }
        }
      }
    }
  },
  "cells": [
    {
      "cell_type": "code",
      "execution_count": null,
      "metadata": {
        "id": "PWJw4mMFXSzI"
      },
      "outputs": [],
      "source": [
        "import torch\n",
        "import torchvision\n",
        "import numpy as np\n",
        "import matplotlib.pyplot as plt\n"
      ]
    },
    {
      "cell_type": "code",
      "source": [
        "%env CUBLAS_WORKSPACE_CONFIG=:4096:8"
      ],
      "metadata": {
        "colab": {
          "base_uri": "https://localhost:8080/"
        },
        "id": "dAQ98gFAk1Dm",
        "outputId": "30a001eb-4dcc-49aa-b7fc-2206b74d80b9"
      },
      "execution_count": null,
      "outputs": [
        {
          "output_type": "stream",
          "name": "stdout",
          "text": [
            "env: CUBLAS_WORKSPACE_CONFIG=:4096:8\n"
          ]
        }
      ]
    },
    {
      "cell_type": "code",
      "source": [
        "# From local helper files\n",
        "from helper_evaluation import set_all_seeds, set_deterministic, compute_confusion_matrix, compute_accuracy\n",
        "from helper_train import train_model\n",
        "from helper_plotting import plot_training_loss, plot_accuracy, show_examples, plot_confusion_matrix\n",
        "from helper_dataset import get_dataloaders_cifar10, UnNormalize"
      ],
      "metadata": {
        "id": "BAq5C1H0YhSU"
      },
      "execution_count": null,
      "outputs": []
    },
    {
      "cell_type": "code",
      "source": [
        "RANDOM_SEED = 123\n",
        "BATCH_SIZE = 256\n",
        "NUM_EPOCHS = 15\n",
        "DEVICE = torch.device('cuda:0' if torch.cuda.is_available() else 'cpu')"
      ],
      "metadata": {
        "id": "zO2sM_sBYoTd"
      },
      "execution_count": null,
      "outputs": []
    },
    {
      "cell_type": "code",
      "source": [
        "set_all_seeds(RANDOM_SEED)\n"
      ],
      "metadata": {
        "id": "XN3-pwzTYqMd"
      },
      "execution_count": null,
      "outputs": []
    },
    {
      "cell_type": "code",
      "source": [
        "train_transforms = torchvision.transforms.Compose([\n",
        "    torchvision.transforms.Resize((70, 70)),\n",
        "    torchvision.transforms.RandomCrop((64, 64)),\n",
        "    torchvision.transforms.ToTensor(),\n",
        "    torchvision.transforms.Normalize((0.5, 0.5, 0.5), (0.5, 0.5, 0.5))])\n",
        "\n",
        "test_transforms = torchvision.transforms.Compose([\n",
        "    torchvision.transforms.Resize((70, 70)),\n",
        "    torchvision.transforms.CenterCrop((64, 64)),\n",
        "    torchvision.transforms.ToTensor(),\n",
        "    torchvision.transforms.Normalize((0.5, 0.5, 0.5), (0.5, 0.5, 0.5))])\n",
        "\n",
        "\n",
        "train_loader, valid_loader, test_loader = get_dataloaders_cifar10(\n",
        "    batch_size=BATCH_SIZE,\n",
        "    validation_fraction=0.1,\n",
        "    train_transforms=train_transforms,\n",
        "    test_transforms=test_transforms,\n",
        "    num_workers=2)\n",
        "\n",
        "# Checking the dataset\n",
        "for images, labels in train_loader:\n",
        "    print('Image batch dimensions:', images.shape)\n",
        "    print('Image label dimensions:', labels.shape)\n",
        "    print('Class labels of 10 examples:', labels[:10])\n",
        "    break"
      ],
      "metadata": {
        "colab": {
          "base_uri": "https://localhost:8080/",
          "height": 136,
          "referenced_widgets": [
            "9711091f8c8b4305bbd82710f48f8ab4",
            "48b5c9898ea842fc9b793ad069c2195b",
            "547844a972464e6f934f75b9fa8b477e",
            "5b80b497fe6448d5ad1cb270632b069c",
            "4c99e07fd577408dbb5cbebe4e2612e1",
            "2e56a6885ba14bd5b3b251dd1ae5843d",
            "8f8a541eba774937ad769eab29a02692",
            "134fb43260974b9bb2610d5b8573b821",
            "7aab7c3f2a57417b917beaa50b6e705a",
            "7902db18c4a04d04b9bdd9c03598b8b5",
            "57bff74f567747d09b0d8aad62186153"
          ]
        },
        "id": "VEAxLxQ1Ysvu",
        "outputId": "f0a88345-4f19-4091-cb5b-e8204d2e61d0"
      },
      "execution_count": null,
      "outputs": [
        {
          "output_type": "stream",
          "name": "stdout",
          "text": [
            "Downloading https://www.cs.toronto.edu/~kriz/cifar-10-python.tar.gz to data/cifar-10-python.tar.gz\n"
          ]
        },
        {
          "output_type": "display_data",
          "data": {
            "text/plain": [
              "  0%|          | 0/170498071 [00:00<?, ?it/s]"
            ],
            "application/vnd.jupyter.widget-view+json": {
              "version_major": 2,
              "version_minor": 0,
              "model_id": "9711091f8c8b4305bbd82710f48f8ab4"
            }
          },
          "metadata": {}
        },
        {
          "output_type": "stream",
          "name": "stdout",
          "text": [
            "Extracting data/cifar-10-python.tar.gz to data\n",
            "Image batch dimensions: torch.Size([256, 3, 64, 64])\n",
            "Image label dimensions: torch.Size([256])\n",
            "Class labels of 10 examples: tensor([4, 7, 4, 6, 2, 6, 9, 7, 3, 0])\n"
          ]
        }
      ]
    },
    {
      "cell_type": "code",
      "source": [
        "class VGG16(torch.nn.Module):\n",
        "\n",
        "    def __init__(self, num_classes):\n",
        "        super().__init__()\n",
        "\n",
        "        self.block_1 = torch.nn.Sequential(\n",
        "                torch.nn.Conv2d(in_channels=3,\n",
        "                                out_channels=64,\n",
        "                                kernel_size=(3, 3),\n",
        "                                stride=(1, 1),\n",
        "                                padding=1),\n",
        "                torch.nn.ReLU(),\n",
        "                torch.nn.Conv2d(in_channels=64,\n",
        "                                out_channels=64,\n",
        "                                kernel_size=(3, 3),\n",
        "                                stride=(1, 1),\n",
        "                                padding=1),\n",
        "                torch.nn.ReLU(),\n",
        "                torch.nn.MaxPool2d(kernel_size=(2, 2),\n",
        "                                   stride=(2, 2))\n",
        "        )\n",
        "\n",
        "        self.block_2 = torch.nn.Sequential(\n",
        "                torch.nn.Conv2d(in_channels=64,\n",
        "                                out_channels=128,\n",
        "                                kernel_size=(3, 3),\n",
        "                                stride=(1, 1),\n",
        "                                padding=1),\n",
        "                torch.nn.ReLU(),\n",
        "                torch.nn.Conv2d(in_channels=128,\n",
        "                                out_channels=128,\n",
        "                                kernel_size=(3, 3),\n",
        "                                stride=(1, 1),\n",
        "                                padding=1),\n",
        "                torch.nn.ReLU(),\n",
        "                torch.nn.MaxPool2d(kernel_size=(2, 2),\n",
        "                                   stride=(2, 2))\n",
        "        )\n",
        "\n",
        "        self.block_3_skip = torch.nn.Sequential(\n",
        "            torch.nn.Conv2d(in_channels=128,\n",
        "                            out_channels=256,\n",
        "                            kernel_size=(1, 1),\n",
        "                            stride=(1, 1),\n",
        "                            padding=0),\n",
        "        )\n",
        "\n",
        "        self.block_3 = torch.nn.Sequential(\n",
        "                torch.nn.Conv2d(in_channels=128,\n",
        "                                out_channels=256,\n",
        "                                kernel_size=(3, 3),\n",
        "                                stride=(1, 1),\n",
        "                                padding=1),\n",
        "                torch.nn.ReLU(),\n",
        "                torch.nn.Conv2d(in_channels=256,\n",
        "                                out_channels=256,\n",
        "                                kernel_size=(3, 3),\n",
        "                                stride=(1, 1),\n",
        "                                padding=1),\n",
        "                torch.nn.ReLU(),\n",
        "                torch.nn.Conv2d(in_channels=256,\n",
        "                                out_channels=256,\n",
        "                                kernel_size=(3, 3),\n",
        "                                stride=(1, 1),\n",
        "                                padding=1),\n",
        "                # torch.nn.ReLU(),\n",
        "                # torch.nn.MaxPool2d(kernel_size=(2, 2),\n",
        "                #                    stride=(2, 2))\n",
        "        )\n",
        "\n",
        "\n",
        "        self.block_4 = torch.nn.Sequential(\n",
        "                torch.nn.Conv2d(in_channels=256,\n",
        "                                out_channels=512,\n",
        "                                kernel_size=(3, 3),\n",
        "                                stride=(1, 1),\n",
        "                                padding=1),\n",
        "                torch.nn.ReLU(),\n",
        "                torch.nn.Conv2d(in_channels=512,\n",
        "                                out_channels=512,\n",
        "                                kernel_size=(3, 3),\n",
        "                                stride=(1, 1),\n",
        "                                padding=1),\n",
        "                torch.nn.ReLU(),\n",
        "                torch.nn.Conv2d(in_channels=512,\n",
        "                                out_channels=512,\n",
        "                                kernel_size=(3, 3),\n",
        "                                stride=(1, 1),\n",
        "                                padding=1),\n",
        "                torch.nn.ReLU(),\n",
        "                torch.nn.MaxPool2d(kernel_size=(2, 2),\n",
        "                                   stride=(2, 2))\n",
        "        )\n",
        "\n",
        "        self.block_5 = torch.nn.Sequential(\n",
        "                torch.nn.Conv2d(in_channels=512,\n",
        "                                out_channels=512,\n",
        "                                kernel_size=(3, 3),\n",
        "                                stride=(1, 1),\n",
        "                                padding=1),\n",
        "                torch.nn.ReLU(),\n",
        "                torch.nn.Conv2d(in_channels=512,\n",
        "                                out_channels=512,\n",
        "                                kernel_size=(3, 3),\n",
        "                                stride=(1, 1),\n",
        "                                padding=1),\n",
        "                torch.nn.ReLU(),\n",
        "                torch.nn.Conv2d(in_channels=512,\n",
        "                                out_channels=512,\n",
        "                                kernel_size=(3, 3),\n",
        "                                stride=(1, 1),\n",
        "                                padding=1),\n",
        "                torch.nn.ReLU(),\n",
        "                torch.nn.MaxPool2d(kernel_size=(2, 2),\n",
        "                                   stride=(2, 2))\n",
        "        )\n",
        "\n",
        "        height, width = 3, 3 ## you may want to change that depending on the input image size\n",
        "        self.classifier = torch.nn.Sequential(\n",
        "            torch.nn.Linear(512*height*width, 4096),\n",
        "            torch.nn.ReLU(True),\n",
        "            torch.nn.Dropout(p=0.5),\n",
        "            torch.nn.Linear(4096, 4096),\n",
        "            torch.nn.ReLU(True),\n",
        "            torch.nn.Dropout(p=0.5),\n",
        "            torch.nn.Linear(4096, num_classes),\n",
        "        )\n",
        "\n",
        "        for m in self.modules():\n",
        "            if isinstance(m, torch.torch.nn.Conv2d) or isinstance(m, torch.torch.nn.Linear):\n",
        "                torch.nn.init.kaiming_uniform_(m.weight, mode='fan_in', nonlinearity='relu')\n",
        "                if m.bias is not None:\n",
        "                    m.bias.detach().zero_()\n",
        "\n",
        "        self.avgpool = torch.nn.AdaptiveAvgPool2d((height, width))\n",
        "\n",
        "\n",
        "    def forward(self, x):\n",
        "\n",
        "        x = self.block_1(x)\n",
        "        x = self.block_2(x)\n",
        "        shortcut = self.block_3_skip(x)\n",
        "        # shortcut = x\n",
        "        x = self.block_3(x)\n",
        "        x = torch.nn.functional.relu(x + shortcut)\n",
        "        # x = torch.nn.functional.max_pool2d(x, kernel_size=(2, 2), stride=(2, 2))\n",
        "        x = self.block_4(x)\n",
        "        x = self.block_5(x)\n",
        "        x = self.avgpool(x)\n",
        "        x = x.view(x.size(0), -1) # flatten\n",
        "\n",
        "        logits = self.classifier(x)\n",
        "        #probas = F.softmax(logits, dim=1)\n",
        "\n",
        "        return logits"
      ],
      "metadata": {
        "id": "r7hi1ANCYvY4"
      },
      "execution_count": null,
      "outputs": []
    },
    {
      "cell_type": "code",
      "source": [
        "model = VGG16(num_classes=10)\n",
        "\n",
        "model = model.to(DEVICE)\n",
        "\n",
        "optimizer = torch.optim.SGD(model.parameters(), momentum=0.9, lr=0.01)\n",
        "scheduler = torch.optim.lr_scheduler.ReduceLROnPlateau(optimizer,\n",
        "                                                       factor=0.1,\n",
        "                                                       mode='max',\n",
        "                                                       verbose=True)\n",
        "\n",
        "minibatch_loss_list, train_acc_list, valid_acc_list = train_model(\n",
        "    model=model,\n",
        "    num_epochs=NUM_EPOCHS,\n",
        "    train_loader=train_loader,\n",
        "    valid_loader=valid_loader,\n",
        "    test_loader=test_loader,\n",
        "    optimizer=optimizer,\n",
        "    device=DEVICE,\n",
        "    scheduler=scheduler,\n",
        "    scheduler_on='valid_acc',\n",
        "    logging_interval=100)"
      ],
      "metadata": {
        "colab": {
          "base_uri": "https://localhost:8080/"
        },
        "id": "JbkvhqhuYzU-",
        "outputId": "2fd49984-8705-49e4-bd9b-59b3a163492c"
      },
      "execution_count": null,
      "outputs": [
        {
          "output_type": "stream",
          "name": "stdout",
          "text": [
            "Epoch: 001/015 | Batch 0000/0175 | Loss: 4.9724\n",
            "Epoch: 001/015 | Batch 0100/0175 | Loss: 2.1768\n",
            "Epoch: 001/015 | Train: 21.40% | Validation: 21.14%\n",
            "Time elapsed: 2.18 min\n",
            "Epoch: 002/015 | Batch 0000/0175 | Loss: 1.9926\n",
            "Epoch: 002/015 | Batch 0100/0175 | Loss: 1.7494\n",
            "Epoch: 002/015 | Train: 38.56% | Validation: 38.96%\n",
            "Time elapsed: 4.30 min\n",
            "Epoch: 003/015 | Batch 0000/0175 | Loss: 1.6649\n",
            "Epoch: 003/015 | Batch 0100/0175 | Loss: 1.6144\n",
            "Epoch: 003/015 | Train: 47.31% | Validation: 47.26%\n",
            "Time elapsed: 6.44 min\n",
            "Epoch: 004/015 | Batch 0000/0175 | Loss: 1.4463\n",
            "Epoch: 004/015 | Batch 0100/0175 | Loss: 1.3584\n",
            "Epoch: 004/015 | Train: 53.67% | Validation: 53.64%\n",
            "Time elapsed: 8.58 min\n",
            "Epoch: 005/015 | Batch 0000/0175 | Loss: 1.1732\n",
            "Epoch: 005/015 | Batch 0100/0175 | Loss: 1.1146\n",
            "Epoch: 005/015 | Train: 60.62% | Validation: 61.28%\n",
            "Time elapsed: 10.72 min\n",
            "Epoch: 006/015 | Batch 0000/0175 | Loss: 1.1434\n",
            "Epoch: 006/015 | Batch 0100/0175 | Loss: 0.9809\n",
            "Epoch: 006/015 | Train: 64.79% | Validation: 65.00%\n",
            "Time elapsed: 12.87 min\n",
            "Epoch: 007/015 | Batch 0000/0175 | Loss: 1.0666\n",
            "Epoch: 007/015 | Batch 0100/0175 | Loss: 0.9048\n",
            "Epoch: 007/015 | Train: 68.92% | Validation: 68.86%\n",
            "Time elapsed: 14.99 min\n",
            "Epoch: 008/015 | Batch 0000/0175 | Loss: 0.8932\n",
            "Epoch: 008/015 | Batch 0100/0175 | Loss: 0.7644\n",
            "Epoch: 008/015 | Train: 72.99% | Validation: 72.56%\n",
            "Time elapsed: 17.11 min\n",
            "Epoch: 009/015 | Batch 0000/0175 | Loss: 0.7303\n",
            "Epoch: 009/015 | Batch 0100/0175 | Loss: 0.6254\n",
            "Epoch: 009/015 | Train: 77.60% | Validation: 76.04%\n",
            "Time elapsed: 19.26 min\n",
            "Epoch: 010/015 | Batch 0000/0175 | Loss: 0.6439\n",
            "Epoch: 010/015 | Batch 0100/0175 | Loss: 0.7623\n",
            "Epoch: 010/015 | Train: 80.46% | Validation: 77.66%\n",
            "Time elapsed: 21.41 min\n",
            "Epoch: 011/015 | Batch 0000/0175 | Loss: 0.6185\n",
            "Epoch: 011/015 | Batch 0100/0175 | Loss: 0.5601\n",
            "Epoch: 011/015 | Train: 81.57% | Validation: 77.60%\n",
            "Time elapsed: 23.56 min\n",
            "Epoch: 012/015 | Batch 0000/0175 | Loss: 0.4437\n",
            "Epoch: 012/015 | Batch 0100/0175 | Loss: 0.6076\n",
            "Epoch: 012/015 | Train: 84.29% | Validation: 79.86%\n",
            "Time elapsed: 25.69 min\n",
            "Epoch: 013/015 | Batch 0000/0175 | Loss: 0.6043\n",
            "Epoch: 013/015 | Batch 0100/0175 | Loss: 0.4554\n",
            "Epoch: 013/015 | Train: 84.00% | Validation: 79.66%\n",
            "Time elapsed: 27.83 min\n",
            "Epoch: 014/015 | Batch 0000/0175 | Loss: 0.5297\n",
            "Epoch: 014/015 | Batch 0100/0175 | Loss: 0.4589\n",
            "Epoch: 014/015 | Train: 87.09% | Validation: 81.26%\n",
            "Time elapsed: 29.96 min\n",
            "Epoch: 015/015 | Batch 0000/0175 | Loss: 0.4933\n",
            "Epoch: 015/015 | Batch 0100/0175 | Loss: 0.4003\n",
            "Epoch: 015/015 | Train: 88.62% | Validation: 82.06%\n",
            "Time elapsed: 32.09 min\n",
            "Total Training Time: 32.09 min\n",
            "Test accuracy 81.62%\n"
          ]
        }
      ]
    },
    {
      "cell_type": "code",
      "source": [
        "plot_training_loss(minibatch_loss_list=minibatch_loss_list,\n",
        "                   num_epochs=NUM_EPOCHS,\n",
        "                   iter_per_epoch=len(train_loader),\n",
        "                   results_dir=None,\n",
        "                   averaging_iterations=200)\n",
        "plt.show()\n",
        "\n",
        "plot_accuracy(train_acc_list=train_acc_list,\n",
        "              valid_acc_list=valid_acc_list,\n",
        "              results_dir=None)\n",
        "plt.ylim([60, 100])\n",
        "plt.show()\n",
        "\n",
        "\n",
        "\n",
        "\n",
        "\n",
        "\n",
        "\n",
        "\n",
        "\n",
        "\n",
        "\n",
        "\n",
        "\n",
        "\n",
        "\n",
        "\n",
        "\n",
        "\n",
        "\n",
        "\n",
        "\n",
        "\n"
      ],
      "metadata": {
        "colab": {
          "base_uri": "https://localhost:8080/",
          "height": 581
        },
        "id": "84B921qWY4mj",
        "outputId": "aa8a4c25-265c-4188-b655-50cb5ca54ab6"
      },
      "execution_count": null,
      "outputs": [
        {
          "output_type": "display_data",
          "data": {
            "text/plain": [
              "<Figure size 432x288 with 2 Axes>"
            ],
            "image/png": "[encoded data removed]"
          },
          "metadata": {
            "needs_background": "light"
          }
        },
        {
          "output_type": "display_data",
          "data": {
            "text/plain": [
              "<Figure size 432x288 with 1 Axes>"
            ],
            "image/png": "[encoded data removed]"
          },
          "metadata": {
            "needs_background": "light"
          }
        }
      ]
    },
    {
      "cell_type": "code",
      "source": [
        "print('Test accuracy: %.2f%%' % (compute_accuracy(model, test_loader, DEVICE)))"
      ],
      "metadata": {
        "id": "bBj20porInt7",
        "colab": {
          "base_uri": "https://localhost:8080/"
        },
        "outputId": "27265d49-ed21-470b-ef63-551794cfc040"
      },
      "execution_count": null,
      "outputs": [
        {
          "output_type": "stream",
          "name": "stdout",
          "text": [
            "Test accuracy: 81.62%\n"
          ]
        }
      ]
    },
    {
      "cell_type": "code",
      "source": [],
      "metadata": {
        "id": "3L0IoPYxPBvW"
      },
      "execution_count": null,
      "outputs": []
    }
  ]
}