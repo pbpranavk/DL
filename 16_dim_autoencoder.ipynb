{
  "cells": [
    {
      "cell_type": "markdown",
      "source": [
        "## In this attempt I tried reducing the convolution filters size and increased the latent space to 16 dimensions, the results were better than the previous model as they were sharp as well as they were able to correctly decode the input, it was successful in decoding very hard samples like the ones in 12th and 14th column\n",
        "\n",
        "## This model has better results than compared to the previous model even though it has just 200k params and the earlier model had 300k params."
      ],
      "metadata": {
        "id": "gkh0hx-xaHhy"
      }
    },
    {
      "cell_type": "markdown",
      "metadata": {
        "id": "MkoGLH_Tj5wn"
      },
      "source": [
        "## Imports"
      ]
    },
    {
      "cell_type": "code",
      "execution_count": null,
      "metadata": {
        "id": "ORj09gnrj5wp"
      },
      "outputs": [],
      "source": [
        "import torch\n",
        "import torch.nn as nn\n",
        "import matplotlib.pyplot as plt"
      ]
    },
    {
      "cell_type": "markdown",
      "metadata": {
        "id": "0La6NChED9cA"
      },
      "source": [
        "#### Import utility functions"
      ]
    },
    {
      "cell_type": "code",
      "execution_count": null,
      "metadata": {
        "id": "nTJrtTNxD9cB"
      },
      "outputs": [],
      "source": [
        "from helper_data import get_dataloaders_mnist\n",
        "from helper_train import train_autoencoder_v1\n",
        "from helper_utils import set_deterministic, set_all_seeds\n",
        "from helper_plotting import plot_training_loss\n",
        "from helper_plotting import plot_generated_images\n",
        "from helper_plotting import plot_latent_space_with_labels"
      ]
    },
    {
      "cell_type": "code",
      "execution_count": null,
      "metadata": {
        "colab": {
          "base_uri": "https://localhost:8080/"
        },
        "id": "NnT0sZIwj5wu",
        "outputId": "3246da81-11c6-45e7-f23a-49a89588a5bf"
      },
      "outputs": [
        {
          "output_type": "stream",
          "name": "stdout",
          "text": [
            "Device: cuda:0\n"
          ]
        }
      ],
      "source": [
        "##########################\n",
        "### SETTINGS\n",
        "##########################\n",
        "\n",
        "# Device\n",
        "CUDA_DEVICE_NUM = 3\n",
        "NUM_CLASSES = 10\n",
        "DEVICE = torch.device(f'cuda:{0}' if torch.cuda.is_available() else 'cpu')\n",
        "print('Device:', DEVICE)\n",
        "\n",
        "# Hyperparameters\n",
        "RANDOM_SEED = 123\n",
        "LEARNING_RATE = 0.0005\n",
        "BATCH_SIZE = 32\n",
        "NUM_EPOCHS = 10"
      ]
    },
    {
      "cell_type": "code",
      "execution_count": null,
      "metadata": {
        "id": "TLF_8xLVD9cD"
      },
      "outputs": [],
      "source": [
        "\n",
        "set_deterministic\n",
        "set_all_seeds(RANDOM_SEED)"
      ]
    },
    {
      "cell_type": "markdown",
      "metadata": {
        "id": "Piw9gQfoD9cD"
      },
      "source": [
        "## Dataset"
      ]
    },
    {
      "cell_type": "code",
      "execution_count": null,
      "metadata": {
        "colab": {
          "base_uri": "https://localhost:8080/",
          "height": 423,
          "referenced_widgets": [
            "8861ee02ff3c469cafd9ee24f29acfc2",
            "eb0f52fdb29e466a816bd1d8624d22c2",
            "b8f31eec6fa845f4ade5123a3ce67423",
            "60e98335629e4a11b381384425ffbdba",
            "4f37c1e7166a433d9283fb38d23bd043",
            "8147565a612f4ce7b6b40ec3dc62cf73",
            "8861bf9eaf76408888d96e78455d636e",
            "7f7dd79b643a4b49b12fe82ef55065e9",
            "07da0b8823314835af61fbadf54b133b",
            "2f6e38a6c0fb41d883a8069afe7304f5",
            "045070fbae2a49dfbacf803f61547c06",
            "b38c34fadcb9442d86fc07a2eef1e76e",
            "64fcedd8bfdc4bf881e3e8788ffe2741",
            "8e16fc7ca50040849ca1c91d6ff0868e",
            "1e3c7ab438b84c0cbd7add6e18629dd1",
            "cfcf036b5d85488aa842cda848248691",
            "5951f6927ddc475394e170baa291f57a",
            "cd56b22a91444cc58233e4cbd19d9a9c",
            "48e4c9e656b044788f872ab42c89ee06",
            "82e7fb8bdfe6403892e99830ea32467e",
            "e32e119397c94de397fb2437b5b1b173",
            "5d9120a6ea80449798a0a04c32c4fdce",
            "bbaee7d15d134ba0a2a3dab713cd17bd",
            "0d25a32f4b894b27a4eb1f0bb7154a34",
            "ca54bcbfa6be44dcacd899b798955990",
            "af48050fca2a4d13aaacf2e690b2ed84",
            "4ac192df02f84254851c186304aefb23",
            "a523df767fec4f799d92bf80d2871150",
            "7108bf053063427e8f5d9dd63d1197a9",
            "b1feeb9747924b6399035e2e38aa0207",
            "a73b598972cf4590be034e7ef261b3a5",
            "76f34233f8d449f09921d774fd316c30",
            "9e086e893d0241369a6b70222687d2eb",
            "e8a9019ec11f4227ae0c756baf1e3095",
            "298aa3b59890405fa67a6146993cb852",
            "06f6aa288d3646739f7baa7cc13e1f3d",
            "e9152fe99bed4e16ae863cb3295a6735",
            "d828ef3f6db74834a98557fb42f85251",
            "c7f57eca57ab426183d14423588e1c84",
            "b50e27ea0c1040fab148a020081816f5",
            "999b08d4236a479ca8747f201919fc10",
            "d3b9269f8b7a49a58d0a1e7079d5d61e",
            "4447114a8749434cbd1e0c43a0f371d1",
            "b8cd19283c444ad0b640f35147ba1385"
          ]
        },
        "id": "2P0c6aRbD9cE",
        "outputId": "00a4ef5c-c7e6-4e1a-e72d-e05cfd841ff3"
      },
      "outputs": [
        {
          "output_type": "stream",
          "name": "stdout",
          "text": [
            "Downloading http://yann.lecun.com/exdb/mnist/train-images-idx3-ubyte.gz\n",
            "Downloading http://yann.lecun.com/exdb/mnist/train-images-idx3-ubyte.gz to data/MNIST/raw/train-images-idx3-ubyte.gz\n"
          ]
        },
        {
          "output_type": "display_data",
          "data": {
            "text/plain": [
              "  0%|          | 0/9912422 [00:00<?, ?it/s]"
            ],
            "application/vnd.jupyter.widget-view+json": {
              "version_major": 2,
              "version_minor": 0,
              "model_id": "8861ee02ff3c469cafd9ee24f29acfc2"
            }
          },
          "metadata": {}
        },
        {
          "output_type": "stream",
          "name": "stdout",
          "text": [
            "Extracting data/MNIST/raw/train-images-idx3-ubyte.gz to data/MNIST/raw\n",
            "\n",
            "Downloading http://yann.lecun.com/exdb/mnist/train-labels-idx1-ubyte.gz\n",
            "Downloading http://yann.lecun.com/exdb/mnist/train-labels-idx1-ubyte.gz to data/MNIST/raw/train-labels-idx1-ubyte.gz\n"
          ]
        },
        {
          "output_type": "display_data",
          "data": {
            "text/plain": [
              "  0%|          | 0/28881 [00:00<?, ?it/s]"
            ],
            "application/vnd.jupyter.widget-view+json": {
              "version_major": 2,
              "version_minor": 0,
              "model_id": "b38c34fadcb9442d86fc07a2eef1e76e"
            }
          },
          "metadata": {}
        },
        {
          "output_type": "stream",
          "name": "stdout",
          "text": [
            "Extracting data/MNIST/raw/train-labels-idx1-ubyte.gz to data/MNIST/raw\n",
            "\n",
            "Downloading http://yann.lecun.com/exdb/mnist/t10k-images-idx3-ubyte.gz\n",
            "Downloading http://yann.lecun.com/exdb/mnist/t10k-images-idx3-ubyte.gz to data/MNIST/raw/t10k-images-idx3-ubyte.gz\n"
          ]
        },
        {
          "output_type": "display_data",
          "data": {
            "text/plain": [
              "  0%|          | 0/1648877 [00:00<?, ?it/s]"
            ],
            "application/vnd.jupyter.widget-view+json": {
              "version_major": 2,
              "version_minor": 0,
              "model_id": "bbaee7d15d134ba0a2a3dab713cd17bd"
            }
          },
          "metadata": {}
        },
        {
          "output_type": "stream",
          "name": "stdout",
          "text": [
            "Extracting data/MNIST/raw/t10k-images-idx3-ubyte.gz to data/MNIST/raw\n",
            "\n",
            "Downloading http://yann.lecun.com/exdb/mnist/t10k-labels-idx1-ubyte.gz\n",
            "Downloading http://yann.lecun.com/exdb/mnist/t10k-labels-idx1-ubyte.gz to data/MNIST/raw/t10k-labels-idx1-ubyte.gz\n"
          ]
        },
        {
          "output_type": "display_data",
          "data": {
            "text/plain": [
              "  0%|          | 0/4542 [00:00<?, ?it/s]"
            ],
            "application/vnd.jupyter.widget-view+json": {
              "version_major": 2,
              "version_minor": 0,
              "model_id": "e8a9019ec11f4227ae0c756baf1e3095"
            }
          },
          "metadata": {}
        },
        {
          "output_type": "stream",
          "name": "stdout",
          "text": [
            "Extracting data/MNIST/raw/t10k-labels-idx1-ubyte.gz to data/MNIST/raw\n",
            "\n"
          ]
        }
      ],
      "source": [
        "##########################\n",
        "### Dataset\n",
        "##########################\n",
        "\n",
        "train_loader, valid_loader, test_loader = get_dataloaders_mnist(\n",
        "    batch_size=BATCH_SIZE,\n",
        "    num_workers=2,\n",
        "    validation_fraction=0.)"
      ]
    },
    {
      "cell_type": "code",
      "execution_count": null,
      "metadata": {
        "colab": {
          "base_uri": "https://localhost:8080/"
        },
        "id": "Ll9oFgWZD9cE",
        "outputId": "3d2a9fde-ea2a-4279-dd22-d2bcbf046671"
      },
      "outputs": [
        {
          "output_type": "stream",
          "name": "stdout",
          "text": [
            "Training Set:\n",
            "\n",
            "Image batch dimensions: torch.Size([32, 1, 28, 28])\n",
            "Image label dimensions: torch.Size([32])\n",
            "tensor([1, 2, 1, 9, 0, 6, 9, 8, 0, 1])\n",
            "\n",
            "Validation Set:\n",
            "\n",
            "Testing Set:\n",
            "Image batch dimensions: torch.Size([32, 1, 28, 28])\n",
            "Image label dimensions: torch.Size([32])\n",
            "tensor([7, 2, 1, 0, 4, 1, 4, 9, 5, 9])\n"
          ]
        }
      ],
      "source": [
        "# Checking the dataset\n",
        "print('Training Set:\\n')\n",
        "for images, labels in train_loader:\n",
        "    print('Image batch dimensions:', images.size())\n",
        "    print('Image label dimensions:', labels.size())\n",
        "    print(labels[:10])\n",
        "    break\n",
        "\n",
        "# Checking the dataset\n",
        "print('\\nValidation Set:')\n",
        "for images, labels in valid_loader:\n",
        "    print('Image batch dimensions:', images.size())\n",
        "    print('Image label dimensions:', labels.size())\n",
        "    print(labels[:10])\n",
        "    break\n",
        "\n",
        "# Checking the dataset\n",
        "print('\\nTesting Set:')\n",
        "for images, labels in test_loader:\n",
        "    print('Image batch dimensions:', images.size())\n",
        "    print('Image label dimensions:', labels.size())\n",
        "    print(labels[:10])\n",
        "    break"
      ]
    },
    {
      "cell_type": "markdown",
      "metadata": {
        "id": "DgRVKtsCD9cF"
      },
      "source": [
        "## Model"
      ]
    },
    {
      "cell_type": "code",
      "execution_count": null,
      "metadata": {
        "id": "uyENJ3nCD9cF"
      },
      "outputs": [],
      "source": [
        "##########################\n",
        "### MODEL\n",
        "##########################\n",
        "\n",
        "\n",
        "class Reshape(nn.Module):\n",
        "    def __init__(self, *args):\n",
        "        super().__init__()\n",
        "        self.shape = args\n",
        "\n",
        "    def forward(self, x):\n",
        "        return x.view(self.shape)\n",
        "\n",
        "\n",
        "class Trim(nn.Module):\n",
        "    def __init__(self, *args):\n",
        "        super().__init__()\n",
        "\n",
        "    def forward(self, x):\n",
        "        return x[:, :, :28, :28]\n",
        "\n",
        "\n",
        "class AutoEncoder(nn.Module):\n",
        "    def __init__(self):\n",
        "        super().__init__()\n",
        "\n",
        "        self.encoder = nn.Sequential( #784\n",
        "                nn.Conv2d(1, 16, stride=(1, 1), kernel_size=(3, 3), padding=1),\n",
        "                nn.LeakyReLU(0.01),\n",
        "                nn.Conv2d(16, 32, stride=(2, 2), kernel_size=(3, 3), padding=1),\n",
        "                nn.LeakyReLU(0.01),\n",
        "                nn.Conv2d(32, 64, stride=(2, 2), kernel_size=(3, 3), padding=1),\n",
        "                nn.LeakyReLU(0.01),\n",
        "                nn.Conv2d(64, 64, stride=(1, 1), kernel_size=(3, 3), padding=1),\n",
        "                nn.Flatten(),\n",
        "                nn.Linear(64 * 7 * 7, 16)\n",
        "        )\n",
        "        self.decoder = nn.Sequential(\n",
        "                torch.nn.Linear(16, 64 * 7 * 7),\n",
        "                Reshape(-1, 64, 7, 7),\n",
        "                nn.ConvTranspose2d(64, 64, stride=(1, 1), kernel_size=(3, 3), padding=1),\n",
        "                nn.LeakyReLU(0.01),\n",
        "                nn.ConvTranspose2d(64, 32, stride=(2, 2), kernel_size=(3, 3), padding=1),\n",
        "                nn.LeakyReLU(0.01),\n",
        "                nn.ConvTranspose2d(32, 16, stride=(2, 2), kernel_size=(3, 3), padding=0),\n",
        "                nn.LeakyReLU(0.01),\n",
        "                nn.ConvTranspose2d(16, 1, stride=(1, 1), kernel_size=(3, 3), padding=0),\n",
        "                Trim(),  # 1x29x29 -> 1x28x28\n",
        "                nn.Sigmoid()\n",
        "                )\n",
        "\n",
        "    def forward(self, x):\n",
        "        x = self.encoder(x)\n",
        "        x = self.decoder(x)\n",
        "        return x"
      ]
    },
    {
      "cell_type": "code",
      "source": [
        "set_all_seeds(RANDOM_SEED)"
      ],
      "metadata": {
        "id": "o1X04x0fQFeR"
      },
      "execution_count": null,
      "outputs": []
    },
    {
      "cell_type": "code",
      "execution_count": null,
      "metadata": {
        "id": "_lza9t_uj5w1"
      },
      "outputs": [],
      "source": [
        "model = AutoEncoder()\n",
        "model.to(DEVICE)\n",
        "\n",
        "optimizer = torch.optim.Adam(model.parameters(), lr=LEARNING_RATE)"
      ]
    },
    {
      "cell_type": "code",
      "source": [
        "sum(p.numel() for p in model.parameters() if p.requires_grad)"
      ],
      "metadata": {
        "colab": {
          "base_uri": "https://localhost:8080/"
        },
        "id": "fLBjXqI_NkWO",
        "outputId": "d491a5d3-fe2f-4137-e2e7-9dcda0a4bf25"
      },
      "execution_count": null,
      "outputs": [
        {
          "output_type": "execute_result",
          "data": {
            "text/plain": [
              "223889"
            ]
          },
          "metadata": {},
          "execution_count": 10
        }
      ]
    },
    {
      "cell_type": "markdown",
      "metadata": {
        "id": "RAodboScj5w6"
      },
      "source": [
        "## Training"
      ]
    },
    {
      "cell_type": "code",
      "execution_count": null,
      "metadata": {
        "colab": {
          "base_uri": "https://localhost:8080/"
        },
        "id": "Dzh3ROmRj5w7",
        "outputId": "d59f8e9c-0f77-418f-e8cf-52995b75c30e"
      },
      "outputs": [
        {
          "output_type": "stream",
          "name": "stdout",
          "text": [
            "Epoch: 001/010 | Batch 0000/1875 | Loss: 0.1902\n",
            "Epoch: 001/010 | Batch 0250/1875 | Loss: 0.0525\n",
            "Epoch: 001/010 | Batch 0500/1875 | Loss: 0.0238\n",
            "Epoch: 001/010 | Batch 0750/1875 | Loss: 0.0156\n",
            "Epoch: 001/010 | Batch 1000/1875 | Loss: 0.0169\n",
            "Epoch: 001/010 | Batch 1250/1875 | Loss: 0.0143\n",
            "Epoch: 001/010 | Batch 1500/1875 | Loss: 0.0117\n",
            "Epoch: 001/010 | Batch 1750/1875 | Loss: 0.0117\n",
            "Time elapsed: 0.89 min\n",
            "Epoch: 002/010 | Batch 0000/1875 | Loss: 0.0136\n",
            "Epoch: 002/010 | Batch 0250/1875 | Loss: 0.0111\n",
            "Epoch: 002/010 | Batch 0500/1875 | Loss: 0.0117\n",
            "Epoch: 002/010 | Batch 0750/1875 | Loss: 0.0106\n",
            "Epoch: 002/010 | Batch 1000/1875 | Loss: 0.0100\n",
            "Epoch: 002/010 | Batch 1250/1875 | Loss: 0.0101\n",
            "Epoch: 002/010 | Batch 1500/1875 | Loss: 0.0090\n",
            "Epoch: 002/010 | Batch 1750/1875 | Loss: 0.0109\n",
            "Time elapsed: 1.72 min\n",
            "Epoch: 003/010 | Batch 0000/1875 | Loss: 0.0094\n",
            "Epoch: 003/010 | Batch 0250/1875 | Loss: 0.0096\n",
            "Epoch: 003/010 | Batch 0500/1875 | Loss: 0.0102\n",
            "Epoch: 003/010 | Batch 0750/1875 | Loss: 0.0079\n",
            "Epoch: 003/010 | Batch 1000/1875 | Loss: 0.0081\n",
            "Epoch: 003/010 | Batch 1250/1875 | Loss: 0.0132\n",
            "Epoch: 003/010 | Batch 1500/1875 | Loss: 0.0076\n",
            "Epoch: 003/010 | Batch 1750/1875 | Loss: 0.0071\n",
            "Time elapsed: 2.51 min\n",
            "Epoch: 004/010 | Batch 0000/1875 | Loss: 0.0090\n",
            "Epoch: 004/010 | Batch 0250/1875 | Loss: 0.0099\n",
            "Epoch: 004/010 | Batch 0500/1875 | Loss: 0.0084\n",
            "Epoch: 004/010 | Batch 0750/1875 | Loss: 0.0103\n",
            "Epoch: 004/010 | Batch 1000/1875 | Loss: 0.0103\n",
            "Epoch: 004/010 | Batch 1250/1875 | Loss: 0.0078\n",
            "Epoch: 004/010 | Batch 1500/1875 | Loss: 0.0079\n",
            "Epoch: 004/010 | Batch 1750/1875 | Loss: 0.0097\n",
            "Time elapsed: 3.30 min\n",
            "Epoch: 005/010 | Batch 0000/1875 | Loss: 0.0084\n",
            "Epoch: 005/010 | Batch 0250/1875 | Loss: 0.0094\n",
            "Epoch: 005/010 | Batch 0500/1875 | Loss: 0.0089\n",
            "Epoch: 005/010 | Batch 0750/1875 | Loss: 0.0092\n",
            "Epoch: 005/010 | Batch 1000/1875 | Loss: 0.0076\n",
            "Epoch: 005/010 | Batch 1250/1875 | Loss: 0.0088\n",
            "Epoch: 005/010 | Batch 1500/1875 | Loss: 0.0079\n",
            "Epoch: 005/010 | Batch 1750/1875 | Loss: 0.0089\n",
            "Time elapsed: 4.08 min\n",
            "Epoch: 006/010 | Batch 0000/1875 | Loss: 0.0061\n",
            "Epoch: 006/010 | Batch 0250/1875 | Loss: 0.0081\n",
            "Epoch: 006/010 | Batch 0500/1875 | Loss: 0.0083\n",
            "Epoch: 006/010 | Batch 0750/1875 | Loss: 0.0098\n",
            "Epoch: 006/010 | Batch 1000/1875 | Loss: 0.0063\n",
            "Epoch: 006/010 | Batch 1250/1875 | Loss: 0.0071\n",
            "Epoch: 006/010 | Batch 1500/1875 | Loss: 0.0086\n",
            "Epoch: 006/010 | Batch 1750/1875 | Loss: 0.0066\n",
            "Time elapsed: 4.86 min\n",
            "Epoch: 007/010 | Batch 0000/1875 | Loss: 0.0069\n",
            "Epoch: 007/010 | Batch 0250/1875 | Loss: 0.0082\n",
            "Epoch: 007/010 | Batch 0500/1875 | Loss: 0.0073\n",
            "Epoch: 007/010 | Batch 0750/1875 | Loss: 0.0078\n",
            "Epoch: 007/010 | Batch 1000/1875 | Loss: 0.0072\n",
            "Epoch: 007/010 | Batch 1250/1875 | Loss: 0.0081\n",
            "Epoch: 007/010 | Batch 1500/1875 | Loss: 0.0081\n",
            "Epoch: 007/010 | Batch 1750/1875 | Loss: 0.0075\n",
            "Time elapsed: 5.64 min\n",
            "Epoch: 008/010 | Batch 0000/1875 | Loss: 0.0072\n",
            "Epoch: 008/010 | Batch 0250/1875 | Loss: 0.0071\n",
            "Epoch: 008/010 | Batch 0500/1875 | Loss: 0.0068\n",
            "Epoch: 008/010 | Batch 0750/1875 | Loss: 0.0065\n",
            "Epoch: 008/010 | Batch 1000/1875 | Loss: 0.0070\n",
            "Epoch: 008/010 | Batch 1250/1875 | Loss: 0.0066\n",
            "Epoch: 008/010 | Batch 1500/1875 | Loss: 0.0092\n",
            "Epoch: 008/010 | Batch 1750/1875 | Loss: 0.0089\n",
            "Time elapsed: 6.45 min\n",
            "Epoch: 009/010 | Batch 0000/1875 | Loss: 0.0074\n",
            "Epoch: 009/010 | Batch 0250/1875 | Loss: 0.0083\n",
            "Epoch: 009/010 | Batch 0500/1875 | Loss: 0.0068\n",
            "Epoch: 009/010 | Batch 0750/1875 | Loss: 0.0069\n",
            "Epoch: 009/010 | Batch 1000/1875 | Loss: 0.0086\n",
            "Epoch: 009/010 | Batch 1250/1875 | Loss: 0.0070\n",
            "Epoch: 009/010 | Batch 1500/1875 | Loss: 0.0079\n",
            "Epoch: 009/010 | Batch 1750/1875 | Loss: 0.0064\n",
            "Time elapsed: 7.23 min\n",
            "Epoch: 010/010 | Batch 0000/1875 | Loss: 0.0080\n",
            "Epoch: 010/010 | Batch 0250/1875 | Loss: 0.0072\n",
            "Epoch: 010/010 | Batch 0500/1875 | Loss: 0.0074\n",
            "Epoch: 010/010 | Batch 0750/1875 | Loss: 0.0083\n",
            "Epoch: 010/010 | Batch 1000/1875 | Loss: 0.0075\n",
            "Epoch: 010/010 | Batch 1250/1875 | Loss: 0.0082\n",
            "Epoch: 010/010 | Batch 1500/1875 | Loss: 0.0068\n",
            "Epoch: 010/010 | Batch 1750/1875 | Loss: 0.0068\n",
            "Time elapsed: 8.01 min\n",
            "Total Training Time: 8.01 min\n"
          ]
        }
      ],
      "source": [
        "log_dict = train_autoencoder_v1(num_epochs=NUM_EPOCHS, model=model,\n",
        "                                optimizer=optimizer, device=DEVICE,\n",
        "                                train_loader=train_loader,\n",
        "                                skip_epoch_stats=True,\n",
        "                                logging_interval=250)"
      ]
    },
    {
      "cell_type": "markdown",
      "metadata": {
        "id": "sUWJqlDaD9cJ"
      },
      "source": [
        "## Evaluation"
      ]
    },
    {
      "cell_type": "code",
      "execution_count": null,
      "metadata": {
        "colab": {
          "base_uri": "https://localhost:8080/",
          "height": 297
        },
        "id": "za-CThqUD9cJ",
        "outputId": "4e4163f6-1928-43f2-bfd5-1d1673b686b7"
      },
      "outputs": [
        {
          "output_type": "display_data",
          "data": {
            "text/plain": [
              "<Figure size 432x288 with 2 Axes>"
            ],
            "image/png": "[encoded data removed]"
          },
          "metadata": {
            "needs_background": "light"
          }
        }
      ],
      "source": [
        "plot_training_loss(log_dict['train_loss_per_batch'], NUM_EPOCHS)\n",
        "plt.show()"
      ]
    },
    {
      "cell_type": "markdown",
      "source": [
        "![_16_channel.jpeg](data:image/jpeg;base64,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)"
      ],
      "metadata": {
        "id": "VMqBEoDZjz4o"
      }
    },
    {
      "cell_type": "markdown",
      "source": [
        "## This model with 16 dimension latent space"
      ],
      "metadata": {
        "id": "z7yQU_gbVom7"
      }
    },
    {
      "cell_type": "code",
      "source": [
        "plot_generated_images(data_loader=train_loader, model=model, device=DEVICE)"
      ],
      "metadata": {
        "colab": {
          "base_uri": "https://localhost:8080/",
          "height": 167
        },
        "id": "VeslrkWIG98x",
        "outputId": "07a84aaa-a3bd-4c35-b07f-a7fe6c2e7c21"
      },
      "execution_count": null,
      "outputs": [
        {
          "output_type": "display_data",
          "data": {
            "text/plain": [
              "<Figure size 1440x180 with 30 Axes>"
            ],
            "image/png": "[encoded data removed]"
          },
          "metadata": {
            "needs_background": "light"
          }
        }
      ]
    },
    {
      "cell_type": "code",
      "execution_count": null,
      "metadata": {
        "colab": {
          "base_uri": "https://localhost:8080/",
          "height": 265
        },
        "id": "TXmxVui7D9cK",
        "outputId": "5012cd1c-794f-4ccb-a67e-3c1c6311f89f"
      },
      "outputs": [
        {
          "output_type": "display_data",
          "data": {
            "text/plain": [
              "<Figure size 432x288 with 1 Axes>"
            ],
            "image/png": "[encoded data removed]"
          },
          "metadata": {
            "needs_background": "light"
          }
        }
      ],
      "source": [
        "plot_latent_space_with_labels(\n",
        "    num_classes=NUM_CLASSES,\n",
        "    data_loader=train_loader,\n",
        "    model=model,\n",
        "    device=DEVICE)\n",
        "\n",
        "plt.legend()\n",
        "plt.show()"
      ]
    },
    {
      "cell_type": "markdown",
      "source": [
        "## Decoding one particular image and a new image (Not part of exercise)"
      ],
      "metadata": {
        "id": "yxn6LPuFW2hG"
      }
    },
    {
      "cell_type": "code",
      "source": [
        "sample_img = None\n",
        "sample_labels = None\n",
        "for images, labels in train_loader:\n",
        "    sample_img = images\n",
        "    sample_labels = labels\n",
        "    break"
      ],
      "metadata": {
        "id": "2OEB5rF_Ht_S"
      },
      "execution_count": null,
      "outputs": []
    },
    {
      "cell_type": "code",
      "source": [
        "sample_img = sample_img.to(DEVICE)\n",
        "encoded_sample =  model.encoder(sample_img)"
      ],
      "metadata": {
        "id": "27bl_PZrJiRt"
      },
      "execution_count": null,
      "outputs": []
    },
    {
      "cell_type": "code",
      "source": [
        "len(encoded_sample)"
      ],
      "metadata": {
        "colab": {
          "base_uri": "https://localhost:8080/"
        },
        "id": "3nDWRWykKOQR",
        "outputId": "6210d867-b8d6-466e-e3fb-0b2d116bf2e2"
      },
      "execution_count": null,
      "outputs": [
        {
          "output_type": "execute_result",
          "data": {
            "text/plain": [
              "32"
            ]
          },
          "metadata": {},
          "execution_count": 18
        }
      ]
    },
    {
      "cell_type": "code",
      "source": [
        "len(encoded_sample[7])"
      ],
      "metadata": {
        "colab": {
          "base_uri": "https://localhost:8080/"
        },
        "id": "a1YEG-34KPxd",
        "outputId": "b820914d-bb15-423a-f748-32f560860205"
      },
      "execution_count": null,
      "outputs": [
        {
          "output_type": "execute_result",
          "data": {
            "text/plain": [
              "16"
            ]
          },
          "metadata": {},
          "execution_count": 19
        }
      ]
    },
    {
      "cell_type": "code",
      "source": [
        "sample_labels[7]"
      ],
      "metadata": {
        "colab": {
          "base_uri": "https://localhost:8080/"
        },
        "id": "XQseOb8bKY_6",
        "outputId": "eba0dade-7cbe-4a93-f7c8-3fd3a8cce564"
      },
      "execution_count": null,
      "outputs": [
        {
          "output_type": "execute_result",
          "data": {
            "text/plain": [
              "tensor(4)"
            ]
          },
          "metadata": {},
          "execution_count": 20
        }
      ]
    },
    {
      "cell_type": "code",
      "source": [
        "encoded_sample[7]"
      ],
      "metadata": {
        "colab": {
          "base_uri": "https://localhost:8080/"
        },
        "id": "3iG1IVwBKcbP",
        "outputId": "03ce4759-d8f9-4e5c-a2cc-057cfdc3ecce"
      },
      "execution_count": null,
      "outputs": [
        {
          "output_type": "execute_result",
          "data": {
            "text/plain": [
              "tensor([ 2.0732,  6.0997,  2.0306,  0.4322,  3.8104,  3.7257,  7.4104, -2.4846,\n",
              "         5.6626, -1.5646, -7.7405,  7.4450,  2.5906, -1.8175, -4.4246, -3.3760],\n",
              "       device='cuda:0', grad_fn=<SelectBackward0>)"
            ]
          },
          "metadata": {},
          "execution_count": 21
        }
      ]
    },
    {
      "cell_type": "code",
      "execution_count": null,
      "metadata": {
        "colab": {
          "base_uri": "https://localhost:8080/",
          "height": 265
        },
        "id": "9VZouxdxD9cK",
        "outputId": "1352c02d-e6fb-4c3d-f419-cb3014989938"
      },
      "outputs": [
        {
          "output_type": "display_data",
          "data": {
            "text/plain": [
              "<Figure size 432x288 with 1 Axes>"
            ],
            "image/png": "[encoded data removed]"
          },
          "metadata": {
            "needs_background": "light"
          }
        }
      ],
      "source": [
        "with torch.no_grad():\n",
        "    new_image = model.decoder(encoded_sample[7].to(DEVICE))\n",
        "    new_image.squeeze_(0)\n",
        "    new_image.squeeze_(0)\n",
        "plt.imshow(new_image.to('cpu').numpy(), cmap='binary')\n",
        "plt.show()"
      ]
    },
    {
      "cell_type": "code",
      "source": [
        "with torch.no_grad():\n",
        "    new_image = model.decoder(torch.tensor([-0.9530,  4.7536, -1.7579,  2.1931,  1.6892,  0.1474, -0.9897, -0.8492,\n",
        "        -5.8476, -2.1962,  5.0543, -7.7104, -8.0243,  0.0736,  5.2480,  7.1616]).to(DEVICE))\n",
        "    new_image.squeeze_(0)\n",
        "    new_image.squeeze_(0)\n",
        "plt.imshow(new_image.to('cpu').numpy(), cmap='binary')\n",
        "plt.show()"
      ],
      "metadata": {
        "colab": {
          "base_uri": "https://localhost:8080/",
          "height": 265
        },
        "id": "O9TebbDsHasl",
        "outputId": "a3339a45-7320-41f4-e26c-fb8f989db757"
      },
      "execution_count": null,
      "outputs": [
        {
          "output_type": "display_data",
          "data": {
            "text/plain": [
              "<Figure size 432x288 with 1 Axes>"
            ],
            "image/png": "[encoded data removed]"
          },
          "metadata": {
            "needs_background": "light"
          }
        }
      ]
    },
    {
      "cell_type": "markdown",
      "source": [
        "# Final thoughts - I feel the more number of convoluted paremeters the worse becomes the performance of the autoencoder and the more the nerons in latent space the better the performance gets.\n",
        "\n",
        "# If I had to solve this kind of a problem in the future, I would use fewer Convoluted layers and more neurons in the latent space."
      ],
      "metadata": {
        "id": "_BAVo0Wvj3pL"
      }
    },
    {
      "cell_type": "markdown",
      "source": [
        "## Answer 2 - Adding noise and comparing the output"
      ],
      "metadata": {
        "id": "ILp-GJa8atRH"
      }
    },
    {
      "cell_type": "code",
      "source": [
        "import numpy as np\n",
        "noise_factor = 0.2"
      ],
      "metadata": {
        "id": "CC2mEZZwXQPD"
      },
      "execution_count": null,
      "outputs": []
    },
    {
      "cell_type": "code",
      "source": [
        "def generate_and_plot_noisy_data(noise_factor=0.2):\n",
        "  fig, axes = plt.subplots(2, 10,figsize=(20, 2.5))\n",
        "  fig.tight_layout()\n",
        "  for images, labels in test_loader:\n",
        "      sample_test_images = images[:10]\n",
        "      noisy_imgs = sample_test_images + noise_factor * torch.randn(*sample_test_images.shape)\n",
        "      noisy_imgs = np.clip(noisy_imgs, 0., 1.)\n",
        "      labels = labels[:10]\n",
        "\n",
        "      for idx, label in enumerate(labels):\n",
        "        print(f\"Label : {label}\")\n",
        "        with torch.no_grad():\n",
        "\n",
        "          sample_test_images = sample_test_images.to(DEVICE)\n",
        "          encoded_sample_test_images =  model.encoder(sample_test_images)\n",
        "\n",
        "\n",
        "          new_image = model.decoder(encoded_sample_test_images[idx].to(DEVICE))\n",
        "          new_image.squeeze_(0)\n",
        "          new_image.squeeze_(0)\n",
        "          axes[0][idx].imshow(new_image.to('cpu').numpy(), cmap='binary')\n",
        "\n",
        "          # ------ Noisy Data -------- #\n",
        "          noisy_imgs = noisy_imgs.to(DEVICE)\n",
        "          encoded_noisy_imgs =  model.encoder(noisy_imgs)\n",
        "\n",
        "\n",
        "          noisy_image = model.decoder(encoded_noisy_imgs[idx].to(DEVICE))\n",
        "          noisy_image.squeeze_(0)\n",
        "          noisy_image.squeeze_(0)\n",
        "          axes[1][idx].imshow(noisy_image.to('cpu').numpy(), cmap='binary')\n",
        "      break\n"
      ],
      "metadata": {
        "id": "_YsHLklRW7Je"
      },
      "execution_count": null,
      "outputs": []
    },
    {
      "cell_type": "code",
      "source": [
        "generate_and_plot_noisy_data()"
      ],
      "metadata": {
        "id": "rKZiDh3fZRI-",
        "colab": {
          "base_uri": "https://localhost:8080/",
          "height": 317
        },
        "outputId": "b75b6812-fc70-46c8-a7e8-e780a2225052"
      },
      "execution_count": null,
      "outputs": [
        {
          "output_type": "stream",
          "name": "stdout",
          "text": [
            "Label : 7\n",
            "Label : 2\n",
            "Label : 1\n",
            "Label : 0\n",
            "Label : 4\n",
            "Label : 1\n",
            "Label : 4\n",
            "Label : 9\n",
            "Label : 5\n",
            "Label : 9\n"
          ]
        },
        {
          "output_type": "display_data",
          "data": {
            "text/plain": [
              "<Figure size 1440x180 with 20 Axes>"
            ],
            "image/png": "[encoded data removed]"
          },
          "metadata": {
            "needs_background": "light"
          }
        }
      ]
    },
    {
      "cell_type": "code",
      "source": [
        "generate_and_plot_noisy_data(0.4)"
      ],
      "metadata": {
        "colab": {
          "base_uri": "https://localhost:8080/",
          "height": 317
        },
        "id": "As-YCFhtfJOD",
        "outputId": "27c5000f-7d72-4300-b501-22307fa31940"
      },
      "execution_count": null,
      "outputs": [
        {
          "output_type": "stream",
          "name": "stdout",
          "text": [
            "Label : 7\n",
            "Label : 2\n",
            "Label : 1\n",
            "Label : 0\n",
            "Label : 4\n",
            "Label : 1\n",
            "Label : 4\n",
            "Label : 9\n",
            "Label : 5\n",
            "Label : 9\n"
          ]
        },
        {
          "output_type": "display_data",
          "data": {
            "text/plain": [
              "<Figure size 1440x180 with 20 Axes>"
            ],
            "image/png": "[encoded data removed]"
          },
          "metadata": {
            "needs_background": "light"
          }
        }
      ]
    },
    {
      "cell_type": "markdown",
      "source": [
        "## We can see that, wight a noise factor of 0.2 the model was able to decode the noisy images fairly efficeintly whereas the with noise factor of 0.4, there were a lot of distortions to the generated images."
      ],
      "metadata": {
        "id": "oIonzzKRfN23"
      }
    },
    {
      "cell_type": "code",
      "source": [],
      "metadata": {
        "id": "4Z2BRAU_fLww"
      },
      "execution_count": null,
      "outputs": []
    }
  ],
  "metadata": {
    "accelerator": "GPU",
    "colab": {
      "provenance": []
    },
    "kernelspec": {
      "display_name": "Python 3",
      "language": "python",
      "name": "python3"
    },
    "language_info": {
      "codemirror_mode": {
        "name": "ipython",
        "version": 3
      },
      "file_extension": ".py",
      "mimetype": "text/x-python",
      "name": "python",
      "nbconvert_exporter": "python",
      "pygments_lexer": "ipython3",
      "version": "3.9.2"
    },
    "toc": {
      "nav_menu": {},
      "number_sections": true,
      "sideBar": true,
      "skip_h1_title": false,
      "title_cell": "Table of Contents",
      "title_sidebar": "Contents",
      "toc_cell": true,
      "toc_position": {
        "height": "calc(100% - 180px)",
        "left": "10px",
        "top": "150px",
        "width": "371px"
      },
      "toc_section_display": true,
      "toc_window_display": true
    },
    "widgets": {
      "application/vnd.jupyter.widget-state+json": {
        "8861ee02ff3c469cafd9ee24f29acfc2": {
          "model_module": "@jupyter-widgets/controls",
          "model_name": "HBoxModel",
          "model_module_version": "1.5.0",
          "state": {
            "_dom_classes": [],
            "_model_module": "@jupyter-widgets/controls",
            "_model_module_version": "1.5.0",
            "_model_name": "HBoxModel",
            "_view_count": null,
            "_view_module": "@jupyter-widgets/controls",
            "_view_module_version": "1.5.0",
            "_view_name": "HBoxView",
            "box_style": "",
            "children": [
              "IPY_MODEL_eb0f52fdb29e466a816bd1d8624d22c2",
              "IPY_MODEL_b8f31eec6fa845f4ade5123a3ce67423",
              "IPY_MODEL_60e98335629e4a11b381384425ffbdba"
            ],
            "layout": "IPY_MODEL_4f37c1e7166a433d9283fb38d23bd043"
          }
        },
        "eb0f52fdb29e466a816bd1d8624d22c2": {
          "model_module": "@jupyter-widgets/controls",
          "model_name": "HTMLModel",
          "model_module_version": "1.5.0",
          "state": {
            "_dom_classes": [],
            "_model_module": "@jupyter-widgets/controls",
            "_model_module_version": "1.5.0",
            "_model_name": "HTMLModel",
            "_view_count": null,
            "_view_module": "@jupyter-widgets/controls",
            "_view_module_version": "1.5.0",
            "_view_name": "HTMLView",
            "description": "",
            "description_tooltip": null,
            "layout": "IPY_MODEL_8147565a612f4ce7b6b40ec3dc62cf73",
            "placeholder": "​",
            "style": "IPY_MODEL_8861bf9eaf76408888d96e78455d636e",
            "value": "100%"
          }
        },
        "b8f31eec6fa845f4ade5123a3ce67423": {
          "model_module": "@jupyter-widgets/controls",
          "model_name": "FloatProgressModel",
          "model_module_version": "1.5.0",
          "state": {
            "_dom_classes": [],
            "_model_module": "@jupyter-widgets/controls",
            "_model_module_version": "1.5.0",
            "_model_name": "FloatProgressModel",
            "_view_count": null,
            "_view_module": "@jupyter-widgets/controls",
            "_view_module_version": "1.5.0",
            "_view_name": "ProgressView",
            "bar_style": "success",
            "description": "",
            "description_tooltip": null,
            "layout": "IPY_MODEL_7f7dd79b643a4b49b12fe82ef55065e9",
            "max": 9912422,
            "min": 0,
            "orientation": "horizontal",
            "style": "IPY_MODEL_07da0b8823314835af61fbadf54b133b",
            "value": 9912422
          }
        },
        "60e98335629e4a11b381384425ffbdba": {
          "model_module": "@jupyter-widgets/controls",
          "model_name": "HTMLModel",
          "model_module_version": "1.5.0",
          "state": {
            "_dom_classes": [],
            "_model_module": "@jupyter-widgets/controls",
            "_model_module_version": "1.5.0",
            "_model_name": "HTMLModel",
            "_view_count": null,
            "_view_module": "@jupyter-widgets/controls",
            "_view_module_version": "1.5.0",
            "_view_name": "HTMLView",
            "description": "",
            "description_tooltip": null,
            "layout": "IPY_MODEL_2f6e38a6c0fb41d883a8069afe7304f5",
            "placeholder": "​",
            "style": "IPY_MODEL_045070fbae2a49dfbacf803f61547c06",
            "value": " 9912422/9912422 [00:00&lt;00:00, 17765435.55it/s]"
          }
        },
        "4f37c1e7166a433d9283fb38d23bd043": {
          "model_module": "@jupyter-widgets/base",
          "model_name": "LayoutModel",
          "model_module_version": "1.2.0",
          "state": {
            "_model_module": "@jupyter-widgets/base",
            "_model_module_version": "1.2.0",
            "_model_name": "LayoutModel",
            "_view_count": null,
            "_view_module": "@jupyter-widgets/base",
            "_view_module_version": "1.2.0",
            "_view_name": "LayoutView",
            "align_content": null,
            "align_items": null,
            "align_self": null,
            "border": null,
            "bottom": null,
            "display": null,
            "flex": null,
            "flex_flow": null,
            "grid_area": null,
            "grid_auto_columns": null,
            "grid_auto_flow": null,
            "grid_auto_rows": null,
            "grid_column": null,
            "grid_gap": null,
            "grid_row": null,
            "grid_template_areas": null,
            "grid_template_columns": null,
            "grid_template_rows": null,
            "height": null,
            "justify_content": null,
            "justify_items": null,
            "left": null,
            "margin": null,
            "max_height": null,
            "max_width": null,
            "min_height": null,
            "min_width": null,
            "object_fit": null,
            "object_position": null,
            "order": null,
            "overflow": null,
            "overflow_x": null,
            "overflow_y": null,
            "padding": null,
            "right": null,
            "top": null,
            "visibility": null,
            "width": null
          }
        },
        "8147565a612f4ce7b6b40ec3dc62cf73": {
          "model_module": "@jupyter-widgets/base",
          "model_name": "LayoutModel",
          "model_module_version": "1.2.0",
          "state": {
            "_model_module": "@jupyter-widgets/base",
            "_model_module_version": "1.2.0",
            "_model_name": "LayoutModel",
            "_view_count": null,
            "_view_module": "@jupyter-widgets/base",
            "_view_module_version": "1.2.0",
            "_view_name": "LayoutView",
            "align_content": null,
            "align_items": null,
            "align_self": null,
            "border": null,
            "bottom": null,
            "display": null,
            "flex": null,
            "flex_flow": null,
            "grid_area": null,
            "grid_auto_columns": null,
            "grid_auto_flow": null,
            "grid_auto_rows": null,
            "grid_column": null,
            "grid_gap": null,
            "grid_row": null,
            "grid_template_areas": null,
            "grid_template_columns": null,
            "grid_template_rows": null,
            "height": null,
            "justify_content": null,
            "justify_items": null,
            "left": null,
            "margin": null,
            "max_height": null,
            "max_width": null,
            "min_height": null,
            "min_width": null,
            "object_fit": null,
            "object_position": null,
            "order": null,
            "overflow": null,
            "overflow_x": null,
            "overflow_y": null,
            "padding": null,
            "right": null,
            "top": null,
            "visibility": null,
            "width": null
          }
        },
        "8861bf9eaf76408888d96e78455d636e": {
          "model_module": "@jupyter-widgets/controls",
          "model_name": "DescriptionStyleModel",
          "model_module_version": "1.5.0",
          "state": {
            "_model_module": "@jupyter-widgets/controls",
            "_model_module_version": "1.5.0",
            "_model_name": "DescriptionStyleModel",
            "_view_count": null,
            "_view_module": "@jupyter-widgets/base",
            "_view_module_version": "1.2.0",
            "_view_name": "StyleView",
            "description_width": ""
          }
        },
        "7f7dd79b643a4b49b12fe82ef55065e9": {
          "model_module": "@jupyter-widgets/base",
          "model_name": "LayoutModel",
          "model_module_version": "1.2.0",
          "state": {
            "_model_module": "@jupyter-widgets/base",
            "_model_module_version": "1.2.0",
            "_model_name": "LayoutModel",
            "_view_count": null,
            "_view_module": "@jupyter-widgets/base",
            "_view_module_version": "1.2.0",
            "_view_name": "LayoutView",
            "align_content": null,
            "align_items": null,
            "align_self": null,
            "border": null,
            "bottom": null,
            "display": null,
            "flex": null,
            "flex_flow": null,
            "grid_area": null,
            "grid_auto_columns": null,
            "grid_auto_flow": null,
            "grid_auto_rows": null,
            "grid_column": null,
            "grid_gap": null,
            "grid_row": null,
            "grid_template_areas": null,
            "grid_template_columns": null,
            "grid_template_rows": null,
            "height": null,
            "justify_content": null,
            "justify_items": null,
            "left": null,
            "margin": null,
            "max_height": null,
            "max_width": null,
            "min_height": null,
            "min_width": null,
            "object_fit": null,
            "object_position": null,
            "order": null,
            "overflow": null,
            "overflow_x": null,
            "overflow_y": null,
            "padding": null,
            "right": null,
            "top": null,
            "visibility": null,
            "width": null
          }
        },
        "07da0b8823314835af61fbadf54b133b": {
          "model_module": "@jupyter-widgets/controls",
          "model_name": "ProgressStyleModel",
          "model_module_version": "1.5.0",
          "state": {
            "_model_module": "@jupyter-widgets/controls",
            "_model_module_version": "1.5.0",
            "_model_name": "ProgressStyleModel",
            "_view_count": null,
            "_view_module": "@jupyter-widgets/base",
            "_view_module_version": "1.2.0",
            "_view_name": "StyleView",
            "bar_color": null,
            "description_width": ""
          }
        },
        "2f6e38a6c0fb41d883a8069afe7304f5": {
          "model_module": "@jupyter-widgets/base",
          "model_name": "LayoutModel",
          "model_module_version": "1.2.0",
          "state": {
            "_model_module": "@jupyter-widgets/base",
            "_model_module_version": "1.2.0",
            "_model_name": "LayoutModel",
            "_view_count": null,
            "_view_module": "@jupyter-widgets/base",
            "_view_module_version": "1.2.0",
            "_view_name": "LayoutView",
            "align_content": null,
            "align_items": null,
            "align_self": null,
            "border": null,
            "bottom": null,
            "display": null,
            "flex": null,
            "flex_flow": null,
            "grid_area": null,
            "grid_auto_columns": null,
            "grid_auto_flow": null,
            "grid_auto_rows": null,
            "grid_column": null,
            "grid_gap": null,
            "grid_row": null,
            "grid_template_areas": null,
            "grid_template_columns": null,
            "grid_template_rows": null,
            "height": null,
            "justify_content": null,
            "justify_items": null,
            "left": null,
            "margin": null,
            "max_height": null,
            "max_width": null,
            "min_height": null,
            "min_width": null,
            "object_fit": null,
            "object_position": null,
            "order": null,
            "overflow": null,
            "overflow_x": null,
            "overflow_y": null,
            "padding": null,
            "right": null,
            "top": null,
            "visibility": null,
            "width": null
          }
        },
        "045070fbae2a49dfbacf803f61547c06": {
          "model_module": "@jupyter-widgets/controls",
          "model_name": "DescriptionStyleModel",
          "model_module_version": "1.5.0",
          "state": {
            "_model_module": "@jupyter-widgets/controls",
            "_model_module_version": "1.5.0",
            "_model_name": "DescriptionStyleModel",
            "_view_count": null,
            "_view_module": "@jupyter-widgets/base",
            "_view_module_version": "1.2.0",
            "_view_name": "StyleView",
            "description_width": ""
          }
        },
        "b38c34fadcb9442d86fc07a2eef1e76e": {
          "model_module": "@jupyter-widgets/controls",
          "model_name": "HBoxModel",
          "model_module_version": "1.5.0",
          "state": {
            "_dom_classes": [],
            "_model_module": "@jupyter-widgets/controls",
            "_model_module_version": "1.5.0",
            "_model_name": "HBoxModel",
            "_view_count": null,
            "_view_module": "@jupyter-widgets/controls",
            "_view_module_version": "1.5.0",
            "_view_name": "HBoxView",
            "box_style": "",
            "children": [
              "IPY_MODEL_64fcedd8bfdc4bf881e3e8788ffe2741",
              "IPY_MODEL_8e16fc7ca50040849ca1c91d6ff0868e",
              "IPY_MODEL_1e3c7ab438b84c0cbd7add6e18629dd1"
            ],
            "layout": "IPY_MODEL_cfcf036b5d85488aa842cda848248691"
          }
        },
        "64fcedd8bfdc4bf881e3e8788ffe2741": {
          "model_module": "@jupyter-widgets/controls",
          "model_name": "HTMLModel",
          "model_module_version": "1.5.0",
          "state": {
            "_dom_classes": [],
            "_model_module": "@jupyter-widgets/controls",
            "_model_module_version": "1.5.0",
            "_model_name": "HTMLModel",
            "_view_count": null,
            "_view_module": "@jupyter-widgets/controls",
            "_view_module_version": "1.5.0",
            "_view_name": "HTMLView",
            "description": "",
            "description_tooltip": null,
            "layout": "IPY_MODEL_5951f6927ddc475394e170baa291f57a",
            "placeholder": "​",
            "style": "IPY_MODEL_cd56b22a91444cc58233e4cbd19d9a9c",
            "value": "100%"
          }
        },
        "8e16fc7ca50040849ca1c91d6ff0868e": {
          "model_module": "@jupyter-widgets/controls",
          "model_name": "FloatProgressModel",
          "model_module_version": "1.5.0",
          "state": {
            "_dom_classes": [],
            "_model_module": "@jupyter-widgets/controls",
            "_model_module_version": "1.5.0",
            "_model_name": "FloatProgressModel",
            "_view_count": null,
            "_view_module": "@jupyter-widgets/controls",
            "_view_module_version": "1.5.0",
            "_view_name": "ProgressView",
            "bar_style": "success",
            "description": "",
            "description_tooltip": null,
            "layout": "IPY_MODEL_48e4c9e656b044788f872ab42c89ee06",
            "max": 28881,
            "min": 0,
            "orientation": "horizontal",
            "style": "IPY_MODEL_82e7fb8bdfe6403892e99830ea32467e",
            "value": 28881
          }
        },
        "1e3c7ab438b84c0cbd7add6e18629dd1": {
          "model_module": "@jupyter-widgets/controls",
          "model_name": "HTMLModel",
          "model_module_version": "1.5.0",
          "state": {
            "_dom_classes": [],
            "_model_module": "@jupyter-widgets/controls",
            "_model_module_version": "1.5.0",
            "_model_name": "HTMLModel",
            "_view_count": null,
            "_view_module": "@jupyter-widgets/controls",
            "_view_module_version": "1.5.0",
            "_view_name": "HTMLView",
            "description": "",
            "description_tooltip": null,
            "layout": "IPY_MODEL_e32e119397c94de397fb2437b5b1b173",
            "placeholder": "​",
            "style": "IPY_MODEL_5d9120a6ea80449798a0a04c32c4fdce",
            "value": " 28881/28881 [00:00&lt;00:00, 833074.48it/s]"
          }
        },
        "cfcf036b5d85488aa842cda848248691": {
          "model_module": "@jupyter-widgets/base",
          "model_name": "LayoutModel",
          "model_module_version": "1.2.0",
          "state": {
            "_model_module": "@jupyter-widgets/base",
            "_model_module_version": "1.2.0",
            "_model_name": "LayoutModel",
            "_view_count": null,
            "_view_module": "@jupyter-widgets/base",
            "_view_module_version": "1.2.0",
            "_view_name": "LayoutView",
            "align_content": null,
            "align_items": null,
            "align_self": null,
            "border": null,
            "bottom": null,
            "display": null,
            "flex": null,
            "flex_flow": null,
            "grid_area": null,
            "grid_auto_columns": null,
            "grid_auto_flow": null,
            "grid_auto_rows": null,
            "grid_column": null,
            "grid_gap": null,
            "grid_row": null,
            "grid_template_areas": null,
            "grid_template_columns": null,
            "grid_template_rows": null,
            "height": null,
            "justify_content": null,
            "justify_items": null,
            "left": null,
            "margin": null,
            "max_height": null,
            "max_width": null,
            "min_height": null,
            "min_width": null,
            "object_fit": null,
            "object_position": null,
            "order": null,
            "overflow": null,
            "overflow_x": null,
            "overflow_y": null,
            "padding": null,
            "right": null,
            "top": null,
            "visibility": null,
            "width": null
          }
        },
        "5951f6927ddc475394e170baa291f57a": {
          "model_module": "@jupyter-widgets/base",
          "model_name": "LayoutModel",
          "model_module_version": "1.2.0",
          "state": {
            "_model_module": "@jupyter-widgets/base",
            "_model_module_version": "1.2.0",
            "_model_name": "LayoutModel",
            "_view_count": null,
            "_view_module": "@jupyter-widgets/base",
            "_view_module_version": "1.2.0",
            "_view_name": "LayoutView",
            "align_content": null,
            "align_items": null,
            "align_self": null,
            "border": null,
            "bottom": null,
            "display": null,
            "flex": null,
            "flex_flow": null,
            "grid_area": null,
            "grid_auto_columns": null,
            "grid_auto_flow": null,
            "grid_auto_rows": null,
            "grid_column": null,
            "grid_gap": null,
            "grid_row": null,
            "grid_template_areas": null,
            "grid_template_columns": null,
            "grid_template_rows": null,
            "height": null,
            "justify_content": null,
            "justify_items": null,
            "left": null,
            "margin": null,
            "max_height": null,
            "max_width": null,
            "min_height": null,
            "min_width": null,
            "object_fit": null,
            "object_position": null,
            "order": null,
            "overflow": null,
            "overflow_x": null,
            "overflow_y": null,
            "padding": null,
            "right": null,
            "top": null,
            "visibility": null,
            "width": null
          }
        },
        "cd56b22a91444cc58233e4cbd19d9a9c": {
          "model_module": "@jupyter-widgets/controls",
          "model_name": "DescriptionStyleModel",
          "model_module_version": "1.5.0",
          "state": {
            "_model_module": "@jupyter-widgets/controls",
            "_model_module_version": "1.5.0",
            "_model_name": "DescriptionStyleModel",
            "_view_count": null,
            "_view_module": "@jupyter-widgets/base",
            "_view_module_version": "1.2.0",
            "_view_name": "StyleView",
            "description_width": ""
          }
        },
        "48e4c9e656b044788f872ab42c89ee06": {
          "model_module": "@jupyter-widgets/base",
          "model_name": "LayoutModel",
          "model_module_version": "1.2.0",
          "state": {
            "_model_module": "@jupyter-widgets/base",
            "_model_module_version": "1.2.0",
            "_model_name": "LayoutModel",
            "_view_count": null,
            "_view_module": "@jupyter-widgets/base",
            "_view_module_version": "1.2.0",
            "_view_name": "LayoutView",
            "align_content": null,
            "align_items": null,
            "align_self": null,
            "border": null,
            "bottom": null,
            "display": null,
            "flex": null,
            "flex_flow": null,
            "grid_area": null,
            "grid_auto_columns": null,
            "grid_auto_flow": null,
            "grid_auto_rows": null,
            "grid_column": null,
            "grid_gap": null,
            "grid_row": null,
            "grid_template_areas": null,
            "grid_template_columns": null,
            "grid_template_rows": null,
            "height": null,
            "justify_content": null,
            "justify_items": null,
            "left": null,
            "margin": null,
            "max_height": null,
            "max_width": null,
            "min_height": null,
            "min_width": null,
            "object_fit": null,
            "object_position": null,
            "order": null,
            "overflow": null,
            "overflow_x": null,
            "overflow_y": null,
            "padding": null,
            "right": null,
            "top": null,
            "visibility": null,
            "width": null
          }
        },
        "82e7fb8bdfe6403892e99830ea32467e": {
          "model_module": "@jupyter-widgets/controls",
          "model_name": "ProgressStyleModel",
          "model_module_version": "1.5.0",
          "state": {
            "_model_module": "@jupyter-widgets/controls",
            "_model_module_version": "1.5.0",
            "_model_name": "ProgressStyleModel",
            "_view_count": null,
            "_view_module": "@jupyter-widgets/base",
            "_view_module_version": "1.2.0",
            "_view_name": "StyleView",
            "bar_color": null,
            "description_width": ""
          }
        },
        "e32e119397c94de397fb2437b5b1b173": {
          "model_module": "@jupyter-widgets/base",
          "model_name": "LayoutModel",
          "model_module_version": "1.2.0",
          "state": {
            "_model_module": "@jupyter-widgets/base",
            "_model_module_version": "1.2.0",
            "_model_name": "LayoutModel",
            "_view_count": null,
            "_view_module": "@jupyter-widgets/base",
            "_view_module_version": "1.2.0",
            "_view_name": "LayoutView",
            "align_content": null,
            "align_items": null,
            "align_self": null,
            "border": null,
            "bottom": null,
            "display": null,
            "flex": null,
            "flex_flow": null,
            "grid_area": null,
            "grid_auto_columns": null,
            "grid_auto_flow": null,
            "grid_auto_rows": null,
            "grid_column": null,
            "grid_gap": null,
            "grid_row": null,
            "grid_template_areas": null,
            "grid_template_columns": null,
            "grid_template_rows": null,
            "height": null,
            "justify_content": null,
            "justify_items": null,
            "left": null,
            "margin": null,
            "max_height": null,
            "max_width": null,
            "min_height": null,
            "min_width": null,
            "object_fit": null,
            "object_position": null,
            "order": null,
            "overflow": null,
            "overflow_x": null,
            "overflow_y": null,
            "padding": null,
            "right": null,
            "top": null,
            "visibility": null,
            "width": null
          }
        },
        "5d9120a6ea80449798a0a04c32c4fdce": {
          "model_module": "@jupyter-widgets/controls",
          "model_name": "DescriptionStyleModel",
          "model_module_version": "1.5.0",
          "state": {
            "_model_module": "@jupyter-widgets/controls",
            "_model_module_version": "1.5.0",
            "_model_name": "DescriptionStyleModel",
            "_view_count": null,
            "_view_module": "@jupyter-widgets/base",
            "_view_module_version": "1.2.0",
            "_view_name": "StyleView",
            "description_width": ""
          }
        },
        "bbaee7d15d134ba0a2a3dab713cd17bd": {
          "model_module": "@jupyter-widgets/controls",
          "model_name": "HBoxModel",
          "model_module_version": "1.5.0",
          "state": {
            "_dom_classes": [],
            "_model_module": "@jupyter-widgets/controls",
            "_model_module_version": "1.5.0",
            "_model_name": "HBoxModel",
            "_view_count": null,
            "_view_module": "@jupyter-widgets/controls",
            "_view_module_version": "1.5.0",
            "_view_name": "HBoxView",
            "box_style": "",
            "children": [
              "IPY_MODEL_0d25a32f4b894b27a4eb1f0bb7154a34",
              "IPY_MODEL_ca54bcbfa6be44dcacd899b798955990",
              "IPY_MODEL_af48050fca2a4d13aaacf2e690b2ed84"
            ],
            "layout": "IPY_MODEL_4ac192df02f84254851c186304aefb23"
          }
        },
        "0d25a32f4b894b27a4eb1f0bb7154a34": {
          "model_module": "@jupyter-widgets/controls",
          "model_name": "HTMLModel",
          "model_module_version": "1.5.0",
          "state": {
            "_dom_classes": [],
            "_model_module": "@jupyter-widgets/controls",
            "_model_module_version": "1.5.0",
            "_model_name": "HTMLModel",
            "_view_count": null,
            "_view_module": "@jupyter-widgets/controls",
            "_view_module_version": "1.5.0",
            "_view_name": "HTMLView",
            "description": "",
            "description_tooltip": null,
            "layout": "IPY_MODEL_a523df767fec4f799d92bf80d2871150",
            "placeholder": "​",
            "style": "IPY_MODEL_7108bf053063427e8f5d9dd63d1197a9",
            "value": "100%"
          }
        },
        "ca54bcbfa6be44dcacd899b798955990": {
          "model_module": "@jupyter-widgets/controls",
          "model_name": "FloatProgressModel",
          "model_module_version": "1.5.0",
          "state": {
            "_dom_classes": [],
            "_model_module": "@jupyter-widgets/controls",
            "_model_module_version": "1.5.0",
            "_model_name": "FloatProgressModel",
            "_view_count": null,
            "_view_module": "@jupyter-widgets/controls",
            "_view_module_version": "1.5.0",
            "_view_name": "ProgressView",
            "bar_style": "success",
            "description": "",
            "description_tooltip": null,
            "layout": "IPY_MODEL_b1feeb9747924b6399035e2e38aa0207",
            "max": 1648877,
            "min": 0,
            "orientation": "horizontal",
            "style": "IPY_MODEL_a73b598972cf4590be034e7ef261b3a5",
            "value": 1648877
          }
        },
        "af48050fca2a4d13aaacf2e690b2ed84": {
          "model_module": "@jupyter-widgets/controls",
          "model_name": "HTMLModel",
          "model_module_version": "1.5.0",
          "state": {
            "_dom_classes": [],
            "_model_module": "@jupyter-widgets/controls",
            "_model_module_version": "1.5.0",
            "_model_name": "HTMLModel",
            "_view_count": null,
            "_view_module": "@jupyter-widgets/controls",
            "_view_module_version": "1.5.0",
            "_view_name": "HTMLView",
            "description": "",
            "description_tooltip": null,
            "layout": "IPY_MODEL_76f34233f8d449f09921d774fd316c30",
            "placeholder": "​",
            "style": "IPY_MODEL_9e086e893d0241369a6b70222687d2eb",
            "value": " 1648877/1648877 [00:00&lt;00:00, 16612479.24it/s]"
          }
        },
        "4ac192df02f84254851c186304aefb23": {
          "model_module": "@jupyter-widgets/base",
          "model_name": "LayoutModel",
          "model_module_version": "1.2.0",
          "state": {
            "_model_module": "@jupyter-widgets/base",
            "_model_module_version": "1.2.0",
            "_model_name": "LayoutModel",
            "_view_count": null,
            "_view_module": "@jupyter-widgets/base",
            "_view_module_version": "1.2.0",
            "_view_name": "LayoutView",
            "align_content": null,
            "align_items": null,
            "align_self": null,
            "border": null,
            "bottom": null,
            "display": null,
            "flex": null,
            "flex_flow": null,
            "grid_area": null,
            "grid_auto_columns": null,
            "grid_auto_flow": null,
            "grid_auto_rows": null,
            "grid_column": null,
            "grid_gap": null,
            "grid_row": null,
            "grid_template_areas": null,
            "grid_template_columns": null,
            "grid_template_rows": null,
            "height": null,
            "justify_content": null,
            "justify_items": null,
            "left": null,
            "margin": null,
            "max_height": null,
            "max_width": null,
            "min_height": null,
            "min_width": null,
            "object_fit": null,
            "object_position": null,
            "order": null,
            "overflow": null,
            "overflow_x": null,
            "overflow_y": null,
            "padding": null,
            "right": null,
            "top": null,
            "visibility": null,
            "width": null
          }
        },
        "a523df767fec4f799d92bf80d2871150": {
          "model_module": "@jupyter-widgets/base",
          "model_name": "LayoutModel",
          "model_module_version": "1.2.0",
          "state": {
            "_model_module": "@jupyter-widgets/base",
            "_model_module_version": "1.2.0",
            "_model_name": "LayoutModel",
            "_view_count": null,
            "_view_module": "@jupyter-widgets/base",
            "_view_module_version": "1.2.0",
            "_view_name": "LayoutView",
            "align_content": null,
            "align_items": null,
            "align_self": null,
            "border": null,
            "bottom": null,
            "display": null,
            "flex": null,
            "flex_flow": null,
            "grid_area": null,
            "grid_auto_columns": null,
            "grid_auto_flow": null,
            "grid_auto_rows": null,
            "grid_column": null,
            "grid_gap": null,
            "grid_row": null,
            "grid_template_areas": null,
            "grid_template_columns": null,
            "grid_template_rows": null,
            "height": null,
            "justify_content": null,
            "justify_items": null,
            "left": null,
            "margin": null,
            "max_height": null,
            "max_width": null,
            "min_height": null,
            "min_width": null,
            "object_fit": null,
            "object_position": null,
            "order": null,
            "overflow": null,
            "overflow_x": null,
            "overflow_y": null,
            "padding": null,
            "right": null,
            "top": null,
            "visibility": null,
            "width": null
          }
        },
        "7108bf053063427e8f5d9dd63d1197a9": {
          "model_module": "@jupyter-widgets/controls",
          "model_name": "DescriptionStyleModel",
          "model_module_version": "1.5.0",
          "state": {
            "_model_module": "@jupyter-widgets/controls",
            "_model_module_version": "1.5.0",
            "_model_name": "DescriptionStyleModel",
            "_view_count": null,
            "_view_module": "@jupyter-widgets/base",
            "_view_module_version": "1.2.0",
            "_view_name": "StyleView",
            "description_width": ""
          }
        },
        "b1feeb9747924b6399035e2e38aa0207": {
          "model_module": "@jupyter-widgets/base",
          "model_name": "LayoutModel",
          "model_module_version": "1.2.0",
          "state": {
            "_model_module": "@jupyter-widgets/base",
            "_model_module_version": "1.2.0",
            "_model_name": "LayoutModel",
            "_view_count": null,
            "_view_module": "@jupyter-widgets/base",
            "_view_module_version": "1.2.0",
            "_view_name": "LayoutView",
            "align_content": null,
            "align_items": null,
            "align_self": null,
            "border": null,
            "bottom": null,
            "display": null,
            "flex": null,
            "flex_flow": null,
            "grid_area": null,
            "grid_auto_columns": null,
            "grid_auto_flow": null,
            "grid_auto_rows": null,
            "grid_column": null,
            "grid_gap": null,
            "grid_row": null,
            "grid_template_areas": null,
            "grid_template_columns": null,
            "grid_template_rows": null,
            "height": null,
            "justify_content": null,
            "justify_items": null,
            "left": null,
            "margin": null,
            "max_height": null,
            "max_width": null,
            "min_height": null,
            "min_width": null,
            "object_fit": null,
            "object_position": null,
            "order": null,
            "overflow": null,
            "overflow_x": null,
            "overflow_y": null,
            "padding": null,
            "right": null,
            "top": null,
            "visibility": null,
            "width": null
          }
        },
        "a73b598972cf4590be034e7ef261b3a5": {
          "model_module": "@jupyter-widgets/controls",
          "model_name": "ProgressStyleModel",
          "model_module_version": "1.5.0",
          "state": {
            "_model_module": "@jupyter-widgets/controls",
            "_model_module_version": "1.5.0",
            "_model_name": "ProgressStyleModel",
            "_view_count": null,
            "_view_module": "@jupyter-widgets/base",
            "_view_module_version": "1.2.0",
            "_view_name": "StyleView",
            "bar_color": null,
            "description_width": ""
          }
        },
        "76f34233f8d449f09921d774fd316c30": {
          "model_module": "@jupyter-widgets/base",
          "model_name": "LayoutModel",
          "model_module_version": "1.2.0",
          "state": {
            "_model_module": "@jupyter-widgets/base",
            "_model_module_version": "1.2.0",
            "_model_name": "LayoutModel",
            "_view_count": null,
            "_view_module": "@jupyter-widgets/base",
            "_view_module_version": "1.2.0",
            "_view_name": "LayoutView",
            "align_content": null,
            "align_items": null,
            "align_self": null,
            "border": null,
            "bottom": null,
            "display": null,
            "flex": null,
            "flex_flow": null,
            "grid_area": null,
            "grid_auto_columns": null,
            "grid_auto_flow": null,
            "grid_auto_rows": null,
            "grid_column": null,
            "grid_gap": null,
            "grid_row": null,
            "grid_template_areas": null,
            "grid_template_columns": null,
            "grid_template_rows": null,
            "height": null,
            "justify_content": null,
            "justify_items": null,
            "left": null,
            "margin": null,
            "max_height": null,
            "max_width": null,
            "min_height": null,
            "min_width": null,
            "object_fit": null,
            "object_position": null,
            "order": null,
            "overflow": null,
            "overflow_x": null,
            "overflow_y": null,
            "padding": null,
            "right": null,
            "top": null,
            "visibility": null,
            "width": null
          }
        },
        "9e086e893d0241369a6b70222687d2eb": {
          "model_module": "@jupyter-widgets/controls",
          "model_name": "DescriptionStyleModel",
          "model_module_version": "1.5.0",
          "state": {
            "_model_module": "@jupyter-widgets/controls",
            "_model_module_version": "1.5.0",
            "_model_name": "DescriptionStyleModel",
            "_view_count": null,
            "_view_module": "@jupyter-widgets/base",
            "_view_module_version": "1.2.0",
            "_view_name": "StyleView",
            "description_width": ""
          }
        },
        "e8a9019ec11f4227ae0c756baf1e3095": {
          "model_module": "@jupyter-widgets/controls",
          "model_name": "HBoxModel",
          "model_module_version": "1.5.0",
          "state": {
            "_dom_classes": [],
            "_model_module": "@jupyter-widgets/controls",
            "_model_module_version": "1.5.0",
            "_model_name": "HBoxModel",
            "_view_count": null,
            "_view_module": "@jupyter-widgets/controls",
            "_view_module_version": "1.5.0",
            "_view_name": "HBoxView",
            "box_style": "",
            "children": [
              "IPY_MODEL_298aa3b59890405fa67a6146993cb852",
              "IPY_MODEL_06f6aa288d3646739f7baa7cc13e1f3d",
              "IPY_MODEL_e9152fe99bed4e16ae863cb3295a6735"
            ],
            "layout": "IPY_MODEL_d828ef3f6db74834a98557fb42f85251"
          }
        },
        "298aa3b59890405fa67a6146993cb852": {
          "model_module": "@jupyter-widgets/controls",
          "model_name": "HTMLModel",
          "model_module_version": "1.5.0",
          "state": {
            "_dom_classes": [],
            "_model_module": "@jupyter-widgets/controls",
            "_model_module_version": "1.5.0",
            "_model_name": "HTMLModel",
            "_view_count": null,
            "_view_module": "@jupyter-widgets/controls",
            "_view_module_version": "1.5.0",
            "_view_name": "HTMLView",
            "description": "",
            "description_tooltip": null,
            "layout": "IPY_MODEL_c7f57eca57ab426183d14423588e1c84",
            "placeholder": "​",
            "style": "IPY_MODEL_b50e27ea0c1040fab148a020081816f5",
            "value": "100%"
          }
        },
        "06f6aa288d3646739f7baa7cc13e1f3d": {
          "model_module": "@jupyter-widgets/controls",
          "model_name": "FloatProgressModel",
          "model_module_version": "1.5.0",
          "state": {
            "_dom_classes": [],
            "_model_module": "@jupyter-widgets/controls",
            "_model_module_version": "1.5.0",
            "_model_name": "FloatProgressModel",
            "_view_count": null,
            "_view_module": "@jupyter-widgets/controls",
            "_view_module_version": "1.5.0",
            "_view_name": "ProgressView",
            "bar_style": "success",
            "description": "",
            "description_tooltip": null,
            "layout": "IPY_MODEL_999b08d4236a479ca8747f201919fc10",
            "max": 4542,
            "min": 0,
            "orientation": "horizontal",
            "style": "IPY_MODEL_d3b9269f8b7a49a58d0a1e7079d5d61e",
            "value": 4542
          }
        },
        "e9152fe99bed4e16ae863cb3295a6735": {
          "model_module": "@jupyter-widgets/controls",
          "model_name": "HTMLModel",
          "model_module_version": "1.5.0",
          "state": {
            "_dom_classes": [],
            "_model_module": "@jupyter-widgets/controls",
            "_model_module_version": "1.5.0",
            "_model_name": "HTMLModel",
            "_view_count": null,
            "_view_module": "@jupyter-widgets/controls",
            "_view_module_version": "1.5.0",
            "_view_name": "HTMLView",
            "description": "",
            "description_tooltip": null,
            "layout": "IPY_MODEL_4447114a8749434cbd1e0c43a0f371d1",
            "placeholder": "​",
            "style": "IPY_MODEL_b8cd19283c444ad0b640f35147ba1385",
            "value": " 4542/4542 [00:00&lt;00:00, 149262.55it/s]"
          }
        },
        "d828ef3f6db74834a98557fb42f85251": {
          "model_module": "@jupyter-widgets/base",
          "model_name": "LayoutModel",
          "model_module_version": "1.2.0",
          "state": {
            "_model_module": "@jupyter-widgets/base",
            "_model_module_version": "1.2.0",
            "_model_name": "LayoutModel",
            "_view_count": null,
            "_view_module": "@jupyter-widgets/base",
            "_view_module_version": "1.2.0",
            "_view_name": "LayoutView",
            "align_content": null,
            "align_items": null,
            "align_self": null,
            "border": null,
            "bottom": null,
            "display": null,
            "flex": null,
            "flex_flow": null,
            "grid_area": null,
            "grid_auto_columns": null,
            "grid_auto_flow": null,
            "grid_auto_rows": null,
            "grid_column": null,
            "grid_gap": null,
            "grid_row": null,
            "grid_template_areas": null,
            "grid_template_columns": null,
            "grid_template_rows": null,
            "height": null,
            "justify_content": null,
            "justify_items": null,
            "left": null,
            "margin": null,
            "max_height": null,
            "max_width": null,
            "min_height": null,
            "min_width": null,
            "object_fit": null,
            "object_position": null,
            "order": null,
            "overflow": null,
            "overflow_x": null,
            "overflow_y": null,
            "padding": null,
            "right": null,
            "top": null,
            "visibility": null,
            "width": null
          }
        },
        "c7f57eca57ab426183d14423588e1c84": {
          "model_module": "@jupyter-widgets/base",
          "model_name": "LayoutModel",
          "model_module_version": "1.2.0",
          "state": {
            "_model_module": "@jupyter-widgets/base",
            "_model_module_version": "1.2.0",
            "_model_name": "LayoutModel",
            "_view_count": null,
            "_view_module": "@jupyter-widgets/base",
            "_view_module_version": "1.2.0",
            "_view_name": "LayoutView",
            "align_content": null,
            "align_items": null,
            "align_self": null,
            "border": null,
            "bottom": null,
            "display": null,
            "flex": null,
            "flex_flow": null,
            "grid_area": null,
            "grid_auto_columns": null,
            "grid_auto_flow": null,
            "grid_auto_rows": null,
            "grid_column": null,
            "grid_gap": null,
            "grid_row": null,
            "grid_template_areas": null,
            "grid_template_columns": null,
            "grid_template_rows": null,
            "height": null,
            "justify_content": null,
            "justify_items": null,
            "left": null,
            "margin": null,
            "max_height": null,
            "max_width": null,
            "min_height": null,
            "min_width": null,
            "object_fit": null,
            "object_position": null,
            "order": null,
            "overflow": null,
            "overflow_x": null,
            "overflow_y": null,
            "padding": null,
            "right": null,
            "top": null,
            "visibility": null,
            "width": null
          }
        },
        "b50e27ea0c1040fab148a020081816f5": {
          "model_module": "@jupyter-widgets/controls",
          "model_name": "DescriptionStyleModel",
          "model_module_version": "1.5.0",
          "state": {
            "_model_module": "@jupyter-widgets/controls",
            "_model_module_version": "1.5.0",
            "_model_name": "DescriptionStyleModel",
            "_view_count": null,
            "_view_module": "@jupyter-widgets/base",
            "_view_module_version": "1.2.0",
            "_view_name": "StyleView",
            "description_width": ""
          }
        },
        "999b08d4236a479ca8747f201919fc10": {
          "model_module": "@jupyter-widgets/base",
          "model_name": "LayoutModel",
          "model_module_version": "1.2.0",
          "state": {
            "_model_module": "@jupyter-widgets/base",
            "_model_module_version": "1.2.0",
            "_model_name": "LayoutModel",
            "_view_count": null,
            "_view_module": "@jupyter-widgets/base",
            "_view_module_version": "1.2.0",
            "_view_name": "LayoutView",
            "align_content": null,
            "align_items": null,
            "align_self": null,
            "border": null,
            "bottom": null,
            "display": null,
            "flex": null,
            "flex_flow": null,
            "grid_area": null,
            "grid_auto_columns": null,
            "grid_auto_flow": null,
            "grid_auto_rows": null,
            "grid_column": null,
            "grid_gap": null,
            "grid_row": null,
            "grid_template_areas": null,
            "grid_template_columns": null,
            "grid_template_rows": null,
            "height": null,
            "justify_content": null,
            "justify_items": null,
            "left": null,
            "margin": null,
            "max_height": null,
            "max_width": null,
            "min_height": null,
            "min_width": null,
            "object_fit": null,
            "object_position": null,
            "order": null,
            "overflow": null,
            "overflow_x": null,
            "overflow_y": null,
            "padding": null,
            "right": null,
            "top": null,
            "visibility": null,
            "width": null
          }
        },
        "d3b9269f8b7a49a58d0a1e7079d5d61e": {
          "model_module": "@jupyter-widgets/controls",
          "model_name": "ProgressStyleModel",
          "model_module_version": "1.5.0",
          "state": {
            "_model_module": "@jupyter-widgets/controls",
            "_model_module_version": "1.5.0",
            "_model_name": "ProgressStyleModel",
            "_view_count": null,
            "_view_module": "@jupyter-widgets/base",
            "_view_module_version": "1.2.0",
            "_view_name": "StyleView",
            "bar_color": null,
            "description_width": ""
          }
        },
        "4447114a8749434cbd1e0c43a0f371d1": {
          "model_module": "@jupyter-widgets/base",
          "model_name": "LayoutModel",
          "model_module_version": "1.2.0",
          "state": {
            "_model_module": "@jupyter-widgets/base",
            "_model_module_version": "1.2.0",
            "_model_name": "LayoutModel",
            "_view_count": null,
            "_view_module": "@jupyter-widgets/base",
            "_view_module_version": "1.2.0",
            "_view_name": "LayoutView",
            "align_content": null,
            "align_items": null,
            "align_self": null,
            "border": null,
            "bottom": null,
            "display": null,
            "flex": null,
            "flex_flow": null,
            "grid_area": null,
            "grid_auto_columns": null,
            "grid_auto_flow": null,
            "grid_auto_rows": null,
            "grid_column": null,
            "grid_gap": null,
            "grid_row": null,
            "grid_template_areas": null,
            "grid_template_columns": null,
            "grid_template_rows": null,
            "height": null,
            "justify_content": null,
            "justify_items": null,
            "left": null,
            "margin": null,
            "max_height": null,
            "max_width": null,
            "min_height": null,
            "min_width": null,
            "object_fit": null,
            "object_position": null,
            "order": null,
            "overflow": null,
            "overflow_x": null,
            "overflow_y": null,
            "padding": null,
            "right": null,
            "top": null,
            "visibility": null,
            "width": null
          }
        },
        "b8cd19283c444ad0b640f35147ba1385": {
          "model_module": "@jupyter-widgets/controls",
          "model_name": "DescriptionStyleModel",
          "model_module_version": "1.5.0",
          "state": {
            "_model_module": "@jupyter-widgets/controls",
            "_model_module_version": "1.5.0",
            "_model_name": "DescriptionStyleModel",
            "_view_count": null,
            "_view_module": "@jupyter-widgets/base",
            "_view_module_version": "1.2.0",
            "_view_name": "StyleView",
            "description_width": ""
          }
        }
      }
    }
  },
  "nbformat": 4,
  "nbformat_minor": 0
}