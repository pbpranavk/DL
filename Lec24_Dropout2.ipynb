{
  "nbformat": 4,
  "nbformat_minor": 0,
  "metadata": {
    "colab": {
      "provenance": []
    },
    "kernelspec": {
      "name": "python3",
      "display_name": "Python 3"
    },
    "language_info": {
      "name": "python"
    },
    "widgets": {
      "application/vnd.jupyter.widget-state+json": {
        "904255a64424484282c3c749effc5ba0": {
          "model_module": "@jupyter-widgets/controls",
          "model_name": "HBoxModel",
          "model_module_version": "1.5.0",
          "state": {
            "_dom_classes": [],
            "_model_module": "@jupyter-widgets/controls",
            "_model_module_version": "1.5.0",
            "_model_name": "HBoxModel",
            "_view_count": null,
            "_view_module": "@jupyter-widgets/controls",
            "_view_module_version": "1.5.0",
            "_view_name": "HBoxView",
            "box_style": "",
            "children": [
              "IPY_MODEL_ed6f21d7f4cc47f8ba6c0639876bcc2a",
              "IPY_MODEL_053989d64c79415e9e016587484bf82d",
              "IPY_MODEL_71be4fde57e54f73bd1e3ae3be927f3c"
            ],
            "layout": "IPY_MODEL_118c5b0ac92746888c45d9f59cf2deab"
          }
        },
        "ed6f21d7f4cc47f8ba6c0639876bcc2a": {
          "model_module": "@jupyter-widgets/controls",
          "model_name": "HTMLModel",
          "model_module_version": "1.5.0",
          "state": {
            "_dom_classes": [],
            "_model_module": "@jupyter-widgets/controls",
            "_model_module_version": "1.5.0",
            "_model_name": "HTMLModel",
            "_view_count": null,
            "_view_module": "@jupyter-widgets/controls",
            "_view_module_version": "1.5.0",
            "_view_name": "HTMLView",
            "description": "",
            "description_tooltip": null,
            "layout": "IPY_MODEL_0c35bce7c8a4420cb04b178e720b3dcb",
            "placeholder": "​",
            "style": "IPY_MODEL_55cb13426a80422eacb5d1f2c811db53",
            "value": "100%"
          }
        },
        "053989d64c79415e9e016587484bf82d": {
          "model_module": "@jupyter-widgets/controls",
          "model_name": "FloatProgressModel",
          "model_module_version": "1.5.0",
          "state": {
            "_dom_classes": [],
            "_model_module": "@jupyter-widgets/controls",
            "_model_module_version": "1.5.0",
            "_model_name": "FloatProgressModel",
            "_view_count": null,
            "_view_module": "@jupyter-widgets/controls",
            "_view_module_version": "1.5.0",
            "_view_name": "ProgressView",
            "bar_style": "success",
            "description": "",
            "description_tooltip": null,
            "layout": "IPY_MODEL_68179456af3b45bfbfe512aec2553d6d",
            "max": 170498071,
            "min": 0,
            "orientation": "horizontal",
            "style": "IPY_MODEL_90dd06a2792e40fda5473aa26c165ffc",
            "value": 170498071
          }
        },
        "71be4fde57e54f73bd1e3ae3be927f3c": {
          "model_module": "@jupyter-widgets/controls",
          "model_name": "HTMLModel",
          "model_module_version": "1.5.0",
          "state": {
            "_dom_classes": [],
            "_model_module": "@jupyter-widgets/controls",
            "_model_module_version": "1.5.0",
            "_model_name": "HTMLModel",
            "_view_count": null,
            "_view_module": "@jupyter-widgets/controls",
            "_view_module_version": "1.5.0",
            "_view_name": "HTMLView",
            "description": "",
            "description_tooltip": null,
            "layout": "IPY_MODEL_4161cab5892048de9566a5dcb05ac8cf",
            "placeholder": "​",
            "style": "IPY_MODEL_ff0104cca2b74c60b486c08f3e71c502",
            "value": " 170498071/170498071 [00:10&lt;00:00, 16996222.21it/s]"
          }
        },
        "118c5b0ac92746888c45d9f59cf2deab": {
          "model_module": "@jupyter-widgets/base",
          "model_name": "LayoutModel",
          "model_module_version": "1.2.0",
          "state": {
            "_model_module": "@jupyter-widgets/base",
            "_model_module_version": "1.2.0",
            "_model_name": "LayoutModel",
            "_view_count": null,
            "_view_module": "@jupyter-widgets/base",
            "_view_module_version": "1.2.0",
            "_view_name": "LayoutView",
            "align_content": null,
            "align_items": null,
            "align_self": null,
            "border": null,
            "bottom": null,
            "display": null,
            "flex": null,
            "flex_flow": null,
            "grid_area": null,
            "grid_auto_columns": null,
            "grid_auto_flow": null,
            "grid_auto_rows": null,
            "grid_column": null,
            "grid_gap": null,
            "grid_row": null,
            "grid_template_areas": null,
            "grid_template_columns": null,
            "grid_template_rows": null,
            "height": null,
            "justify_content": null,
            "justify_items": null,
            "left": null,
            "margin": null,
            "max_height": null,
            "max_width": null,
            "min_height": null,
            "min_width": null,
            "object_fit": null,
            "object_position": null,
            "order": null,
            "overflow": null,
            "overflow_x": null,
            "overflow_y": null,
            "padding": null,
            "right": null,
            "top": null,
            "visibility": null,
            "width": null
          }
        },
        "0c35bce7c8a4420cb04b178e720b3dcb": {
          "model_module": "@jupyter-widgets/base",
          "model_name": "LayoutModel",
          "model_module_version": "1.2.0",
          "state": {
            "_model_module": "@jupyter-widgets/base",
            "_model_module_version": "1.2.0",
            "_model_name": "LayoutModel",
            "_view_count": null,
            "_view_module": "@jupyter-widgets/base",
            "_view_module_version": "1.2.0",
            "_view_name": "LayoutView",
            "align_content": null,
            "align_items": null,
            "align_self": null,
            "border": null,
            "bottom": null,
            "display": null,
            "flex": null,
            "flex_flow": null,
            "grid_area": null,
            "grid_auto_columns": null,
            "grid_auto_flow": null,
            "grid_auto_rows": null,
            "grid_column": null,
            "grid_gap": null,
            "grid_row": null,
            "grid_template_areas": null,
            "grid_template_columns": null,
            "grid_template_rows": null,
            "height": null,
            "justify_content": null,
            "justify_items": null,
            "left": null,
            "margin": null,
            "max_height": null,
            "max_width": null,
            "min_height": null,
            "min_width": null,
            "object_fit": null,
            "object_position": null,
            "order": null,
            "overflow": null,
            "overflow_x": null,
            "overflow_y": null,
            "padding": null,
            "right": null,
            "top": null,
            "visibility": null,
            "width": null
          }
        },
        "55cb13426a80422eacb5d1f2c811db53": {
          "model_module": "@jupyter-widgets/controls",
          "model_name": "DescriptionStyleModel",
          "model_module_version": "1.5.0",
          "state": {
            "_model_module": "@jupyter-widgets/controls",
            "_model_module_version": "1.5.0",
            "_model_name": "DescriptionStyleModel",
            "_view_count": null,
            "_view_module": "@jupyter-widgets/base",
            "_view_module_version": "1.2.0",
            "_view_name": "StyleView",
            "description_width": ""
          }
        },
        "68179456af3b45bfbfe512aec2553d6d": {
          "model_module": "@jupyter-widgets/base",
          "model_name": "LayoutModel",
          "model_module_version": "1.2.0",
          "state": {
            "_model_module": "@jupyter-widgets/base",
            "_model_module_version": "1.2.0",
            "_model_name": "LayoutModel",
            "_view_count": null,
            "_view_module": "@jupyter-widgets/base",
            "_view_module_version": "1.2.0",
            "_view_name": "LayoutView",
            "align_content": null,
            "align_items": null,
            "align_self": null,
            "border": null,
            "bottom": null,
            "display": null,
            "flex": null,
            "flex_flow": null,
            "grid_area": null,
            "grid_auto_columns": null,
            "grid_auto_flow": null,
            "grid_auto_rows": null,
            "grid_column": null,
            "grid_gap": null,
            "grid_row": null,
            "grid_template_areas": null,
            "grid_template_columns": null,
            "grid_template_rows": null,
            "height": null,
            "justify_content": null,
            "justify_items": null,
            "left": null,
            "margin": null,
            "max_height": null,
            "max_width": null,
            "min_height": null,
            "min_width": null,
            "object_fit": null,
            "object_position": null,
            "order": null,
            "overflow": null,
            "overflow_x": null,
            "overflow_y": null,
            "padding": null,
            "right": null,
            "top": null,
            "visibility": null,
            "width": null
          }
        },
        "90dd06a2792e40fda5473aa26c165ffc": {
          "model_module": "@jupyter-widgets/controls",
          "model_name": "ProgressStyleModel",
          "model_module_version": "1.5.0",
          "state": {
            "_model_module": "@jupyter-widgets/controls",
            "_model_module_version": "1.5.0",
            "_model_name": "ProgressStyleModel",
            "_view_count": null,
            "_view_module": "@jupyter-widgets/base",
            "_view_module_version": "1.2.0",
            "_view_name": "StyleView",
            "bar_color": null,
            "description_width": ""
          }
        },
        "4161cab5892048de9566a5dcb05ac8cf": {
          "model_module": "@jupyter-widgets/base",
          "model_name": "LayoutModel",
          "model_module_version": "1.2.0",
          "state": {
            "_model_module": "@jupyter-widgets/base",
            "_model_module_version": "1.2.0",
            "_model_name": "LayoutModel",
            "_view_count": null,
            "_view_module": "@jupyter-widgets/base",
            "_view_module_version": "1.2.0",
            "_view_name": "LayoutView",
            "align_content": null,
            "align_items": null,
            "align_self": null,
            "border": null,
            "bottom": null,
            "display": null,
            "flex": null,
            "flex_flow": null,
            "grid_area": null,
            "grid_auto_columns": null,
            "grid_auto_flow": null,
            "grid_auto_rows": null,
            "grid_column": null,
            "grid_gap": null,
            "grid_row": null,
            "grid_template_areas": null,
            "grid_template_columns": null,
            "grid_template_rows": null,
            "height": null,
            "justify_content": null,
            "justify_items": null,
            "left": null,
            "margin": null,
            "max_height": null,
            "max_width": null,
            "min_height": null,
            "min_width": null,
            "object_fit": null,
            "object_position": null,
            "order": null,
            "overflow": null,
            "overflow_x": null,
            "overflow_y": null,
            "padding": null,
            "right": null,
            "top": null,
            "visibility": null,
            "width": null
          }
        },
        "ff0104cca2b74c60b486c08f3e71c502": {
          "model_module": "@jupyter-widgets/controls",
          "model_name": "DescriptionStyleModel",
          "model_module_version": "1.5.0",
          "state": {
            "_model_module": "@jupyter-widgets/controls",
            "_model_module_version": "1.5.0",
            "_model_name": "DescriptionStyleModel",
            "_view_count": null,
            "_view_module": "@jupyter-widgets/base",
            "_view_module_version": "1.2.0",
            "_view_name": "StyleView",
            "description_width": ""
          }
        }
      }
    }
  },
  "cells": [
    {
      "cell_type": "markdown",
      "source": [
        "## Dropout 2 -> 20, 40, 80"
      ],
      "metadata": {
        "id": "t90lc59G6eR_"
      }
    },
    {
      "cell_type": "code",
      "execution_count": null,
      "metadata": {
        "id": "Jd4UuE2wm3OW"
      },
      "outputs": [],
      "source": [
        "import torch\n",
        "import torchvision\n",
        "import numpy as np\n",
        "import matplotlib.pyplot as plt\n",
        "import PIL\n",
        "from torchsummary import summary"
      ]
    },
    {
      "cell_type": "code",
      "source": [
        "# From local helper files\n",
        "from helper_evaluation import set_all_seeds, set_deterministic, compute_confusion_matrix\n",
        "from helper_train import train_model\n",
        "from helper_plotting import plot_training_loss, plot_accuracy, show_examples, plot_confusion_matrix\n",
        "from helper_dataset import get_dataloaders_cifar10, UnNormalize"
      ],
      "metadata": {
        "id": "Fq41-lkRpQVO"
      },
      "execution_count": null,
      "outputs": []
    },
    {
      "cell_type": "code",
      "source": [
        "RANDOM_SEED = 123\n",
        "BATCH_SIZE = 256\n",
        "NUM_EPOCHS = 40\n",
        "DEVICE = torch.device('cuda:0' if torch.cuda.is_available() else 'cpu')"
      ],
      "metadata": {
        "id": "pU_H6sDVpTQB"
      },
      "execution_count": null,
      "outputs": []
    },
    {
      "cell_type": "code",
      "source": [
        "train_transforms = torchvision.transforms.Compose([\n",
        "    torchvision.transforms.Resize((16, 16)),\n",
        "    torchvision.transforms.ToTensor(),\n",
        "    torchvision.transforms.Normalize((0.5, 0.5, 0.5), (0.5, 0.5, 0.5))\n",
        "                                      ])\n",
        "\n",
        "\n",
        "test_transforms = torchvision.transforms.Compose([\n",
        "    torchvision.transforms.Resize((16, 16)),\n",
        "    torchvision.transforms.ToTensor(),\n",
        "    torchvision.transforms.Normalize((0.5, 0.5, 0.5), (0.5, 0.5, 0.5))])\n",
        "\n",
        "\n",
        "train_loader, valid_loader, test_loader = get_dataloaders_cifar10(\n",
        "    batch_size=BATCH_SIZE,\n",
        "    validation_fraction=0.1,\n",
        "    train_transforms=train_transforms,\n",
        "    test_transforms=test_transforms,\n",
        "    num_workers=2)\n",
        "\n",
        "# Checking the dataset\n",
        "for images, labels in train_loader:\n",
        "    print('Image batch dimensions:', images.shape)\n",
        "    print('Image label dimensions:', labels.shape)\n",
        "    print('Class labels of 10 examples:', labels[:10])\n",
        "    break"
      ],
      "metadata": {
        "colab": {
          "base_uri": "https://localhost:8080/",
          "height": 136,
          "referenced_widgets": [
            "904255a64424484282c3c749effc5ba0",
            "ed6f21d7f4cc47f8ba6c0639876bcc2a",
            "053989d64c79415e9e016587484bf82d",
            "71be4fde57e54f73bd1e3ae3be927f3c",
            "118c5b0ac92746888c45d9f59cf2deab",
            "0c35bce7c8a4420cb04b178e720b3dcb",
            "55cb13426a80422eacb5d1f2c811db53",
            "68179456af3b45bfbfe512aec2553d6d",
            "90dd06a2792e40fda5473aa26c165ffc",
            "4161cab5892048de9566a5dcb05ac8cf",
            "ff0104cca2b74c60b486c08f3e71c502"
          ]
        },
        "id": "uB989SIkpUo4",
        "outputId": "a5b674e7-29c2-4583-95fd-7cf8d6d5b686"
      },
      "execution_count": null,
      "outputs": [
        {
          "output_type": "stream",
          "name": "stdout",
          "text": [
            "Downloading https://www.cs.toronto.edu/~kriz/cifar-10-python.tar.gz to data/cifar-10-python.tar.gz\n"
          ]
        },
        {
          "output_type": "display_data",
          "data": {
            "text/plain": [
              "  0%|          | 0/170498071 [00:00<?, ?it/s]"
            ],
            "application/vnd.jupyter.widget-view+json": {
              "version_major": 2,
              "version_minor": 0,
              "model_id": "904255a64424484282c3c749effc5ba0"
            }
          },
          "metadata": {}
        },
        {
          "output_type": "stream",
          "name": "stdout",
          "text": [
            "Extracting data/cifar-10-python.tar.gz to data\n",
            "Image batch dimensions: torch.Size([256, 3, 16, 16])\n",
            "Image label dimensions: torch.Size([256])\n",
            "Class labels of 10 examples: tensor([0, 4, 7, 6, 5, 7, 3, 6, 9, 5])\n"
          ]
        }
      ]
    },
    {
      "cell_type": "code",
      "source": [
        "class CNN2Dropout(torch.nn.Module):\n",
        "  def __init__(self, num_classes, drop_probas=[]):\n",
        "    super().__init__()\n",
        "    self.features = torch.nn.Sequential(\n",
        "            # Conv 1\n",
        "            torch.nn.Conv2d(3, 16, kernel_size=3, padding=\"same\"), # output 16 - 3 + 1 => 16\n",
        "                            # , stride=4, padding=2),\n",
        "            torch.nn.Dropout2d(p=drop_probas[0]),\n",
        "            torch.nn.ReLU(inplace=True),\n",
        "            torch.nn.MaxPool2d(kernel_size=2), # 16 / 2 => output 8\n",
        "\n",
        "            # Conv 2\n",
        "            torch.nn.Conv2d(16, 32, kernel_size=2, padding=\"same\"), # output 7 - 2 + 1 => 8\n",
        "                            # , padding=2),\n",
        "            torch.nn.Dropout2d(p=drop_probas[1]),\n",
        "            torch.nn.ReLU(inplace=True),\n",
        "            torch.nn.MaxPool2d(kernel_size=2), #output 8 / 2 => output 4\n",
        "\n",
        "            # Conv 3\n",
        "            torch.nn.Conv2d(32, 64, kernel_size=2, padding=\"same\"), # output 7 - 2 + 1 => 4\n",
        "                            # , padding=2),\n",
        "            torch.nn.Dropout2d(p=drop_probas[2]),\n",
        "            torch.nn.ReLU(inplace=True),\n",
        "            torch.nn.MaxPool2d(kernel_size=2) #output 4 / 2 => output 2\n",
        "\n",
        "    )\n",
        "\n",
        "    self.classifier = torch.nn.Sequential(\n",
        "         torch.nn.Linear(64*2*2, 100),\n",
        "          torch.nn.ReLU(inplace=True),\n",
        "          torch.nn.Linear(100, num_classes),\n",
        "    )\n",
        "\n",
        "  def forward(self, x):\n",
        "    x = self.features(x)\n",
        "    x = torch.flatten(x, 1)\n",
        "    # print(x.size())\n",
        "    logits = self.classifier(x)\n",
        "    return logits"
      ],
      "metadata": {
        "id": "sd5zgVwjpWAA"
      },
      "execution_count": null,
      "outputs": []
    },
    {
      "cell_type": "code",
      "source": [
        "model2_dropout = CNN2Dropout(num_classes=10, drop_probas=[0.2, 0.4, 0.8])"
      ],
      "metadata": {
        "id": "LVN-WDRkpZk6"
      },
      "execution_count": null,
      "outputs": []
    },
    {
      "cell_type": "code",
      "source": [
        "model2_dropout = model2_dropout.to(DEVICE)"
      ],
      "metadata": {
        "id": "RztIc_EupbLE"
      },
      "execution_count": null,
      "outputs": []
    },
    {
      "cell_type": "code",
      "source": [
        "print(summary(model2_dropout, (3, 16, 16)))"
      ],
      "metadata": {
        "colab": {
          "base_uri": "https://localhost:8080/"
        },
        "id": "EJ9CLPVMIrbm",
        "outputId": "0eb676b2-fccb-4c64-fcd3-729aa51e8f15"
      },
      "execution_count": null,
      "outputs": [
        {
          "output_type": "stream",
          "name": "stdout",
          "text": [
            "----------------------------------------------------------------\n",
            "        Layer (type)               Output Shape         Param #\n",
            "================================================================\n",
            "            Conv2d-1           [-1, 16, 16, 16]             448\n",
            "         Dropout2d-2           [-1, 16, 16, 16]               0\n",
            "              ReLU-3           [-1, 16, 16, 16]               0\n",
            "         MaxPool2d-4             [-1, 16, 8, 8]               0\n",
            "            Conv2d-5             [-1, 32, 8, 8]           2,080\n",
            "         Dropout2d-6             [-1, 32, 8, 8]               0\n",
            "              ReLU-7             [-1, 32, 8, 8]               0\n",
            "         MaxPool2d-8             [-1, 32, 4, 4]               0\n",
            "            Conv2d-9             [-1, 64, 4, 4]           8,256\n",
            "        Dropout2d-10             [-1, 64, 4, 4]               0\n",
            "             ReLU-11             [-1, 64, 4, 4]               0\n",
            "        MaxPool2d-12             [-1, 64, 2, 2]               0\n",
            "           Linear-13                  [-1, 100]          25,700\n",
            "             ReLU-14                  [-1, 100]               0\n",
            "           Linear-15                   [-1, 10]           1,010\n",
            "================================================================\n",
            "Total params: 37,494\n",
            "Trainable params: 37,494\n",
            "Non-trainable params: 0\n",
            "----------------------------------------------------------------\n",
            "Input size (MB): 0.00\n",
            "Forward/backward pass size (MB): 0.18\n",
            "Params size (MB): 0.14\n",
            "Estimated Total Size (MB): 0.33\n",
            "----------------------------------------------------------------\n",
            "None\n"
          ]
        },
        {
          "output_type": "stream",
          "name": "stderr",
          "text": [
            "/usr/local/lib/python3.7/dist-packages/torch/nn/modules/conv.py:454: UserWarning: Using padding='same' with even kernel lengths and odd dilation may require a zero-padded copy of the input be created (Triggered internally at  ../aten/src/ATen/native/Convolution.cpp:882.)\n",
            "  self.padding, self.dilation, self.groups)\n"
          ]
        }
      ]
    },
    {
      "cell_type": "code",
      "source": [
        "optimizer2_dropout = torch.optim.SGD(model2_dropout.parameters(), lr=0.1)\n",
        "scheduler2_dropout = torch.optim.lr_scheduler.ReduceLROnPlateau(optimizer2_dropout,\n",
        "                                                       factor=0.1,\n",
        "                                                       mode='max',\n",
        "                                                       verbose=True)\n"
      ],
      "metadata": {
        "id": "m15s1otkpcg8"
      },
      "execution_count": null,
      "outputs": []
    },
    {
      "cell_type": "code",
      "source": [
        "minibatch_loss_list_dropout2, train_acc_list_dropout2, valid_acc_list_dropout2 = train_model(\n",
        "    model=model2_dropout,\n",
        "    num_epochs=NUM_EPOCHS,\n",
        "    train_loader=train_loader,\n",
        "    valid_loader=valid_loader,\n",
        "    test_loader=test_loader,\n",
        "    optimizer=optimizer2_dropout,\n",
        "    device=DEVICE,\n",
        "    scheduler=None,\n",
        "    scheduler_on='valid_acc',\n",
        "    logging_interval=100)"
      ],
      "metadata": {
        "colab": {
          "base_uri": "https://localhost:8080/"
        },
        "id": "5WtaJCcNpd1E",
        "outputId": "77dda51b-4c3f-4e5e-86e9-629e1516fd39"
      },
      "execution_count": null,
      "outputs": [
        {
          "metadata": {
            "tags": null
          },
          "name": "stderr",
          "output_type": "stream",
          "text": [
            "/usr/local/lib/python3.7/dist-packages/torch/nn/modules/conv.py:454: UserWarning: Using padding='same' with even kernel lengths and odd dilation may require a zero-padded copy of the input be created (Triggered internally at  ../aten/src/ATen/native/Convolution.cpp:882.)\n",
            "  self.padding, self.dilation, self.groups)\n"
          ]
        },
        {
          "output_type": "stream",
          "name": "stdout",
          "text": [
            "Epoch: 001/040 | Batch 0000/0175 | Loss: 2.3082\n",
            "Epoch: 001/040 | Batch 0100/0175 | Loss: 2.2980\n",
            "Epoch: 001/040 | Train: 12.07% | Validation: 12.14%\n",
            "Time elapsed: 1.31 min\n",
            "Epoch: 002/040 | Batch 0000/0175 | Loss: 2.2983\n",
            "Epoch: 002/040 | Batch 0100/0175 | Loss: 2.2995\n",
            "Epoch: 002/040 | Train: 21.12% | Validation: 21.26%\n",
            "Time elapsed: 2.57 min\n",
            "Epoch: 003/040 | Batch 0000/0175 | Loss: 2.2701\n",
            "Epoch: 003/040 | Batch 0100/0175 | Loss: 2.1783\n",
            "Epoch: 003/040 | Train: 23.64% | Validation: 23.00%\n",
            "Time elapsed: 3.88 min\n",
            "Epoch: 004/040 | Batch 0000/0175 | Loss: 2.1585\n",
            "Epoch: 004/040 | Batch 0100/0175 | Loss: 2.1167\n",
            "Epoch: 004/040 | Train: 25.46% | Validation: 25.40%\n",
            "Time elapsed: 5.18 min\n",
            "Epoch: 005/040 | Batch 0000/0175 | Loss: 2.1266\n",
            "Epoch: 005/040 | Batch 0100/0175 | Loss: 2.0400\n",
            "Epoch: 005/040 | Train: 28.47% | Validation: 27.26%\n",
            "Time elapsed: 6.51 min\n",
            "Epoch: 006/040 | Batch 0000/0175 | Loss: 2.0364\n",
            "Epoch: 006/040 | Batch 0100/0175 | Loss: 2.0298\n",
            "Epoch: 006/040 | Train: 28.92% | Validation: 27.34%\n",
            "Time elapsed: 7.81 min\n",
            "Epoch: 007/040 | Batch 0000/0175 | Loss: 2.0164\n",
            "Epoch: 007/040 | Batch 0100/0175 | Loss: 1.9458\n",
            "Epoch: 007/040 | Train: 31.91% | Validation: 32.28%\n",
            "Time elapsed: 9.17 min\n",
            "Epoch: 008/040 | Batch 0000/0175 | Loss: 1.9441\n",
            "Epoch: 008/040 | Batch 0100/0175 | Loss: 1.9376\n",
            "Epoch: 008/040 | Train: 34.26% | Validation: 34.00%\n",
            "Time elapsed: 10.48 min\n",
            "Epoch: 009/040 | Batch 0000/0175 | Loss: 1.9189\n",
            "Epoch: 009/040 | Batch 0100/0175 | Loss: 1.9503\n",
            "Epoch: 009/040 | Train: 35.90% | Validation: 35.06%\n",
            "Time elapsed: 11.79 min\n",
            "Epoch: 010/040 | Batch 0000/0175 | Loss: 1.8500\n",
            "Epoch: 010/040 | Batch 0100/0175 | Loss: 1.7955\n",
            "Epoch: 010/040 | Train: 36.35% | Validation: 36.70%\n",
            "Time elapsed: 13.08 min\n",
            "Epoch: 011/040 | Batch 0000/0175 | Loss: 1.8733\n",
            "Epoch: 011/040 | Batch 0100/0175 | Loss: 1.9090\n",
            "Epoch: 011/040 | Train: 37.36% | Validation: 37.32%\n",
            "Time elapsed: 14.38 min\n",
            "Epoch: 012/040 | Batch 0000/0175 | Loss: 1.9136\n",
            "Epoch: 012/040 | Batch 0100/0175 | Loss: 1.8945\n",
            "Epoch: 012/040 | Train: 38.27% | Validation: 38.26%\n",
            "Time elapsed: 15.64 min\n",
            "Epoch: 013/040 | Batch 0000/0175 | Loss: 1.7837\n",
            "Epoch: 013/040 | Batch 0100/0175 | Loss: 1.7805\n",
            "Epoch: 013/040 | Train: 37.66% | Validation: 37.30%\n",
            "Time elapsed: 16.90 min\n",
            "Epoch: 014/040 | Batch 0000/0175 | Loss: 1.8103\n",
            "Epoch: 014/040 | Batch 0100/0175 | Loss: 1.7975\n",
            "Epoch: 014/040 | Train: 39.44% | Validation: 39.52%\n",
            "Time elapsed: 18.19 min\n",
            "Epoch: 015/040 | Batch 0000/0175 | Loss: 1.8685\n",
            "Epoch: 015/040 | Batch 0100/0175 | Loss: 1.8232\n",
            "Epoch: 015/040 | Train: 39.94% | Validation: 39.78%\n",
            "Time elapsed: 19.46 min\n",
            "Epoch: 016/040 | Batch 0000/0175 | Loss: 1.7606\n",
            "Epoch: 016/040 | Batch 0100/0175 | Loss: 1.7664\n",
            "Epoch: 016/040 | Train: 41.32% | Validation: 40.76%\n",
            "Time elapsed: 20.77 min\n",
            "Epoch: 017/040 | Batch 0000/0175 | Loss: 1.7861\n",
            "Epoch: 017/040 | Batch 0100/0175 | Loss: 1.7624\n",
            "Epoch: 017/040 | Train: 41.46% | Validation: 41.28%\n",
            "Time elapsed: 22.05 min\n",
            "Epoch: 018/040 | Batch 0000/0175 | Loss: 1.7165\n",
            "Epoch: 018/040 | Batch 0100/0175 | Loss: 1.7297\n",
            "Epoch: 018/040 | Train: 40.87% | Validation: 40.20%\n",
            "Time elapsed: 23.35 min\n",
            "Epoch: 019/040 | Batch 0000/0175 | Loss: 1.7341\n",
            "Epoch: 019/040 | Batch 0100/0175 | Loss: 1.8165\n",
            "Epoch: 019/040 | Train: 41.59% | Validation: 40.90%\n",
            "Time elapsed: 24.63 min\n",
            "Epoch: 020/040 | Batch 0000/0175 | Loss: 1.7050\n",
            "Epoch: 020/040 | Batch 0100/0175 | Loss: 1.6512\n",
            "Epoch: 020/040 | Train: 41.32% | Validation: 41.16%\n",
            "Time elapsed: 25.94 min\n",
            "Epoch: 021/040 | Batch 0000/0175 | Loss: 1.7696\n",
            "Epoch: 021/040 | Batch 0100/0175 | Loss: 1.6841\n",
            "Epoch: 021/040 | Train: 42.33% | Validation: 42.24%\n",
            "Time elapsed: 27.23 min\n",
            "Epoch: 022/040 | Batch 0000/0175 | Loss: 1.6046\n",
            "Epoch: 022/040 | Batch 0100/0175 | Loss: 1.7335\n",
            "Epoch: 022/040 | Train: 43.03% | Validation: 43.12%\n",
            "Time elapsed: 28.51 min\n",
            "Epoch: 023/040 | Batch 0000/0175 | Loss: 1.7689\n",
            "Epoch: 023/040 | Batch 0100/0175 | Loss: 1.6963\n",
            "Epoch: 023/040 | Train: 43.10% | Validation: 42.94%\n",
            "Time elapsed: 29.80 min\n",
            "Epoch: 024/040 | Batch 0000/0175 | Loss: 1.6681\n",
            "Epoch: 024/040 | Batch 0100/0175 | Loss: 1.7084\n",
            "Epoch: 024/040 | Train: 43.33% | Validation: 42.92%\n",
            "Time elapsed: 31.14 min\n",
            "Epoch: 025/040 | Batch 0000/0175 | Loss: 1.7377\n",
            "Epoch: 025/040 | Batch 0100/0175 | Loss: 1.7826\n",
            "Epoch: 025/040 | Train: 42.79% | Validation: 42.90%\n",
            "Time elapsed: 32.42 min\n",
            "Epoch: 026/040 | Batch 0000/0175 | Loss: 1.8124\n",
            "Epoch: 026/040 | Batch 0100/0175 | Loss: 1.6125\n",
            "Epoch: 026/040 | Train: 43.49% | Validation: 43.46%\n",
            "Time elapsed: 33.74 min\n",
            "Epoch: 027/040 | Batch 0000/0175 | Loss: 1.6881\n",
            "Epoch: 027/040 | Batch 0100/0175 | Loss: 1.6497\n",
            "Epoch: 027/040 | Train: 43.63% | Validation: 43.68%\n",
            "Time elapsed: 35.05 min\n",
            "Epoch: 028/040 | Batch 0000/0175 | Loss: 1.6946\n",
            "Epoch: 028/040 | Batch 0100/0175 | Loss: 1.7066\n",
            "Epoch: 028/040 | Train: 44.52% | Validation: 44.10%\n",
            "Time elapsed: 36.38 min\n",
            "Epoch: 029/040 | Batch 0000/0175 | Loss: 1.6888\n",
            "Epoch: 029/040 | Batch 0100/0175 | Loss: 1.7111\n",
            "Epoch: 029/040 | Train: 44.09% | Validation: 44.14%\n",
            "Time elapsed: 37.68 min\n",
            "Epoch: 030/040 | Batch 0000/0175 | Loss: 1.6651\n",
            "Epoch: 030/040 | Batch 0100/0175 | Loss: 1.6679\n",
            "Epoch: 030/040 | Train: 44.30% | Validation: 44.10%\n",
            "Time elapsed: 38.99 min\n",
            "Epoch: 031/040 | Batch 0000/0175 | Loss: 1.5694\n",
            "Epoch: 031/040 | Batch 0100/0175 | Loss: 1.6693\n",
            "Epoch: 031/040 | Train: 44.55% | Validation: 44.78%\n",
            "Time elapsed: 40.28 min\n",
            "Epoch: 032/040 | Batch 0000/0175 | Loss: 1.5961\n",
            "Epoch: 032/040 | Batch 0100/0175 | Loss: 1.6088\n",
            "Epoch: 032/040 | Train: 44.87% | Validation: 44.66%\n",
            "Time elapsed: 41.58 min\n",
            "Epoch: 033/040 | Batch 0000/0175 | Loss: 1.5836\n",
            "Epoch: 033/040 | Batch 0100/0175 | Loss: 1.6808\n",
            "Epoch: 033/040 | Train: 45.49% | Validation: 45.18%\n",
            "Time elapsed: 42.86 min\n",
            "Epoch: 034/040 | Batch 0000/0175 | Loss: 1.7051\n",
            "Epoch: 034/040 | Batch 0100/0175 | Loss: 1.7858\n",
            "Epoch: 034/040 | Train: 45.16% | Validation: 45.54%\n",
            "Time elapsed: 44.17 min\n",
            "Epoch: 035/040 | Batch 0000/0175 | Loss: 1.6559\n",
            "Epoch: 035/040 | Batch 0100/0175 | Loss: 1.6319\n",
            "Epoch: 035/040 | Train: 45.35% | Validation: 45.30%\n",
            "Time elapsed: 45.46 min\n",
            "Epoch: 036/040 | Batch 0000/0175 | Loss: 1.5705\n",
            "Epoch: 036/040 | Batch 0100/0175 | Loss: 1.5781\n",
            "Epoch: 036/040 | Train: 45.98% | Validation: 45.56%\n",
            "Time elapsed: 46.76 min\n",
            "Epoch: 037/040 | Batch 0000/0175 | Loss: 1.6377\n",
            "Epoch: 037/040 | Batch 0100/0175 | Loss: 1.6536\n",
            "Epoch: 037/040 | Train: 45.22% | Validation: 45.02%\n",
            "Time elapsed: 48.09 min\n",
            "Epoch: 038/040 | Batch 0000/0175 | Loss: 1.6114\n",
            "Epoch: 038/040 | Batch 0100/0175 | Loss: 1.5813\n",
            "Epoch: 038/040 | Train: 46.50% | Validation: 45.60%\n",
            "Time elapsed: 49.38 min\n",
            "Epoch: 039/040 | Batch 0000/0175 | Loss: 1.7643\n",
            "Epoch: 039/040 | Batch 0100/0175 | Loss: 1.6195\n",
            "Epoch: 039/040 | Train: 46.62% | Validation: 46.42%\n",
            "Time elapsed: 50.70 min\n",
            "Epoch: 040/040 | Batch 0000/0175 | Loss: 1.6825\n",
            "Epoch: 040/040 | Batch 0100/0175 | Loss: 1.6197\n",
            "Epoch: 040/040 | Train: 46.13% | Validation: 46.36%\n",
            "Time elapsed: 51.99 min\n",
            "Total Training Time: 51.99 min\n",
            "Test accuracy 46.67%\n"
          ]
        }
      ]
    },
    {
      "cell_type": "code",
      "source": [
        "plot_training_loss(minibatch_loss_list=minibatch_loss_list_dropout2,\n",
        "                   num_epochs=NUM_EPOCHS,\n",
        "                   iter_per_epoch=len(train_loader),\n",
        "                   results_dir=None,\n",
        "                   averaging_iterations=20)\n",
        "\n",
        "plt.show()\n",
        "\n",
        "plot_accuracy(train_acc_list=train_acc_list_dropout2,\n",
        "              valid_acc_list=valid_acc_list_dropout2,\n",
        "              results_dir=None)\n",
        "\n",
        "# plt.ylim([80, 100])\n",
        "plt.show()"
      ],
      "metadata": {
        "colab": {
          "base_uri": "https://localhost:8080/",
          "height": 577
        },
        "id": "joMxtUVApgvN",
        "outputId": "6570e3f7-fc4e-4c92-805a-0a941d4d97f6"
      },
      "execution_count": null,
      "outputs": [
        {
          "output_type": "display_data",
          "data": {
            "text/plain": [
              "<Figure size 432x288 with 2 Axes>"
            ],
            "image/png": "[encoded data removed]"
          },
          "metadata": {
            "needs_background": "light"
          }
        },
        {
          "output_type": "display_data",
          "data": {
            "text/plain": [
              "<Figure size 432x288 with 1 Axes>"
            ],
            "image/png": "[encoded data removed]"
          },
          "metadata": {
            "needs_background": "light"
          }
        }
      ]
    },
    {
      "cell_type": "code",
      "source": [
        "class CNN1Dropout(torch.nn.Module):\n",
        "  def __init__(self, num_classes, drop_probas=[]):\n",
        "    super().__init__()\n",
        "    self.features = torch.nn.Sequential(\n",
        "            # Conv 1\n",
        "            torch.nn.Conv2d(3, 16, kernel_size=3, padding=\"same\"), # output 16 - 3 + 1 => 16\n",
        "                            # , stride=4, padding=2),\n",
        "            torch.nn.Dropout2d(p=drop_probas[0]),\n",
        "            torch.nn.ReLU(inplace=True),\n",
        "            torch.nn.MaxPool2d(kernel_size=2), # 16 / 2 => output 8\n",
        "\n",
        "            # Conv 2\n",
        "            torch.nn.Conv2d(16, 32, kernel_size=2, padding=\"same\"), # output 7 - 2 + 1 => 8\n",
        "                            # , padding=2),\n",
        "            torch.nn.Dropout2d(p=drop_probas[1]),\n",
        "            torch.nn.ReLU(inplace=True),\n",
        "            torch.nn.MaxPool2d(kernel_size=2), #output 8 / 2 => output 4\n",
        "\n",
        "            # Conv 3\n",
        "            # torch.nn.Conv2d(32, 64, kernel_size=2, padding=\"same\"), # output 7 - 2 + 1 => 4\n",
        "            #                 # , padding=2),\n",
        "            # torch.nn.Dropout2d(p=drop_probas[2]),\n",
        "            # torch.nn.ReLU(inplace=True),\n",
        "            # torch.nn.MaxPool2d(kernel_size=2) #output 4 / 2 => output 2\n",
        "\n",
        "    )\n",
        "\n",
        "    self.classifier = torch.nn.Sequential(\n",
        "         torch.nn.Linear(32*4*4, 100),\n",
        "          torch.nn.ReLU(inplace=True),\n",
        "          torch.nn.Linear(100, num_classes),\n",
        "    )\n",
        "\n",
        "  def forward(self, x):\n",
        "    x = self.features(x)\n",
        "    x = torch.flatten(x, 1)\n",
        "    # print(x.size())\n",
        "    logits = self.classifier(x)\n",
        "    return logits"
      ],
      "metadata": {
        "id": "eG0Y2Zc3ydux"
      },
      "execution_count": null,
      "outputs": []
    },
    {
      "cell_type": "code",
      "source": [
        "model1_dropout = CNN1Dropout(num_classes=10, drop_probas=[0.2, 0.4, 0.8])"
      ],
      "metadata": {
        "id": "A8OZvIY6ydpu"
      },
      "execution_count": null,
      "outputs": []
    },
    {
      "cell_type": "code",
      "source": [
        "model1_dropout = model1_dropout.to(DEVICE)"
      ],
      "metadata": {
        "id": "pnDP4VOsydmD"
      },
      "execution_count": null,
      "outputs": []
    },
    {
      "cell_type": "code",
      "source": [
        "print(summary(model1_dropout, (3, 16, 16)))"
      ],
      "metadata": {
        "colab": {
          "base_uri": "https://localhost:8080/"
        },
        "id": "SJsfJXSmIvHo",
        "outputId": "96ac100e-3674-4f43-89a1-4346f9ce639b"
      },
      "execution_count": null,
      "outputs": [
        {
          "output_type": "stream",
          "name": "stdout",
          "text": [
            "----------------------------------------------------------------\n",
            "        Layer (type)               Output Shape         Param #\n",
            "================================================================\n",
            "            Conv2d-1           [-1, 16, 16, 16]             448\n",
            "         Dropout2d-2           [-1, 16, 16, 16]               0\n",
            "              ReLU-3           [-1, 16, 16, 16]               0\n",
            "         MaxPool2d-4             [-1, 16, 8, 8]               0\n",
            "            Conv2d-5             [-1, 32, 8, 8]           2,080\n",
            "         Dropout2d-6             [-1, 32, 8, 8]               0\n",
            "              ReLU-7             [-1, 32, 8, 8]               0\n",
            "         MaxPool2d-8             [-1, 32, 4, 4]               0\n",
            "            Linear-9                  [-1, 100]          51,300\n",
            "             ReLU-10                  [-1, 100]               0\n",
            "           Linear-11                   [-1, 10]           1,010\n",
            "================================================================\n",
            "Total params: 54,838\n",
            "Trainable params: 54,838\n",
            "Non-trainable params: 0\n",
            "----------------------------------------------------------------\n",
            "Input size (MB): 0.00\n",
            "Forward/backward pass size (MB): 0.15\n",
            "Params size (MB): 0.21\n",
            "Estimated Total Size (MB): 0.37\n",
            "----------------------------------------------------------------\n",
            "None\n"
          ]
        }
      ]
    },
    {
      "cell_type": "code",
      "source": [
        "optimizer1_dropout = torch.optim.SGD(model1_dropout.parameters(), lr=0.1)\n",
        "scheduler1_dropout = torch.optim.lr_scheduler.ReduceLROnPlateau(optimizer1_dropout,\n",
        "                                                       factor=0.1,\n",
        "                                                       mode='max',\n",
        "                                                       verbose=True)\n"
      ],
      "metadata": {
        "id": "gu7cD3kuydcu"
      },
      "execution_count": null,
      "outputs": []
    },
    {
      "cell_type": "code",
      "source": [
        "minibatch_loss_list_dropout1, train_acc_list_dropout1, valid_acc_list_dropout1 = train_model(\n",
        "    model=model1_dropout,\n",
        "    num_epochs=NUM_EPOCHS,\n",
        "    train_loader=train_loader,\n",
        "    valid_loader=valid_loader,\n",
        "    test_loader=test_loader,\n",
        "    optimizer=optimizer1_dropout,\n",
        "    device=DEVICE,\n",
        "    scheduler=None,\n",
        "    scheduler_on='valid_acc',\n",
        "    logging_interval=100)"
      ],
      "metadata": {
        "id": "XoQKfStMymqU",
        "colab": {
          "base_uri": "https://localhost:8080/"
        },
        "outputId": "bd0fbc9b-a16e-48b2-9051-15c81ba07dfb"
      },
      "execution_count": null,
      "outputs": [
        {
          "metadata": {
            "tags": null
          },
          "name": "stderr",
          "output_type": "stream",
          "text": [
            "/usr/local/lib/python3.7/dist-packages/torch/nn/modules/conv.py:454: UserWarning: Using padding='same' with even kernel lengths and odd dilation may require a zero-padded copy of the input be created (Triggered internally at  ../aten/src/ATen/native/Convolution.cpp:882.)\n",
            "  self.padding, self.dilation, self.groups)\n"
          ]
        },
        {
          "output_type": "stream",
          "name": "stdout",
          "text": [
            "Epoch: 001/040 | Batch 0000/0175 | Loss: 2.3095\n",
            "Epoch: 001/040 | Batch 0100/0175 | Loss: 2.1519\n",
            "Epoch: 001/040 | Train: 31.56% | Validation: 30.96%\n",
            "Time elapsed: 1.50 min\n",
            "Epoch: 002/040 | Batch 0000/0175 | Loss: 2.0513\n",
            "Epoch: 002/040 | Batch 0100/0175 | Loss: 1.9043\n",
            "Epoch: 002/040 | Train: 38.38% | Validation: 38.18%\n",
            "Time elapsed: 2.99 min\n",
            "Epoch: 003/040 | Batch 0000/0175 | Loss: 1.8962\n",
            "Epoch: 003/040 | Batch 0100/0175 | Loss: 1.7297\n",
            "Epoch: 003/040 | Train: 41.74% | Validation: 41.34%\n",
            "Time elapsed: 4.49 min\n",
            "Epoch: 004/040 | Batch 0000/0175 | Loss: 1.7341\n",
            "Epoch: 004/040 | Batch 0100/0175 | Loss: 1.7107\n",
            "Epoch: 004/040 | Train: 43.90% | Validation: 42.70%\n",
            "Time elapsed: 5.96 min\n",
            "Epoch: 005/040 | Batch 0000/0175 | Loss: 1.6439\n",
            "Epoch: 005/040 | Batch 0100/0175 | Loss: 1.6308\n",
            "Epoch: 005/040 | Train: 46.52% | Validation: 45.74%\n",
            "Time elapsed: 7.46 min\n",
            "Epoch: 006/040 | Batch 0000/0175 | Loss: 1.5650\n",
            "Epoch: 006/040 | Batch 0100/0175 | Loss: 1.5583\n",
            "Epoch: 006/040 | Train: 48.22% | Validation: 47.16%\n",
            "Time elapsed: 8.96 min\n",
            "Epoch: 007/040 | Batch 0000/0175 | Loss: 1.5976\n",
            "Epoch: 007/040 | Batch 0100/0175 | Loss: 1.6414\n",
            "Epoch: 007/040 | Train: 49.39% | Validation: 48.72%\n",
            "Time elapsed: 10.47 min\n",
            "Epoch: 008/040 | Batch 0000/0175 | Loss: 1.4945\n",
            "Epoch: 008/040 | Batch 0100/0175 | Loss: 1.6703\n",
            "Epoch: 008/040 | Train: 50.26% | Validation: 49.44%\n",
            "Time elapsed: 11.98 min\n",
            "Epoch: 009/040 | Batch 0000/0175 | Loss: 1.4840\n",
            "Epoch: 009/040 | Batch 0100/0175 | Loss: 1.4716\n",
            "Epoch: 009/040 | Train: 50.90% | Validation: 50.28%\n",
            "Time elapsed: 13.47 min\n",
            "Epoch: 010/040 | Batch 0000/0175 | Loss: 1.4394\n",
            "Epoch: 010/040 | Batch 0100/0175 | Loss: 1.6060\n",
            "Epoch: 010/040 | Train: 52.35% | Validation: 51.54%\n",
            "Time elapsed: 14.98 min\n",
            "Epoch: 011/040 | Batch 0000/0175 | Loss: 1.4923\n",
            "Epoch: 011/040 | Batch 0100/0175 | Loss: 1.5005\n",
            "Epoch: 011/040 | Train: 53.55% | Validation: 52.92%\n",
            "Time elapsed: 16.47 min\n",
            "Epoch: 012/040 | Batch 0000/0175 | Loss: 1.3795\n",
            "Epoch: 012/040 | Batch 0100/0175 | Loss: 1.5879\n",
            "Epoch: 012/040 | Train: 54.25% | Validation: 53.38%\n",
            "Time elapsed: 17.97 min\n",
            "Epoch: 013/040 | Batch 0000/0175 | Loss: 1.4631\n",
            "Epoch: 013/040 | Batch 0100/0175 | Loss: 1.4475\n",
            "Epoch: 013/040 | Train: 53.51% | Validation: 52.18%\n",
            "Time elapsed: 19.44 min\n",
            "Epoch: 014/040 | Batch 0000/0175 | Loss: 1.3421\n",
            "Epoch: 014/040 | Batch 0100/0175 | Loss: 1.3751\n",
            "Epoch: 014/040 | Train: 54.90% | Validation: 53.98%\n",
            "Time elapsed: 20.94 min\n",
            "Epoch: 015/040 | Batch 0000/0175 | Loss: 1.4581\n",
            "Epoch: 015/040 | Batch 0100/0175 | Loss: 1.3633\n",
            "Epoch: 015/040 | Train: 55.82% | Validation: 55.34%\n",
            "Time elapsed: 22.43 min\n",
            "Epoch: 016/040 | Batch 0000/0175 | Loss: 1.3699\n",
            "Epoch: 016/040 | Batch 0100/0175 | Loss: 1.4331\n",
            "Epoch: 016/040 | Train: 56.38% | Validation: 55.58%\n",
            "Time elapsed: 23.92 min\n",
            "Epoch: 017/040 | Batch 0000/0175 | Loss: 1.4960\n",
            "Epoch: 017/040 | Batch 0100/0175 | Loss: 1.3947\n",
            "Epoch: 017/040 | Train: 56.19% | Validation: 54.74%\n",
            "Time elapsed: 25.40 min\n",
            "Epoch: 018/040 | Batch 0000/0175 | Loss: 1.3473\n",
            "Epoch: 018/040 | Batch 0100/0175 | Loss: 1.4290\n",
            "Epoch: 018/040 | Train: 57.82% | Validation: 57.02%\n",
            "Time elapsed: 26.89 min\n",
            "Epoch: 019/040 | Batch 0000/0175 | Loss: 1.3138\n",
            "Epoch: 019/040 | Batch 0100/0175 | Loss: 1.3451\n",
            "Epoch: 019/040 | Train: 58.15% | Validation: 57.12%\n",
            "Time elapsed: 28.38 min\n",
            "Epoch: 020/040 | Batch 0000/0175 | Loss: 1.4086\n",
            "Epoch: 020/040 | Batch 0100/0175 | Loss: 1.2413\n",
            "Epoch: 020/040 | Train: 58.54% | Validation: 57.92%\n",
            "Time elapsed: 29.86 min\n",
            "Epoch: 021/040 | Batch 0000/0175 | Loss: 1.3267\n",
            "Epoch: 021/040 | Batch 0100/0175 | Loss: 1.4090\n",
            "Epoch: 021/040 | Train: 59.00% | Validation: 58.10%\n",
            "Time elapsed: 31.36 min\n",
            "Epoch: 022/040 | Batch 0000/0175 | Loss: 1.4082\n",
            "Epoch: 022/040 | Batch 0100/0175 | Loss: 1.4273\n",
            "Epoch: 022/040 | Train: 59.49% | Validation: 57.90%\n",
            "Time elapsed: 32.85 min\n",
            "Epoch: 023/040 | Batch 0000/0175 | Loss: 1.4462\n",
            "Epoch: 023/040 | Batch 0100/0175 | Loss: 1.3964\n",
            "Epoch: 023/040 | Train: 59.69% | Validation: 58.56%\n",
            "Time elapsed: 34.34 min\n",
            "Epoch: 024/040 | Batch 0000/0175 | Loss: 1.2660\n",
            "Epoch: 024/040 | Batch 0100/0175 | Loss: 1.3198\n",
            "Epoch: 024/040 | Train: 59.98% | Validation: 57.78%\n",
            "Time elapsed: 35.83 min\n",
            "Epoch: 025/040 | Batch 0000/0175 | Loss: 1.3592\n",
            "Epoch: 025/040 | Batch 0100/0175 | Loss: 1.2286\n",
            "Epoch: 025/040 | Train: 60.13% | Validation: 58.92%\n",
            "Time elapsed: 37.32 min\n",
            "Epoch: 026/040 | Batch 0000/0175 | Loss: 1.1973\n",
            "Epoch: 026/040 | Batch 0100/0175 | Loss: 1.2909\n",
            "Epoch: 026/040 | Train: 60.46% | Validation: 58.74%\n",
            "Time elapsed: 38.82 min\n",
            "Epoch: 027/040 | Batch 0000/0175 | Loss: 1.3835\n",
            "Epoch: 027/040 | Batch 0100/0175 | Loss: 1.4512\n",
            "Epoch: 027/040 | Train: 61.28% | Validation: 59.06%\n",
            "Time elapsed: 40.32 min\n",
            "Epoch: 028/040 | Batch 0000/0175 | Loss: 1.4159\n",
            "Epoch: 028/040 | Batch 0100/0175 | Loss: 1.4107\n",
            "Epoch: 028/040 | Train: 61.32% | Validation: 59.36%\n",
            "Time elapsed: 41.81 min\n",
            "Epoch: 029/040 | Batch 0000/0175 | Loss: 1.3458\n",
            "Epoch: 029/040 | Batch 0100/0175 | Loss: 1.3156\n",
            "Epoch: 029/040 | Train: 61.89% | Validation: 59.68%\n",
            "Time elapsed: 43.31 min\n",
            "Epoch: 030/040 | Batch 0000/0175 | Loss: 1.2310\n",
            "Epoch: 030/040 | Batch 0100/0175 | Loss: 1.1760\n",
            "Epoch: 030/040 | Train: 61.88% | Validation: 60.24%\n",
            "Time elapsed: 44.78 min\n",
            "Epoch: 031/040 | Batch 0000/0175 | Loss: 1.1780\n",
            "Epoch: 031/040 | Batch 0100/0175 | Loss: 1.2396\n",
            "Epoch: 031/040 | Train: 62.38% | Validation: 60.16%\n",
            "Time elapsed: 46.29 min\n",
            "Epoch: 032/040 | Batch 0000/0175 | Loss: 1.2747\n",
            "Epoch: 032/040 | Batch 0100/0175 | Loss: 1.2306\n",
            "Epoch: 032/040 | Train: 62.44% | Validation: 59.96%\n",
            "Time elapsed: 47.77 min\n",
            "Epoch: 033/040 | Batch 0000/0175 | Loss: 1.2452\n",
            "Epoch: 033/040 | Batch 0100/0175 | Loss: 1.2184\n",
            "Epoch: 033/040 | Train: 63.17% | Validation: 60.52%\n",
            "Time elapsed: 49.27 min\n",
            "Epoch: 034/040 | Batch 0000/0175 | Loss: 1.2210\n",
            "Epoch: 034/040 | Batch 0100/0175 | Loss: 1.2418\n",
            "Epoch: 034/040 | Train: 63.02% | Validation: 61.20%\n",
            "Time elapsed: 50.77 min\n",
            "Epoch: 035/040 | Batch 0000/0175 | Loss: 1.2959\n",
            "Epoch: 035/040 | Batch 0100/0175 | Loss: 1.2209\n",
            "Epoch: 035/040 | Train: 62.99% | Validation: 60.66%\n",
            "Time elapsed: 52.23 min\n",
            "Epoch: 036/040 | Batch 0000/0175 | Loss: 1.2477\n",
            "Epoch: 036/040 | Batch 0100/0175 | Loss: 1.2451\n",
            "Epoch: 036/040 | Train: 64.36% | Validation: 61.94%\n",
            "Time elapsed: 53.74 min\n",
            "Epoch: 037/040 | Batch 0000/0175 | Loss: 1.2403\n",
            "Epoch: 037/040 | Batch 0100/0175 | Loss: 1.1724\n",
            "Epoch: 037/040 | Train: 63.60% | Validation: 60.54%\n",
            "Time elapsed: 55.25 min\n",
            "Epoch: 038/040 | Batch 0000/0175 | Loss: 1.1645\n",
            "Epoch: 038/040 | Batch 0100/0175 | Loss: 1.2893\n",
            "Epoch: 038/040 | Train: 64.53% | Validation: 61.82%\n",
            "Time elapsed: 56.75 min\n",
            "Epoch: 039/040 | Batch 0000/0175 | Loss: 1.1437\n",
            "Epoch: 039/040 | Batch 0100/0175 | Loss: 1.1176\n",
            "Epoch: 039/040 | Train: 64.20% | Validation: 60.98%\n",
            "Time elapsed: 58.23 min\n",
            "Epoch: 040/040 | Batch 0000/0175 | Loss: 1.1646\n",
            "Epoch: 040/040 | Batch 0100/0175 | Loss: 1.2772\n",
            "Epoch: 040/040 | Train: 64.57% | Validation: 62.34%\n",
            "Time elapsed: 59.73 min\n",
            "Total Training Time: 59.73 min\n",
            "Test accuracy 60.19%\n"
          ]
        }
      ]
    },
    {
      "cell_type": "code",
      "source": [
        "plot_training_loss(minibatch_loss_list=minibatch_loss_list_dropout1,\n",
        "                   num_epochs=NUM_EPOCHS,\n",
        "                   iter_per_epoch=len(train_loader),\n",
        "                   results_dir=None,\n",
        "                   averaging_iterations=20)\n",
        "\n",
        "plt.show()\n",
        "\n",
        "plot_accuracy(train_acc_list=train_acc_list_dropout1,\n",
        "              valid_acc_list=valid_acc_list_dropout1,\n",
        "              results_dir=None)\n",
        "\n",
        "# plt.ylim([80, 100])\n",
        "plt.show()\n",
        "\n",
        "\n",
        "\n",
        "\n",
        "\n",
        "\n",
        "\n",
        "\n",
        "\n",
        "\n",
        "\n",
        "\n",
        "\n",
        "\n",
        "\n",
        "\n",
        "\n",
        "\n",
        "\n",
        "\n",
        "\n",
        "\n",
        "\n",
        "\n",
        "\n"
      ],
      "metadata": {
        "id": "IRQqkyWPymhl",
        "colab": {
          "base_uri": "https://localhost:8080/",
          "height": 577
        },
        "outputId": "f31eab8f-7bfc-495e-cc46-2d0128190116"
      },
      "execution_count": null,
      "outputs": [
        {
          "output_type": "display_data",
          "data": {
            "text/plain": [
              "<Figure size 432x288 with 2 Axes>"
            ],
            "image/png": "[encoded data removed]"
          },
          "metadata": {
            "needs_background": "light"
          }
        },
        {
          "output_type": "display_data",
          "data": {
            "text/plain": [
              "<Figure size 432x288 with 1 Axes>"
            ],
            "image/png": "[encoded data removed]"
          },
          "metadata": {
            "needs_background": "light"
          }
        }
      ]
    },
    {
      "cell_type": "code",
      "source": [
        "import pandas as pd"
      ],
      "metadata": {
        "id": "3scXlg5i3qGX"
      },
      "execution_count": null,
      "outputs": []
    },
    {
      "cell_type": "code",
      "source": [
        "results = pd.DataFrame({\"Number of Parameters\": [54838, 37494], \"Accuracy\": [46, 64]}, index = [\"CNN1\", \"CNN2\"])"
      ],
      "metadata": {
        "id": "UxmzO3yz3mgP"
      },
      "execution_count": null,
      "outputs": []
    },
    {
      "cell_type": "code",
      "source": [
        "results"
      ],
      "metadata": {
        "colab": {
          "base_uri": "https://localhost:8080/",
          "height": 112
        },
        "id": "iLh8diUA3iyy",
        "outputId": "091ac49d-29dd-44e7-b016-844b5b94a659"
      },
      "execution_count": null,
      "outputs": [
        {
          "output_type": "execute_result",
          "data": {
            "text/plain": [
              "      Number of Parameters  Accuracy\n",
              "CNN1                 54838        46\n",
              "CNN2                 37494        64"
            ],
            "text/html": [
              "\n",
              "  <div id=\"df-8f439983-28aa-4378-ae64-1eac97ecc0b3\">\n",
              "    <div class=\"colab-df-container\">\n",
              "      <div>\n",
              "<style scoped>\n",
              "    .dataframe tbody tr th:only-of-type {\n",
              "        vertical-align: middle;\n",
              "    }\n",
              "\n",
              "    .dataframe tbody tr th {\n",
              "        vertical-align: top;\n",
              "    }\n",
              "\n",
              "    .dataframe thead th {\n",
              "        text-align: right;\n",
              "    }\n",
              "</style>\n",
              "<table border=\"1\" class=\"dataframe\">\n",
              "  <thead>\n",
              "    <tr style=\"text-align: right;\">\n",
              "      <th></th>\n",
              "      <th>Number of Parameters</th>\n",
              "      <th>Accuracy</th>\n",
              "    </tr>\n",
              "  </thead>\n",
              "  <tbody>\n",
              "    <tr>\n",
              "      <th>CNN1</th>\n",
              "      <td>54838</td>\n",
              "      <td>46</td>\n",
              "    </tr>\n",
              "    <tr>\n",
              "      <th>CNN2</th>\n",
              "      <td>37494</td>\n",
              "      <td>64</td>\n",
              "    </tr>\n",
              "  </tbody>\n",
              "</table>\n",
              "</div>\n",
              "      <button class=\"colab-df-convert\" onclick=\"convertToInteractive('df-8f439983-28aa-4378-ae64-1eac97ecc0b3')\"\n",
              "              title=\"Convert this dataframe to an interactive table.\"\n",
              "              style=\"display:none;\">\n",
              "        \n",
              "  <svg xmlns=\"http://www.w3.org/2000/svg\" height=\"24px\"viewBox=\"0 0 24 24\"\n",
              "       width=\"24px\">\n",
              "    <path d=\"M0 0h24v24H0V0z\" fill=\"none\"/>\n",
              "    <path d=\"M18.56 5.44l.94 2.06.94-2.06 2.06-.94-2.06-.94-.94-2.06-.94 2.06-2.06.94zm-11 1L8.5 8.5l.94-2.06 2.06-.94-2.06-.94L8.5 2.5l-.94 2.06-2.06.94zm10 10l.94 2.06.94-2.06 2.06-.94-2.06-.94-.94-2.06-.94 2.06-2.06.94z\"/><path d=\"M17.41 7.96l-1.37-1.37c-.4-.4-.92-.59-1.43-.59-.52 0-1.04.2-1.43.59L10.3 9.45l-7.72 7.72c-.78.78-.78 2.05 0 2.83L4 21.41c.39.39.9.59 1.41.59.51 0 1.02-.2 1.41-.59l7.78-7.78 2.81-2.81c.8-.78.8-2.07 0-2.86zM5.41 20L4 18.59l7.72-7.72 1.47 1.35L5.41 20z\"/>\n",
              "  </svg>\n",
              "      </button>\n",
              "      \n",
              "  <style>\n",
              "    .colab-df-container {\n",
              "      display:flex;\n",
              "      flex-wrap:wrap;\n",
              "      gap: 12px;\n",
              "    }\n",
              "\n",
              "    .colab-df-convert {\n",
              "      background-color: #E8F0FE;\n",
              "      border: none;\n",
              "      border-radius: 50%;\n",
              "      cursor: pointer;\n",
              "      display: none;\n",
              "      fill: #1967D2;\n",
              "      height: 32px;\n",
              "      padding: 0 0 0 0;\n",
              "      width: 32px;\n",
              "    }\n",
              "\n",
              "    .colab-df-convert:hover {\n",
              "      background-color: #E2EBFA;\n",
              "      box-shadow: 0px 1px 2px rgba(60, 64, 67, 0.3), 0px 1px 3px 1px rgba(60, 64, 67, 0.15);\n",
              "      fill: #174EA6;\n",
              "    }\n",
              "\n",
              "    [theme=dark] .colab-df-convert {\n",
              "      background-color: #3B4455;\n",
              "      fill: #D2E3FC;\n",
              "    }\n",
              "\n",
              "    [theme=dark] .colab-df-convert:hover {\n",
              "      background-color: #434B5C;\n",
              "      box-shadow: 0px 1px 3px 1px rgba(0, 0, 0, 0.15);\n",
              "      filter: drop-shadow(0px 1px 2px rgba(0, 0, 0, 0.3));\n",
              "      fill: #FFFFFF;\n",
              "    }\n",
              "  </style>\n",
              "\n",
              "      <script>\n",
              "        const buttonEl =\n",
              "          document.querySelector('#df-8f439983-28aa-4378-ae64-1eac97ecc0b3 button.colab-df-convert');\n",
              "        buttonEl.style.display =\n",
              "          google.colab.kernel.accessAllowed ? 'block' : 'none';\n",
              "\n",
              "        async function convertToInteractive(key) {\n",
              "          const element = document.querySelector('#df-8f439983-28aa-4378-ae64-1eac97ecc0b3');\n",
              "          const dataTable =\n",
              "            await google.colab.kernel.invokeFunction('convertToInteractive',\n",
              "                                                     [key], {});\n",
              "          if (!dataTable) return;\n",
              "\n",
              "          const docLinkHtml = 'Like what you see? Visit the ' +\n",
              "            '<a target=\"_blank\" href=https://colab.research.google.com/notebooks/data_table.ipynb>data table notebook</a>'\n",
              "            + ' to learn more about interactive tables.';\n",
              "          element.innerHTML = '';\n",
              "          dataTable['output_type'] = 'display_data';\n",
              "          await google.colab.output.renderOutput(dataTable, element);\n",
              "          const docLink = document.createElement('div');\n",
              "          docLink.innerHTML = docLinkHtml;\n",
              "          element.appendChild(docLink);\n",
              "        }\n",
              "      </script>\n",
              "    </div>\n",
              "  </div>\n",
              "  "
            ]
          },
          "metadata": {},
          "execution_count": 3
        }
      ]
    },
    {
      "cell_type": "markdown",
      "source": [
        "## Very surprisingly adding a 80% dropout on the last layer improved the efficiency many fold as it made the model simpler with very low overfitting. This could be the model I would consider running for longer time."
      ],
      "metadata": {
        "id": "arbfgLUK70KU"
      }
    },
    {
      "cell_type": "code",
      "source": [],
      "metadata": {
        "id": "7v3SBCXt3zRJ"
      },
      "execution_count": null,
      "outputs": []
    }
  ]
}