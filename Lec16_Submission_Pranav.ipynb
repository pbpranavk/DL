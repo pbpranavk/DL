{
  "nbformat": 4,
  "nbformat_minor": 0,
  "metadata": {
    "colab": {
      "provenance": []
    },
    "kernelspec": {
      "name": "python3",
      "display_name": "Python 3"
    },
    "language_info": {
      "name": "python"
    }
  },
  "cells": [
    {
      "cell_type": "code",
      "execution_count": null,
      "metadata": {
        "id": "gtHXWONFBaCc"
      },
      "outputs": [],
      "source": [
        "import numpy as np\n",
        "import torch\n",
        "import pandas as pd\n",
        "from sklearn.preprocessing import LabelEncoder\n",
        "import torch.nn.functional as F\n",
        "from torch.utils.data import Dataset\n",
        "from torch.utils.data import DataLoader"
      ]
    },
    {
      "cell_type": "markdown",
      "source": [
        "## Building the Dataset class to load the data"
      ],
      "metadata": {
        "id": "eVHsmUNx8ybX"
      }
    },
    {
      "cell_type": "code",
      "source": [
        "\n",
        "class IrisDataset(Dataset):\n",
        "  def __init__(self, x, y):\n",
        "    self.x = x\n",
        "    self.y = y\n",
        "\n",
        "  def __getitem__(self, index):\n",
        "      x = torch.Tensor(self.x.iloc[index].values)\n",
        "      y = self.y[index]\n",
        "      return x, y\n",
        "\n",
        "  def __len__(self):\n",
        "      return self.y.shape[0]"
      ],
      "metadata": {
        "id": "3Xe_D8ZFC8WD"
      },
      "execution_count": null,
      "outputs": []
    },
    {
      "cell_type": "markdown",
      "source": [
        "## Shuffling and splitting data"
      ],
      "metadata": {
        "id": "sxuoqw2181uw"
      }
    },
    {
      "cell_type": "code",
      "source": [
        "df = pd.read_csv(\"./iris.data\", sep=\",\", names=[\"sepal_length\", \"sepal_width\",\n",
        "                                                    \"petal_legth\", \"petal_width\", \"class\"])\n",
        "\n",
        "df = df.sample(frac=1).reset_index(drop=True)"
      ],
      "metadata": {
        "id": "wOdDA8Q2xXei"
      },
      "execution_count": null,
      "outputs": []
    },
    {
      "cell_type": "code",
      "source": [
        "x = df[[\"sepal_length\", \"sepal_width\", \"petal_legth\", \"petal_width\"]]\n",
        "\n",
        "y = df[\"class\"]\n",
        "y = y.to_numpy().reshape(-1, 1)\n",
        "label_encoder = LabelEncoder().fit(y)\n",
        "y = label_encoder.transform(y)"
      ],
      "metadata": {
        "colab": {
          "base_uri": "https://localhost:8080/"
        },
        "id": "2butpvNPxhgU",
        "outputId": "4e3d65f1-9b43-4a19-8acf-789a45a31540"
      },
      "execution_count": null,
      "outputs": [
        {
          "output_type": "stream",
          "name": "stderr",
          "text": [
            "/usr/local/lib/python3.7/dist-packages/sklearn/preprocessing/_label.py:98: DataConversionWarning: A column-vector y was passed when a 1d array was expected. Please change the shape of y to (n_samples, ), for example using ravel().\n",
            "  y = column_or_1d(y, warn=True)\n",
            "/usr/local/lib/python3.7/dist-packages/sklearn/preprocessing/_label.py:133: DataConversionWarning: A column-vector y was passed when a 1d array was expected. Please change the shape of y to (n_samples, ), for example using ravel().\n",
            "  y = column_or_1d(y, warn=True)\n"
          ]
        }
      ]
    },
    {
      "cell_type": "code",
      "source": [
        "print(x.shape)\n",
        "print(y.shape)"
      ],
      "metadata": {
        "colab": {
          "base_uri": "https://localhost:8080/"
        },
        "id": "12ZVIv7ox28I",
        "outputId": "a75c075f-1df7-4aa4-ce9d-4f68a3e520a2"
      },
      "execution_count": null,
      "outputs": [
        {
          "output_type": "stream",
          "name": "stdout",
          "text": [
            "(150, 4)\n",
            "(150,)\n"
          ]
        }
      ]
    },
    {
      "cell_type": "code",
      "source": [
        "y[6]"
      ],
      "metadata": {
        "colab": {
          "base_uri": "https://localhost:8080/"
        },
        "id": "JI3aI5LE6Gfy",
        "outputId": "d86fbdc4-bf5d-47b4-bc89-566adacb4139"
      },
      "execution_count": null,
      "outputs": [
        {
          "output_type": "execute_result",
          "data": {
            "text/plain": [
              "2"
            ]
          },
          "metadata": {},
          "execution_count": 194
        }
      ]
    },
    {
      "cell_type": "markdown",
      "source": [
        "## Creating the three dataset objects"
      ],
      "metadata": {
        "id": "B4C_J9dR86-S"
      }
    },
    {
      "cell_type": "code",
      "source": [
        "train_dataset = IrisDataset(x[0:100], y[0:100])\n",
        "validation_dataset = IrisDataset(x[100:110], y[100:110])\n",
        "test_dataset = IrisDataset(x[110:], y[110:])"
      ],
      "metadata": {
        "id": "1J2N0bcsHp9V"
      },
      "execution_count": null,
      "outputs": []
    },
    {
      "cell_type": "code",
      "source": [
        "train_dataset[5]"
      ],
      "metadata": {
        "colab": {
          "base_uri": "https://localhost:8080/"
        },
        "id": "Mai983VQ6Cgs",
        "outputId": "9b3c4486-85ba-4011-ea39-e1fe7908f379"
      },
      "execution_count": null,
      "outputs": [
        {
          "output_type": "execute_result",
          "data": {
            "text/plain": [
              "(tensor([5.0000, 3.5000, 1.3000, 0.3000]), 0)"
            ]
          },
          "metadata": {},
          "execution_count": 196
        }
      ]
    },
    {
      "cell_type": "code",
      "source": [
        "train_loader = DataLoader(dataset=train_dataset,\n",
        "                          batch_size=20,\n",
        "                          shuffle=True,\n",
        "                          num_workers=0)\n",
        "\n",
        "validation_loader = DataLoader(dataset=validation_dataset,\n",
        "                          batch_size=20,\n",
        "                          shuffle=True,\n",
        "                          num_workers=0)\n",
        "\n",
        "test_loader = DataLoader(dataset=test_dataset,\n",
        "                          batch_size=20,\n",
        "                          shuffle=True,\n",
        "                          num_workers=0)"
      ],
      "metadata": {
        "id": "cOYU55z-IgzR"
      },
      "execution_count": null,
      "outputs": []
    },
    {
      "cell_type": "markdown",
      "source": [
        "## Test run for batches"
      ],
      "metadata": {
        "id": "gThaJrA88_S_"
      }
    },
    {
      "cell_type": "code",
      "source": [
        "for batch_idx, (x, y) in enumerate(train_loader):\n",
        "  print(batch_idx, x.shape, y.shape)"
      ],
      "metadata": {
        "colab": {
          "base_uri": "https://localhost:8080/"
        },
        "id": "UlE_liBNzaZ8",
        "outputId": "58e586d8-a429-4f0e-f5f6-b49549f04dd2"
      },
      "execution_count": null,
      "outputs": [
        {
          "output_type": "stream",
          "name": "stdout",
          "text": [
            "0 torch.Size([20, 4]) torch.Size([20])\n",
            "1 torch.Size([20, 4]) torch.Size([20])\n",
            "2 torch.Size([20, 4]) torch.Size([20])\n",
            "3 torch.Size([20, 4]) torch.Size([20])\n",
            "4 torch.Size([20, 4]) torch.Size([20])\n"
          ]
        }
      ]
    },
    {
      "cell_type": "markdown",
      "source": [
        "## The classifier"
      ],
      "metadata": {
        "id": "F05m-35E9CPr"
      }
    },
    {
      "cell_type": "code",
      "source": [
        "class IrisClassifier(torch.nn.Module):\n",
        "\n",
        "    def __init__(self, num_features, num_hidden_1, num_classes):\n",
        "        super(IrisClassifier, self).__init__()\n",
        "\n",
        "        self.num_classes = num_classes\n",
        "\n",
        "        self.linear_1 = torch.nn.Linear(num_features, num_hidden_1)\n",
        "        self.linear_out = torch.nn.Linear(num_hidden_1, num_classes)\n",
        "\n",
        "    def forward(self, x):\n",
        "\n",
        "        out = self.linear_1(x)\n",
        "        out = F.relu(out)\n",
        "\n",
        "        logits = self.linear_out(out)\n",
        "        probas = F.softmax(logits, dim=1)\n",
        "        return logits, probas\n",
        "\n",
        "    def predict_labels(self, x):\n",
        "      logits, probas = self.forward(torch.tensor(x, dtype=torch.float))\n",
        "      Z = np.argmax(probas.detach().numpy(), axis=1)\n",
        "      return Z\n",
        "\n",
        "    def evaluate(self, x, y):\n",
        "      labels = self.predict_labels(x)\n",
        "      accuracy = torch.sum(torch.tensor(labels, dtype=torch.float).float() == torch.tensor(y, dtype=torch.float).float()).item() / len(y)\n",
        "      return accuracy\n",
        "\n"
      ],
      "metadata": {
        "id": "BXi4s4krUh80"
      },
      "execution_count": null,
      "outputs": []
    },
    {
      "cell_type": "code",
      "source": [
        "iris_model = IrisClassifier(num_features=4,\n",
        "                   num_hidden_1=10,\n",
        "                   num_classes=3)\n",
        "\n",
        "\n",
        "optimizer = torch.optim.SGD(iris_model.parameters(), lr=0.01)"
      ],
      "metadata": {
        "id": "R0IYLuDYVqpy"
      },
      "execution_count": null,
      "outputs": []
    },
    {
      "cell_type": "code",
      "source": [
        "def compute_accuracy(model, data_loader):\n",
        "\n",
        "    with torch.no_grad():\n",
        "        for i, (features, targets) in enumerate(data_loader):\n",
        "          correct_values = 0\n",
        "          num_examples = 0\n",
        "          labels = model.predict_labels(features)\n",
        "          correct_values = torch.sum(torch.tensor(labels, dtype=torch.float).float() == torch.tensor(targets, dtype=torch.float).float())\n",
        "          correct_values = correct_values\n",
        "          num_examples += targets.shape[0]\n",
        "    return (correct_values / num_examples) * 100"
      ],
      "metadata": {
        "id": "cBfiNMbn1A_Y"
      },
      "execution_count": null,
      "outputs": []
    },
    {
      "cell_type": "markdown",
      "source": [
        "## Training"
      ],
      "metadata": {
        "id": "YiSIcFlf9Fl-"
      }
    },
    {
      "cell_type": "code",
      "source": [
        "train_cost = []\n",
        "train_acc_list = []\n",
        "val_acc_list = []\n",
        "test_acc_list = []\n",
        "\n",
        "num_epochs = 100\n",
        "\n",
        "for epoch in range(num_epochs):\n",
        "    print('Epoch:', epoch+1)\n",
        "\n",
        "    # iris_model.train()\n",
        "    for batch_idx, (train_x, train_y) in enumerate(train_loader):\n",
        "        logits, probas = iris_model(train_x)\n",
        "\n",
        "        cost = F.cross_entropy(logits, train_y)\n",
        "\n",
        "        optimizer.zero_grad()\n",
        "\n",
        "        cost.backward()\n",
        "\n",
        "        train_cost.append(cost)\n",
        "\n",
        "        optimizer.step()\n",
        "\n",
        "        print(f\" | Batch index: {batch_idx} | Batch size: {y.size()[0]} | cost: {cost}\")\n",
        "\n",
        "    # iris_model.eval()\n",
        "    with torch.no_grad():\n",
        "      train_acc = compute_accuracy(iris_model, train_loader)\n",
        "      train_acc_list.append(train_acc.item())\n",
        "\n",
        "      val_acc = compute_accuracy(iris_model, validation_loader)\n",
        "      val_acc_list.append(val_acc.item())\n",
        "\n",
        "      test_acc = compute_accuracy(iris_model, test_loader)\n",
        "      test_acc_list.append(test_acc.item())"
      ],
      "metadata": {
        "colab": {
          "base_uri": "https://localhost:8080/"
        },
        "id": "xS0Eo1NiV5YA",
        "outputId": "e705aa86-34b1-4dd2-b538-7dd3ef10eb1c"
      },
      "execution_count": null,
      "outputs": [
        {
          "output_type": "stream",
          "name": "stdout",
          "text": [
            "Epoch: 1\n",
            " | Batch index: 0 | Batch size: 20 | cost: 1.0781701803207397\n",
            " | Batch index: 1 | Batch size: 20 | cost: 1.0426524877548218\n",
            " | Batch index: 2 | Batch size: 20 | cost: 1.0765738487243652\n",
            " | Batch index: 3 | Batch size: 20 | cost: 1.1140294075012207\n",
            " | Batch index: 4 | Batch size: 20 | cost: 1.017788290977478\n",
            "Epoch: 2\n",
            " | Batch index: 0 | Batch size: 20 | cost: 1.0349444150924683\n",
            " | Batch index: 1 | Batch size: 20 | cost: 1.0656379461288452\n",
            " | Batch index: 2 | Batch size: 20 | cost: 1.0270650386810303\n",
            " | Batch index: 3 | Batch size: 20 | cost: 1.0519829988479614\n",
            " | Batch index: 4 | Batch size: 20 | cost: 1.040198564529419\n",
            "Epoch: 3\n",
            " | Batch index: 0 | Batch size: 20 | cost: 1.026691198348999\n",
            " | Batch index: 1 | Batch size: 20 | cost: 1.0244630575180054\n",
            " | Batch index: 2 | Batch size: 20 | cost: 1.0584514141082764\n",
            " | Batch index: 3 | Batch size: 20 | cost: 1.0322768688201904\n",
            " | Batch index: 4 | Batch size: 20 | cost: 1.012830138206482\n",
            "Epoch: 4\n",
            " | Batch index: 0 | Batch size: 20 | cost: 1.0116093158721924\n",
            " | Batch index: 1 | Batch size: 20 | cost: 1.040813684463501\n"
          ]
        },
        {
          "output_type": "stream",
          "name": "stderr",
          "text": [
            "/usr/local/lib/python3.7/dist-packages/ipykernel_launcher.py:21: UserWarning: To copy construct from a tensor, it is recommended to use sourceTensor.clone().detach() or sourceTensor.clone().detach().requires_grad_(True), rather than torch.tensor(sourceTensor).\n",
            "/usr/local/lib/python3.7/dist-packages/ipykernel_launcher.py:8: UserWarning: To copy construct from a tensor, it is recommended to use sourceTensor.clone().detach() or sourceTensor.clone().detach().requires_grad_(True), rather than torch.tensor(sourceTensor).\n",
            "  \n"
          ]
        },
        {
          "output_type": "stream",
          "name": "stdout",
          "text": [
            " | Batch index: 2 | Batch size: 20 | cost: 1.0044324398040771\n",
            " | Batch index: 3 | Batch size: 20 | cost: 1.0300942659378052\n",
            " | Batch index: 4 | Batch size: 20 | cost: 1.031246542930603\n",
            "Epoch: 5\n",
            " | Batch index: 0 | Batch size: 20 | cost: 1.0066940784454346\n",
            " | Batch index: 1 | Batch size: 20 | cost: 1.0352981090545654\n",
            " | Batch index: 2 | Batch size: 20 | cost: 1.0108979940414429\n",
            " | Batch index: 3 | Batch size: 20 | cost: 1.0342129468917847\n",
            " | Batch index: 4 | Batch size: 20 | cost: 0.9991019368171692\n",
            "Epoch: 6\n",
            " | Batch index: 0 | Batch size: 20 | cost: 1.0155962705612183\n",
            " | Batch index: 1 | Batch size: 20 | cost: 0.9961533546447754\n",
            " | Batch index: 2 | Batch size: 20 | cost: 0.9871628880500793\n",
            " | Batch index: 3 | Batch size: 20 | cost: 1.0227497816085815\n",
            " | Batch index: 4 | Batch size: 20 | cost: 0.9926794171333313\n",
            "Epoch: 7\n",
            " | Batch index: 0 | Batch size: 20 | cost: 0.9920503497123718\n",
            " | Batch index: 1 | Batch size: 20 | cost: 0.9814068675041199\n",
            " | Batch index: 2 | Batch size: 20 | cost: 1.0060603618621826\n",
            " | Batch index: 3 | Batch size: 20 | cost: 0.9748697280883789\n",
            " | Batch index: 4 | Batch size: 20 | cost: 0.972552478313446\n",
            "Epoch: 8\n",
            " | Batch index: 0 | Batch size: 20 | cost: 0.9720008969306946\n",
            " | Batch index: 1 | Batch size: 20 | cost: 0.9676631093025208\n",
            " | Batch index: 2 | Batch size: 20 | cost: 0.9735910296440125\n",
            " | Batch index: 3 | Batch size: 20 | cost: 0.9652084112167358\n",
            " | Batch index: 4 | Batch size: 20 | cost: 0.9765733480453491\n",
            "Epoch: 9\n",
            " | Batch index: 0 | Batch size: 20 | cost: 0.9713529348373413\n",
            " | Batch index: 1 | Batch size: 20 | cost: 0.9629818797111511\n",
            " | Batch index: 2 | Batch size: 20 | cost: 0.917739748954773\n",
            " | Batch index: 3 | Batch size: 20 | cost: 0.9587371945381165\n",
            " | Batch index: 4 | Batch size: 20 | cost: 0.9398220181465149\n",
            "Epoch: 10\n",
            " | Batch index: 0 | Batch size: 20 | cost: 0.9546073079109192\n",
            " | Batch index: 1 | Batch size: 20 | cost: 0.9585193395614624\n",
            " | Batch index: 2 | Batch size: 20 | cost: 0.928343653678894\n",
            " | Batch index: 3 | Batch size: 20 | cost: 0.9208866357803345\n",
            " | Batch index: 4 | Batch size: 20 | cost: 0.9107837677001953\n",
            "Epoch: 11\n",
            " | Batch index: 0 | Batch size: 20 | cost: 0.9270461201667786\n",
            " | Batch index: 1 | Batch size: 20 | cost: 0.9247961044311523\n",
            " | Batch index: 2 | Batch size: 20 | cost: 0.9168693423271179\n",
            " | Batch index: 3 | Batch size: 20 | cost: 0.8837478756904602\n",
            " | Batch index: 4 | Batch size: 20 | cost: 0.9096560478210449\n",
            "Epoch: 12\n",
            " | Batch index: 0 | Batch size: 20 | cost: 0.921103835105896\n",
            " | Batch index: 1 | Batch size: 20 | cost: 0.9187442064285278\n",
            " | Batch index: 2 | Batch size: 20 | cost: 0.880486011505127\n",
            " | Batch index: 3 | Batch size: 20 | cost: 0.9028908014297485\n",
            " | Batch index: 4 | Batch size: 20 | cost: 0.8516365885734558\n",
            "Epoch: 13\n",
            " | Batch index: 0 | Batch size: 20 | cost: 0.9069873094558716\n",
            " | Batch index: 1 | Batch size: 20 | cost: 0.8583895564079285\n",
            " | Batch index: 2 | Batch size: 20 | cost: 0.8945189714431763\n",
            " | Batch index: 3 | Batch size: 20 | cost: 0.8917180895805359\n",
            " | Batch index: 4 | Batch size: 20 | cost: 0.8339694738388062\n",
            "Epoch: 14\n",
            " | Batch index: 0 | Batch size: 20 | cost: 0.8737486600875854\n",
            " | Batch index: 1 | Batch size: 20 | cost: 0.8103014230728149\n",
            " | Batch index: 2 | Batch size: 20 | cost: 0.8762767910957336\n",
            " | Batch index: 3 | Batch size: 20 | cost: 0.8668323755264282\n",
            " | Batch index: 4 | Batch size: 20 | cost: 0.8320174217224121\n",
            "Epoch: 15\n",
            " | Batch index: 0 | Batch size: 20 | cost: 0.850968062877655\n",
            " | Batch index: 1 | Batch size: 20 | cost: 0.882064938545227\n",
            " | Batch index: 2 | Batch size: 20 | cost: 0.8370879888534546\n",
            " | Batch index: 3 | Batch size: 20 | cost: 0.8040259480476379\n",
            " | Batch index: 4 | Batch size: 20 | cost: 0.780171275138855\n",
            "Epoch: 16\n",
            " | Batch index: 0 | Batch size: 20 | cost: 0.8646808862686157\n",
            " | Batch index: 1 | Batch size: 20 | cost: 0.855187714099884\n",
            " | Batch index: 2 | Batch size: 20 | cost: 0.7917878031730652\n",
            " | Batch index: 3 | Batch size: 20 | cost: 0.7894793748855591\n",
            " | Batch index: 4 | Batch size: 20 | cost: 0.7802572250366211\n",
            "Epoch: 17\n",
            " | Batch index: 0 | Batch size: 20 | cost: 0.769396185874939\n",
            " | Batch index: 1 | Batch size: 20 | cost: 0.7568863034248352\n",
            " | Batch index: 2 | Batch size: 20 | cost: 0.8563750982284546\n",
            " | Batch index: 3 | Batch size: 20 | cost: 0.7514525651931763\n",
            " | Batch index: 4 | Batch size: 20 | cost: 0.8435271382331848\n",
            "Epoch: 18\n",
            " | Batch index: 0 | Batch size: 20 | cost: 0.760261058807373\n",
            " | Batch index: 1 | Batch size: 20 | cost: 0.7637136578559875\n",
            " | Batch index: 2 | Batch size: 20 | cost: 0.8112037777900696\n",
            " | Batch index: 3 | Batch size: 20 | cost: 0.7895065546035767\n",
            " | Batch index: 4 | Batch size: 20 | cost: 0.7529074549674988\n",
            "Epoch: 19\n",
            " | Batch index: 0 | Batch size: 20 | cost: 0.7558063268661499\n",
            " | Batch index: 1 | Batch size: 20 | cost: 0.7349306344985962\n",
            " | Batch index: 2 | Batch size: 20 | cost: 0.8061151504516602\n",
            " | Batch index: 3 | Batch size: 20 | cost: 0.7411311268806458\n",
            " | Batch index: 4 | Batch size: 20 | cost: 0.7767192721366882\n",
            "Epoch: 20\n",
            " | Batch index: 0 | Batch size: 20 | cost: 0.7647861242294312\n",
            " | Batch index: 1 | Batch size: 20 | cost: 0.7186841368675232\n",
            " | Batch index: 2 | Batch size: 20 | cost: 0.7743264436721802\n",
            " | Batch index: 3 | Batch size: 20 | cost: 0.7325260043144226\n",
            " | Batch index: 4 | Batch size: 20 | cost: 0.744003415107727\n",
            "Epoch: 21\n",
            " | Batch index: 0 | Batch size: 20 | cost: 0.7792829275131226\n",
            " | Batch index: 1 | Batch size: 20 | cost: 0.6932563781738281\n",
            " | Batch index: 2 | Batch size: 20 | cost: 0.7326236367225647\n",
            " | Batch index: 3 | Batch size: 20 | cost: 0.6997188925743103\n",
            " | Batch index: 4 | Batch size: 20 | cost: 0.7734048366546631\n",
            "Epoch: 22\n",
            " | Batch index: 0 | Batch size: 20 | cost: 0.6595346927642822\n",
            " | Batch index: 1 | Batch size: 20 | cost: 0.7109047174453735\n",
            " | Batch index: 2 | Batch size: 20 | cost: 0.7530494332313538\n",
            " | Batch index: 3 | Batch size: 20 | cost: 0.7079908847808838\n",
            " | Batch index: 4 | Batch size: 20 | cost: 0.7808713912963867\n",
            "Epoch: 23\n",
            " | Batch index: 0 | Batch size: 20 | cost: 0.7622687220573425\n",
            " | Batch index: 1 | Batch size: 20 | cost: 0.6812869310379028\n",
            " | Batch index: 2 | Batch size: 20 | cost: 0.7328605055809021\n",
            " | Batch index: 3 | Batch size: 20 | cost: 0.6903386116027832\n",
            " | Batch index: 4 | Batch size: 20 | cost: 0.6958359479904175\n",
            "Epoch: 24\n",
            " | Batch index: 0 | Batch size: 20 | cost: 0.6691710352897644\n",
            " | Batch index: 1 | Batch size: 20 | cost: 0.6794942021369934\n",
            " | Batch index: 2 | Batch size: 20 | cost: 0.7095369100570679\n",
            " | Batch index: 3 | Batch size: 20 | cost: 0.6999261379241943\n",
            " | Batch index: 4 | Batch size: 20 | cost: 0.7289412617683411\n",
            "Epoch: 25\n",
            " | Batch index: 0 | Batch size: 20 | cost: 0.6214099526405334\n",
            " | Batch index: 1 | Batch size: 20 | cost: 0.7040137052536011\n",
            " | Batch index: 2 | Batch size: 20 | cost: 0.7528995275497437\n",
            " | Batch index: 3 | Batch size: 20 | cost: 0.6799312829971313\n",
            " | Batch index: 4 | Batch size: 20 | cost: 0.689518392086029\n",
            "Epoch: 26\n",
            " | Batch index: 0 | Batch size: 20 | cost: 0.7118924856185913\n",
            " | Batch index: 1 | Batch size: 20 | cost: 0.7088278532028198\n",
            " | Batch index: 2 | Batch size: 20 | cost: 0.6508697271347046\n",
            " | Batch index: 3 | Batch size: 20 | cost: 0.690005362033844\n",
            " | Batch index: 4 | Batch size: 20 | cost: 0.6096347570419312\n",
            "Epoch: 27\n",
            " | Batch index: 0 | Batch size: 20 | cost: 0.6109875440597534\n",
            " | Batch index: 1 | Batch size: 20 | cost: 0.683978796005249\n",
            " | Batch index: 2 | Batch size: 20 | cost: 0.5572206974029541\n",
            " | Batch index: 3 | Batch size: 20 | cost: 0.7656839489936829\n",
            " | Batch index: 4 | Batch size: 20 | cost: 0.7172568440437317\n",
            "Epoch: 28\n",
            " | Batch index: 0 | Batch size: 20 | cost: 0.7063732743263245\n",
            " | Batch index: 1 | Batch size: 20 | cost: 0.7109273672103882\n",
            " | Batch index: 2 | Batch size: 20 | cost: 0.5476824045181274\n",
            " | Batch index: 3 | Batch size: 20 | cost: 0.6282461285591125\n",
            " | Batch index: 4 | Batch size: 20 | cost: 0.675115704536438\n",
            "Epoch: 29\n",
            " | Batch index: 0 | Batch size: 20 | cost: 0.5492330193519592\n",
            " | Batch index: 1 | Batch size: 20 | cost: 0.6739559769630432\n",
            " | Batch index: 2 | Batch size: 20 | cost: 0.7199188470840454\n",
            " | Batch index: 3 | Batch size: 20 | cost: 0.6951598525047302\n",
            " | Batch index: 4 | Batch size: 20 | cost: 0.5836580395698547\n",
            "Epoch: 30\n",
            " | Batch index: 0 | Batch size: 20 | cost: 0.6331407427787781\n",
            " | Batch index: 1 | Batch size: 20 | cost: 0.5962274670600891\n",
            " | Batch index: 2 | Batch size: 20 | cost: 0.6722164154052734\n",
            " | Batch index: 3 | Batch size: 20 | cost: 0.6391178369522095\n",
            " | Batch index: 4 | Batch size: 20 | cost: 0.6421783566474915\n",
            "Epoch: 31\n",
            " | Batch index: 0 | Batch size: 20 | cost: 0.6217236518859863\n",
            " | Batch index: 1 | Batch size: 20 | cost: 0.6147695183753967\n",
            " | Batch index: 2 | Batch size: 20 | cost: 0.6366767883300781\n",
            " | Batch index: 3 | Batch size: 20 | cost: 0.6557097434997559\n",
            " | Batch index: 4 | Batch size: 20 | cost: 0.6144555807113647\n",
            "Epoch: 32\n",
            " | Batch index: 0 | Batch size: 20 | cost: 0.6835828423500061\n",
            " | Batch index: 1 | Batch size: 20 | cost: 0.6253868937492371\n",
            " | Batch index: 2 | Batch size: 20 | cost: 0.5794723033905029\n",
            " | Batch index: 3 | Batch size: 20 | cost: 0.6184973120689392\n",
            " | Batch index: 4 | Batch size: 20 | cost: 0.6038830876350403\n",
            "Epoch: 33\n",
            " | Batch index: 0 | Batch size: 20 | cost: 0.6752220392227173\n",
            " | Batch index: 1 | Batch size: 20 | cost: 0.5256642699241638\n",
            " | Batch index: 2 | Batch size: 20 | cost: 0.6121852993965149\n",
            " | Batch index: 3 | Batch size: 20 | cost: 0.6374087333679199\n",
            " | Batch index: 4 | Batch size: 20 | cost: 0.5979028940200806\n",
            "Epoch: 34\n",
            " | Batch index: 0 | Batch size: 20 | cost: 0.6530568599700928\n",
            " | Batch index: 1 | Batch size: 20 | cost: 0.5634596347808838\n",
            " | Batch index: 2 | Batch size: 20 | cost: 0.6042885780334473\n",
            " | Batch index: 3 | Batch size: 20 | cost: 0.5773941278457642\n",
            " | Batch index: 4 | Batch size: 20 | cost: 0.5995644927024841\n",
            "Epoch: 35\n",
            " | Batch index: 0 | Batch size: 20 | cost: 0.700829029083252\n",
            " | Batch index: 1 | Batch size: 20 | cost: 0.5963307023048401\n",
            " | Batch index: 2 | Batch size: 20 | cost: 0.6274491548538208\n",
            " | Batch index: 3 | Batch size: 20 | cost: 0.5179271101951599\n",
            " | Batch index: 4 | Batch size: 20 | cost: 0.5221184492111206\n",
            "Epoch: 36\n",
            " | Batch index: 0 | Batch size: 20 | cost: 0.5903415679931641\n",
            " | Batch index: 1 | Batch size: 20 | cost: 0.5612993240356445\n",
            " | Batch index: 2 | Batch size: 20 | cost: 0.5747008919715881\n",
            " | Batch index: 3 | Batch size: 20 | cost: 0.6348251700401306\n",
            " | Batch index: 4 | Batch size: 20 | cost: 0.5799556374549866\n",
            "Epoch: 37\n",
            " | Batch index: 0 | Batch size: 20 | cost: 0.6521129608154297\n",
            " | Batch index: 1 | Batch size: 20 | cost: 0.5266934037208557\n",
            " | Batch index: 2 | Batch size: 20 | cost: 0.520902156829834\n",
            " | Batch index: 3 | Batch size: 20 | cost: 0.5488457679748535\n",
            " | Batch index: 4 | Batch size: 20 | cost: 0.6540217995643616\n",
            "Epoch: 38\n",
            " | Batch index: 0 | Batch size: 20 | cost: 0.6422200798988342\n",
            " | Batch index: 1 | Batch size: 20 | cost: 0.5660336017608643\n",
            " | Batch index: 2 | Batch size: 20 | cost: 0.594704270362854\n",
            " | Batch index: 3 | Batch size: 20 | cost: 0.541624128818512\n",
            " | Batch index: 4 | Batch size: 20 | cost: 0.5184983015060425\n",
            "Epoch: 39\n",
            " | Batch index: 0 | Batch size: 20 | cost: 0.5434583425521851\n",
            " | Batch index: 1 | Batch size: 20 | cost: 0.49201321601867676\n",
            " | Batch index: 2 | Batch size: 20 | cost: 0.5644313097000122\n",
            " | Batch index: 3 | Batch size: 20 | cost: 0.5962990522384644\n",
            " | Batch index: 4 | Batch size: 20 | cost: 0.6289323568344116\n",
            "Epoch: 40\n",
            " | Batch index: 0 | Batch size: 20 | cost: 0.5562115907669067\n",
            " | Batch index: 1 | Batch size: 20 | cost: 0.496441125869751\n",
            " | Batch index: 2 | Batch size: 20 | cost: 0.5737446546554565\n",
            " | Batch index: 3 | Batch size: 20 | cost: 0.5613600611686707\n",
            " | Batch index: 4 | Batch size: 20 | cost: 0.6030426025390625\n",
            "Epoch: 41\n",
            " | Batch index: 0 | Batch size: 20 | cost: 0.5042744874954224\n",
            " | Batch index: 1 | Batch size: 20 | cost: 0.49936097860336304\n",
            " | Batch index: 2 | Batch size: 20 | cost: 0.6193138957023621\n",
            " | Batch index: 3 | Batch size: 20 | cost: 0.5686658620834351\n",
            " | Batch index: 4 | Batch size: 20 | cost: 0.6042624115943909\n",
            "Epoch: 42\n",
            " | Batch index: 0 | Batch size: 20 | cost: 0.5708827376365662\n",
            " | Batch index: 1 | Batch size: 20 | cost: 0.5356948971748352\n",
            " | Batch index: 2 | Batch size: 20 | cost: 0.5350528955459595\n",
            " | Batch index: 3 | Batch size: 20 | cost: 0.5384784936904907\n",
            " | Batch index: 4 | Batch size: 20 | cost: 0.5640128254890442\n",
            "Epoch: 43\n",
            " | Batch index: 0 | Batch size: 20 | cost: 0.561738133430481\n",
            " | Batch index: 1 | Batch size: 20 | cost: 0.3697595000267029\n",
            " | Batch index: 2 | Batch size: 20 | cost: 0.6027644872665405\n",
            " | Batch index: 3 | Batch size: 20 | cost: 0.6318163871765137\n",
            " | Batch index: 4 | Batch size: 20 | cost: 0.5428422689437866\n",
            "Epoch: 44\n",
            " | Batch index: 0 | Batch size: 20 | cost: 0.5898710489273071\n",
            " | Batch index: 1 | Batch size: 20 | cost: 0.5474565029144287\n",
            " | Batch index: 2 | Batch size: 20 | cost: 0.5222029089927673\n",
            " | Batch index: 3 | Batch size: 20 | cost: 0.5115889310836792\n",
            " | Batch index: 4 | Batch size: 20 | cost: 0.5092434287071228\n",
            "Epoch: 45\n",
            " | Batch index: 0 | Batch size: 20 | cost: 0.5346341133117676\n",
            " | Batch index: 1 | Batch size: 20 | cost: 0.4728962481021881\n",
            " | Batch index: 2 | Batch size: 20 | cost: 0.5638748407363892\n",
            " | Batch index: 3 | Batch size: 20 | cost: 0.595341682434082\n",
            " | Batch index: 4 | Batch size: 20 | cost: 0.494609534740448\n",
            "Epoch: 46\n",
            " | Batch index: 0 | Batch size: 20 | cost: 0.5066176652908325\n",
            " | Batch index: 1 | Batch size: 20 | cost: 0.6212486028671265\n",
            " | Batch index: 2 | Batch size: 20 | cost: 0.481323778629303\n",
            " | Batch index: 3 | Batch size: 20 | cost: 0.43012213706970215\n",
            " | Batch index: 4 | Batch size: 20 | cost: 0.6052166819572449\n",
            "Epoch: 47\n",
            " | Batch index: 0 | Batch size: 20 | cost: 0.43465548753738403\n",
            " | Batch index: 1 | Batch size: 20 | cost: 0.5415785312652588\n",
            " | Batch index: 2 | Batch size: 20 | cost: 0.5586422085762024\n",
            " | Batch index: 3 | Batch size: 20 | cost: 0.555912435054779\n",
            " | Batch index: 4 | Batch size: 20 | cost: 0.5229505896568298\n",
            "Epoch: 48\n",
            " | Batch index: 0 | Batch size: 20 | cost: 0.5522012114524841\n",
            " | Batch index: 1 | Batch size: 20 | cost: 0.4575524926185608\n",
            " | Batch index: 2 | Batch size: 20 | cost: 0.5336553454399109\n",
            " | Batch index: 3 | Batch size: 20 | cost: 0.5028624534606934\n",
            " | Batch index: 4 | Batch size: 20 | cost: 0.5442548394203186\n",
            "Epoch: 49\n",
            " | Batch index: 0 | Batch size: 20 | cost: 0.5812098979949951\n",
            " | Batch index: 1 | Batch size: 20 | cost: 0.5076674818992615\n",
            " | Batch index: 2 | Batch size: 20 | cost: 0.3672415316104889\n",
            " | Batch index: 3 | Batch size: 20 | cost: 0.5338488817214966\n",
            " | Batch index: 4 | Batch size: 20 | cost: 0.5967737436294556\n",
            "Epoch: 50\n",
            " | Batch index: 0 | Batch size: 20 | cost: 0.5056983232498169\n",
            " | Batch index: 1 | Batch size: 20 | cost: 0.5626371502876282\n",
            " | Batch index: 2 | Batch size: 20 | cost: 0.5220507383346558\n",
            " | Batch index: 3 | Batch size: 20 | cost: 0.485161155462265\n",
            " | Batch index: 4 | Batch size: 20 | cost: 0.46613335609436035\n",
            "Epoch: 51\n",
            " | Batch index: 0 | Batch size: 20 | cost: 0.45180997252464294\n",
            " | Batch index: 1 | Batch size: 20 | cost: 0.5140281915664673\n",
            " | Batch index: 2 | Batch size: 20 | cost: 0.4723096489906311\n",
            " | Batch index: 3 | Batch size: 20 | cost: 0.504866898059845\n",
            " | Batch index: 4 | Batch size: 20 | cost: 0.574985146522522\n",
            "Epoch: 52\n",
            " | Batch index: 0 | Batch size: 20 | cost: 0.46787506341934204\n",
            " | Batch index: 1 | Batch size: 20 | cost: 0.6275206208229065\n",
            " | Batch index: 2 | Batch size: 20 | cost: 0.42130064964294434\n",
            " | Batch index: 3 | Batch size: 20 | cost: 0.4685230255126953\n",
            " | Batch index: 4 | Batch size: 20 | cost: 0.51624596118927\n",
            "Epoch: 53\n",
            " | Batch index: 0 | Batch size: 20 | cost: 0.4947919249534607\n",
            " | Batch index: 1 | Batch size: 20 | cost: 0.591156005859375\n",
            " | Batch index: 2 | Batch size: 20 | cost: 0.4418463706970215\n",
            " | Batch index: 3 | Batch size: 20 | cost: 0.5365847945213318\n",
            " | Batch index: 4 | Batch size: 20 | cost: 0.42331767082214355\n",
            "Epoch: 54\n",
            " | Batch index: 0 | Batch size: 20 | cost: 0.5107377767562866\n",
            " | Batch index: 1 | Batch size: 20 | cost: 0.4617787003517151\n",
            " | Batch index: 2 | Batch size: 20 | cost: 0.47525128722190857\n",
            " | Batch index: 3 | Batch size: 20 | cost: 0.4728681147098541\n",
            " | Batch index: 4 | Batch size: 20 | cost: 0.5592477321624756\n",
            "Epoch: 55\n",
            " | Batch index: 0 | Batch size: 20 | cost: 0.526795506477356\n",
            " | Batch index: 1 | Batch size: 20 | cost: 0.4822072982788086\n",
            " | Batch index: 2 | Batch size: 20 | cost: 0.48009687662124634\n",
            " | Batch index: 3 | Batch size: 20 | cost: 0.6031383275985718\n",
            " | Batch index: 4 | Batch size: 20 | cost: 0.3666895031929016\n",
            "Epoch: 56\n",
            " | Batch index: 0 | Batch size: 20 | cost: 0.5108011364936829\n",
            " | Batch index: 1 | Batch size: 20 | cost: 0.49007588624954224\n",
            " | Batch index: 2 | Batch size: 20 | cost: 0.39626818895339966\n",
            " | Batch index: 3 | Batch size: 20 | cost: 0.4916059970855713\n",
            " | Batch index: 4 | Batch size: 20 | cost: 0.5395430326461792\n",
            "Epoch: 57\n",
            " | Batch index: 0 | Batch size: 20 | cost: 0.5245232582092285\n",
            " | Batch index: 1 | Batch size: 20 | cost: 0.4789326786994934\n",
            " | Batch index: 2 | Batch size: 20 | cost: 0.4901432394981384\n",
            " | Batch index: 3 | Batch size: 20 | cost: 0.48672690987586975\n",
            " | Batch index: 4 | Batch size: 20 | cost: 0.4628991186618805\n",
            "Epoch: 58\n",
            " | Batch index: 0 | Batch size: 20 | cost: 0.43985190987586975\n",
            " | Batch index: 1 | Batch size: 20 | cost: 0.5298376083374023\n",
            " | Batch index: 2 | Batch size: 20 | cost: 0.43823328614234924\n",
            " | Batch index: 3 | Batch size: 20 | cost: 0.5155197978019714\n",
            " | Batch index: 4 | Batch size: 20 | cost: 0.4810047745704651\n",
            "Epoch: 59\n",
            " | Batch index: 0 | Batch size: 20 | cost: 0.4562234878540039\n",
            " | Batch index: 1 | Batch size: 20 | cost: 0.3917086720466614\n",
            " | Batch index: 2 | Batch size: 20 | cost: 0.54140305519104\n",
            " | Batch index: 3 | Batch size: 20 | cost: 0.48345810174942017\n",
            " | Batch index: 4 | Batch size: 20 | cost: 0.49624475836753845\n",
            "Epoch: 60\n",
            " | Batch index: 0 | Batch size: 20 | cost: 0.48412519693374634\n",
            " | Batch index: 1 | Batch size: 20 | cost: 0.41810041666030884\n",
            " | Batch index: 2 | Batch size: 20 | cost: 0.49854904413223267\n",
            " | Batch index: 3 | Batch size: 20 | cost: 0.46472829580307007\n",
            " | Batch index: 4 | Batch size: 20 | cost: 0.4937366843223572\n",
            "Epoch: 61\n",
            " | Batch index: 0 | Batch size: 20 | cost: 0.3323501646518707\n",
            " | Batch index: 1 | Batch size: 20 | cost: 0.5060290098190308\n",
            " | Batch index: 2 | Batch size: 20 | cost: 0.5357417464256287\n",
            " | Batch index: 3 | Batch size: 20 | cost: 0.5649018883705139\n",
            " | Batch index: 4 | Batch size: 20 | cost: 0.3947799503803253\n",
            "Epoch: 62\n",
            " | Batch index: 0 | Batch size: 20 | cost: 0.5111778974533081\n",
            " | Batch index: 1 | Batch size: 20 | cost: 0.411163866519928\n",
            " | Batch index: 2 | Batch size: 20 | cost: 0.44690126180648804\n",
            " | Batch index: 3 | Batch size: 20 | cost: 0.4939289093017578\n",
            " | Batch index: 4 | Batch size: 20 | cost: 0.48442205786705017\n",
            "Epoch: 63\n",
            " | Batch index: 0 | Batch size: 20 | cost: 0.4325512945652008\n",
            " | Batch index: 1 | Batch size: 20 | cost: 0.40533286333084106\n",
            " | Batch index: 2 | Batch size: 20 | cost: 0.521599292755127\n",
            " | Batch index: 3 | Batch size: 20 | cost: 0.4973030090332031\n",
            " | Batch index: 4 | Batch size: 20 | cost: 0.45156750082969666\n",
            "Epoch: 64\n",
            " | Batch index: 0 | Batch size: 20 | cost: 0.4666477143764496\n",
            " | Batch index: 1 | Batch size: 20 | cost: 0.49552392959594727\n",
            " | Batch index: 2 | Batch size: 20 | cost: 0.544525146484375\n",
            " | Batch index: 3 | Batch size: 20 | cost: 0.3480129837989807\n",
            " | Batch index: 4 | Batch size: 20 | cost: 0.4411490857601166\n",
            "Epoch: 65\n",
            " | Batch index: 0 | Batch size: 20 | cost: 0.4252256453037262\n",
            " | Batch index: 1 | Batch size: 20 | cost: 0.448578417301178\n",
            " | Batch index: 2 | Batch size: 20 | cost: 0.4618303179740906\n",
            " | Batch index: 3 | Batch size: 20 | cost: 0.5023815631866455\n",
            " | Batch index: 4 | Batch size: 20 | cost: 0.4652402997016907\n",
            "Epoch: 66\n",
            " | Batch index: 0 | Batch size: 20 | cost: 0.5560415387153625\n",
            " | Batch index: 1 | Batch size: 20 | cost: 0.45360708236694336\n",
            " | Batch index: 2 | Batch size: 20 | cost: 0.4090092182159424\n",
            " | Batch index: 3 | Batch size: 20 | cost: 0.5130780339241028\n",
            " | Batch index: 4 | Batch size: 20 | cost: 0.35820242762565613\n",
            "Epoch: 67\n",
            " | Batch index: 0 | Batch size: 20 | cost: 0.38979285955429077\n",
            " | Batch index: 1 | Batch size: 20 | cost: 0.39913663268089294\n",
            " | Batch index: 2 | Batch size: 20 | cost: 0.44566670060157776\n",
            " | Batch index: 3 | Batch size: 20 | cost: 0.5254162549972534\n",
            " | Batch index: 4 | Batch size: 20 | cost: 0.49068278074264526\n",
            "Epoch: 68\n",
            " | Batch index: 0 | Batch size: 20 | cost: 0.47155776619911194\n",
            " | Batch index: 1 | Batch size: 20 | cost: 0.3434513509273529\n",
            " | Batch index: 2 | Batch size: 20 | cost: 0.37861379981040955\n",
            " | Batch index: 3 | Batch size: 20 | cost: 0.5319991111755371\n",
            " | Batch index: 4 | Batch size: 20 | cost: 0.5055864453315735\n",
            "Epoch: 69\n",
            " | Batch index: 0 | Batch size: 20 | cost: 0.483560174703598\n",
            " | Batch index: 1 | Batch size: 20 | cost: 0.45605555176734924\n",
            " | Batch index: 2 | Batch size: 20 | cost: 0.45039811730384827\n",
            " | Batch index: 3 | Batch size: 20 | cost: 0.4110077917575836\n",
            " | Batch index: 4 | Batch size: 20 | cost: 0.4240344166755676\n",
            "Epoch: 70\n",
            " | Batch index: 0 | Batch size: 20 | cost: 0.44818729162216187\n",
            " | Batch index: 1 | Batch size: 20 | cost: 0.4464837610721588\n",
            " | Batch index: 2 | Batch size: 20 | cost: 0.4280213713645935\n",
            " | Batch index: 3 | Batch size: 20 | cost: 0.4381745457649231\n",
            " | Batch index: 4 | Batch size: 20 | cost: 0.45234137773513794\n",
            "Epoch: 71\n",
            " | Batch index: 0 | Batch size: 20 | cost: 0.44950947165489197\n",
            " | Batch index: 1 | Batch size: 20 | cost: 0.3840717077255249\n",
            " | Batch index: 2 | Batch size: 20 | cost: 0.4644950032234192\n",
            " | Batch index: 3 | Batch size: 20 | cost: 0.42862623929977417\n",
            " | Batch index: 4 | Batch size: 20 | cost: 0.5137124061584473\n",
            "Epoch: 72\n",
            " | Batch index: 0 | Batch size: 20 | cost: 0.44948893785476685\n",
            " | Batch index: 1 | Batch size: 20 | cost: 0.4183162748813629\n",
            " | Batch index: 2 | Batch size: 20 | cost: 0.36671051383018494\n",
            " | Batch index: 3 | Batch size: 20 | cost: 0.5616807341575623\n",
            " | Batch index: 4 | Batch size: 20 | cost: 0.3882729411125183\n",
            "Epoch: 73\n",
            " | Batch index: 0 | Batch size: 20 | cost: 0.4474950432777405\n",
            " | Batch index: 1 | Batch size: 20 | cost: 0.47803282737731934\n",
            " | Batch index: 2 | Batch size: 20 | cost: 0.35335588455200195\n",
            " | Batch index: 3 | Batch size: 20 | cost: 0.41944676637649536\n",
            " | Batch index: 4 | Batch size: 20 | cost: 0.48008885979652405\n",
            "Epoch: 74\n",
            " | Batch index: 0 | Batch size: 20 | cost: 0.4767161011695862\n",
            " | Batch index: 1 | Batch size: 20 | cost: 0.4229744076728821\n",
            " | Batch index: 2 | Batch size: 20 | cost: 0.40729203820228577\n",
            " | Batch index: 3 | Batch size: 20 | cost: 0.5089018940925598\n",
            " | Batch index: 4 | Batch size: 20 | cost: 0.3544393479824066\n",
            "Epoch: 75\n",
            " | Batch index: 0 | Batch size: 20 | cost: 0.4561181664466858\n",
            " | Batch index: 1 | Batch size: 20 | cost: 0.36106592416763306\n",
            " | Batch index: 2 | Batch size: 20 | cost: 0.41158056259155273\n",
            " | Batch index: 3 | Batch size: 20 | cost: 0.4381946623325348\n",
            " | Batch index: 4 | Batch size: 20 | cost: 0.477721631526947\n",
            "Epoch: 76\n",
            " | Batch index: 0 | Batch size: 20 | cost: 0.4236716330051422\n",
            " | Batch index: 1 | Batch size: 20 | cost: 0.35276317596435547\n",
            " | Batch index: 2 | Batch size: 20 | cost: 0.46290072798728943\n",
            " | Batch index: 3 | Batch size: 20 | cost: 0.4112876057624817\n",
            " | Batch index: 4 | Batch size: 20 | cost: 0.47954732179641724\n",
            "Epoch: 77\n",
            " | Batch index: 0 | Batch size: 20 | cost: 0.43972522020339966\n",
            " | Batch index: 1 | Batch size: 20 | cost: 0.41584688425064087\n",
            " | Batch index: 2 | Batch size: 20 | cost: 0.4289976954460144\n",
            " | Batch index: 3 | Batch size: 20 | cost: 0.3957333564758301\n",
            " | Batch index: 4 | Batch size: 20 | cost: 0.44168081879615784\n",
            "Epoch: 78\n",
            " | Batch index: 0 | Batch size: 20 | cost: 0.4228566288948059\n",
            " | Batch index: 1 | Batch size: 20 | cost: 0.3593217730522156\n",
            " | Batch index: 2 | Batch size: 20 | cost: 0.5347464680671692\n",
            " | Batch index: 3 | Batch size: 20 | cost: 0.367592990398407\n",
            " | Batch index: 4 | Batch size: 20 | cost: 0.43865156173706055\n",
            "Epoch: 79\n",
            " | Batch index: 0 | Batch size: 20 | cost: 0.42958205938339233\n",
            " | Batch index: 1 | Batch size: 20 | cost: 0.42751455307006836\n",
            " | Batch index: 2 | Batch size: 20 | cost: 0.3448222577571869\n",
            " | Batch index: 3 | Batch size: 20 | cost: 0.499650776386261\n",
            " | Batch index: 4 | Batch size: 20 | cost: 0.3923332691192627\n",
            "Epoch: 80\n",
            " | Batch index: 0 | Batch size: 20 | cost: 0.36555004119873047\n",
            " | Batch index: 1 | Batch size: 20 | cost: 0.40016302466392517\n",
            " | Batch index: 2 | Batch size: 20 | cost: 0.38835063576698303\n",
            " | Batch index: 3 | Batch size: 20 | cost: 0.5430630445480347\n",
            " | Batch index: 4 | Batch size: 20 | cost: 0.40729910135269165\n",
            "Epoch: 81\n",
            " | Batch index: 0 | Batch size: 20 | cost: 0.3599819540977478\n",
            " | Batch index: 1 | Batch size: 20 | cost: 0.4236462712287903\n",
            " | Batch index: 2 | Batch size: 20 | cost: 0.3684302568435669\n",
            " | Batch index: 3 | Batch size: 20 | cost: 0.42608460783958435\n",
            " | Batch index: 4 | Batch size: 20 | cost: 0.4962911009788513\n",
            "Epoch: 82\n",
            " | Batch index: 0 | Batch size: 20 | cost: 0.36271917819976807\n",
            " | Batch index: 1 | Batch size: 20 | cost: 0.4363086223602295\n",
            " | Batch index: 2 | Batch size: 20 | cost: 0.4548836648464203\n",
            " | Batch index: 3 | Batch size: 20 | cost: 0.42544978857040405\n",
            " | Batch index: 4 | Batch size: 20 | cost: 0.39015626907348633\n",
            "Epoch: 83\n",
            " | Batch index: 0 | Batch size: 20 | cost: 0.425726979970932\n",
            " | Batch index: 1 | Batch size: 20 | cost: 0.4757782816886902\n",
            " | Batch index: 2 | Batch size: 20 | cost: 0.38057321310043335\n",
            " | Batch index: 3 | Batch size: 20 | cost: 0.38385993242263794\n",
            " | Batch index: 4 | Batch size: 20 | cost: 0.3852943181991577\n",
            "Epoch: 84\n",
            " | Batch index: 0 | Batch size: 20 | cost: 0.35481590032577515\n",
            " | Batch index: 1 | Batch size: 20 | cost: 0.46041274070739746\n",
            " | Batch index: 2 | Batch size: 20 | cost: 0.4279786944389343\n",
            " | Batch index: 3 | Batch size: 20 | cost: 0.41012758016586304\n",
            " | Batch index: 4 | Batch size: 20 | cost: 0.4042256474494934\n",
            "Epoch: 85\n",
            " | Batch index: 0 | Batch size: 20 | cost: 0.3590501546859741\n",
            " | Batch index: 1 | Batch size: 20 | cost: 0.5022680759429932\n",
            " | Batch index: 2 | Batch size: 20 | cost: 0.3972231149673462\n",
            " | Batch index: 3 | Batch size: 20 | cost: 0.4392555356025696\n",
            " | Batch index: 4 | Batch size: 20 | cost: 0.37023258209228516\n",
            "Epoch: 86\n",
            " | Batch index: 0 | Batch size: 20 | cost: 0.3790282607078552\n",
            " | Batch index: 1 | Batch size: 20 | cost: 0.35484832525253296\n",
            " | Batch index: 2 | Batch size: 20 | cost: 0.41282185912132263\n",
            " | Batch index: 3 | Batch size: 20 | cost: 0.4689403474330902\n",
            " | Batch index: 4 | Batch size: 20 | cost: 0.42031365633010864\n",
            "Epoch: 87\n",
            " | Batch index: 0 | Batch size: 20 | cost: 0.36181503534317017\n",
            " | Batch index: 1 | Batch size: 20 | cost: 0.4520760178565979\n",
            " | Batch index: 2 | Batch size: 20 | cost: 0.42379942536354065\n",
            " | Batch index: 3 | Batch size: 20 | cost: 0.38195160031318665\n",
            " | Batch index: 4 | Batch size: 20 | cost: 0.3836718201637268\n",
            "Epoch: 88\n",
            " | Batch index: 0 | Batch size: 20 | cost: 0.37734121084213257\n",
            " | Batch index: 1 | Batch size: 20 | cost: 0.34935811161994934\n",
            " | Batch index: 2 | Batch size: 20 | cost: 0.4587865471839905\n",
            " | Batch index: 3 | Batch size: 20 | cost: 0.41655755043029785\n",
            " | Batch index: 4 | Batch size: 20 | cost: 0.4086836874485016\n",
            "Epoch: 89\n",
            " | Batch index: 0 | Batch size: 20 | cost: 0.39093929529190063\n",
            " | Batch index: 1 | Batch size: 20 | cost: 0.38543638586997986\n",
            " | Batch index: 2 | Batch size: 20 | cost: 0.40133148431777954\n",
            " | Batch index: 3 | Batch size: 20 | cost: 0.4418068528175354\n",
            " | Batch index: 4 | Batch size: 20 | cost: 0.36768677830696106\n",
            "Epoch: 90\n",
            " | Batch index: 0 | Batch size: 20 | cost: 0.37849634885787964\n",
            " | Batch index: 1 | Batch size: 20 | cost: 0.326918363571167\n",
            " | Batch index: 2 | Batch size: 20 | cost: 0.46986061334609985\n",
            " | Batch index: 3 | Batch size: 20 | cost: 0.4472791254520416\n",
            " | Batch index: 4 | Batch size: 20 | cost: 0.35751721262931824\n",
            "Epoch: 91\n",
            " | Batch index: 0 | Batch size: 20 | cost: 0.3965420424938202\n",
            " | Batch index: 1 | Batch size: 20 | cost: 0.3878036141395569\n",
            " | Batch index: 2 | Batch size: 20 | cost: 0.34814009070396423\n",
            " | Batch index: 3 | Batch size: 20 | cost: 0.43191590905189514\n",
            " | Batch index: 4 | Batch size: 20 | cost: 0.42610588669776917\n",
            "Epoch: 92\n",
            " | Batch index: 0 | Batch size: 20 | cost: 0.3592076897621155\n",
            " | Batch index: 1 | Batch size: 20 | cost: 0.3951595425605774\n",
            " | Batch index: 2 | Batch size: 20 | cost: 0.4484286308288574\n",
            " | Batch index: 3 | Batch size: 20 | cost: 0.4172518849372864\n",
            " | Batch index: 4 | Batch size: 20 | cost: 0.3575645983219147\n",
            "Epoch: 93\n",
            " | Batch index: 0 | Batch size: 20 | cost: 0.23981145024299622\n",
            " | Batch index: 1 | Batch size: 20 | cost: 0.5372121334075928\n",
            " | Batch index: 2 | Batch size: 20 | cost: 0.31132179498672485\n",
            " | Batch index: 3 | Batch size: 20 | cost: 0.4476478695869446\n",
            " | Batch index: 4 | Batch size: 20 | cost: 0.4610580503940582\n",
            "Epoch: 94\n",
            " | Batch index: 0 | Batch size: 20 | cost: 0.39850905537605286\n",
            " | Batch index: 1 | Batch size: 20 | cost: 0.4356420636177063\n",
            " | Batch index: 2 | Batch size: 20 | cost: 0.3385900557041168\n",
            " | Batch index: 3 | Batch size: 20 | cost: 0.38018959760665894\n",
            " | Batch index: 4 | Batch size: 20 | cost: 0.38045161962509155\n",
            "Epoch: 95\n",
            " | Batch index: 0 | Batch size: 20 | cost: 0.35501089692115784\n",
            " | Batch index: 1 | Batch size: 20 | cost: 0.416924387216568\n",
            " | Batch index: 2 | Batch size: 20 | cost: 0.4597358703613281\n",
            " | Batch index: 3 | Batch size: 20 | cost: 0.40121158957481384\n",
            " | Batch index: 4 | Batch size: 20 | cost: 0.288356751203537\n",
            "Epoch: 96\n",
            " | Batch index: 0 | Batch size: 20 | cost: 0.35118991136550903\n",
            " | Batch index: 1 | Batch size: 20 | cost: 0.3617328405380249\n",
            " | Batch index: 2 | Batch size: 20 | cost: 0.486910879611969\n",
            " | Batch index: 3 | Batch size: 20 | cost: 0.40124163031578064\n",
            " | Batch index: 4 | Batch size: 20 | cost: 0.3344517648220062\n",
            "Epoch: 97\n",
            " | Batch index: 0 | Batch size: 20 | cost: 0.2647421956062317\n",
            " | Batch index: 1 | Batch size: 20 | cost: 0.465951532125473\n",
            " | Batch index: 2 | Batch size: 20 | cost: 0.3386581540107727\n",
            " | Batch index: 3 | Batch size: 20 | cost: 0.4454558491706848\n",
            " | Batch index: 4 | Batch size: 20 | cost: 0.3984876573085785\n",
            "Epoch: 98\n",
            " | Batch index: 0 | Batch size: 20 | cost: 0.40790265798568726\n",
            " | Batch index: 1 | Batch size: 20 | cost: 0.3729756474494934\n",
            " | Batch index: 2 | Batch size: 20 | cost: 0.21557044982910156\n",
            " | Batch index: 3 | Batch size: 20 | cost: 0.42482107877731323\n",
            " | Batch index: 4 | Batch size: 20 | cost: 0.4857255816459656\n",
            "Epoch: 99\n",
            " | Batch index: 0 | Batch size: 20 | cost: 0.36399149894714355\n",
            " | Batch index: 1 | Batch size: 20 | cost: 0.30332085490226746\n",
            " | Batch index: 2 | Batch size: 20 | cost: 0.42694464325904846\n",
            " | Batch index: 3 | Batch size: 20 | cost: 0.35527509450912476\n",
            " | Batch index: 4 | Batch size: 20 | cost: 0.43441399931907654\n",
            "Epoch: 100\n",
            " | Batch index: 0 | Batch size: 20 | cost: 0.3885853886604309\n",
            " | Batch index: 1 | Batch size: 20 | cost: 0.3671072721481323\n",
            " | Batch index: 2 | Batch size: 20 | cost: 0.325420081615448\n",
            " | Batch index: 3 | Batch size: 20 | cost: 0.3701571822166443\n",
            " | Batch index: 4 | Batch size: 20 | cost: 0.433344304561615\n"
          ]
        }
      ]
    },
    {
      "cell_type": "markdown",
      "source": [
        "## Plotting"
      ],
      "metadata": {
        "id": "q2cFvSKp9IXN"
      }
    },
    {
      "cell_type": "code",
      "source": [
        "import matplotlib.pyplot as plt"
      ],
      "metadata": {
        "id": "2eb4NxCp7WzI"
      },
      "execution_count": null,
      "outputs": []
    },
    {
      "cell_type": "code",
      "source": [
        "def plot_accuracy(train_acc_list, valid_acc_list, test_acc_list):\n",
        "\n",
        "    num_epochs = len(train_acc_list)\n",
        "\n",
        "    plt.plot(np.arange(1, num_epochs+1),\n",
        "             train_acc_list, label='Training')\n",
        "    plt.plot(np.arange(1, num_epochs+1),\n",
        "             valid_acc_list, label='Validation')\n",
        "    plt.plot(np.arange(1, num_epochs+1),\n",
        "             test_acc_list, label='Test')\n",
        "\n",
        "\n",
        "    plt.xlabel('Epoch')\n",
        "    plt.ylabel('Accuracy')\n",
        "    plt.legend()\n",
        "\n",
        "    plt.tight_layout()\n"
      ],
      "metadata": {
        "id": "5RDgdBCa7lGT"
      },
      "execution_count": null,
      "outputs": []
    },
    {
      "cell_type": "code",
      "source": [
        "plot_accuracy(train_acc_list, val_acc_list, test_acc_list)"
      ],
      "metadata": {
        "colab": {
          "base_uri": "https://localhost:8080/",
          "height": 297
        },
        "id": "UuzWn-6r7zuA",
        "outputId": "72f4beef-0f76-41f3-a311-6b076f54ff92"
      },
      "execution_count": null,
      "outputs": [
        {
          "output_type": "display_data",
          "data": {
            "text/plain": [
              "<Figure size 432x288 with 1 Axes>"
            ],
            "image/png": "[encoded data removed]"
          },
          "metadata": {
            "needs_background": "light"
          }
        }
      ]
    },
    {
      "cell_type": "code",
      "source": [],
      "metadata": {
        "id": "_KhuMAps8UVN"
      },
      "execution_count": null,
      "outputs": []
    }
  ]
}