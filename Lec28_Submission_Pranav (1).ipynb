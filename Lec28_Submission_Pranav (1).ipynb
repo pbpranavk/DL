{
  "cells": [
    {
      "cell_type": "markdown",
      "metadata": {
        "id": "pknH4Ioh6Pg_"
      },
      "source": [
        "STAT 453: Deep Learning (Spring 2021)  \n",
        "Instructor: Sebastian Raschka (sraschka@wisc.edu)  \n",
        "\n",
        "Course website: http://pages.stat.wisc.edu/~sraschka/teaching/stat453-ss2021/  \n",
        "GitHub repository: https://github.com/rasbt/stat453-deep-learning-ss21\n",
        "\n",
        "---"
      ]
    },
    {
      "cell_type": "markdown",
      "metadata": {
        "id": "vY4SK0xKAJgm"
      },
      "source": [
        "# Same as 1_lstm.ipynb but with packed sequences"
      ]
    },
    {
      "cell_type": "markdown",
      "metadata": {
        "id": "YzXlAPq36PhD"
      },
      "source": [
        "Explanation of packing: https://stackoverflow.com/questions/51030782/why-do-we-pack-the-sequences-in-pytorch"
      ]
    },
    {
      "cell_type": "code",
      "source": [
        "!pip install torchtext==0.9"
      ],
      "metadata": {
        "colab": {
          "base_uri": "https://localhost:8080/"
        },
        "id": "ievo91c56y85",
        "outputId": "56430d0b-9517-4660-d8aa-e05661bf31f0"
      },
      "execution_count": null,
      "outputs": [
        {
          "output_type": "stream",
          "name": "stdout",
          "text": [
            "Looking in indexes: https://pypi.org/simple, https://us-python.pkg.dev/colab-wheels/public/simple/\n",
            "Collecting torchtext==0.9\n",
            "  Downloading torchtext-0.9.0-cp37-cp37m-manylinux1_x86_64.whl (7.1 MB)\n",
            "\u001b[K     |████████████████████████████████| 7.1 MB 6.2 MB/s \n",
            "\u001b[?25hCollecting torch==1.8.0\n",
            "  Downloading torch-1.8.0-cp37-cp37m-manylinux1_x86_64.whl (735.5 MB)\n",
            "\u001b[K     |████████████████████████████████| 735.5 MB 13 kB/s \n",
            "\u001b[?25hRequirement already satisfied: numpy in /usr/local/lib/python3.7/dist-packages (from torchtext==0.9) (1.21.6)\n",
            "Requirement already satisfied: requests in /usr/local/lib/python3.7/dist-packages (from torchtext==0.9) (2.23.0)\n",
            "Requirement already satisfied: tqdm in /usr/local/lib/python3.7/dist-packages (from torchtext==0.9) (4.64.1)\n",
            "Requirement already satisfied: typing-extensions in /usr/local/lib/python3.7/dist-packages (from torch==1.8.0->torchtext==0.9) (4.1.1)\n",
            "Requirement already satisfied: urllib3!=1.25.0,!=1.25.1,<1.26,>=1.21.1 in /usr/local/lib/python3.7/dist-packages (from requests->torchtext==0.9) (1.24.3)\n",
            "Requirement already satisfied: chardet<4,>=3.0.2 in /usr/local/lib/python3.7/dist-packages (from requests->torchtext==0.9) (3.0.4)\n",
            "Requirement already satisfied: certifi>=2017.4.17 in /usr/local/lib/python3.7/dist-packages (from requests->torchtext==0.9) (2022.9.24)\n",
            "Requirement already satisfied: idna<3,>=2.5 in /usr/local/lib/python3.7/dist-packages (from requests->torchtext==0.9) (2.10)\n",
            "Installing collected packages: torch, torchtext\n",
            "  Attempting uninstall: torch\n",
            "    Found existing installation: torch 1.12.1+cu113\n",
            "    Uninstalling torch-1.12.1+cu113:\n",
            "      Successfully uninstalled torch-1.12.1+cu113\n",
            "  Attempting uninstall: torchtext\n",
            "    Found existing installation: torchtext 0.13.1\n",
            "    Uninstalling torchtext-0.13.1:\n",
            "      Successfully uninstalled torchtext-0.13.1\n",
            "\u001b[31mERROR: pip's dependency resolver does not currently take into account all the packages that are installed. This behaviour is the source of the following dependency conflicts.\n",
            "torchvision 0.13.1+cu113 requires torch==1.12.1, but you have torch 1.8.0 which is incompatible.\n",
            "torchaudio 0.12.1+cu113 requires torch==1.12.1, but you have torch 1.8.0 which is incompatible.\u001b[0m\n",
            "Successfully installed torch-1.8.0 torchtext-0.9.0\n"
          ]
        }
      ]
    },
    {
      "cell_type": "code",
      "execution_count": null,
      "metadata": {
        "id": "moNmVfuvnImW"
      },
      "outputs": [],
      "source": [
        "# %load_ext watermark\n",
        "# %watermark -a 'Sebastian Raschka' -v -p torch,torchtext\n",
        "\n",
        "import torch\n",
        "import torch.nn.functional as F\n",
        "import torchtext\n",
        "import time\n",
        "import random\n",
        "import pandas as pd\n",
        "\n",
        "torch.backends.cudnn.deterministic = True"
      ]
    },
    {
      "cell_type": "markdown",
      "metadata": {
        "id": "GSRL42Qgy8I8"
      },
      "source": [
        "## General Settings"
      ]
    },
    {
      "cell_type": "code",
      "execution_count": null,
      "metadata": {
        "id": "OvW1RgfepCBq"
      },
      "outputs": [],
      "source": [
        "RANDOM_SEED = 123\n",
        "torch.manual_seed(RANDOM_SEED)\n",
        "\n",
        "VOCABULARY_SIZE = 20000\n",
        "LEARNING_RATE = 0.005\n",
        "BATCH_SIZE = 128\n",
        "NUM_EPOCHS = 3\n",
        "DEVICE = torch.device('cuda:2' if torch.cuda.is_available() else 'cpu')\n",
        "\n",
        "EMBEDDING_DIM = 128\n",
        "HIDDEN_DIM = 256\n",
        "NUM_CLASSES = 4"
      ]
    },
    {
      "cell_type": "markdown",
      "metadata": {
        "id": "mQMmKUEisW4W"
      },
      "source": [
        "## Download Dataset"
      ]
    },
    {
      "cell_type": "markdown",
      "metadata": {
        "id": "QT0fwcC-6PhK"
      },
      "source": [
        "Check that the dataset looks okay:"
      ]
    },
    {
      "cell_type": "code",
      "execution_count": null,
      "metadata": {
        "colab": {
          "base_uri": "https://localhost:8080/",
          "height": 206
        },
        "id": "DZWOX5-v6PhK",
        "outputId": "35996798-31ba-49e8-8b66-fbbe14e162f0"
      },
      "outputs": [
        {
          "output_type": "execute_result",
          "data": {
            "text/plain": [
              "                                               TITLE CATEGORY\n",
              "0  Fed official says weak data caused by weather,...        b\n",
              "1  Fed's Charles Plosser sees high bar for change...        b\n",
              "2  US open: Stocks fall after Fed official hints ...        b\n",
              "3  Fed risks falling 'behind the curve', Charles ...        b\n",
              "4  Fed's Plosser: Nasty Weather Has Curbed Job Gr...        b"
            ],
            "text/html": [
              "\n",
              "  <div id=\"df-d628eecb-a1fb-457c-b117-10db4273c751\">\n",
              "    <div class=\"colab-df-container\">\n",
              "      <div>\n",
              "<style scoped>\n",
              "    .dataframe tbody tr th:only-of-type {\n",
              "        vertical-align: middle;\n",
              "    }\n",
              "\n",
              "    .dataframe tbody tr th {\n",
              "        vertical-align: top;\n",
              "    }\n",
              "\n",
              "    .dataframe thead th {\n",
              "        text-align: right;\n",
              "    }\n",
              "</style>\n",
              "<table border=\"1\" class=\"dataframe\">\n",
              "  <thead>\n",
              "    <tr style=\"text-align: right;\">\n",
              "      <th></th>\n",
              "      <th>TITLE</th>\n",
              "      <th>CATEGORY</th>\n",
              "    </tr>\n",
              "  </thead>\n",
              "  <tbody>\n",
              "    <tr>\n",
              "      <th>0</th>\n",
              "      <td>Fed official says weak data caused by weather,...</td>\n",
              "      <td>b</td>\n",
              "    </tr>\n",
              "    <tr>\n",
              "      <th>1</th>\n",
              "      <td>Fed's Charles Plosser sees high bar for change...</td>\n",
              "      <td>b</td>\n",
              "    </tr>\n",
              "    <tr>\n",
              "      <th>2</th>\n",
              "      <td>US open: Stocks fall after Fed official hints ...</td>\n",
              "      <td>b</td>\n",
              "    </tr>\n",
              "    <tr>\n",
              "      <th>3</th>\n",
              "      <td>Fed risks falling 'behind the curve', Charles ...</td>\n",
              "      <td>b</td>\n",
              "    </tr>\n",
              "    <tr>\n",
              "      <th>4</th>\n",
              "      <td>Fed's Plosser: Nasty Weather Has Curbed Job Gr...</td>\n",
              "      <td>b</td>\n",
              "    </tr>\n",
              "  </tbody>\n",
              "</table>\n",
              "</div>\n",
              "      <button class=\"colab-df-convert\" onclick=\"convertToInteractive('df-d628eecb-a1fb-457c-b117-10db4273c751')\"\n",
              "              title=\"Convert this dataframe to an interactive table.\"\n",
              "              style=\"display:none;\">\n",
              "        \n",
              "  <svg xmlns=\"http://www.w3.org/2000/svg\" height=\"24px\"viewBox=\"0 0 24 24\"\n",
              "       width=\"24px\">\n",
              "    <path d=\"M0 0h24v24H0V0z\" fill=\"none\"/>\n",
              "    <path d=\"M18.56 5.44l.94 2.06.94-2.06 2.06-.94-2.06-.94-.94-2.06-.94 2.06-2.06.94zm-11 1L8.5 8.5l.94-2.06 2.06-.94-2.06-.94L8.5 2.5l-.94 2.06-2.06.94zm10 10l.94 2.06.94-2.06 2.06-.94-2.06-.94-.94-2.06-.94 2.06-2.06.94z\"/><path d=\"M17.41 7.96l-1.37-1.37c-.4-.4-.92-.59-1.43-.59-.52 0-1.04.2-1.43.59L10.3 9.45l-7.72 7.72c-.78.78-.78 2.05 0 2.83L4 21.41c.39.39.9.59 1.41.59.51 0 1.02-.2 1.41-.59l7.78-7.78 2.81-2.81c.8-.78.8-2.07 0-2.86zM5.41 20L4 18.59l7.72-7.72 1.47 1.35L5.41 20z\"/>\n",
              "  </svg>\n",
              "      </button>\n",
              "      \n",
              "  <style>\n",
              "    .colab-df-container {\n",
              "      display:flex;\n",
              "      flex-wrap:wrap;\n",
              "      gap: 12px;\n",
              "    }\n",
              "\n",
              "    .colab-df-convert {\n",
              "      background-color: #E8F0FE;\n",
              "      border: none;\n",
              "      border-radius: 50%;\n",
              "      cursor: pointer;\n",
              "      display: none;\n",
              "      fill: #1967D2;\n",
              "      height: 32px;\n",
              "      padding: 0 0 0 0;\n",
              "      width: 32px;\n",
              "    }\n",
              "\n",
              "    .colab-df-convert:hover {\n",
              "      background-color: #E2EBFA;\n",
              "      box-shadow: 0px 1px 2px rgba(60, 64, 67, 0.3), 0px 1px 3px 1px rgba(60, 64, 67, 0.15);\n",
              "      fill: #174EA6;\n",
              "    }\n",
              "\n",
              "    [theme=dark] .colab-df-convert {\n",
              "      background-color: #3B4455;\n",
              "      fill: #D2E3FC;\n",
              "    }\n",
              "\n",
              "    [theme=dark] .colab-df-convert:hover {\n",
              "      background-color: #434B5C;\n",
              "      box-shadow: 0px 1px 3px 1px rgba(0, 0, 0, 0.15);\n",
              "      filter: drop-shadow(0px 1px 2px rgba(0, 0, 0, 0.3));\n",
              "      fill: #FFFFFF;\n",
              "    }\n",
              "  </style>\n",
              "\n",
              "      <script>\n",
              "        const buttonEl =\n",
              "          document.querySelector('#df-d628eecb-a1fb-457c-b117-10db4273c751 button.colab-df-convert');\n",
              "        buttonEl.style.display =\n",
              "          google.colab.kernel.accessAllowed ? 'block' : 'none';\n",
              "\n",
              "        async function convertToInteractive(key) {\n",
              "          const element = document.querySelector('#df-d628eecb-a1fb-457c-b117-10db4273c751');\n",
              "          const dataTable =\n",
              "            await google.colab.kernel.invokeFunction('convertToInteractive',\n",
              "                                                     [key], {});\n",
              "          if (!dataTable) return;\n",
              "\n",
              "          const docLinkHtml = 'Like what you see? Visit the ' +\n",
              "            '<a target=\"_blank\" href=https://colab.research.google.com/notebooks/data_table.ipynb>data table notebook</a>'\n",
              "            + ' to learn more about interactive tables.';\n",
              "          element.innerHTML = '';\n",
              "          dataTable['output_type'] = 'display_data';\n",
              "          await google.colab.output.renderOutput(dataTable, element);\n",
              "          const docLink = document.createElement('div');\n",
              "          docLink.innerHTML = docLinkHtml;\n",
              "          element.appendChild(docLink);\n",
              "        }\n",
              "      </script>\n",
              "    </div>\n",
              "  </div>\n",
              "  "
            ]
          },
          "metadata": {},
          "execution_count": 5
        }
      ],
      "source": [
        "df = pd.read_csv('uci-news-aggregator.csv')\n",
        "df = df[[\"TITLE\", \"CATEGORY\"]]\n",
        "df.head()"
      ]
    },
    {
      "cell_type": "code",
      "execution_count": null,
      "metadata": {
        "colab": {
          "base_uri": "https://localhost:8080/",
          "height": 206
        },
        "id": "PPAJ9meD6PhL",
        "outputId": "98d74d18-2afb-4808-f89b-30264d7a6484"
      },
      "outputs": [
        {
          "output_type": "execute_result",
          "data": {
            "text/plain": [
              "                                    TEXT_COLUMN_NAME LABEL_COLUMN_NAME\n",
              "0  Fed official says weak data caused by weather,...                 b\n",
              "1  Fed's Charles Plosser sees high bar for change...                 b\n",
              "2  US open: Stocks fall after Fed official hints ...                 b\n",
              "3  Fed risks falling 'behind the curve', Charles ...                 b\n",
              "4  Fed's Plosser: Nasty Weather Has Curbed Job Gr...                 b"
            ],
            "text/html": [
              "\n",
              "  <div id=\"df-fb86b3d5-a66c-4703-af28-a49bcbbdf575\">\n",
              "    <div class=\"colab-df-container\">\n",
              "      <div>\n",
              "<style scoped>\n",
              "    .dataframe tbody tr th:only-of-type {\n",
              "        vertical-align: middle;\n",
              "    }\n",
              "\n",
              "    .dataframe tbody tr th {\n",
              "        vertical-align: top;\n",
              "    }\n",
              "\n",
              "    .dataframe thead th {\n",
              "        text-align: right;\n",
              "    }\n",
              "</style>\n",
              "<table border=\"1\" class=\"dataframe\">\n",
              "  <thead>\n",
              "    <tr style=\"text-align: right;\">\n",
              "      <th></th>\n",
              "      <th>TEXT_COLUMN_NAME</th>\n",
              "      <th>LABEL_COLUMN_NAME</th>\n",
              "    </tr>\n",
              "  </thead>\n",
              "  <tbody>\n",
              "    <tr>\n",
              "      <th>0</th>\n",
              "      <td>Fed official says weak data caused by weather,...</td>\n",
              "      <td>b</td>\n",
              "    </tr>\n",
              "    <tr>\n",
              "      <th>1</th>\n",
              "      <td>Fed's Charles Plosser sees high bar for change...</td>\n",
              "      <td>b</td>\n",
              "    </tr>\n",
              "    <tr>\n",
              "      <th>2</th>\n",
              "      <td>US open: Stocks fall after Fed official hints ...</td>\n",
              "      <td>b</td>\n",
              "    </tr>\n",
              "    <tr>\n",
              "      <th>3</th>\n",
              "      <td>Fed risks falling 'behind the curve', Charles ...</td>\n",
              "      <td>b</td>\n",
              "    </tr>\n",
              "    <tr>\n",
              "      <th>4</th>\n",
              "      <td>Fed's Plosser: Nasty Weather Has Curbed Job Gr...</td>\n",
              "      <td>b</td>\n",
              "    </tr>\n",
              "  </tbody>\n",
              "</table>\n",
              "</div>\n",
              "      <button class=\"colab-df-convert\" onclick=\"convertToInteractive('df-fb86b3d5-a66c-4703-af28-a49bcbbdf575')\"\n",
              "              title=\"Convert this dataframe to an interactive table.\"\n",
              "              style=\"display:none;\">\n",
              "        \n",
              "  <svg xmlns=\"http://www.w3.org/2000/svg\" height=\"24px\"viewBox=\"0 0 24 24\"\n",
              "       width=\"24px\">\n",
              "    <path d=\"M0 0h24v24H0V0z\" fill=\"none\"/>\n",
              "    <path d=\"M18.56 5.44l.94 2.06.94-2.06 2.06-.94-2.06-.94-.94-2.06-.94 2.06-2.06.94zm-11 1L8.5 8.5l.94-2.06 2.06-.94-2.06-.94L8.5 2.5l-.94 2.06-2.06.94zm10 10l.94 2.06.94-2.06 2.06-.94-2.06-.94-.94-2.06-.94 2.06-2.06.94z\"/><path d=\"M17.41 7.96l-1.37-1.37c-.4-.4-.92-.59-1.43-.59-.52 0-1.04.2-1.43.59L10.3 9.45l-7.72 7.72c-.78.78-.78 2.05 0 2.83L4 21.41c.39.39.9.59 1.41.59.51 0 1.02-.2 1.41-.59l7.78-7.78 2.81-2.81c.8-.78.8-2.07 0-2.86zM5.41 20L4 18.59l7.72-7.72 1.47 1.35L5.41 20z\"/>\n",
              "  </svg>\n",
              "      </button>\n",
              "      \n",
              "  <style>\n",
              "    .colab-df-container {\n",
              "      display:flex;\n",
              "      flex-wrap:wrap;\n",
              "      gap: 12px;\n",
              "    }\n",
              "\n",
              "    .colab-df-convert {\n",
              "      background-color: #E8F0FE;\n",
              "      border: none;\n",
              "      border-radius: 50%;\n",
              "      cursor: pointer;\n",
              "      display: none;\n",
              "      fill: #1967D2;\n",
              "      height: 32px;\n",
              "      padding: 0 0 0 0;\n",
              "      width: 32px;\n",
              "    }\n",
              "\n",
              "    .colab-df-convert:hover {\n",
              "      background-color: #E2EBFA;\n",
              "      box-shadow: 0px 1px 2px rgba(60, 64, 67, 0.3), 0px 1px 3px 1px rgba(60, 64, 67, 0.15);\n",
              "      fill: #174EA6;\n",
              "    }\n",
              "\n",
              "    [theme=dark] .colab-df-convert {\n",
              "      background-color: #3B4455;\n",
              "      fill: #D2E3FC;\n",
              "    }\n",
              "\n",
              "    [theme=dark] .colab-df-convert:hover {\n",
              "      background-color: #434B5C;\n",
              "      box-shadow: 0px 1px 3px 1px rgba(0, 0, 0, 0.15);\n",
              "      filter: drop-shadow(0px 1px 2px rgba(0, 0, 0, 0.3));\n",
              "      fill: #FFFFFF;\n",
              "    }\n",
              "  </style>\n",
              "\n",
              "      <script>\n",
              "        const buttonEl =\n",
              "          document.querySelector('#df-fb86b3d5-a66c-4703-af28-a49bcbbdf575 button.colab-df-convert');\n",
              "        buttonEl.style.display =\n",
              "          google.colab.kernel.accessAllowed ? 'block' : 'none';\n",
              "\n",
              "        async function convertToInteractive(key) {\n",
              "          const element = document.querySelector('#df-fb86b3d5-a66c-4703-af28-a49bcbbdf575');\n",
              "          const dataTable =\n",
              "            await google.colab.kernel.invokeFunction('convertToInteractive',\n",
              "                                                     [key], {});\n",
              "          if (!dataTable) return;\n",
              "\n",
              "          const docLinkHtml = 'Like what you see? Visit the ' +\n",
              "            '<a target=\"_blank\" href=https://colab.research.google.com/notebooks/data_table.ipynb>data table notebook</a>'\n",
              "            + ' to learn more about interactive tables.';\n",
              "          element.innerHTML = '';\n",
              "          dataTable['output_type'] = 'display_data';\n",
              "          await google.colab.output.renderOutput(dataTable, element);\n",
              "          const docLink = document.createElement('div');\n",
              "          docLink.innerHTML = docLinkHtml;\n",
              "          element.appendChild(docLink);\n",
              "        }\n",
              "      </script>\n",
              "    </div>\n",
              "  </div>\n",
              "  "
            ]
          },
          "metadata": {},
          "execution_count": 6
        }
      ],
      "source": [
        "df.columns = ['TEXT_COLUMN_NAME', 'LABEL_COLUMN_NAME']\n",
        "df.to_csv('news_data.csv', index=None)\n",
        "\n",
        "df = pd.read_csv('news_data.csv')\n",
        "df.head()"
      ]
    },
    {
      "cell_type": "code",
      "execution_count": null,
      "metadata": {
        "id": "LMXnOFkZ6PhL"
      },
      "outputs": [],
      "source": [
        "del df"
      ]
    },
    {
      "cell_type": "markdown",
      "metadata": {
        "id": "P9YdNm9o6PhM"
      },
      "source": [
        "## Prepare Dataset with Torchtext"
      ]
    },
    {
      "cell_type": "code",
      "execution_count": null,
      "metadata": {
        "id": "J_nldcUu6PhM"
      },
      "outputs": [],
      "source": [
        "# !conda install spacy"
      ]
    },
    {
      "cell_type": "markdown",
      "metadata": {
        "id": "DBpJH1576PhM"
      },
      "source": [
        "Download English vocabulary via:\n",
        "    \n",
        "- `python -m spacy download en_core_web_sm`"
      ]
    },
    {
      "cell_type": "markdown",
      "metadata": {
        "id": "4GnH64XvsV8n"
      },
      "source": [
        "Define the Label and Text field formatters:"
      ]
    },
    {
      "cell_type": "code",
      "execution_count": null,
      "metadata": {
        "id": "9d5qY3fv6PhN"
      },
      "outputs": [],
      "source": [
        "### Defining the feature processing\n",
        "\n",
        "TEXT = torchtext.legacy.data.Field(\n",
        "    tokenize='spacy', # default splits on whitespace\n",
        "    tokenizer_language='en_core_web_sm',\n",
        "    include_lengths=True # NEW\n",
        ")\n",
        "\n",
        "### Defining the label processing\n",
        "\n",
        "LABEL = torchtext.legacy.data.LabelField(dtype=torch.long)"
      ]
    },
    {
      "cell_type": "markdown",
      "metadata": {
        "id": "BYzlogYv6PhO"
      },
      "source": [
        "Process the dataset:"
      ]
    },
    {
      "cell_type": "code",
      "execution_count": null,
      "metadata": {
        "id": "2FXiGVG86PhO"
      },
      "outputs": [],
      "source": [
        "fields = [('TEXT_COLUMN_NAME', TEXT), ('LABEL_COLUMN_NAME', LABEL)]\n",
        "\n",
        "dataset = torchtext.legacy.data.TabularDataset(\n",
        "    path='news_data.csv', format='csv',\n",
        "    skip_header=True, fields=fields)"
      ]
    },
    {
      "cell_type": "markdown",
      "metadata": {
        "id": "MQnzGof66PhO"
      },
      "source": [
        "## Split Dataset into Train/Validation/Test"
      ]
    },
    {
      "cell_type": "markdown",
      "metadata": {
        "id": "gRWPRoVR6PhO"
      },
      "source": [
        "Split the dataset into training, validation, and test partitions:"
      ]
    },
    {
      "cell_type": "code",
      "execution_count": null,
      "metadata": {
        "colab": {
          "base_uri": "https://localhost:8080/"
        },
        "id": "WZ_4jiHVnMxN",
        "outputId": "77c9c2c9-6cbe-48d1-d606-7c896fa78eb7"
      },
      "outputs": [
        {
          "output_type": "stream",
          "name": "stdout",
          "text": [
            "Num Train: 337935\n",
            "Num Test: 84484\n"
          ]
        }
      ],
      "source": [
        "train_data, test_data = dataset.split(\n",
        "    split_ratio=[0.8, 0.2],\n",
        "    random_state=random.seed(RANDOM_SEED))\n",
        "\n",
        "print(f'Num Train: {len(train_data)}')\n",
        "print(f'Num Test: {len(test_data)}')"
      ]
    },
    {
      "cell_type": "code",
      "execution_count": null,
      "metadata": {
        "colab": {
          "base_uri": "https://localhost:8080/"
        },
        "id": "Gf0Qf3646PhP",
        "outputId": "01ea21b6-8c5f-4819-8b92-6b47939dbab4"
      },
      "outputs": [
        {
          "output_type": "stream",
          "name": "stdout",
          "text": [
            "Num Train: 287245\n",
            "Num Validation: 50690\n"
          ]
        }
      ],
      "source": [
        "train_data, valid_data = train_data.split(\n",
        "    split_ratio=[0.85, 0.15],\n",
        "    random_state=random.seed(RANDOM_SEED))\n",
        "\n",
        "print(f'Num Train: {len(train_data)}')\n",
        "print(f'Num Validation: {len(valid_data)}')"
      ]
    },
    {
      "cell_type": "code",
      "execution_count": null,
      "metadata": {
        "colab": {
          "base_uri": "https://localhost:8080/"
        },
        "id": "jkzrI7Uy6PhQ",
        "outputId": "20f52250-d1a4-43d3-fb3c-0b0f54bb38e1"
      },
      "outputs": [
        {
          "output_type": "stream",
          "name": "stdout",
          "text": [
            "{'TEXT_COLUMN_NAME': ['Oil', 'falls', 'below', '$', '108', 'on', 'excess', 'supply', ',', 'weak', 'demand'], 'LABEL_COLUMN_NAME': 'b'}\n"
          ]
        }
      ],
      "source": [
        "print(vars(train_data.examples[0]))"
      ]
    },
    {
      "cell_type": "markdown",
      "metadata": {
        "id": "4y7AGDdR6PhQ"
      },
      "source": [
        "## Build Vocabulary"
      ]
    },
    {
      "cell_type": "markdown",
      "metadata": {
        "id": "L-TBwKWPslPa"
      },
      "source": [
        "Build the vocabulary based on the top \"VOCABULARY_SIZE\" words:"
      ]
    },
    {
      "cell_type": "code",
      "execution_count": null,
      "metadata": {
        "colab": {
          "base_uri": "https://localhost:8080/"
        },
        "id": "e8uNrjdtn4A8",
        "outputId": "c357be3a-b4ec-45a1-f26c-48ac2d9414d3"
      },
      "outputs": [
        {
          "output_type": "stream",
          "name": "stdout",
          "text": [
            "Vocabulary size: 20002\n",
            "Number of classes: 4\n"
          ]
        }
      ],
      "source": [
        "TEXT.build_vocab(train_data, max_size=VOCABULARY_SIZE)\n",
        "LABEL.build_vocab(train_data)\n",
        "\n",
        "print(f'Vocabulary size: {len(TEXT.vocab)}')\n",
        "print(f'Number of classes: {len(LABEL.vocab)}')"
      ]
    },
    {
      "cell_type": "markdown",
      "metadata": {
        "id": "wFVWMtP46PhR"
      },
      "source": [
        "- 25,002 not 25,000 because of the `<unk>` and `<pad>` tokens\n",
        "- PyTorch RNNs can deal with arbitrary lengths due to dynamic graphs, but padding is necessary for padding sequences to the same length in a given minibatch so we can store those in an array"
      ]
    },
    {
      "cell_type": "markdown",
      "metadata": {
        "id": "EJ7rdMa26PhR"
      },
      "source": [
        "**Look at most common words:**"
      ]
    },
    {
      "cell_type": "code",
      "execution_count": null,
      "metadata": {
        "colab": {
          "base_uri": "https://localhost:8080/"
        },
        "id": "nJAPLia56PhR",
        "outputId": "85d1de39-b803-4037-d32b-7441bf13cb3b"
      },
      "outputs": [
        {
          "output_type": "stream",
          "name": "stdout",
          "text": [
            "[(\"'\", 89722), (',', 58391), ('to', 56935), (':', 56104), ('-', 45972), (\"'s\", 42876), ('in', 39326), ('...', 38731), (' ', 37438), ('of', 33535), ('for', 29460), ('the', 26572), ('on', 22254), ('and', 21913), ('The', 20993), ('a', 15245), ('at', 12377), ('with', 12266), ('?', 12204), ('$', 11145)]\n"
          ]
        }
      ],
      "source": [
        "print(TEXT.vocab.freqs.most_common(20))"
      ]
    },
    {
      "cell_type": "markdown",
      "metadata": {
        "id": "dyTbDtIk6PhR"
      },
      "source": [
        "**Tokens corresponding to the first 10 indices (0, 1, ..., 9):**"
      ]
    },
    {
      "cell_type": "code",
      "execution_count": null,
      "metadata": {
        "colab": {
          "base_uri": "https://localhost:8080/"
        },
        "id": "EJYBSA9s6PhS",
        "outputId": "9064ac11-9d12-468b-fead-3052d477aec2"
      },
      "outputs": [
        {
          "output_type": "stream",
          "name": "stdout",
          "text": [
            "['<unk>', '<pad>', \"'\", ',', 'to', ':', '-', \"'s\", 'in', '...']\n"
          ]
        }
      ],
      "source": [
        "print(TEXT.vocab.itos[:10]) # itos = integer-to-string"
      ]
    },
    {
      "cell_type": "markdown",
      "metadata": {
        "id": "DyRaP8M46PhS"
      },
      "source": [
        "**Converting a string to an integer:**"
      ]
    },
    {
      "cell_type": "code",
      "execution_count": null,
      "metadata": {
        "colab": {
          "base_uri": "https://localhost:8080/"
        },
        "id": "W7Rh0iuV6PhS",
        "outputId": "c31cf1c0-801e-41d1-9639-56f32ba04628"
      },
      "outputs": [
        {
          "output_type": "stream",
          "name": "stdout",
          "text": [
            "13\n"
          ]
        }
      ],
      "source": [
        "print(TEXT.vocab.stoi['the']) # stoi = string-to-integer"
      ]
    },
    {
      "cell_type": "markdown",
      "metadata": {
        "id": "L5rdpmfr6PhT"
      },
      "source": [
        "**Class labels:**"
      ]
    },
    {
      "cell_type": "code",
      "execution_count": null,
      "metadata": {
        "colab": {
          "base_uri": "https://localhost:8080/"
        },
        "id": "SRoWtfZ56PhT",
        "outputId": "80fd3411-21a8-4f36-bcbd-c46f6dc95c92"
      },
      "outputs": [
        {
          "output_type": "stream",
          "name": "stdout",
          "text": [
            "defaultdict(None, {'e': 0, 'b': 1, 't': 2, 'm': 3})\n"
          ]
        }
      ],
      "source": [
        "print(LABEL.vocab.stoi)"
      ]
    },
    {
      "cell_type": "markdown",
      "metadata": {
        "id": "LiFAWEBP6PhT"
      },
      "source": [
        "**Class label count:**"
      ]
    },
    {
      "cell_type": "code",
      "execution_count": null,
      "metadata": {
        "colab": {
          "base_uri": "https://localhost:8080/"
        },
        "id": "why_24FX6PhU",
        "outputId": "f71a3ae4-2e47-4672-c46b-fc4608670145"
      },
      "outputs": [
        {
          "output_type": "execute_result",
          "data": {
            "text/plain": [
              "Counter({'b': 78810, 'e': 103739, 'm': 31120, 't': 73576})"
            ]
          },
          "metadata": {},
          "execution_count": 19
        }
      ],
      "source": [
        "LABEL.vocab.freqs"
      ]
    },
    {
      "cell_type": "markdown",
      "metadata": {
        "id": "eIQ_zfKLwjKm"
      },
      "source": [
        "## Define Data Loaders"
      ]
    },
    {
      "cell_type": "code",
      "execution_count": null,
      "metadata": {
        "id": "i7JiHR1stHNF"
      },
      "outputs": [],
      "source": [
        "train_loader, valid_loader, test_loader = \\\n",
        "    torchtext.legacy.data.BucketIterator.splits(\n",
        "        (train_data, valid_data, test_data),\n",
        "        batch_size=BATCH_SIZE,\n",
        "        sort_within_batch=True, # NEW. necessary for packed_padded_sequence\n",
        "             sort_key=lambda x: len(x.TEXT_COLUMN_NAME),\n",
        "        device=DEVICE\n",
        ")"
      ]
    },
    {
      "cell_type": "markdown",
      "metadata": {
        "id": "R0pT_dMRvicQ"
      },
      "source": [
        "Testing the iterators (note that the number of rows depends on the longest document in the respective batch):"
      ]
    },
    {
      "cell_type": "code",
      "execution_count": null,
      "metadata": {
        "colab": {
          "base_uri": "https://localhost:8080/"
        },
        "id": "y8SP_FccutT0",
        "outputId": "07792829-3291-4ad3-bed3-2aebd40fd6ca"
      },
      "outputs": [
        {
          "output_type": "stream",
          "name": "stdout",
          "text": [
            "Train\n",
            "Text matrix size: torch.Size([6, 128])\n",
            "Target vector size: torch.Size([128])\n",
            "\n",
            "Valid:\n",
            "Text matrix size: torch.Size([2, 128])\n",
            "Target vector size: torch.Size([128])\n",
            "\n",
            "Test:\n",
            "Text matrix size: torch.Size([2, 128])\n",
            "Target vector size: torch.Size([128])\n"
          ]
        }
      ],
      "source": [
        "print('Train')\n",
        "for batch in train_loader:\n",
        "    print(f'Text matrix size: {batch.TEXT_COLUMN_NAME[0].size()}')\n",
        "    print(f'Target vector size: {batch.LABEL_COLUMN_NAME.size()}')\n",
        "    break\n",
        "\n",
        "print('\\nValid:')\n",
        "for batch in valid_loader:\n",
        "    print(f'Text matrix size: {batch.TEXT_COLUMN_NAME[0].size()}')\n",
        "    print(f'Target vector size: {batch.LABEL_COLUMN_NAME.size()}')\n",
        "    break\n",
        "\n",
        "print('\\nTest:')\n",
        "for batch in test_loader:\n",
        "    print(f'Text matrix size: {batch.TEXT_COLUMN_NAME[0].size()}')\n",
        "    print(f'Target vector size: {batch.LABEL_COLUMN_NAME.size()}')\n",
        "    break"
      ]
    },
    {
      "cell_type": "markdown",
      "metadata": {
        "id": "G_grdW3pxCzz"
      },
      "source": [
        "## Model with Fully Connected Layer"
      ]
    },
    {
      "cell_type": "code",
      "execution_count": null,
      "metadata": {
        "id": "nQIUm5EjxFNa"
      },
      "outputs": [],
      "source": [
        "class RNN(torch.nn.Module):\n",
        "\n",
        "    def __init__(self, input_dim, embedding_dim, hidden_dim, output_dim):\n",
        "        super().__init__()\n",
        "\n",
        "        self.embedding = torch.nn.Embedding(input_dim, embedding_dim)\n",
        "        #self.rnn = torch.nn.RNN(embedding_dim,\n",
        "        #                        hidden_dim,\n",
        "        #                        nonlinearity='relu')\n",
        "        self.rnn = torch.nn.LSTM(embedding_dim,\n",
        "                                 hidden_dim)\n",
        "\n",
        "        self.fc = torch.nn.Linear(hidden_dim, output_dim)\n",
        "\n",
        "\n",
        "    def forward(self, text, text_length):\n",
        "        # text dim: [sentence length, batch size]\n",
        "\n",
        "        embedded = self.embedding(text)\n",
        "        # ebedded dim: [sentence length, batch size, embedding dim]\n",
        "\n",
        "        ## NEW\n",
        "        packed = torch.nn.utils.rnn.pack_padded_sequence(embedded, text_length.to('cpu'))\n",
        "\n",
        "        packed_output, (hidden, cell) = self.rnn(packed)\n",
        "        # output dim: [sentence length, batch size, hidden dim]\n",
        "        # hidden dim: [1, batch size, hidden dim]\n",
        "\n",
        "        hidden.squeeze_(0)\n",
        "        # hidden dim: [batch size, hidden dim]\n",
        "\n",
        "        output = self.fc(hidden)\n",
        "        return output"
      ]
    },
    {
      "cell_type": "code",
      "execution_count": null,
      "metadata": {
        "id": "Ik3NF3faxFmZ"
      },
      "outputs": [],
      "source": [
        "torch.manual_seed(RANDOM_SEED)\n",
        "model = RNN(input_dim=len(TEXT.vocab),\n",
        "            embedding_dim=EMBEDDING_DIM,\n",
        "            hidden_dim=HIDDEN_DIM,\n",
        "            output_dim=NUM_CLASSES # could use 1 for binary classification\n",
        ")\n",
        "\n",
        "model = model.to(DEVICE)\n",
        "optimizer = torch.optim.Adam(model.parameters(), lr=0.005)"
      ]
    },
    {
      "cell_type": "markdown",
      "metadata": {
        "id": "Lv9Ny9di6VcI"
      },
      "source": [
        "## Training"
      ]
    },
    {
      "cell_type": "code",
      "execution_count": null,
      "metadata": {
        "id": "T5t1Afn4xO11"
      },
      "outputs": [],
      "source": [
        "def compute_accuracy(model, data_loader, device):\n",
        "\n",
        "    with torch.no_grad():\n",
        "\n",
        "        correct_pred, num_examples = 0, 0\n",
        "\n",
        "        for batch_idx, batch_data in enumerate(data_loader):\n",
        "\n",
        "            # NEW\n",
        "            features, text_length = batch_data.TEXT_COLUMN_NAME\n",
        "            targets = batch_data.LABEL_COLUMN_NAME.to(DEVICE)\n",
        "\n",
        "            logits = model(features, text_length)\n",
        "            _, predicted_labels = torch.max(logits, 1)\n",
        "\n",
        "            num_examples += targets.size(0)\n",
        "\n",
        "            correct_pred += (predicted_labels == targets).sum()\n",
        "    return correct_pred.float()/num_examples * 100"
      ]
    },
    {
      "cell_type": "code",
      "execution_count": null,
      "metadata": {
        "colab": {
          "base_uri": "https://localhost:8080/"
        },
        "id": "EABZM8Vo0ilB",
        "outputId": "71c12c6e-5da2-4fd9-9509-2ff0fb4fda9e"
      },
      "outputs": [
        {
          "output_type": "stream",
          "name": "stdout",
          "text": [
            "Epoch: 001/003 | Batch 000/2245 | Loss: 1.1810\n",
            "Epoch: 001/003 | Batch 050/2245 | Loss: 0.9141\n",
            "Epoch: 001/003 | Batch 100/2245 | Loss: 0.6788\n",
            "Epoch: 001/003 | Batch 150/2245 | Loss: 0.6323\n",
            "Epoch: 001/003 | Batch 200/2245 | Loss: 0.5036\n",
            "Epoch: 001/003 | Batch 250/2245 | Loss: 0.6869\n",
            "Epoch: 001/003 | Batch 300/2245 | Loss: 0.4922\n",
            "Epoch: 001/003 | Batch 350/2245 | Loss: 0.3364\n",
            "Epoch: 001/003 | Batch 400/2245 | Loss: 0.3498\n",
            "Epoch: 001/003 | Batch 450/2245 | Loss: 0.2026\n",
            "Epoch: 001/003 | Batch 500/2245 | Loss: 0.4248\n",
            "Epoch: 001/003 | Batch 550/2245 | Loss: 0.3467\n",
            "Epoch: 001/003 | Batch 600/2245 | Loss: 0.3077\n",
            "Epoch: 001/003 | Batch 650/2245 | Loss: 0.2040\n",
            "Epoch: 001/003 | Batch 700/2245 | Loss: 0.4250\n",
            "Epoch: 001/003 | Batch 750/2245 | Loss: 0.3090\n",
            "Epoch: 001/003 | Batch 800/2245 | Loss: 0.3064\n",
            "Epoch: 001/003 | Batch 850/2245 | Loss: 0.1590\n",
            "Epoch: 001/003 | Batch 900/2245 | Loss: 0.2980\n",
            "Epoch: 001/003 | Batch 950/2245 | Loss: 0.3931\n",
            "Epoch: 001/003 | Batch 1000/2245 | Loss: 0.1949\n",
            "Epoch: 001/003 | Batch 1050/2245 | Loss: 0.1808\n",
            "Epoch: 001/003 | Batch 1100/2245 | Loss: 0.1777\n",
            "Epoch: 001/003 | Batch 1150/2245 | Loss: 0.1596\n",
            "Epoch: 001/003 | Batch 1200/2245 | Loss: 0.1987\n",
            "Epoch: 001/003 | Batch 1250/2245 | Loss: 0.2742\n",
            "Epoch: 001/003 | Batch 1300/2245 | Loss: 0.2631\n",
            "Epoch: 001/003 | Batch 1350/2245 | Loss: 0.1257\n",
            "Epoch: 001/003 | Batch 1400/2245 | Loss: 0.3038\n",
            "Epoch: 001/003 | Batch 1450/2245 | Loss: 0.2017\n",
            "Epoch: 001/003 | Batch 1500/2245 | Loss: 0.2657\n",
            "Epoch: 001/003 | Batch 1550/2245 | Loss: 0.2075\n",
            "Epoch: 001/003 | Batch 1600/2245 | Loss: 0.1687\n",
            "Epoch: 001/003 | Batch 1650/2245 | Loss: 0.2769\n",
            "Epoch: 001/003 | Batch 1700/2245 | Loss: 0.2378\n",
            "Epoch: 001/003 | Batch 1750/2245 | Loss: 0.1921\n",
            "Epoch: 001/003 | Batch 1800/2245 | Loss: 0.1743\n",
            "Epoch: 001/003 | Batch 1850/2245 | Loss: 0.2067\n",
            "Epoch: 001/003 | Batch 1900/2245 | Loss: 0.1507\n",
            "Epoch: 001/003 | Batch 1950/2245 | Loss: 0.2220\n",
            "Epoch: 001/003 | Batch 2000/2245 | Loss: 0.3165\n",
            "Epoch: 001/003 | Batch 2050/2245 | Loss: 0.0969\n",
            "Epoch: 001/003 | Batch 2100/2245 | Loss: 0.1455\n",
            "Epoch: 001/003 | Batch 2150/2245 | Loss: 0.2156\n",
            "Epoch: 001/003 | Batch 2200/2245 | Loss: 0.1363\n",
            "training accuracy: 95.61%\n",
            "valid accuracy: 93.60%\n",
            "Time elapsed: 10.91 min\n",
            "Epoch: 002/003 | Batch 000/2245 | Loss: 0.2030\n",
            "Epoch: 002/003 | Batch 050/2245 | Loss: 0.0756\n",
            "Epoch: 002/003 | Batch 100/2245 | Loss: 0.1098\n",
            "Epoch: 002/003 | Batch 150/2245 | Loss: 0.2042\n",
            "Epoch: 002/003 | Batch 200/2245 | Loss: 0.0955\n",
            "Epoch: 002/003 | Batch 250/2245 | Loss: 0.2188\n",
            "Epoch: 002/003 | Batch 300/2245 | Loss: 0.0614\n",
            "Epoch: 002/003 | Batch 350/2245 | Loss: 0.1718\n",
            "Epoch: 002/003 | Batch 400/2245 | Loss: 0.5807\n",
            "Epoch: 002/003 | Batch 450/2245 | Loss: 0.0961\n",
            "Epoch: 002/003 | Batch 500/2245 | Loss: 0.1764\n",
            "Epoch: 002/003 | Batch 550/2245 | Loss: 0.0981\n",
            "Epoch: 002/003 | Batch 600/2245 | Loss: 0.1059\n",
            "Epoch: 002/003 | Batch 650/2245 | Loss: 0.0662\n",
            "Epoch: 002/003 | Batch 700/2245 | Loss: 0.1262\n",
            "Epoch: 002/003 | Batch 750/2245 | Loss: 0.1821\n",
            "Epoch: 002/003 | Batch 800/2245 | Loss: 0.4976\n",
            "Epoch: 002/003 | Batch 850/2245 | Loss: 0.1083\n",
            "Epoch: 002/003 | Batch 900/2245 | Loss: 0.1367\n",
            "Epoch: 002/003 | Batch 950/2245 | Loss: 0.2555\n",
            "Epoch: 002/003 | Batch 1000/2245 | Loss: 0.2689\n",
            "Epoch: 002/003 | Batch 1050/2245 | Loss: 0.1160\n",
            "Epoch: 002/003 | Batch 1100/2245 | Loss: 0.0989\n",
            "Epoch: 002/003 | Batch 1150/2245 | Loss: 0.0568\n",
            "Epoch: 002/003 | Batch 1200/2245 | Loss: 0.1914\n",
            "Epoch: 002/003 | Batch 1250/2245 | Loss: 0.1049\n",
            "Epoch: 002/003 | Batch 1300/2245 | Loss: 0.1044\n",
            "Epoch: 002/003 | Batch 1350/2245 | Loss: 0.1351\n",
            "Epoch: 002/003 | Batch 1400/2245 | Loss: 0.0707\n",
            "Epoch: 002/003 | Batch 1450/2245 | Loss: 0.0902\n",
            "Epoch: 002/003 | Batch 1500/2245 | Loss: 0.1021\n",
            "Epoch: 002/003 | Batch 1550/2245 | Loss: 0.0891\n",
            "Epoch: 002/003 | Batch 1600/2245 | Loss: 0.1959\n",
            "Epoch: 002/003 | Batch 1650/2245 | Loss: 0.1926\n",
            "Epoch: 002/003 | Batch 1700/2245 | Loss: 0.1776\n",
            "Epoch: 002/003 | Batch 1750/2245 | Loss: 0.2460\n",
            "Epoch: 002/003 | Batch 1800/2245 | Loss: 0.0430\n",
            "Epoch: 002/003 | Batch 1850/2245 | Loss: 0.0297\n",
            "Epoch: 002/003 | Batch 1900/2245 | Loss: 0.1299\n",
            "Epoch: 002/003 | Batch 1950/2245 | Loss: 0.1373\n",
            "Epoch: 002/003 | Batch 2000/2245 | Loss: 0.0626\n",
            "Epoch: 002/003 | Batch 2050/2245 | Loss: 0.4184\n",
            "Epoch: 002/003 | Batch 2100/2245 | Loss: 0.1221\n",
            "Epoch: 002/003 | Batch 2150/2245 | Loss: 0.0793\n",
            "Epoch: 002/003 | Batch 2200/2245 | Loss: 0.0804\n",
            "training accuracy: 96.67%\n",
            "valid accuracy: 93.94%\n",
            "Time elapsed: 21.90 min\n",
            "Epoch: 003/003 | Batch 000/2245 | Loss: 0.0379\n",
            "Epoch: 003/003 | Batch 050/2245 | Loss: 0.1073\n",
            "Epoch: 003/003 | Batch 100/2245 | Loss: 0.1048\n",
            "Epoch: 003/003 | Batch 150/2245 | Loss: 0.0907\n",
            "Epoch: 003/003 | Batch 200/2245 | Loss: 0.0696\n",
            "Epoch: 003/003 | Batch 250/2245 | Loss: 0.2385\n",
            "Epoch: 003/003 | Batch 300/2245 | Loss: 0.1715\n",
            "Epoch: 003/003 | Batch 350/2245 | Loss: 0.0986\n",
            "Epoch: 003/003 | Batch 400/2245 | Loss: 0.0486\n",
            "Epoch: 003/003 | Batch 450/2245 | Loss: 0.0314\n",
            "Epoch: 003/003 | Batch 500/2245 | Loss: 0.1235\n",
            "Epoch: 003/003 | Batch 550/2245 | Loss: 0.0845\n",
            "Epoch: 003/003 | Batch 600/2245 | Loss: 0.3767\n",
            "Epoch: 003/003 | Batch 650/2245 | Loss: 0.0600\n",
            "Epoch: 003/003 | Batch 700/2245 | Loss: 0.0544\n",
            "Epoch: 003/003 | Batch 750/2245 | Loss: 0.1297\n",
            "Epoch: 003/003 | Batch 800/2245 | Loss: 0.1298\n",
            "Epoch: 003/003 | Batch 850/2245 | Loss: 0.1752\n",
            "Epoch: 003/003 | Batch 900/2245 | Loss: 0.1337\n",
            "Epoch: 003/003 | Batch 950/2245 | Loss: 0.0340\n",
            "Epoch: 003/003 | Batch 1000/2245 | Loss: 0.0594\n",
            "Epoch: 003/003 | Batch 1050/2245 | Loss: 0.1726\n",
            "Epoch: 003/003 | Batch 1100/2245 | Loss: 0.1238\n",
            "Epoch: 003/003 | Batch 1150/2245 | Loss: 0.1077\n",
            "Epoch: 003/003 | Batch 1200/2245 | Loss: 0.1039\n",
            "Epoch: 003/003 | Batch 1250/2245 | Loss: 0.0992\n",
            "Epoch: 003/003 | Batch 1300/2245 | Loss: 0.1988\n",
            "Epoch: 003/003 | Batch 1350/2245 | Loss: 0.0249\n",
            "Epoch: 003/003 | Batch 1400/2245 | Loss: 0.1520\n",
            "Epoch: 003/003 | Batch 1450/2245 | Loss: 0.1238\n",
            "Epoch: 003/003 | Batch 1500/2245 | Loss: 0.0992\n",
            "Epoch: 003/003 | Batch 1550/2245 | Loss: 0.2401\n",
            "Epoch: 003/003 | Batch 1600/2245 | Loss: 0.1219\n",
            "Epoch: 003/003 | Batch 1650/2245 | Loss: 0.0610\n",
            "Epoch: 003/003 | Batch 1700/2245 | Loss: 0.1030\n",
            "Epoch: 003/003 | Batch 1750/2245 | Loss: 0.0597\n",
            "Epoch: 003/003 | Batch 1800/2245 | Loss: 0.0647\n",
            "Epoch: 003/003 | Batch 1850/2245 | Loss: 0.1250\n",
            "Epoch: 003/003 | Batch 1900/2245 | Loss: 0.5151\n",
            "Epoch: 003/003 | Batch 1950/2245 | Loss: 0.1053\n",
            "Epoch: 003/003 | Batch 2000/2245 | Loss: 0.1341\n",
            "Epoch: 003/003 | Batch 2050/2245 | Loss: 0.0803\n",
            "Epoch: 003/003 | Batch 2100/2245 | Loss: 0.1487\n",
            "Epoch: 003/003 | Batch 2150/2245 | Loss: 0.1022\n",
            "Epoch: 003/003 | Batch 2200/2245 | Loss: 0.0966\n",
            "training accuracy: 97.47%\n",
            "valid accuracy: 93.92%\n",
            "Time elapsed: 31.36 min\n",
            "Total Training Time: 31.36 min\n",
            "Test accuracy: 93.89%\n"
          ]
        }
      ],
      "source": [
        "start_time = time.time()\n",
        "\n",
        "for epoch in range(NUM_EPOCHS):\n",
        "    model.train()\n",
        "    for batch_idx, batch_data in enumerate(train_loader):\n",
        "\n",
        "        # NEW\n",
        "        features, text_length = batch_data.TEXT_COLUMN_NAME\n",
        "        labels = batch_data.LABEL_COLUMN_NAME.to(DEVICE)\n",
        "\n",
        "        ### FORWARD AND BACK PROP\n",
        "        logits = model(features, text_length)\n",
        "        loss = F.cross_entropy(logits, labels)\n",
        "        optimizer.zero_grad()\n",
        "\n",
        "        loss.backward()\n",
        "\n",
        "        ### UPDATE MODEL PARAMETERS\n",
        "        optimizer.step()\n",
        "\n",
        "        ### LOGGING\n",
        "        if not batch_idx % 50:\n",
        "            print (f'Epoch: {epoch+1:03d}/{NUM_EPOCHS:03d} | '\n",
        "                   f'Batch {batch_idx:03d}/{len(train_loader):03d} | '\n",
        "                   f'Loss: {loss:.4f}')\n",
        "\n",
        "    with torch.set_grad_enabled(False):\n",
        "        print(f'training accuracy: '\n",
        "              f'{compute_accuracy(model, train_loader, DEVICE):.2f}%'\n",
        "              f'\\nvalid accuracy: '\n",
        "              f'{compute_accuracy(model, valid_loader, DEVICE):.2f}%')\n",
        "\n",
        "    print(f'Time elapsed: {(time.time() - start_time)/60:.2f} min')\n",
        "\n",
        "print(f'Total Training Time: {(time.time() - start_time)/60:.2f} min')\n",
        "print(f'Test accuracy: {compute_accuracy(model, test_loader, DEVICE):.2f}%')"
      ]
    },
    {
      "cell_type": "code",
      "execution_count": null,
      "metadata": {
        "colab": {
          "base_uri": "https://localhost:8080/"
        },
        "id": "mIqywHbc6PhW",
        "outputId": "0019672b-6627-424b-f302-9ee4cd433e7c"
      },
      "outputs": [
        {
          "output_type": "stream",
          "name": "stdout",
          "text": [
            "defaultdict(None, {'e': 0, 'b': 1, 't': 2, 'm': 3})\n"
          ]
        }
      ],
      "source": [
        "print(LABEL.vocab.stoi)"
      ]
    },
    {
      "cell_type": "code",
      "execution_count": null,
      "metadata": {
        "id": "jt55pscgFdKZ"
      },
      "outputs": [],
      "source": [
        "import spacy\n",
        "\n",
        "\n",
        "nlp = spacy.blank(\"en\")\n",
        "\n",
        "def predict(model, sentence):\n",
        "\n",
        "    model.eval()\n",
        "\n",
        "    with torch.no_grad():\n",
        "        tokenized = [tok.text for tok in nlp.tokenizer(sentence)]\n",
        "        indexed = [TEXT.vocab.stoi[t] for t in tokenized]\n",
        "        length = [len(indexed)]\n",
        "        tensor = torch.LongTensor(indexed).to(DEVICE)\n",
        "        tensor = tensor.unsqueeze(1)\n",
        "        length_tensor = torch.LongTensor(length)\n",
        "        predict_probas = torch.nn.functional.softmax(model(tensor, length_tensor), dim=1)\n",
        "        predicted_label_index = torch.argmax(predict_probas)\n",
        "        predicted_label_proba = torch.max(predict_probas)\n",
        "        return predicted_label_index.item(), predicted_label_proba.item()\n",
        "\n",
        "\n",
        "class_mapping = LABEL.vocab.stoi\n",
        "inverse_class_mapping = {v: k for k, v in class_mapping.items()}"
      ]
    },
    {
      "cell_type": "code",
      "execution_count": null,
      "metadata": {
        "colab": {
          "base_uri": "https://localhost:8080/"
        },
        "id": "V66-xTqj6PhX",
        "outputId": "108d66ad-37f5-4aab-9171-ef13aa718d59"
      },
      "outputs": [
        {
          "output_type": "stream",
          "name": "stdout",
          "text": [
            "Predicted label index: 1 | Predicted label: b | Probability: 0.9522053003311157 \n"
          ]
        }
      ],
      "source": [
        "predicted_label_index, predicted_label_proba = \\\n",
        "    predict(model, \"Oil prices have been increasing\")\n",
        "predicted_label = inverse_class_mapping[predicted_label_index]\n",
        "\n",
        "print(f'Predicted label index: {predicted_label_index}'\n",
        "      f' | Predicted label: {predicted_label}'\n",
        "      f' | Probability: {predicted_label_proba} ')"
      ]
    },
    {
      "cell_type": "code",
      "execution_count": null,
      "metadata": {
        "colab": {
          "base_uri": "https://localhost:8080/"
        },
        "id": "vHJSK8os6PhY",
        "outputId": "b229662b-d031-4c06-8a96-c7fc8d849ae4"
      },
      "outputs": [
        {
          "output_type": "stream",
          "name": "stdout",
          "text": [
            "Predicted label index: 3 | Predicted label: m | Probability: 0.9992621541023254 \n"
          ]
        }
      ],
      "source": [
        "predicted_label_index, predicted_label_proba = \\\n",
        "    predict(model, \"There new breakthrough in neuroscience will help doctors with heartattacks\")\n",
        "predicted_label = inverse_class_mapping[predicted_label_index]\n",
        "\n",
        "print(f'Predicted label index: {predicted_label_index}'\n",
        "      f' | Predicted label: {predicted_label}'\n",
        "      f' | Probability: {predicted_label_proba} ')"
      ]
    },
    {
      "cell_type": "markdown",
      "source": [
        "## Model without Fully connected layer"
      ],
      "metadata": {
        "id": "djKmuWIaFhSq"
      }
    },
    {
      "cell_type": "code",
      "source": [
        "class RNN2(torch.nn.Module):\n",
        "\n",
        "    def __init__(self, input_dim, embedding_dim, hidden_dim, output_dim):\n",
        "        super().__init__()\n",
        "\n",
        "        self.embedding = torch.nn.Embedding(input_dim, embedding_dim)\n",
        "        #self.rnn = torch.nn.RNN(embedding_dim,\n",
        "        #                        hidden_dim,\n",
        "        #                        nonlinearity='relu')\n",
        "        self.rnn = torch.nn.LSTM(embedding_dim,\n",
        "                                 output_dim)\n",
        "\n",
        "        # self.fc = torch.nn.Linear(hidden_dim, output_dim)\n",
        "\n",
        "\n",
        "    def forward(self, text, text_length):\n",
        "        # text dim: [sentence length, batch size]\n",
        "\n",
        "        embedded = self.embedding(text)\n",
        "        # ebedded dim: [sentence length, batch size, embedding dim]\n",
        "\n",
        "        ## NEW\n",
        "        packed = torch.nn.utils.rnn.pack_padded_sequence(embedded, text_length.to('cpu'))\n",
        "\n",
        "        packed_output, (hidden, cell) = self.rnn(packed)\n",
        "        # output dim: [sentence length, batch size, hidden dim]\n",
        "        # hidden dim: [1, batch size, hidden dim]\n",
        "\n",
        "        hidden.squeeze_(0)\n",
        "        # hidden dim: [batch size, hidden dim]\n",
        "\n",
        "        output = hidden\n",
        "        return output"
      ],
      "metadata": {
        "id": "kvYdmF_L_T8m"
      },
      "execution_count": null,
      "outputs": []
    },
    {
      "cell_type": "code",
      "source": [
        "torch.manual_seed(RANDOM_SEED)\n",
        "model2 = RNN2(input_dim=len(TEXT.vocab),\n",
        "            embedding_dim=EMBEDDING_DIM,\n",
        "            hidden_dim=HIDDEN_DIM,\n",
        "            output_dim=NUM_CLASSES # could use 1 for binary classification\n",
        ")\n",
        "\n",
        "model2 = model2.to(DEVICE)\n",
        "optimizer2 = torch.optim.Adam(model2.parameters(), lr=0.005)"
      ],
      "metadata": {
        "id": "0tf-VAqF_tez"
      },
      "execution_count": null,
      "outputs": []
    },
    {
      "cell_type": "code",
      "source": [
        "start_time = time.time()\n",
        "\n",
        "for epoch in range(NUM_EPOCHS):\n",
        "    model2.train()\n",
        "    for batch_idx, batch_data in enumerate(train_loader):\n",
        "\n",
        "        # NEW\n",
        "        features, text_length = batch_data.TEXT_COLUMN_NAME\n",
        "        labels = batch_data.LABEL_COLUMN_NAME.to(DEVICE)\n",
        "\n",
        "        ### FORWARD AND BACK PROP\n",
        "        logits = model2(features, text_length)\n",
        "        loss2 = F.cross_entropy(logits, labels)\n",
        "        optimizer2.zero_grad()\n",
        "\n",
        "        loss2.backward()\n",
        "\n",
        "        ### UPDATE MODEL PARAMETERS\n",
        "        optimizer2.step()\n",
        "\n",
        "        ### LOGGING\n",
        "        if not batch_idx % 50:\n",
        "            print (f'Epoch: {epoch+1:03d}/{NUM_EPOCHS:03d} | '\n",
        "                   f'Batch {batch_idx:03d}/{len(train_loader):03d} | '\n",
        "                   f'Loss: {loss:.4f}')\n",
        "\n",
        "    with torch.set_grad_enabled(False):\n",
        "        print(f'training accuracy: '\n",
        "              f'{compute_accuracy(model2, train_loader, DEVICE):.2f}%'\n",
        "              f'\\nvalid accuracy: '\n",
        "              f'{compute_accuracy(model2, valid_loader, DEVICE):.2f}%')\n",
        "\n",
        "    print(f'Time elapsed: {(time.time() - start_time)/60:.2f} min')\n",
        "\n",
        "print(f'Total Training Time: {(time.time() - start_time)/60:.2f} min')\n",
        "print(f'Test accuracy: {compute_accuracy(model2, test_loader, DEVICE):.2f}%')"
      ],
      "metadata": {
        "colab": {
          "base_uri": "https://localhost:8080/"
        },
        "id": "q04gzqqZ_zD2",
        "outputId": "09ac99a4-99d1-4eeb-cc97-12518896d834"
      },
      "execution_count": null,
      "outputs": [
        {
          "output_type": "stream",
          "name": "stdout",
          "text": [
            "Epoch: 001/003 | Batch 000/2245 | Loss: 0.0026\n",
            "Epoch: 001/003 | Batch 050/2245 | Loss: 0.0026\n",
            "Epoch: 001/003 | Batch 100/2245 | Loss: 0.0026\n",
            "Epoch: 001/003 | Batch 150/2245 | Loss: 0.0026\n",
            "Epoch: 001/003 | Batch 200/2245 | Loss: 0.0026\n",
            "Epoch: 001/003 | Batch 250/2245 | Loss: 0.0026\n",
            "Epoch: 001/003 | Batch 300/2245 | Loss: 0.0026\n",
            "Epoch: 001/003 | Batch 350/2245 | Loss: 0.0026\n",
            "Epoch: 001/003 | Batch 400/2245 | Loss: 0.0026\n",
            "Epoch: 001/003 | Batch 450/2245 | Loss: 0.0026\n",
            "Epoch: 001/003 | Batch 500/2245 | Loss: 0.0026\n",
            "Epoch: 001/003 | Batch 550/2245 | Loss: 0.0026\n",
            "Epoch: 001/003 | Batch 600/2245 | Loss: 0.0026\n",
            "Epoch: 001/003 | Batch 650/2245 | Loss: 0.0026\n",
            "Epoch: 001/003 | Batch 700/2245 | Loss: 0.0026\n",
            "Epoch: 001/003 | Batch 750/2245 | Loss: 0.0026\n",
            "Epoch: 001/003 | Batch 800/2245 | Loss: 0.0026\n",
            "Epoch: 001/003 | Batch 850/2245 | Loss: 0.0026\n",
            "Epoch: 001/003 | Batch 900/2245 | Loss: 0.0026\n",
            "Epoch: 001/003 | Batch 950/2245 | Loss: 0.0026\n",
            "Epoch: 001/003 | Batch 1000/2245 | Loss: 0.0026\n",
            "Epoch: 001/003 | Batch 1050/2245 | Loss: 0.0026\n",
            "Epoch: 001/003 | Batch 1100/2245 | Loss: 0.0026\n",
            "Epoch: 001/003 | Batch 1150/2245 | Loss: 0.0026\n",
            "Epoch: 001/003 | Batch 1200/2245 | Loss: 0.0026\n",
            "Epoch: 001/003 | Batch 1250/2245 | Loss: 0.0026\n",
            "Epoch: 001/003 | Batch 1300/2245 | Loss: 0.0026\n",
            "Epoch: 001/003 | Batch 1350/2245 | Loss: 0.0026\n",
            "Epoch: 001/003 | Batch 1400/2245 | Loss: 0.0026\n",
            "Epoch: 001/003 | Batch 1450/2245 | Loss: 0.0026\n",
            "Epoch: 001/003 | Batch 1500/2245 | Loss: 0.0026\n",
            "Epoch: 001/003 | Batch 1550/2245 | Loss: 0.0026\n",
            "Epoch: 001/003 | Batch 1600/2245 | Loss: 0.0026\n",
            "Epoch: 001/003 | Batch 1650/2245 | Loss: 0.0026\n",
            "Epoch: 001/003 | Batch 1700/2245 | Loss: 0.0026\n",
            "Epoch: 001/003 | Batch 1750/2245 | Loss: 0.0026\n",
            "Epoch: 001/003 | Batch 1800/2245 | Loss: 0.0026\n",
            "Epoch: 001/003 | Batch 1850/2245 | Loss: 0.0026\n",
            "Epoch: 001/003 | Batch 1900/2245 | Loss: 0.0026\n",
            "Epoch: 001/003 | Batch 1950/2245 | Loss: 0.0026\n",
            "Epoch: 001/003 | Batch 2000/2245 | Loss: 0.0026\n",
            "Epoch: 001/003 | Batch 2050/2245 | Loss: 0.0026\n",
            "Epoch: 001/003 | Batch 2100/2245 | Loss: 0.0026\n",
            "Epoch: 001/003 | Batch 2150/2245 | Loss: 0.0026\n",
            "Epoch: 001/003 | Batch 2200/2245 | Loss: 0.0026\n",
            "training accuracy: 90.04%\n",
            "valid accuracy: 88.75%\n",
            "Time elapsed: 1.82 min\n",
            "Epoch: 002/003 | Batch 000/2245 | Loss: 0.0026\n",
            "Epoch: 002/003 | Batch 050/2245 | Loss: 0.0026\n",
            "Epoch: 002/003 | Batch 100/2245 | Loss: 0.0026\n",
            "Epoch: 002/003 | Batch 150/2245 | Loss: 0.0026\n",
            "Epoch: 002/003 | Batch 200/2245 | Loss: 0.0026\n",
            "Epoch: 002/003 | Batch 250/2245 | Loss: 0.0026\n",
            "Epoch: 002/003 | Batch 300/2245 | Loss: 0.0026\n",
            "Epoch: 002/003 | Batch 350/2245 | Loss: 0.0026\n",
            "Epoch: 002/003 | Batch 400/2245 | Loss: 0.0026\n",
            "Epoch: 002/003 | Batch 450/2245 | Loss: 0.0026\n",
            "Epoch: 002/003 | Batch 500/2245 | Loss: 0.0026\n",
            "Epoch: 002/003 | Batch 550/2245 | Loss: 0.0026\n",
            "Epoch: 002/003 | Batch 600/2245 | Loss: 0.0026\n",
            "Epoch: 002/003 | Batch 650/2245 | Loss: 0.0026\n",
            "Epoch: 002/003 | Batch 700/2245 | Loss: 0.0026\n",
            "Epoch: 002/003 | Batch 750/2245 | Loss: 0.0026\n",
            "Epoch: 002/003 | Batch 800/2245 | Loss: 0.0026\n",
            "Epoch: 002/003 | Batch 850/2245 | Loss: 0.0026\n",
            "Epoch: 002/003 | Batch 900/2245 | Loss: 0.0026\n",
            "Epoch: 002/003 | Batch 950/2245 | Loss: 0.0026\n",
            "Epoch: 002/003 | Batch 1000/2245 | Loss: 0.0026\n",
            "Epoch: 002/003 | Batch 1050/2245 | Loss: 0.0026\n",
            "Epoch: 002/003 | Batch 1100/2245 | Loss: 0.0026\n",
            "Epoch: 002/003 | Batch 1150/2245 | Loss: 0.0026\n",
            "Epoch: 002/003 | Batch 1200/2245 | Loss: 0.0026\n",
            "Epoch: 002/003 | Batch 1250/2245 | Loss: 0.0026\n",
            "Epoch: 002/003 | Batch 1300/2245 | Loss: 0.0026\n",
            "Epoch: 002/003 | Batch 1350/2245 | Loss: 0.0026\n",
            "Epoch: 002/003 | Batch 1400/2245 | Loss: 0.0026\n",
            "Epoch: 002/003 | Batch 1450/2245 | Loss: 0.0026\n",
            "Epoch: 002/003 | Batch 1500/2245 | Loss: 0.0026\n",
            "Epoch: 002/003 | Batch 1550/2245 | Loss: 0.0026\n",
            "Epoch: 002/003 | Batch 1600/2245 | Loss: 0.0026\n",
            "Epoch: 002/003 | Batch 1650/2245 | Loss: 0.0026\n",
            "Epoch: 002/003 | Batch 1700/2245 | Loss: 0.0026\n",
            "Epoch: 002/003 | Batch 1750/2245 | Loss: 0.0026\n",
            "Epoch: 002/003 | Batch 1800/2245 | Loss: 0.0026\n",
            "Epoch: 002/003 | Batch 1850/2245 | Loss: 0.0026\n",
            "Epoch: 002/003 | Batch 1900/2245 | Loss: 0.0026\n",
            "Epoch: 002/003 | Batch 1950/2245 | Loss: 0.0026\n",
            "Epoch: 002/003 | Batch 2000/2245 | Loss: 0.0026\n",
            "Epoch: 002/003 | Batch 2050/2245 | Loss: 0.0026\n",
            "Epoch: 002/003 | Batch 2100/2245 | Loss: 0.0026\n",
            "Epoch: 002/003 | Batch 2150/2245 | Loss: 0.0026\n",
            "Epoch: 002/003 | Batch 2200/2245 | Loss: 0.0026\n",
            "training accuracy: 91.92%\n",
            "valid accuracy: 90.43%\n",
            "Time elapsed: 3.58 min\n",
            "Epoch: 003/003 | Batch 000/2245 | Loss: 0.0026\n",
            "Epoch: 003/003 | Batch 050/2245 | Loss: 0.0026\n",
            "Epoch: 003/003 | Batch 100/2245 | Loss: 0.0026\n",
            "Epoch: 003/003 | Batch 150/2245 | Loss: 0.0026\n",
            "Epoch: 003/003 | Batch 200/2245 | Loss: 0.0026\n",
            "Epoch: 003/003 | Batch 250/2245 | Loss: 0.0026\n",
            "Epoch: 003/003 | Batch 300/2245 | Loss: 0.0026\n",
            "Epoch: 003/003 | Batch 350/2245 | Loss: 0.0026\n",
            "Epoch: 003/003 | Batch 400/2245 | Loss: 0.0026\n",
            "Epoch: 003/003 | Batch 450/2245 | Loss: 0.0026\n",
            "Epoch: 003/003 | Batch 500/2245 | Loss: 0.0026\n",
            "Epoch: 003/003 | Batch 550/2245 | Loss: 0.0026\n",
            "Epoch: 003/003 | Batch 600/2245 | Loss: 0.0026\n",
            "Epoch: 003/003 | Batch 650/2245 | Loss: 0.0026\n",
            "Epoch: 003/003 | Batch 700/2245 | Loss: 0.0026\n",
            "Epoch: 003/003 | Batch 750/2245 | Loss: 0.0026\n",
            "Epoch: 003/003 | Batch 800/2245 | Loss: 0.0026\n",
            "Epoch: 003/003 | Batch 850/2245 | Loss: 0.0026\n",
            "Epoch: 003/003 | Batch 900/2245 | Loss: 0.0026\n",
            "Epoch: 003/003 | Batch 950/2245 | Loss: 0.0026\n",
            "Epoch: 003/003 | Batch 1000/2245 | Loss: 0.0026\n",
            "Epoch: 003/003 | Batch 1050/2245 | Loss: 0.0026\n",
            "Epoch: 003/003 | Batch 1100/2245 | Loss: 0.0026\n",
            "Epoch: 003/003 | Batch 1150/2245 | Loss: 0.0026\n",
            "Epoch: 003/003 | Batch 1200/2245 | Loss: 0.0026\n",
            "Epoch: 003/003 | Batch 1250/2245 | Loss: 0.0026\n",
            "Epoch: 003/003 | Batch 1300/2245 | Loss: 0.0026\n",
            "Epoch: 003/003 | Batch 1350/2245 | Loss: 0.0026\n",
            "Epoch: 003/003 | Batch 1400/2245 | Loss: 0.0026\n",
            "Epoch: 003/003 | Batch 1450/2245 | Loss: 0.0026\n",
            "Epoch: 003/003 | Batch 1500/2245 | Loss: 0.0026\n",
            "Epoch: 003/003 | Batch 1550/2245 | Loss: 0.0026\n",
            "Epoch: 003/003 | Batch 1600/2245 | Loss: 0.0026\n",
            "Epoch: 003/003 | Batch 1650/2245 | Loss: 0.0026\n",
            "Epoch: 003/003 | Batch 1700/2245 | Loss: 0.0026\n",
            "Epoch: 003/003 | Batch 1750/2245 | Loss: 0.0026\n",
            "Epoch: 003/003 | Batch 1800/2245 | Loss: 0.0026\n",
            "Epoch: 003/003 | Batch 1850/2245 | Loss: 0.0026\n",
            "Epoch: 003/003 | Batch 1900/2245 | Loss: 0.0026\n",
            "Epoch: 003/003 | Batch 1950/2245 | Loss: 0.0026\n",
            "Epoch: 003/003 | Batch 2000/2245 | Loss: 0.0026\n",
            "Epoch: 003/003 | Batch 2050/2245 | Loss: 0.0026\n",
            "Epoch: 003/003 | Batch 2100/2245 | Loss: 0.0026\n",
            "Epoch: 003/003 | Batch 2150/2245 | Loss: 0.0026\n",
            "Epoch: 003/003 | Batch 2200/2245 | Loss: 0.0026\n",
            "training accuracy: 92.48%\n",
            "valid accuracy: 90.61%\n",
            "Time elapsed: 5.35 min\n",
            "Total Training Time: 5.35 min\n",
            "Test accuracy: 90.70%\n"
          ]
        }
      ]
    },
    {
      "cell_type": "markdown",
      "source": [
        "## 2c) We can see that the model without fully connected layer trains very fast but the accuracy is very low.\n",
        "\n",
        "## This could be attributed to the fact that since we dont have a fully connected layer there are far lesser attributes so the training was fast however since there were fewer parameters, the accuracy was also low comparitively."
      ],
      "metadata": {
        "id": "ScgElB1bFHPk"
      }
    },
    {
      "cell_type": "code",
      "source": [],
      "metadata": {
        "id": "LyGCosZgD145"
      },
      "execution_count": null,
      "outputs": []
    }
  ],
  "metadata": {
    "colab": {
      "provenance": []
    },
    "kernelspec": {
      "display_name": "Python 3",
      "language": "python",
      "name": "python3"
    },
    "language_info": {
      "codemirror_mode": {
        "name": "ipython",
        "version": 3
      },
      "file_extension": ".py",
      "mimetype": "text/x-python",
      "name": "python",
      "nbconvert_exporter": "python",
      "pygments_lexer": "ipython3",
      "version": "3.8.8"
    }
  },
  "nbformat": 4,
  "nbformat_minor": 0
}