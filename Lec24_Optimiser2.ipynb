{
  "nbformat": 4,
  "nbformat_minor": 0,
  "metadata": {
    "colab": {
      "provenance": []
    },
    "kernelspec": {
      "name": "python3",
      "display_name": "Python 3"
    },
    "language_info": {
      "name": "python"
    },
    "accelerator": "GPU",
    "widgets": {
      "application/vnd.jupyter.widget-state+json": {
        "5ae30c85376d40c08814e72ab60a08ae": {
          "model_module": "@jupyter-widgets/controls",
          "model_name": "HBoxModel",
          "model_module_version": "1.5.0",
          "state": {
            "_dom_classes": [],
            "_model_module": "@jupyter-widgets/controls",
            "_model_module_version": "1.5.0",
            "_model_name": "HBoxModel",
            "_view_count": null,
            "_view_module": "@jupyter-widgets/controls",
            "_view_module_version": "1.5.0",
            "_view_name": "HBoxView",
            "box_style": "",
            "children": [
              "IPY_MODEL_9e6d610b2345494c89810eb812058335",
              "IPY_MODEL_abadd2152184497f97d7d7080a18aba0",
              "IPY_MODEL_b020398a793046eb8e0f2ac05f73ff4d"
            ],
            "layout": "IPY_MODEL_ffd0781fc7d54639b59154dea76eb9b8"
          }
        },
        "9e6d610b2345494c89810eb812058335": {
          "model_module": "@jupyter-widgets/controls",
          "model_name": "HTMLModel",
          "model_module_version": "1.5.0",
          "state": {
            "_dom_classes": [],
            "_model_module": "@jupyter-widgets/controls",
            "_model_module_version": "1.5.0",
            "_model_name": "HTMLModel",
            "_view_count": null,
            "_view_module": "@jupyter-widgets/controls",
            "_view_module_version": "1.5.0",
            "_view_name": "HTMLView",
            "description": "",
            "description_tooltip": null,
            "layout": "IPY_MODEL_bde08e7055c941448e7b2500b309dba7",
            "placeholder": "​",
            "style": "IPY_MODEL_6eab708b9f07457a812cd33d7b315cd4",
            "value": "100%"
          }
        },
        "abadd2152184497f97d7d7080a18aba0": {
          "model_module": "@jupyter-widgets/controls",
          "model_name": "FloatProgressModel",
          "model_module_version": "1.5.0",
          "state": {
            "_dom_classes": [],
            "_model_module": "@jupyter-widgets/controls",
            "_model_module_version": "1.5.0",
            "_model_name": "FloatProgressModel",
            "_view_count": null,
            "_view_module": "@jupyter-widgets/controls",
            "_view_module_version": "1.5.0",
            "_view_name": "ProgressView",
            "bar_style": "success",
            "description": "",
            "description_tooltip": null,
            "layout": "IPY_MODEL_70355e9bb8704b0dabcc38e39fd59717",
            "max": 170498071,
            "min": 0,
            "orientation": "horizontal",
            "style": "IPY_MODEL_c62f4d00762e44db866abb9ef0ccaafa",
            "value": 170498071
          }
        },
        "b020398a793046eb8e0f2ac05f73ff4d": {
          "model_module": "@jupyter-widgets/controls",
          "model_name": "HTMLModel",
          "model_module_version": "1.5.0",
          "state": {
            "_dom_classes": [],
            "_model_module": "@jupyter-widgets/controls",
            "_model_module_version": "1.5.0",
            "_model_name": "HTMLModel",
            "_view_count": null,
            "_view_module": "@jupyter-widgets/controls",
            "_view_module_version": "1.5.0",
            "_view_name": "HTMLView",
            "description": "",
            "description_tooltip": null,
            "layout": "IPY_MODEL_049262f21aa2472f88696dd949c5d291",
            "placeholder": "​",
            "style": "IPY_MODEL_dcbd805ac83c42f4a9579dedefa09585",
            "value": " 170498071/170498071 [00:02&lt;00:00, 79932979.67it/s]"
          }
        },
        "ffd0781fc7d54639b59154dea76eb9b8": {
          "model_module": "@jupyter-widgets/base",
          "model_name": "LayoutModel",
          "model_module_version": "1.2.0",
          "state": {
            "_model_module": "@jupyter-widgets/base",
            "_model_module_version": "1.2.0",
            "_model_name": "LayoutModel",
            "_view_count": null,
            "_view_module": "@jupyter-widgets/base",
            "_view_module_version": "1.2.0",
            "_view_name": "LayoutView",
            "align_content": null,
            "align_items": null,
            "align_self": null,
            "border": null,
            "bottom": null,
            "display": null,
            "flex": null,
            "flex_flow": null,
            "grid_area": null,
            "grid_auto_columns": null,
            "grid_auto_flow": null,
            "grid_auto_rows": null,
            "grid_column": null,
            "grid_gap": null,
            "grid_row": null,
            "grid_template_areas": null,
            "grid_template_columns": null,
            "grid_template_rows": null,
            "height": null,
            "justify_content": null,
            "justify_items": null,
            "left": null,
            "margin": null,
            "max_height": null,
            "max_width": null,
            "min_height": null,
            "min_width": null,
            "object_fit": null,
            "object_position": null,
            "order": null,
            "overflow": null,
            "overflow_x": null,
            "overflow_y": null,
            "padding": null,
            "right": null,
            "top": null,
            "visibility": null,
            "width": null
          }
        },
        "bde08e7055c941448e7b2500b309dba7": {
          "model_module": "@jupyter-widgets/base",
          "model_name": "LayoutModel",
          "model_module_version": "1.2.0",
          "state": {
            "_model_module": "@jupyter-widgets/base",
            "_model_module_version": "1.2.0",
            "_model_name": "LayoutModel",
            "_view_count": null,
            "_view_module": "@jupyter-widgets/base",
            "_view_module_version": "1.2.0",
            "_view_name": "LayoutView",
            "align_content": null,
            "align_items": null,
            "align_self": null,
            "border": null,
            "bottom": null,
            "display": null,
            "flex": null,
            "flex_flow": null,
            "grid_area": null,
            "grid_auto_columns": null,
            "grid_auto_flow": null,
            "grid_auto_rows": null,
            "grid_column": null,
            "grid_gap": null,
            "grid_row": null,
            "grid_template_areas": null,
            "grid_template_columns": null,
            "grid_template_rows": null,
            "height": null,
            "justify_content": null,
            "justify_items": null,
            "left": null,
            "margin": null,
            "max_height": null,
            "max_width": null,
            "min_height": null,
            "min_width": null,
            "object_fit": null,
            "object_position": null,
            "order": null,
            "overflow": null,
            "overflow_x": null,
            "overflow_y": null,
            "padding": null,
            "right": null,
            "top": null,
            "visibility": null,
            "width": null
          }
        },
        "6eab708b9f07457a812cd33d7b315cd4": {
          "model_module": "@jupyter-widgets/controls",
          "model_name": "DescriptionStyleModel",
          "model_module_version": "1.5.0",
          "state": {
            "_model_module": "@jupyter-widgets/controls",
            "_model_module_version": "1.5.0",
            "_model_name": "DescriptionStyleModel",
            "_view_count": null,
            "_view_module": "@jupyter-widgets/base",
            "_view_module_version": "1.2.0",
            "_view_name": "StyleView",
            "description_width": ""
          }
        },
        "70355e9bb8704b0dabcc38e39fd59717": {
          "model_module": "@jupyter-widgets/base",
          "model_name": "LayoutModel",
          "model_module_version": "1.2.0",
          "state": {
            "_model_module": "@jupyter-widgets/base",
            "_model_module_version": "1.2.0",
            "_model_name": "LayoutModel",
            "_view_count": null,
            "_view_module": "@jupyter-widgets/base",
            "_view_module_version": "1.2.0",
            "_view_name": "LayoutView",
            "align_content": null,
            "align_items": null,
            "align_self": null,
            "border": null,
            "bottom": null,
            "display": null,
            "flex": null,
            "flex_flow": null,
            "grid_area": null,
            "grid_auto_columns": null,
            "grid_auto_flow": null,
            "grid_auto_rows": null,
            "grid_column": null,
            "grid_gap": null,
            "grid_row": null,
            "grid_template_areas": null,
            "grid_template_columns": null,
            "grid_template_rows": null,
            "height": null,
            "justify_content": null,
            "justify_items": null,
            "left": null,
            "margin": null,
            "max_height": null,
            "max_width": null,
            "min_height": null,
            "min_width": null,
            "object_fit": null,
            "object_position": null,
            "order": null,
            "overflow": null,
            "overflow_x": null,
            "overflow_y": null,
            "padding": null,
            "right": null,
            "top": null,
            "visibility": null,
            "width": null
          }
        },
        "c62f4d00762e44db866abb9ef0ccaafa": {
          "model_module": "@jupyter-widgets/controls",
          "model_name": "ProgressStyleModel",
          "model_module_version": "1.5.0",
          "state": {
            "_model_module": "@jupyter-widgets/controls",
            "_model_module_version": "1.5.0",
            "_model_name": "ProgressStyleModel",
            "_view_count": null,
            "_view_module": "@jupyter-widgets/base",
            "_view_module_version": "1.2.0",
            "_view_name": "StyleView",
            "bar_color": null,
            "description_width": ""
          }
        },
        "049262f21aa2472f88696dd949c5d291": {
          "model_module": "@jupyter-widgets/base",
          "model_name": "LayoutModel",
          "model_module_version": "1.2.0",
          "state": {
            "_model_module": "@jupyter-widgets/base",
            "_model_module_version": "1.2.0",
            "_model_name": "LayoutModel",
            "_view_count": null,
            "_view_module": "@jupyter-widgets/base",
            "_view_module_version": "1.2.0",
            "_view_name": "LayoutView",
            "align_content": null,
            "align_items": null,
            "align_self": null,
            "border": null,
            "bottom": null,
            "display": null,
            "flex": null,
            "flex_flow": null,
            "grid_area": null,
            "grid_auto_columns": null,
            "grid_auto_flow": null,
            "grid_auto_rows": null,
            "grid_column": null,
            "grid_gap": null,
            "grid_row": null,
            "grid_template_areas": null,
            "grid_template_columns": null,
            "grid_template_rows": null,
            "height": null,
            "justify_content": null,
            "justify_items": null,
            "left": null,
            "margin": null,
            "max_height": null,
            "max_width": null,
            "min_height": null,
            "min_width": null,
            "object_fit": null,
            "object_position": null,
            "order": null,
            "overflow": null,
            "overflow_x": null,
            "overflow_y": null,
            "padding": null,
            "right": null,
            "top": null,
            "visibility": null,
            "width": null
          }
        },
        "dcbd805ac83c42f4a9579dedefa09585": {
          "model_module": "@jupyter-widgets/controls",
          "model_name": "DescriptionStyleModel",
          "model_module_version": "1.5.0",
          "state": {
            "_model_module": "@jupyter-widgets/controls",
            "_model_module_version": "1.5.0",
            "_model_name": "DescriptionStyleModel",
            "_view_count": null,
            "_view_module": "@jupyter-widgets/base",
            "_view_module_version": "1.2.0",
            "_view_name": "StyleView",
            "description_width": ""
          }
        }
      }
    }
  },
  "cells": [
    {
      "cell_type": "markdown",
      "source": [
        "## 6 Optimiser 2"
      ],
      "metadata": {
        "id": "mcbDqsvD68qR"
      }
    },
    {
      "cell_type": "code",
      "execution_count": null,
      "metadata": {
        "id": "NtIVE90em7Hu"
      },
      "outputs": [],
      "source": [
        "import torch\n",
        "import torchvision\n",
        "import numpy as np\n",
        "import matplotlib.pyplot as plt\n",
        "import PIL\n",
        "from torchsummary import summary"
      ]
    },
    {
      "cell_type": "code",
      "source": [
        "# From local helper files\n",
        "from helper_evaluation import set_all_seeds, set_deterministic, compute_confusion_matrix\n",
        "from helper_train import train_model\n",
        "from helper_plotting import plot_training_loss, plot_accuracy, show_examples, plot_confusion_matrix\n",
        "from helper_dataset import get_dataloaders_cifar10, UnNormalize"
      ],
      "metadata": {
        "id": "jfqskrJpqMic"
      },
      "execution_count": null,
      "outputs": []
    },
    {
      "cell_type": "code",
      "source": [
        "RANDOM_SEED = 123\n",
        "BATCH_SIZE = 256\n",
        "NUM_EPOCHS = 40\n",
        "DEVICE = torch.device('cuda:0' if torch.cuda.is_available() else 'cpu')"
      ],
      "metadata": {
        "id": "_OonNqlnqnrN"
      },
      "execution_count": null,
      "outputs": []
    },
    {
      "cell_type": "code",
      "source": [
        "train_transforms = torchvision.transforms.Compose([\n",
        "    torchvision.transforms.Resize((16, 16)),\n",
        "    torchvision.transforms.ToTensor(),\n",
        "    torchvision.transforms.Normalize((0.5, 0.5, 0.5), (0.5, 0.5, 0.5))\n",
        "                                      ])\n",
        "\n",
        "\n",
        "test_transforms = torchvision.transforms.Compose([\n",
        "    torchvision.transforms.Resize((16, 16)),\n",
        "    torchvision.transforms.ToTensor(),\n",
        "    torchvision.transforms.Normalize((0.5, 0.5, 0.5), (0.5, 0.5, 0.5))])\n",
        "\n",
        "\n",
        "train_loader, valid_loader, test_loader = get_dataloaders_cifar10(\n",
        "    batch_size=BATCH_SIZE,\n",
        "    validation_fraction=0.1,\n",
        "    train_transforms=train_transforms,\n",
        "    test_transforms=test_transforms,\n",
        "    num_workers=2)\n",
        "\n",
        "# Checking the dataset\n",
        "for images, labels in train_loader:\n",
        "    print('Image batch dimensions:', images.shape)\n",
        "    print('Image label dimensions:', labels.shape)\n",
        "    print('Class labels of 10 examples:', labels[:10])\n",
        "    break"
      ],
      "metadata": {
        "colab": {
          "base_uri": "https://localhost:8080/",
          "height": 136,
          "referenced_widgets": [
            "5ae30c85376d40c08814e72ab60a08ae",
            "9e6d610b2345494c89810eb812058335",
            "abadd2152184497f97d7d7080a18aba0",
            "b020398a793046eb8e0f2ac05f73ff4d",
            "ffd0781fc7d54639b59154dea76eb9b8",
            "bde08e7055c941448e7b2500b309dba7",
            "6eab708b9f07457a812cd33d7b315cd4",
            "70355e9bb8704b0dabcc38e39fd59717",
            "c62f4d00762e44db866abb9ef0ccaafa",
            "049262f21aa2472f88696dd949c5d291",
            "dcbd805ac83c42f4a9579dedefa09585"
          ]
        },
        "id": "71AJ5PFwqpbW",
        "outputId": "10ffa086-504d-4b65-9e58-223eed7dc843"
      },
      "execution_count": null,
      "outputs": [
        {
          "output_type": "stream",
          "name": "stdout",
          "text": [
            "Downloading https://www.cs.toronto.edu/~kriz/cifar-10-python.tar.gz to data/cifar-10-python.tar.gz\n"
          ]
        },
        {
          "output_type": "display_data",
          "data": {
            "text/plain": [
              "  0%|          | 0/170498071 [00:00<?, ?it/s]"
            ],
            "application/vnd.jupyter.widget-view+json": {
              "version_major": 2,
              "version_minor": 0,
              "model_id": "5ae30c85376d40c08814e72ab60a08ae"
            }
          },
          "metadata": {}
        },
        {
          "output_type": "stream",
          "name": "stdout",
          "text": [
            "Extracting data/cifar-10-python.tar.gz to data\n",
            "Image batch dimensions: torch.Size([256, 3, 16, 16])\n",
            "Image label dimensions: torch.Size([256])\n",
            "Class labels of 10 examples: tensor([4, 6, 3, 7, 9, 4, 8, 3, 7, 7])\n"
          ]
        }
      ]
    },
    {
      "cell_type": "code",
      "source": [
        "class CNN2Adam(torch.nn.Module):\n",
        "  def __init__(self, num_classes):\n",
        "    super().__init__()\n",
        "    self.features = torch.nn.Sequential(\n",
        "            # Conv 1\n",
        "            torch.nn.Conv2d(3, 16, kernel_size=3, padding=\"same\"), # output 16 - 3 + 1 => 16\n",
        "                            # , stride=4, padding=2),\n",
        "            torch.nn.ReLU(inplace=True),\n",
        "            torch.nn.MaxPool2d(kernel_size=2), # 16 / 2 => output 8\n",
        "\n",
        "            # Conv 2\n",
        "            torch.nn.Conv2d(16, 32, kernel_size=2, padding=\"same\"), # output 7 - 2 + 1 => 8\n",
        "                            # , padding=2),\n",
        "            torch.nn.ReLU(inplace=True),\n",
        "            torch.nn.MaxPool2d(kernel_size=2), #output 8 / 2 => output 4\n",
        "\n",
        "            # Conv 3\n",
        "            torch.nn.Conv2d(32, 64, kernel_size=2, padding=\"same\"), # output 7 - 2 + 1 => 4\n",
        "                            # , padding=2),\n",
        "            torch.nn.ReLU(inplace=True),\n",
        "            torch.nn.MaxPool2d(kernel_size=2) #output 4 / 2 => output 2\n",
        "\n",
        "    )\n",
        "\n",
        "    self.classifier = torch.nn.Sequential(\n",
        "         torch.nn.Linear(64*2*2, 100),\n",
        "          torch.nn.ReLU(inplace=True),\n",
        "          torch.nn.Linear(100, num_classes),\n",
        "    )\n",
        "\n",
        "  def forward(self, x):\n",
        "    x = self.features(x)\n",
        "    x = torch.flatten(x, 1)\n",
        "    # print(x.size())\n",
        "    logits = self.classifier(x)\n",
        "    return logits"
      ],
      "metadata": {
        "id": "mY5DYl6Kqq6V"
      },
      "execution_count": null,
      "outputs": []
    },
    {
      "cell_type": "code",
      "source": [
        "model2_adam = CNN2Adam(num_classes=10)"
      ],
      "metadata": {
        "id": "8SsJQkf0qx58"
      },
      "execution_count": null,
      "outputs": []
    },
    {
      "cell_type": "code",
      "source": [
        "model2_adam = model2_adam.to(DEVICE)"
      ],
      "metadata": {
        "id": "Bm7yGyKrqzaE"
      },
      "execution_count": null,
      "outputs": []
    },
    {
      "cell_type": "code",
      "source": [
        "print(summary(model2_adam, (3, 16, 16)))"
      ],
      "metadata": {
        "colab": {
          "base_uri": "https://localhost:8080/"
        },
        "id": "yt29ZmKvJLy-",
        "outputId": "04755fdc-4687-4763-e8fe-7e1949d5199b"
      },
      "execution_count": null,
      "outputs": [
        {
          "output_type": "stream",
          "name": "stdout",
          "text": [
            "----------------------------------------------------------------\n",
            "        Layer (type)               Output Shape         Param #\n",
            "================================================================\n",
            "            Conv2d-1           [-1, 16, 16, 16]             448\n",
            "              ReLU-2           [-1, 16, 16, 16]               0\n",
            "         MaxPool2d-3             [-1, 16, 8, 8]               0\n",
            "            Conv2d-4             [-1, 32, 8, 8]           2,080\n",
            "              ReLU-5             [-1, 32, 8, 8]               0\n",
            "         MaxPool2d-6             [-1, 32, 4, 4]               0\n",
            "            Conv2d-7             [-1, 64, 4, 4]           8,256\n",
            "              ReLU-8             [-1, 64, 4, 4]               0\n",
            "         MaxPool2d-9             [-1, 64, 2, 2]               0\n",
            "           Linear-10                  [-1, 100]          25,700\n",
            "             ReLU-11                  [-1, 100]               0\n",
            "           Linear-12                   [-1, 10]           1,010\n",
            "================================================================\n",
            "Total params: 37,494\n",
            "Trainable params: 37,494\n",
            "Non-trainable params: 0\n",
            "----------------------------------------------------------------\n",
            "Input size (MB): 0.00\n",
            "Forward/backward pass size (MB): 0.12\n",
            "Params size (MB): 0.14\n",
            "Estimated Total Size (MB): 0.27\n",
            "----------------------------------------------------------------\n",
            "None\n"
          ]
        },
        {
          "output_type": "stream",
          "name": "stderr",
          "text": [
            "/usr/local/lib/python3.7/dist-packages/torch/nn/modules/conv.py:454: UserWarning: Using padding='same' with even kernel lengths and odd dilation may require a zero-padded copy of the input be created (Triggered internally at  ../aten/src/ATen/native/Convolution.cpp:882.)\n",
            "  self.padding, self.dilation, self.groups)\n"
          ]
        }
      ]
    },
    {
      "cell_type": "code",
      "source": [
        "optimizer_adam = torch.optim.Adam(model2_adam.parameters())\n",
        "scheduler_adam = torch.optim.lr_scheduler.ReduceLROnPlateau(optimizer_adam,\n",
        "                                                       factor=0.1,\n",
        "                                                       mode='max',\n",
        "                                                       verbose=True)\n"
      ],
      "metadata": {
        "id": "wwb1yW5Eq035"
      },
      "execution_count": null,
      "outputs": []
    },
    {
      "cell_type": "code",
      "source": [
        "minibatch_loss_list_adam, train_acc_list_adam, valid_acc_list_adam = train_model(\n",
        "    model=model2_adam,\n",
        "    num_epochs=NUM_EPOCHS,\n",
        "    train_loader=train_loader,\n",
        "    valid_loader=valid_loader,\n",
        "    test_loader=test_loader,\n",
        "    optimizer=optimizer_adam,\n",
        "    device=DEVICE,\n",
        "    scheduler=None,\n",
        "    scheduler_on='valid_acc',\n",
        "    logging_interval=100)"
      ],
      "metadata": {
        "colab": {
          "base_uri": "https://localhost:8080/"
        },
        "id": "MII46irdq3Qu",
        "outputId": "715f24ea-7a71-4adc-f72a-92d59626c6d9"
      },
      "execution_count": null,
      "outputs": [
        {
          "output_type": "stream",
          "name": "stderr",
          "text": [
            "/usr/local/lib/python3.7/dist-packages/torch/nn/modules/conv.py:454: UserWarning: Using padding='same' with even kernel lengths and odd dilation may require a zero-padded copy of the input be created (Triggered internally at  ../aten/src/ATen/native/Convolution.cpp:882.)\n",
            "  self.padding, self.dilation, self.groups)\n"
          ]
        },
        {
          "output_type": "stream",
          "name": "stdout",
          "text": [
            "Epoch: 001/040 | Batch 0000/0175 | Loss: 2.3057\n",
            "Epoch: 001/040 | Batch 0100/0175 | Loss: 1.7662\n",
            "Epoch: 001/040 | Train: 38.27% | Validation: 38.68%\n",
            "Time elapsed: 1.17 min\n",
            "Epoch: 002/040 | Batch 0000/0175 | Loss: 1.7116\n",
            "Epoch: 002/040 | Batch 0100/0175 | Loss: 1.5591\n",
            "Epoch: 002/040 | Train: 43.92% | Validation: 42.92%\n",
            "Time elapsed: 2.23 min\n",
            "Epoch: 003/040 | Batch 0000/0175 | Loss: 1.4947\n",
            "Epoch: 003/040 | Batch 0100/0175 | Loss: 1.4455\n",
            "Epoch: 003/040 | Train: 45.48% | Validation: 45.42%\n",
            "Time elapsed: 3.28 min\n",
            "Epoch: 004/040 | Batch 0000/0175 | Loss: 1.6156\n",
            "Epoch: 004/040 | Batch 0100/0175 | Loss: 1.4471\n",
            "Epoch: 004/040 | Train: 48.64% | Validation: 48.46%\n",
            "Time elapsed: 4.30 min\n",
            "Epoch: 005/040 | Batch 0000/0175 | Loss: 1.4368\n",
            "Epoch: 005/040 | Batch 0100/0175 | Loss: 1.3712\n",
            "Epoch: 005/040 | Train: 50.56% | Validation: 50.04%\n",
            "Time elapsed: 5.35 min\n",
            "Epoch: 006/040 | Batch 0000/0175 | Loss: 1.2850\n",
            "Epoch: 006/040 | Batch 0100/0175 | Loss: 1.3460\n",
            "Epoch: 006/040 | Train: 52.93% | Validation: 52.46%\n",
            "Time elapsed: 6.38 min\n",
            "Epoch: 007/040 | Batch 0000/0175 | Loss: 1.3215\n",
            "Epoch: 007/040 | Batch 0100/0175 | Loss: 1.1535\n",
            "Epoch: 007/040 | Train: 53.31% | Validation: 52.44%\n",
            "Time elapsed: 7.41 min\n",
            "Epoch: 008/040 | Batch 0000/0175 | Loss: 1.2415\n",
            "Epoch: 008/040 | Batch 0100/0175 | Loss: 1.2473\n",
            "Epoch: 008/040 | Train: 54.91% | Validation: 54.54%\n",
            "Time elapsed: 8.44 min\n",
            "Epoch: 009/040 | Batch 0000/0175 | Loss: 1.3147\n",
            "Epoch: 009/040 | Batch 0100/0175 | Loss: 1.2877\n",
            "Epoch: 009/040 | Train: 56.85% | Validation: 56.10%\n",
            "Time elapsed: 9.47 min\n",
            "Epoch: 010/040 | Batch 0000/0175 | Loss: 1.2395\n",
            "Epoch: 010/040 | Batch 0100/0175 | Loss: 1.2083\n",
            "Epoch: 010/040 | Train: 57.73% | Validation: 56.72%\n",
            "Time elapsed: 10.52 min\n",
            "Epoch: 011/040 | Batch 0000/0175 | Loss: 1.1089\n",
            "Epoch: 011/040 | Batch 0100/0175 | Loss: 1.2035\n",
            "Epoch: 011/040 | Train: 58.67% | Validation: 56.78%\n",
            "Time elapsed: 11.55 min\n",
            "Epoch: 012/040 | Batch 0000/0175 | Loss: 1.2576\n",
            "Epoch: 012/040 | Batch 0100/0175 | Loss: 1.1876\n",
            "Epoch: 012/040 | Train: 59.66% | Validation: 57.80%\n",
            "Time elapsed: 12.57 min\n",
            "Epoch: 013/040 | Batch 0000/0175 | Loss: 1.1488\n",
            "Epoch: 013/040 | Batch 0100/0175 | Loss: 1.1110\n",
            "Epoch: 013/040 | Train: 60.71% | Validation: 57.92%\n",
            "Time elapsed: 13.62 min\n",
            "Epoch: 014/040 | Batch 0000/0175 | Loss: 1.1341\n",
            "Epoch: 014/040 | Batch 0100/0175 | Loss: 1.1100\n",
            "Epoch: 014/040 | Train: 61.07% | Validation: 58.54%\n",
            "Time elapsed: 14.64 min\n",
            "Epoch: 015/040 | Batch 0000/0175 | Loss: 1.0540\n",
            "Epoch: 015/040 | Batch 0100/0175 | Loss: 1.0644\n",
            "Epoch: 015/040 | Train: 61.04% | Validation: 58.42%\n",
            "Time elapsed: 15.66 min\n",
            "Epoch: 016/040 | Batch 0000/0175 | Loss: 1.0136\n",
            "Epoch: 016/040 | Batch 0100/0175 | Loss: 1.0081\n",
            "Epoch: 016/040 | Train: 62.27% | Validation: 59.50%\n",
            "Time elapsed: 16.68 min\n",
            "Epoch: 017/040 | Batch 0000/0175 | Loss: 0.9392\n",
            "Epoch: 017/040 | Batch 0100/0175 | Loss: 0.9029\n",
            "Epoch: 017/040 | Train: 62.46% | Validation: 59.54%\n",
            "Time elapsed: 17.70 min\n",
            "Epoch: 018/040 | Batch 0000/0175 | Loss: 0.9690\n",
            "Epoch: 018/040 | Batch 0100/0175 | Loss: 1.0765\n",
            "Epoch: 018/040 | Train: 63.15% | Validation: 59.86%\n",
            "Time elapsed: 18.72 min\n",
            "Epoch: 019/040 | Batch 0000/0175 | Loss: 0.9893\n",
            "Epoch: 019/040 | Batch 0100/0175 | Loss: 1.0287\n",
            "Epoch: 019/040 | Train: 63.46% | Validation: 60.62%\n",
            "Time elapsed: 19.73 min\n",
            "Epoch: 020/040 | Batch 0000/0175 | Loss: 1.1409\n",
            "Epoch: 020/040 | Batch 0100/0175 | Loss: 1.0796\n",
            "Epoch: 020/040 | Train: 63.33% | Validation: 59.76%\n",
            "Time elapsed: 20.73 min\n",
            "Epoch: 021/040 | Batch 0000/0175 | Loss: 0.9916\n",
            "Epoch: 021/040 | Batch 0100/0175 | Loss: 0.9980\n",
            "Epoch: 021/040 | Train: 64.65% | Validation: 60.50%\n",
            "Time elapsed: 21.75 min\n",
            "Epoch: 022/040 | Batch 0000/0175 | Loss: 0.9669\n",
            "Epoch: 022/040 | Batch 0100/0175 | Loss: 0.9575\n",
            "Epoch: 022/040 | Train: 65.75% | Validation: 61.46%\n",
            "Time elapsed: 22.76 min\n",
            "Epoch: 023/040 | Batch 0000/0175 | Loss: 0.9513\n",
            "Epoch: 023/040 | Batch 0100/0175 | Loss: 1.0102\n",
            "Epoch: 023/040 | Train: 65.08% | Validation: 60.92%\n",
            "Time elapsed: 23.74 min\n",
            "Epoch: 024/040 | Batch 0000/0175 | Loss: 0.9420\n",
            "Epoch: 024/040 | Batch 0100/0175 | Loss: 0.9552\n",
            "Epoch: 024/040 | Train: 65.74% | Validation: 61.38%\n",
            "Time elapsed: 24.76 min\n",
            "Epoch: 025/040 | Batch 0000/0175 | Loss: 0.8935\n",
            "Epoch: 025/040 | Batch 0100/0175 | Loss: 0.8768\n",
            "Epoch: 025/040 | Train: 66.46% | Validation: 61.78%\n",
            "Time elapsed: 25.77 min\n",
            "Epoch: 026/040 | Batch 0000/0175 | Loss: 0.9343\n",
            "Epoch: 026/040 | Batch 0100/0175 | Loss: 0.9819\n",
            "Epoch: 026/040 | Train: 66.15% | Validation: 60.58%\n",
            "Time elapsed: 26.79 min\n",
            "Epoch: 027/040 | Batch 0000/0175 | Loss: 0.9336\n",
            "Epoch: 027/040 | Batch 0100/0175 | Loss: 1.0156\n",
            "Epoch: 027/040 | Train: 67.89% | Validation: 61.94%\n",
            "Time elapsed: 27.79 min\n",
            "Epoch: 028/040 | Batch 0000/0175 | Loss: 0.9267\n",
            "Epoch: 028/040 | Batch 0100/0175 | Loss: 0.9875\n",
            "Epoch: 028/040 | Train: 67.31% | Validation: 62.24%\n",
            "Time elapsed: 28.98 min\n",
            "Epoch: 029/040 | Batch 0000/0175 | Loss: 0.9236\n",
            "Epoch: 029/040 | Batch 0100/0175 | Loss: 0.9655\n",
            "Epoch: 029/040 | Train: 67.82% | Validation: 61.86%\n",
            "Time elapsed: 30.07 min\n",
            "Epoch: 030/040 | Batch 0000/0175 | Loss: 0.9106\n",
            "Epoch: 030/040 | Batch 0100/0175 | Loss: 0.9130\n",
            "Epoch: 030/040 | Train: 68.85% | Validation: 62.72%\n",
            "Time elapsed: 31.11 min\n",
            "Epoch: 031/040 | Batch 0000/0175 | Loss: 0.9886\n",
            "Epoch: 031/040 | Batch 0100/0175 | Loss: 0.9952\n",
            "Epoch: 031/040 | Train: 68.98% | Validation: 62.84%\n",
            "Time elapsed: 32.14 min\n",
            "Epoch: 032/040 | Batch 0000/0175 | Loss: 0.8609\n",
            "Epoch: 032/040 | Batch 0100/0175 | Loss: 0.9339\n",
            "Epoch: 032/040 | Train: 68.29% | Validation: 61.86%\n",
            "Time elapsed: 33.17 min\n",
            "Epoch: 033/040 | Batch 0000/0175 | Loss: 0.9459\n",
            "Epoch: 033/040 | Batch 0100/0175 | Loss: 0.8465\n",
            "Epoch: 033/040 | Train: 69.64% | Validation: 63.68%\n",
            "Time elapsed: 34.20 min\n",
            "Epoch: 034/040 | Batch 0000/0175 | Loss: 0.8532\n",
            "Epoch: 034/040 | Batch 0100/0175 | Loss: 0.9193\n",
            "Epoch: 034/040 | Train: 69.27% | Validation: 63.12%\n",
            "Time elapsed: 35.22 min\n",
            "Epoch: 035/040 | Batch 0000/0175 | Loss: 0.6741\n",
            "Epoch: 035/040 | Batch 0100/0175 | Loss: 0.9101\n",
            "Epoch: 035/040 | Train: 69.07% | Validation: 62.46%\n",
            "Time elapsed: 36.25 min\n",
            "Epoch: 036/040 | Batch 0000/0175 | Loss: 0.8680\n",
            "Epoch: 036/040 | Batch 0100/0175 | Loss: 0.8253\n",
            "Epoch: 036/040 | Train: 70.06% | Validation: 63.30%\n",
            "Time elapsed: 37.27 min\n",
            "Epoch: 037/040 | Batch 0000/0175 | Loss: 0.8198\n",
            "Epoch: 037/040 | Batch 0100/0175 | Loss: 0.8923\n",
            "Epoch: 037/040 | Train: 70.75% | Validation: 63.64%\n",
            "Time elapsed: 38.31 min\n",
            "Epoch: 038/040 | Batch 0000/0175 | Loss: 0.8701\n",
            "Epoch: 038/040 | Batch 0100/0175 | Loss: 0.8850\n",
            "Epoch: 038/040 | Train: 71.23% | Validation: 64.48%\n",
            "Time elapsed: 39.34 min\n",
            "Epoch: 039/040 | Batch 0000/0175 | Loss: 0.7956\n",
            "Epoch: 039/040 | Batch 0100/0175 | Loss: 0.8465\n",
            "Epoch: 039/040 | Train: 70.75% | Validation: 63.62%\n",
            "Time elapsed: 40.38 min\n",
            "Epoch: 040/040 | Batch 0000/0175 | Loss: 0.9106\n",
            "Epoch: 040/040 | Batch 0100/0175 | Loss: 0.7520\n",
            "Epoch: 040/040 | Train: 70.47% | Validation: 63.26%\n",
            "Time elapsed: 41.40 min\n",
            "Total Training Time: 41.40 min\n",
            "Test accuracy 61.75%\n"
          ]
        }
      ]
    },
    {
      "cell_type": "code",
      "source": [
        "plot_training_loss(minibatch_loss_list=minibatch_loss_list_adam,\n",
        "                   num_epochs=NUM_EPOCHS,\n",
        "                   iter_per_epoch=len(train_loader),\n",
        "                   results_dir=None,\n",
        "                   averaging_iterations=20)\n",
        "\n",
        "plt.show()\n",
        "\n",
        "plot_accuracy(train_acc_list=train_acc_list_adam,\n",
        "              valid_acc_list=valid_acc_list_adam,\n",
        "              results_dir=None)\n",
        "\n",
        "# plt.ylim([80, 100])\n",
        "plt.show()"
      ],
      "metadata": {
        "colab": {
          "base_uri": "https://localhost:8080/",
          "height": 577
        },
        "id": "keqlnPeoq4xs",
        "outputId": "8da6c9b8-00de-47ea-d754-f36cc7aac4eb"
      },
      "execution_count": null,
      "outputs": [
        {
          "output_type": "display_data",
          "data": {
            "text/plain": [
              "<Figure size 432x288 with 2 Axes>"
            ],
            "image/png": "[encoded data removed]"
          },
          "metadata": {
            "needs_background": "light"
          }
        },
        {
          "output_type": "display_data",
          "data": {
            "text/plain": [
              "<Figure size 432x288 with 1 Axes>"
            ],
            "image/png": "[encoded data removed]"
          },
          "metadata": {
            "needs_background": "light"
          }
        }
      ]
    },
    {
      "cell_type": "code",
      "source": [
        "class CNN1Adam(torch.nn.Module):\n",
        "  def __init__(self, num_classes):\n",
        "    super().__init__()\n",
        "    self.features = torch.nn.Sequential(\n",
        "            # Conv 1\n",
        "            torch.nn.Conv2d(3, 16, kernel_size=3, padding=\"same\"), # output 16 - 3 + 1 => 16\n",
        "                            # , stride=4, padding=2),\n",
        "            torch.nn.ReLU(inplace=True),\n",
        "            torch.nn.MaxPool2d(kernel_size=2), # 16 / 2 => output 8\n",
        "\n",
        "            # Conv 2\n",
        "            torch.nn.Conv2d(16, 32, kernel_size=2, padding=\"same\"), # output 7 - 2 + 1 => 8\n",
        "                            # , padding=2),\n",
        "            torch.nn.ReLU(inplace=True),\n",
        "            torch.nn.MaxPool2d(kernel_size=2), #output 8 / 2 => output 4\n",
        "\n",
        "            # Conv 3\n",
        "            # torch.nn.Conv2d(32, 64, kernel_size=2, padding=\"same\"), # output 7 - 2 + 1 => 4\n",
        "            #                 # , padding=2),\n",
        "            # torch.nn.ReLU(inplace=True),\n",
        "            # torch.nn.MaxPool2d(kernel_size=2) #output 4 / 2 => output 2\n",
        "\n",
        "    )\n",
        "\n",
        "    self.classifier = torch.nn.Sequential(\n",
        "         torch.nn.Linear(32*4*4, 100),\n",
        "          torch.nn.ReLU(inplace=True),\n",
        "          torch.nn.Linear(100, num_classes),\n",
        "    )\n",
        "\n",
        "  def forward(self, x):\n",
        "    x = self.features(x)\n",
        "    x = torch.flatten(x, 1)\n",
        "    # print(x.size())\n",
        "    logits = self.classifier(x)\n",
        "    return logits"
      ],
      "metadata": {
        "id": "ZODeVQxexRTh"
      },
      "execution_count": null,
      "outputs": []
    },
    {
      "cell_type": "code",
      "source": [
        "model1_adam = CNN1Adam(num_classes=10)"
      ],
      "metadata": {
        "id": "6j8NyA8JxWpq"
      },
      "execution_count": null,
      "outputs": []
    },
    {
      "cell_type": "code",
      "source": [
        "model1_adam = model1_adam.to(DEVICE)"
      ],
      "metadata": {
        "id": "zq5m_aAZxWWH"
      },
      "execution_count": null,
      "outputs": []
    },
    {
      "cell_type": "code",
      "source": [
        "print(summary(model1_adam, (3, 16, 16)))"
      ],
      "metadata": {
        "colab": {
          "base_uri": "https://localhost:8080/"
        },
        "id": "OE3O1Vk9JPp8",
        "outputId": "095bf49a-c97b-44bb-df1a-e217a0a69edb"
      },
      "execution_count": null,
      "outputs": [
        {
          "output_type": "stream",
          "name": "stdout",
          "text": [
            "----------------------------------------------------------------\n",
            "        Layer (type)               Output Shape         Param #\n",
            "================================================================\n",
            "            Conv2d-1           [-1, 16, 16, 16]             448\n",
            "              ReLU-2           [-1, 16, 16, 16]               0\n",
            "         MaxPool2d-3             [-1, 16, 8, 8]               0\n",
            "            Conv2d-4             [-1, 32, 8, 8]           2,080\n",
            "              ReLU-5             [-1, 32, 8, 8]               0\n",
            "         MaxPool2d-6             [-1, 32, 4, 4]               0\n",
            "            Linear-7                  [-1, 100]          51,300\n",
            "              ReLU-8                  [-1, 100]               0\n",
            "            Linear-9                   [-1, 10]           1,010\n",
            "================================================================\n",
            "Total params: 54,838\n",
            "Trainable params: 54,838\n",
            "Non-trainable params: 0\n",
            "----------------------------------------------------------------\n",
            "Input size (MB): 0.00\n",
            "Forward/backward pass size (MB): 0.11\n",
            "Params size (MB): 0.21\n",
            "Estimated Total Size (MB): 0.32\n",
            "----------------------------------------------------------------\n",
            "None\n"
          ]
        }
      ]
    },
    {
      "cell_type": "code",
      "source": [
        "optimizer_adam1 = torch.optim.Adam(model1_adam.parameters())\n",
        "scheduler_adam1 = torch.optim.lr_scheduler.ReduceLROnPlateau(optimizer_adam1,\n",
        "                                                       factor=0.1,\n",
        "                                                       mode='max',\n",
        "                                                       verbose=True)\n"
      ],
      "metadata": {
        "id": "d_j8feEJxWN1"
      },
      "execution_count": null,
      "outputs": []
    },
    {
      "cell_type": "code",
      "source": [
        "minibatch_loss_list_adam1, train_acc_list_adam1, valid_acc_list_adam1 = train_model(\n",
        "    model=model1_adam,\n",
        "    num_epochs=NUM_EPOCHS,\n",
        "    train_loader=train_loader,\n",
        "    valid_loader=valid_loader,\n",
        "    test_loader=test_loader,\n",
        "    optimizer=optimizer_adam1,\n",
        "    device=DEVICE,\n",
        "    scheduler=None,\n",
        "    scheduler_on='valid_acc',\n",
        "    logging_interval=100)"
      ],
      "metadata": {
        "id": "HykzCBtdxWE_",
        "colab": {
          "base_uri": "https://localhost:8080/"
        },
        "outputId": "1e9428c7-ed60-4494-dfa5-ea84150dce7e"
      },
      "execution_count": null,
      "outputs": [
        {
          "metadata": {
            "tags": null
          },
          "name": "stderr",
          "output_type": "stream",
          "text": [
            "/usr/local/lib/python3.7/dist-packages/torch/nn/modules/conv.py:454: UserWarning: Using padding='same' with even kernel lengths and odd dilation may require a zero-padded copy of the input be created (Triggered internally at  ../aten/src/ATen/native/Convolution.cpp:882.)\n",
            "  self.padding, self.dilation, self.groups)\n"
          ]
        },
        {
          "output_type": "stream",
          "name": "stdout",
          "text": [
            "Epoch: 001/040 | Batch 0000/0175 | Loss: 2.3071\n",
            "Epoch: 001/040 | Batch 0100/0175 | Loss: 1.8140\n",
            "Epoch: 001/040 | Train: 43.08% | Validation: 42.50%\n",
            "Time elapsed: 1.10 min\n",
            "Epoch: 002/040 | Batch 0000/0175 | Loss: 1.6634\n",
            "Epoch: 002/040 | Batch 0100/0175 | Loss: 1.4919\n",
            "Epoch: 002/040 | Train: 48.01% | Validation: 47.52%\n",
            "Time elapsed: 2.13 min\n",
            "Epoch: 003/040 | Batch 0000/0175 | Loss: 1.3877\n",
            "Epoch: 003/040 | Batch 0100/0175 | Loss: 1.4196\n",
            "Epoch: 003/040 | Train: 51.08% | Validation: 50.42%\n",
            "Time elapsed: 3.15 min\n",
            "Epoch: 004/040 | Batch 0000/0175 | Loss: 1.3312\n",
            "Epoch: 004/040 | Batch 0100/0175 | Loss: 1.2360\n",
            "Epoch: 004/040 | Train: 53.14% | Validation: 52.40%\n",
            "Time elapsed: 4.15 min\n",
            "Epoch: 005/040 | Batch 0000/0175 | Loss: 1.1951\n",
            "Epoch: 005/040 | Batch 0100/0175 | Loss: 1.2653\n",
            "Epoch: 005/040 | Train: 54.17% | Validation: 53.10%\n",
            "Time elapsed: 5.16 min\n",
            "Epoch: 006/040 | Batch 0000/0175 | Loss: 1.2904\n",
            "Epoch: 006/040 | Batch 0100/0175 | Loss: 1.2328\n",
            "Epoch: 006/040 | Train: 55.50% | Validation: 54.60%\n",
            "Time elapsed: 6.16 min\n",
            "Epoch: 007/040 | Batch 0000/0175 | Loss: 1.2591\n",
            "Epoch: 007/040 | Batch 0100/0175 | Loss: 1.3154\n",
            "Epoch: 007/040 | Train: 56.30% | Validation: 55.62%\n",
            "Time elapsed: 7.17 min\n",
            "Epoch: 008/040 | Batch 0000/0175 | Loss: 1.1960\n",
            "Epoch: 008/040 | Batch 0100/0175 | Loss: 1.3065\n",
            "Epoch: 008/040 | Train: 57.44% | Validation: 56.46%\n",
            "Time elapsed: 8.17 min\n",
            "Epoch: 009/040 | Batch 0000/0175 | Loss: 1.1203\n",
            "Epoch: 009/040 | Batch 0100/0175 | Loss: 1.2254\n",
            "Epoch: 009/040 | Train: 58.02% | Validation: 56.74%\n",
            "Time elapsed: 9.17 min\n",
            "Epoch: 010/040 | Batch 0000/0175 | Loss: 1.2324\n",
            "Epoch: 010/040 | Batch 0100/0175 | Loss: 1.1202\n",
            "Epoch: 010/040 | Train: 59.60% | Validation: 58.72%\n",
            "Time elapsed: 10.15 min\n",
            "Epoch: 011/040 | Batch 0000/0175 | Loss: 1.2133\n",
            "Epoch: 011/040 | Batch 0100/0175 | Loss: 1.0508\n",
            "Epoch: 011/040 | Train: 60.95% | Validation: 59.62%\n",
            "Time elapsed: 11.15 min\n",
            "Epoch: 012/040 | Batch 0000/0175 | Loss: 1.0559\n",
            "Epoch: 012/040 | Batch 0100/0175 | Loss: 1.2560\n",
            "Epoch: 012/040 | Train: 61.30% | Validation: 59.68%\n",
            "Time elapsed: 12.14 min\n",
            "Epoch: 013/040 | Batch 0000/0175 | Loss: 1.0969\n",
            "Epoch: 013/040 | Batch 0100/0175 | Loss: 1.1125\n",
            "Epoch: 013/040 | Train: 62.35% | Validation: 60.50%\n",
            "Time elapsed: 13.13 min\n",
            "Epoch: 014/040 | Batch 0000/0175 | Loss: 1.0894\n",
            "Epoch: 014/040 | Batch 0100/0175 | Loss: 1.0813\n",
            "Epoch: 014/040 | Train: 62.94% | Validation: 60.94%\n",
            "Time elapsed: 14.12 min\n",
            "Epoch: 015/040 | Batch 0000/0175 | Loss: 0.9912\n",
            "Epoch: 015/040 | Batch 0100/0175 | Loss: 1.1637\n",
            "Epoch: 015/040 | Train: 63.23% | Validation: 60.54%\n",
            "Time elapsed: 15.11 min\n",
            "Epoch: 016/040 | Batch 0000/0175 | Loss: 0.9114\n",
            "Epoch: 016/040 | Batch 0100/0175 | Loss: 1.0515\n",
            "Epoch: 016/040 | Train: 63.28% | Validation: 61.04%\n",
            "Time elapsed: 16.10 min\n",
            "Epoch: 017/040 | Batch 0000/0175 | Loss: 0.9892\n",
            "Epoch: 017/040 | Batch 0100/0175 | Loss: 1.0771\n",
            "Epoch: 017/040 | Train: 64.36% | Validation: 61.70%\n",
            "Time elapsed: 17.07 min\n",
            "Epoch: 018/040 | Batch 0000/0175 | Loss: 0.9014\n",
            "Epoch: 018/040 | Batch 0100/0175 | Loss: 1.0391\n",
            "Epoch: 018/040 | Train: 65.05% | Validation: 62.58%\n",
            "Time elapsed: 18.03 min\n",
            "Epoch: 019/040 | Batch 0000/0175 | Loss: 1.0108\n",
            "Epoch: 019/040 | Batch 0100/0175 | Loss: 1.0283\n",
            "Epoch: 019/040 | Train: 65.34% | Validation: 62.00%\n",
            "Time elapsed: 19.02 min\n",
            "Epoch: 020/040 | Batch 0000/0175 | Loss: 1.0292\n",
            "Epoch: 020/040 | Batch 0100/0175 | Loss: 0.9792\n",
            "Epoch: 020/040 | Train: 66.17% | Validation: 62.62%\n",
            "Time elapsed: 19.99 min\n",
            "Epoch: 021/040 | Batch 0000/0175 | Loss: 0.8948\n",
            "Epoch: 021/040 | Batch 0100/0175 | Loss: 0.8866\n",
            "Epoch: 021/040 | Train: 67.00% | Validation: 63.40%\n",
            "Time elapsed: 20.96 min\n",
            "Epoch: 022/040 | Batch 0000/0175 | Loss: 0.9903\n",
            "Epoch: 022/040 | Batch 0100/0175 | Loss: 0.8662\n",
            "Epoch: 022/040 | Train: 67.01% | Validation: 63.30%\n",
            "Time elapsed: 21.93 min\n",
            "Epoch: 023/040 | Batch 0000/0175 | Loss: 0.9768\n",
            "Epoch: 023/040 | Batch 0100/0175 | Loss: 0.9591\n",
            "Epoch: 023/040 | Train: 67.13% | Validation: 63.20%\n",
            "Time elapsed: 22.89 min\n",
            "Epoch: 024/040 | Batch 0000/0175 | Loss: 1.0098\n",
            "Epoch: 024/040 | Batch 0100/0175 | Loss: 0.9803\n",
            "Epoch: 024/040 | Train: 68.15% | Validation: 63.32%\n",
            "Time elapsed: 23.85 min\n",
            "Epoch: 025/040 | Batch 0000/0175 | Loss: 0.8892\n",
            "Epoch: 025/040 | Batch 0100/0175 | Loss: 0.8971\n",
            "Epoch: 025/040 | Train: 68.22% | Validation: 63.74%\n",
            "Time elapsed: 24.83 min\n",
            "Epoch: 026/040 | Batch 0000/0175 | Loss: 0.8720\n",
            "Epoch: 026/040 | Batch 0100/0175 | Loss: 0.9216\n",
            "Epoch: 026/040 | Train: 69.10% | Validation: 64.16%\n",
            "Time elapsed: 25.82 min\n",
            "Epoch: 027/040 | Batch 0000/0175 | Loss: 0.8496\n",
            "Epoch: 027/040 | Batch 0100/0175 | Loss: 0.9275\n",
            "Epoch: 027/040 | Train: 69.16% | Validation: 64.38%\n",
            "Time elapsed: 26.80 min\n",
            "Epoch: 028/040 | Batch 0000/0175 | Loss: 0.9117\n",
            "Epoch: 028/040 | Batch 0100/0175 | Loss: 0.8979\n",
            "Epoch: 028/040 | Train: 69.46% | Validation: 64.00%\n",
            "Time elapsed: 27.79 min\n",
            "Epoch: 029/040 | Batch 0000/0175 | Loss: 0.9171\n",
            "Epoch: 029/040 | Batch 0100/0175 | Loss: 0.9485\n",
            "Epoch: 029/040 | Train: 70.28% | Validation: 64.52%\n",
            "Time elapsed: 28.79 min\n",
            "Epoch: 030/040 | Batch 0000/0175 | Loss: 0.8570\n",
            "Epoch: 030/040 | Batch 0100/0175 | Loss: 0.8816\n",
            "Epoch: 030/040 | Train: 70.15% | Validation: 64.82%\n",
            "Time elapsed: 29.77 min\n",
            "Epoch: 031/040 | Batch 0000/0175 | Loss: 0.8366\n",
            "Epoch: 031/040 | Batch 0100/0175 | Loss: 0.6797\n",
            "Epoch: 031/040 | Train: 71.15% | Validation: 65.10%\n",
            "Time elapsed: 30.76 min\n",
            "Epoch: 032/040 | Batch 0000/0175 | Loss: 0.7169\n",
            "Epoch: 032/040 | Batch 0100/0175 | Loss: 0.8527\n",
            "Epoch: 032/040 | Train: 69.18% | Validation: 63.74%\n",
            "Time elapsed: 31.73 min\n",
            "Epoch: 033/040 | Batch 0000/0175 | Loss: 0.8331\n",
            "Epoch: 033/040 | Batch 0100/0175 | Loss: 0.7503\n",
            "Epoch: 033/040 | Train: 70.82% | Validation: 64.58%\n",
            "Time elapsed: 32.71 min\n",
            "Epoch: 034/040 | Batch 0000/0175 | Loss: 0.8273\n",
            "Epoch: 034/040 | Batch 0100/0175 | Loss: 0.8493\n",
            "Epoch: 034/040 | Train: 71.26% | Validation: 65.18%\n",
            "Time elapsed: 33.69 min\n",
            "Epoch: 035/040 | Batch 0000/0175 | Loss: 0.9013\n",
            "Epoch: 035/040 | Batch 0100/0175 | Loss: 0.7775\n",
            "Epoch: 035/040 | Train: 72.50% | Validation: 65.08%\n",
            "Time elapsed: 34.69 min\n",
            "Epoch: 036/040 | Batch 0000/0175 | Loss: 0.7335\n",
            "Epoch: 036/040 | Batch 0100/0175 | Loss: 0.8110\n",
            "Epoch: 036/040 | Train: 72.49% | Validation: 65.58%\n",
            "Time elapsed: 35.66 min\n",
            "Epoch: 037/040 | Batch 0000/0175 | Loss: 0.7897\n",
            "Epoch: 037/040 | Batch 0100/0175 | Loss: 0.7699\n",
            "Epoch: 037/040 | Train: 73.11% | Validation: 65.36%\n",
            "Time elapsed: 36.63 min\n",
            "Epoch: 038/040 | Batch 0000/0175 | Loss: 0.6725\n",
            "Epoch: 038/040 | Batch 0100/0175 | Loss: 0.8762\n",
            "Epoch: 038/040 | Train: 73.30% | Validation: 65.62%\n",
            "Time elapsed: 37.59 min\n",
            "Epoch: 039/040 | Batch 0000/0175 | Loss: 0.7842\n",
            "Epoch: 039/040 | Batch 0100/0175 | Loss: 0.7761\n",
            "Epoch: 039/040 | Train: 72.82% | Validation: 65.08%\n",
            "Time elapsed: 38.56 min\n",
            "Epoch: 040/040 | Batch 0000/0175 | Loss: 0.7820\n",
            "Epoch: 040/040 | Batch 0100/0175 | Loss: 0.7999\n",
            "Epoch: 040/040 | Train: 73.51% | Validation: 65.32%\n",
            "Time elapsed: 39.54 min\n",
            "Total Training Time: 39.54 min\n",
            "Test accuracy 63.44%\n"
          ]
        }
      ]
    },
    {
      "cell_type": "code",
      "source": [
        "plot_training_loss(minibatch_loss_list=minibatch_loss_list_adam1,\n",
        "                   num_epochs=NUM_EPOCHS,\n",
        "                   iter_per_epoch=len(train_loader),\n",
        "                   results_dir=None,\n",
        "                   averaging_iterations=20)\n",
        "\n",
        "plt.show()\n",
        "\n",
        "plot_accuracy(train_acc_list=train_acc_list_adam1,\n",
        "              valid_acc_list=valid_acc_list_adam1,\n",
        "              results_dir=None)\n",
        "\n",
        "# plt.ylim([80, 100])\n",
        "plt.show()"
      ],
      "metadata": {
        "id": "tfsmcnBpxV9t",
        "colab": {
          "base_uri": "https://localhost:8080/",
          "height": 577
        },
        "outputId": "18ee6d06-f908-4121-92a6-e849e7e71dc6"
      },
      "execution_count": null,
      "outputs": [
        {
          "output_type": "display_data",
          "data": {
            "text/plain": [
              "<Figure size 432x288 with 2 Axes>"
            ],
            "image/png": "[encoded data removed]"
          },
          "metadata": {
            "needs_background": "light"
          }
        },
        {
          "output_type": "display_data",
          "data": {
            "text/plain": [
              "<Figure size 432x288 with 1 Axes>"
            ],
            "image/png": "[encoded data removed]"
          },
          "metadata": {
            "needs_background": "light"
          }
        }
      ]
    },
    {
      "cell_type": "code",
      "source": [
        "import pandas as pd"
      ],
      "metadata": {
        "id": "nKktxivg4QbZ"
      },
      "execution_count": null,
      "outputs": []
    },
    {
      "cell_type": "code",
      "source": [
        "results = pd.DataFrame({\"Number of Parameters\": [54838, 37494], \"Accuracy\": [74, 71]}, index = [\"CNN1\", \"CNN2\"])"
      ],
      "metadata": {
        "id": "J188WvRT4QS3"
      },
      "execution_count": null,
      "outputs": []
    },
    {
      "cell_type": "code",
      "source": [
        "results"
      ],
      "metadata": {
        "id": "qE1mcIo0zKmF",
        "colab": {
          "base_uri": "https://localhost:8080/",
          "height": 112
        },
        "outputId": "bbb77a43-fde6-424c-d12e-10830fbedda4"
      },
      "execution_count": null,
      "outputs": [
        {
          "output_type": "execute_result",
          "data": {
            "text/plain": [
              "      Number of Parameters  Accuracy\n",
              "CNN1                 54838        74\n",
              "CNN2                 37494        71"
            ],
            "text/html": [
              "\n",
              "  <div id=\"df-7a3a16a8-3ad0-4634-8e49-9f6f88afa06a\">\n",
              "    <div class=\"colab-df-container\">\n",
              "      <div>\n",
              "<style scoped>\n",
              "    .dataframe tbody tr th:only-of-type {\n",
              "        vertical-align: middle;\n",
              "    }\n",
              "\n",
              "    .dataframe tbody tr th {\n",
              "        vertical-align: top;\n",
              "    }\n",
              "\n",
              "    .dataframe thead th {\n",
              "        text-align: right;\n",
              "    }\n",
              "</style>\n",
              "<table border=\"1\" class=\"dataframe\">\n",
              "  <thead>\n",
              "    <tr style=\"text-align: right;\">\n",
              "      <th></th>\n",
              "      <th>Number of Parameters</th>\n",
              "      <th>Accuracy</th>\n",
              "    </tr>\n",
              "  </thead>\n",
              "  <tbody>\n",
              "    <tr>\n",
              "      <th>CNN1</th>\n",
              "      <td>54838</td>\n",
              "      <td>74</td>\n",
              "    </tr>\n",
              "    <tr>\n",
              "      <th>CNN2</th>\n",
              "      <td>37494</td>\n",
              "      <td>71</td>\n",
              "    </tr>\n",
              "  </tbody>\n",
              "</table>\n",
              "</div>\n",
              "      <button class=\"colab-df-convert\" onclick=\"convertToInteractive('df-7a3a16a8-3ad0-4634-8e49-9f6f88afa06a')\"\n",
              "              title=\"Convert this dataframe to an interactive table.\"\n",
              "              style=\"display:none;\">\n",
              "        \n",
              "  <svg xmlns=\"http://www.w3.org/2000/svg\" height=\"24px\"viewBox=\"0 0 24 24\"\n",
              "       width=\"24px\">\n",
              "    <path d=\"M0 0h24v24H0V0z\" fill=\"none\"/>\n",
              "    <path d=\"M18.56 5.44l.94 2.06.94-2.06 2.06-.94-2.06-.94-.94-2.06-.94 2.06-2.06.94zm-11 1L8.5 8.5l.94-2.06 2.06-.94-2.06-.94L8.5 2.5l-.94 2.06-2.06.94zm10 10l.94 2.06.94-2.06 2.06-.94-2.06-.94-.94-2.06-.94 2.06-2.06.94z\"/><path d=\"M17.41 7.96l-1.37-1.37c-.4-.4-.92-.59-1.43-.59-.52 0-1.04.2-1.43.59L10.3 9.45l-7.72 7.72c-.78.78-.78 2.05 0 2.83L4 21.41c.39.39.9.59 1.41.59.51 0 1.02-.2 1.41-.59l7.78-7.78 2.81-2.81c.8-.78.8-2.07 0-2.86zM5.41 20L4 18.59l7.72-7.72 1.47 1.35L5.41 20z\"/>\n",
              "  </svg>\n",
              "      </button>\n",
              "      \n",
              "  <style>\n",
              "    .colab-df-container {\n",
              "      display:flex;\n",
              "      flex-wrap:wrap;\n",
              "      gap: 12px;\n",
              "    }\n",
              "\n",
              "    .colab-df-convert {\n",
              "      background-color: #E8F0FE;\n",
              "      border: none;\n",
              "      border-radius: 50%;\n",
              "      cursor: pointer;\n",
              "      display: none;\n",
              "      fill: #1967D2;\n",
              "      height: 32px;\n",
              "      padding: 0 0 0 0;\n",
              "      width: 32px;\n",
              "    }\n",
              "\n",
              "    .colab-df-convert:hover {\n",
              "      background-color: #E2EBFA;\n",
              "      box-shadow: 0px 1px 2px rgba(60, 64, 67, 0.3), 0px 1px 3px 1px rgba(60, 64, 67, 0.15);\n",
              "      fill: #174EA6;\n",
              "    }\n",
              "\n",
              "    [theme=dark] .colab-df-convert {\n",
              "      background-color: #3B4455;\n",
              "      fill: #D2E3FC;\n",
              "    }\n",
              "\n",
              "    [theme=dark] .colab-df-convert:hover {\n",
              "      background-color: #434B5C;\n",
              "      box-shadow: 0px 1px 3px 1px rgba(0, 0, 0, 0.15);\n",
              "      filter: drop-shadow(0px 1px 2px rgba(0, 0, 0, 0.3));\n",
              "      fill: #FFFFFF;\n",
              "    }\n",
              "  </style>\n",
              "\n",
              "      <script>\n",
              "        const buttonEl =\n",
              "          document.querySelector('#df-7a3a16a8-3ad0-4634-8e49-9f6f88afa06a button.colab-df-convert');\n",
              "        buttonEl.style.display =\n",
              "          google.colab.kernel.accessAllowed ? 'block' : 'none';\n",
              "\n",
              "        async function convertToInteractive(key) {\n",
              "          const element = document.querySelector('#df-7a3a16a8-3ad0-4634-8e49-9f6f88afa06a');\n",
              "          const dataTable =\n",
              "            await google.colab.kernel.invokeFunction('convertToInteractive',\n",
              "                                                     [key], {});\n",
              "          if (!dataTable) return;\n",
              "\n",
              "          const docLinkHtml = 'Like what you see? Visit the ' +\n",
              "            '<a target=\"_blank\" href=https://colab.research.google.com/notebooks/data_table.ipynb>data table notebook</a>'\n",
              "            + ' to learn more about interactive tables.';\n",
              "          element.innerHTML = '';\n",
              "          dataTable['output_type'] = 'display_data';\n",
              "          await google.colab.output.renderOutput(dataTable, element);\n",
              "          const docLink = document.createElement('div');\n",
              "          docLink.innerHTML = docLinkHtml;\n",
              "          element.appendChild(docLink);\n",
              "        }\n",
              "      </script>\n",
              "    </div>\n",
              "  </div>\n",
              "  "
            ]
          },
          "metadata": {},
          "execution_count": 3
        }
      ]
    },
    {
      "cell_type": "markdown",
      "source": [
        "## Adam was very good with training accuracies but not as good with the test accuracies, thereby overfitting."
      ],
      "metadata": {
        "id": "EgnhgFqc8XV0"
      }
    },
    {
      "cell_type": "markdown",
      "source": [
        "## From all my experiements which I only ran for 40 epochs (1hr for each models), I conclude that dropout (20%, 40%, 80%) with RMS prop optimiser and lot more of data augmentation for around 60% more data and I would train it for almost 200 epochs (3hrs) and I think that would be a very good model for this data."
      ],
      "metadata": {
        "id": "p5Es0Yt98i9V"
      }
    },
    {
      "cell_type": "code",
      "source": [],
      "metadata": {
        "id": "WKbSgOtU4age"
      },
      "execution_count": null,
      "outputs": []
    }
  ]
}