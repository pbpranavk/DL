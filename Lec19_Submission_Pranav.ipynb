{
  "nbformat": 4,
  "nbformat_minor": 0,
  "metadata": {
    "colab": {
      "provenance": []
    },
    "kernelspec": {
      "name": "python3",
      "display_name": "Python 3"
    },
    "language_info": {
      "name": "python"
    }
  },
  "cells": [
    {
      "cell_type": "code",
      "execution_count": null,
      "metadata": {
        "id": "iaA-yqaG0Xf4"
      },
      "outputs": [],
      "source": [
        "import torch\n",
        "import numpy as np\n",
        "import matplotlib.pyplot as plt"
      ]
    },
    {
      "cell_type": "code",
      "source": [
        "# From local helper files\n",
        "from helper_evaluation import set_all_seeds, set_deterministic\n",
        "from helper_train import train_model\n",
        "from helper_plotting import plot_training_loss, plot_accuracy, show_examples\n",
        "from helper_dataset import get_dataloaders_mnist"
      ],
      "metadata": {
        "id": "WAa8PqmE1SxD"
      },
      "execution_count": null,
      "outputs": []
    },
    {
      "cell_type": "code",
      "source": [
        "train_loader, valid_loader, test_loader = get_dataloaders_mnist(\n",
        "    batch_size=128,\n",
        "    validation_fraction=0.1)\n",
        "\n",
        "# Checking the dataset\n",
        "for images, labels in train_loader:\n",
        "    print('Image batch dimensions:', images.shape)\n",
        "    print('Image label dimensions:', labels.shape)\n",
        "    print('Class labels of 10 examples:', labels[:10])\n",
        "    break"
      ],
      "metadata": {
        "colab": {
          "base_uri": "https://localhost:8080/"
        },
        "id": "uIGKEj_h2wmQ",
        "outputId": "4ca87927-3488-463f-e25d-fa4debc5c851"
      },
      "execution_count": null,
      "outputs": [
        {
          "output_type": "stream",
          "name": "stdout",
          "text": [
            "Image batch dimensions: torch.Size([128, 1, 28, 28])\n",
            "Image label dimensions: torch.Size([128])\n",
            "Class labels of 10 examples: tensor([2, 3, 4, 6, 2, 1, 9, 3, 9, 7])\n"
          ]
        }
      ]
    },
    {
      "cell_type": "markdown",
      "source": [
        "## 1. Normalising the data for this network"
      ],
      "metadata": {
        "id": "lg-V_36nEGfG"
      }
    },
    {
      "cell_type": "code",
      "source": [
        "class MultilayerPerceptron():\n",
        "\n",
        "    def __init__(self, num_features, num_hidden, num_classes):\n",
        "        super(MultilayerPerceptron, self).__init__()\n",
        "\n",
        "        self.num_classes = num_classes\n",
        "\n",
        "        # hidden 1\n",
        "        self.weight_1 = torch.zeros(num_hidden, num_features,\n",
        "                                    dtype=torch.float).uniform_(0.0, 1.0)\n",
        "        self.bias_1 = torch.zeros(num_hidden, dtype=torch.float)\n",
        "\n",
        "        # output\n",
        "        self.weight_o = torch.zeros(self.num_classes, num_hidden,\n",
        "                                    dtype=torch.float).uniform_(0.0, 1.0)\n",
        "        self.bias_o = torch.zeros(self.num_classes, dtype=torch.float)\n",
        "\n",
        "    def forward(self, x):\n",
        "        # hidden 1\n",
        "\n",
        "        # input dim: [n_hidden, n_features] dot [n_features, n_examples] .T\n",
        "        # output dim: [n_examples, n_hidden]\n",
        "        z_1 = torch.mm(x, self.weight_1.t()) + self.bias_1\n",
        "        mean_of_z1 = z_1.mean(dim=0)\n",
        "        std_of_z1 = z_1.std(dim=0)\n",
        "        normalised_data = (z_1 - mean_of_z1) / std_of_z1\n",
        "        a_1 = torch.sigmoid(normalised_data)\n",
        "\n",
        "        # hidden 2\n",
        "        # input dim: [n_classes, n_hidden] dot [n_hidden, n_examples] .T\n",
        "        # output dim: [n_examples, n_classes]\n",
        "        z_2 = torch.mm(a_1, self.weight_o.t()) + self.bias_o\n",
        "        a_2 = torch.sigmoid(z_2)\n",
        "        return a_1, a_2"
      ],
      "metadata": {
        "id": "uOLAe85K2ytF"
      },
      "execution_count": null,
      "outputs": []
    },
    {
      "cell_type": "code",
      "source": [
        "model = MultilayerPerceptron(num_features=28*28,\n",
        "                             num_hidden=15,\n",
        "                             num_classes=10)\n",
        "\n"
      ],
      "metadata": {
        "id": "TE2mUVVU5JG1"
      },
      "execution_count": null,
      "outputs": []
    },
    {
      "cell_type": "code",
      "source": [
        "train_loader_list = list(train_loader)\n",
        "features, target = train_loader_list[0]\n",
        "a1, a2 = model.forward(features.view(-1,28 * 28))\n"
      ],
      "metadata": {
        "id": "xADQ_1-v30Ku"
      },
      "execution_count": null,
      "outputs": []
    },
    {
      "cell_type": "code",
      "source": [],
      "metadata": {
        "id": "cQuAyKYZQPSG"
      },
      "execution_count": null,
      "outputs": []
    },
    {
      "cell_type": "code",
      "source": [],
      "metadata": {
        "id": "8YY72PbxQPNO"
      },
      "execution_count": null,
      "outputs": []
    },
    {
      "cell_type": "code",
      "source": [],
      "metadata": {
        "id": "Vi5Z9SJXQPJb"
      },
      "execution_count": null,
      "outputs": []
    },
    {
      "cell_type": "code",
      "source": [],
      "metadata": {
        "id": "dj2TV_mlQPFM"
      },
      "execution_count": null,
      "outputs": []
    },
    {
      "cell_type": "code",
      "source": [
        "fig, axs = plt.subplots(5, 3)\n",
        "fig.set_figheight(10)\n",
        "fig.set_figwidth(10)\n",
        "x = np.arange(128)\n",
        "cnt = 0\n",
        "for i in range(5):\n",
        "  for j in range(3):\n",
        "    axs[i, j].hist(a1[:, cnt])\n",
        "    cnt += 1\n",
        "\n",
        "\n",
        "\n",
        "\n",
        "\n",
        "\n",
        "\n",
        "\n",
        "\n",
        "\n",
        "\n"
      ],
      "metadata": {
        "colab": {
          "base_uri": "https://localhost:8080/",
          "height": 592
        },
        "id": "iLrI3Ly2-Zye",
        "outputId": "7da00208-948d-4ca8-b75b-ad47e8396126"
      },
      "execution_count": null,
      "outputs": [
        {
          "output_type": "display_data",
          "data": {
            "text/plain": [
              "<Figure size 720x720 with 15 Axes>"
            ],
            "image/png": "[encoded data removed]"
          },
          "metadata": {
            "needs_background": "light"
          }
        }
      ]
    },
    {
      "cell_type": "code",
      "source": [
        "fig, axs = plt.subplots(5, 2)\n",
        "fig.set_figheight(10)\n",
        "fig.set_figwidth(15)\n",
        "x = np.arange(128)\n",
        "cnt = 0\n",
        "for i in range(5):\n",
        "  for j in range(2):\n",
        "    axs[i, j].hist(a2[:, cnt])\n",
        "    cnt += 1\n",
        "\n",
        "\n",
        "\n",
        "\n",
        ""
      ],
      "metadata": {
        "colab": {
          "base_uri": "https://localhost:8080/",
          "height": 592
        },
        "id": "rxVLTpG-C4zI",
        "outputId": "2521c5dd-ca81-4afa-f045-21d81d3354c4"
      },
      "execution_count": null,
      "outputs": [
        {
          "output_type": "display_data",
          "data": {
            "text/plain": [
              "<Figure size 1080x720 with 10 Axes>"
            ],
            "image/png": "[encoded data removed]"
          },
          "metadata": {
            "needs_background": "light"
          }
        }
      ]
    },
    {
      "cell_type": "markdown",
      "source": [
        "## Plotting without normalisation"
      ],
      "metadata": {
        "id": "p4D8o6oiGd80"
      }
    },
    {
      "cell_type": "code",
      "source": [
        "class MultilayerPerceptronWithout():\n",
        "\n",
        "    def __init__(self, num_features, num_hidden, num_classes):\n",
        "        super(MultilayerPerceptronWithout, self).__init__()\n",
        "\n",
        "        self.num_classes = num_classes\n",
        "\n",
        "        # hidden 1\n",
        "        self.weight_1 = torch.zeros(num_hidden, num_features,\n",
        "                                    dtype=torch.float).uniform_(0.0, 1.0)\n",
        "        self.bias_1 = torch.zeros(num_hidden, dtype=torch.float)\n",
        "\n",
        "\n",
        "        # output\n",
        "        self.weight_o = torch.zeros(self.num_classes, num_hidden,\n",
        "                                    dtype=torch.float).uniform_(0.0, 1.0)\n",
        "        self.bias_o = torch.zeros(self.num_classes, dtype=torch.float)\n",
        "\n",
        "    def forward(self, x):\n",
        "        # hidden 1\n",
        "\n",
        "        # input dim: [n_hidden, n_features] dot [n_features, n_examples] .T\n",
        "        # output dim: [n_examples, n_hidden]\n",
        "        z_1 = torch.mm(x, self.weight_1.t()) + self.bias_1\n",
        "        a_1 = torch.sigmoid(z_1)\n",
        "\n",
        "        # hidden 2\n",
        "        # input dim: [n_classes, n_hidden] dot [n_hidden, n_examples] .T\n",
        "        # output dim: [n_examples, n_classes]\n",
        "        z_2 = torch.mm(a_1, self.weight_o.t()) + self.bias_o\n",
        "        a_2 = torch.sigmoid(z_2)\n",
        "        return a_1, a_2"
      ],
      "metadata": {
        "id": "J5330YxJGYiP"
      },
      "execution_count": null,
      "outputs": []
    },
    {
      "cell_type": "code",
      "source": [
        "model = MultilayerPerceptronWithout(num_features=28*28,\n",
        "                             num_hidden=15,\n",
        "                             num_classes=10)\n"
      ],
      "metadata": {
        "id": "GFvdyVDCGuTA"
      },
      "execution_count": null,
      "outputs": []
    },
    {
      "cell_type": "code",
      "source": [
        "train_loader_list = list(train_loader)\n",
        "features, target = train_loader_list[0]\n",
        "a1, a2 = model.forward(features.view(-1,28 * 28))\n"
      ],
      "metadata": {
        "id": "3LH5JOxCGzt6"
      },
      "execution_count": null,
      "outputs": []
    },
    {
      "cell_type": "code",
      "source": [
        "fig, axs = plt.subplots(5, 3)\n",
        "fig.set_figheight(10)\n",
        "fig.set_figwidth(15)\n",
        "cnt = 0\n",
        "for i in range(5):\n",
        "  for j in range(3):\n",
        "    axs[i, j].hist(a1[:, cnt])\n",
        "    cnt += 1\n",
        "\n",
        "\n",
        "\n",
        "\n",
        "\n",
        "\n",
        "\n",
        "\n",
        "\n",
        "\n",
        "\n",
        "\n",
        "\n",
        "\n",
        "\n",
        "\n",
        "\n"
      ],
      "metadata": {
        "colab": {
          "base_uri": "https://localhost:8080/",
          "height": 592
        },
        "id": "KGyZp_1bHI8l",
        "outputId": "dd3a91d9-a187-402a-aaa7-3cbf4b0fa4ee"
      },
      "execution_count": null,
      "outputs": [
        {
          "output_type": "display_data",
          "data": {
            "text/plain": [
              "<Figure size 1080x720 with 15 Axes>"
            ],
            "image/png": "[encoded data removed]"
          },
          "metadata": {
            "needs_background": "light"
          }
        }
      ]
    },
    {
      "cell_type": "code",
      "source": [
        "fig, axs = plt.subplots(5, 2)\n",
        "fig.set_figheight(10)\n",
        "fig.set_figwidth(15)\n",
        "cnt = 0\n",
        "for i in range(5):\n",
        "  for j in range(2):\n",
        "    axs[i, j].hist(a2[:, cnt])\n",
        "    cnt += 1\n",
        "\n",
        "\n",
        "\n",
        "\n",
        "\n",
        "\n",
        "\n",
        "\n",
        "\n",
        "\n",
        "\n",
        "\n",
        "\n",
        "\n",
        "\n",
        "\n"
      ],
      "metadata": {
        "colab": {
          "base_uri": "https://localhost:8080/",
          "height": 592
        },
        "id": "x6u6UVcFHLUc",
        "outputId": "8a885817-afbe-42c4-ce34-baa80a4418db"
      },
      "execution_count": null,
      "outputs": [
        {
          "output_type": "display_data",
          "data": {
            "text/plain": [
              "<Figure size 1080x720 with 10 Axes>"
            ],
            "image/png": "[encoded data removed]"
          },
          "metadata": {
            "needs_background": "light"
          }
        }
      ]
    },
    {
      "cell_type": "markdown",
      "source": [
        "## After applying batchnorm we can see that, the data is distributed, in case of not applying batch norm, the net iputs were all positive and therefore sigmoid made it all 1.\n",
        "\n",
        "## With normalisation, we can see that the a1 and a2 values are distributed well and not just all 1s."
      ],
      "metadata": {
        "id": "FmQpXNu_No-f"
      }
    },
    {
      "cell_type": "markdown",
      "source": [
        "## 2. Updating the code for using it with inference"
      ],
      "metadata": {
        "id": "AfYH7iGWENf3"
      }
    },
    {
      "cell_type": "code",
      "source": [
        "class MultilayerPerceptronWithMovingAverage():\n",
        "\n",
        "    def __init__(self, num_features, num_hidden, num_classes, momentum):\n",
        "        super(MultilayerPerceptronWithMovingAverage, self).__init__()\n",
        "\n",
        "        self.num_classes = num_classes\n",
        "\n",
        "        self.weight_1 = torch.zeros(num_hidden, num_features,\n",
        "                                    dtype=torch.float).uniform_(0.0, 1.0)\n",
        "        self.bias_1 = torch.zeros(num_hidden, dtype=torch.float)\n",
        "\n",
        "        self.weight_o = torch.zeros(self.num_classes, num_hidden,\n",
        "                                    dtype=torch.float).uniform_(0.0, 1.0)\n",
        "        self.bias_o = torch.zeros(self.num_classes, dtype=torch.float)\n",
        "\n",
        "\n",
        "        self.momentum = momentum\n",
        "\n",
        "        # moving average\n",
        "        self.moving_average = torch.zeros(num_hidden, dtype=torch.float)\n",
        "\n",
        "        # moving standard deviation\n",
        "        self.moving_standard_deviation = torch.zeros(num_hidden, dtype=torch.float)\n",
        "\n",
        "\n",
        "    def forward(self, x, test=False):\n",
        "        z_1 = torch.mm(x, self.weight_1.t()) + self.bias_1\n",
        "\n",
        "        if not test:\n",
        "          mean_of_z1 = z_1.mean(dim=0)\n",
        "          std_of_z1 = z_1.std(dim=0)\n",
        "\n",
        "        if not test:\n",
        "          normalised_data = (z_1 - mean_of_z1) / std_of_z1\n",
        "        else:\n",
        "          normalised_data = (z_1 - self.moving_average) / self.moving_standard_deviation\n",
        "\n",
        "        a_1 = torch.sigmoid(normalised_data)\n",
        "\n",
        "        if not test:\n",
        "          # Updating the moving_average values based on mean_of_z1\n",
        "          self.moving_average = self.momentum * (self.moving_average) + (1 - self.momentum) * mean_of_z1\n",
        "          # Updating the moving_average values based on std_of_z1\n",
        "          self.moving_standard_deviation = self.momentum * (self.moving_standard_deviation) + (1 - self.momentum) * std_of_z1\n",
        "\n",
        "\n",
        "        z_2 = torch.mm(a_1, self.weight_o.t()) + self.bias_o\n",
        "        a_2 = torch.sigmoid(z_2)\n",
        "        return a_1, a_2"
      ],
      "metadata": {
        "id": "hRfvkbEJDVsN"
      },
      "execution_count": null,
      "outputs": []
    },
    {
      "cell_type": "code",
      "source": [
        "model = MultilayerPerceptronWithMovingAverage(num_features=28*28,\n",
        "                             num_hidden=15,\n",
        "                             num_classes=10,\n",
        "                             momentum=0.1)"
      ],
      "metadata": {
        "id": "MDC-OEBnLw_4"
      },
      "execution_count": null,
      "outputs": []
    },
    {
      "cell_type": "code",
      "source": [
        "train_loader_list = list(train_loader)\n",
        "features, target = train_loader_list[0]\n",
        "a1, a2 = model.forward(features.view(-1,28 * 28))\n"
      ],
      "metadata": {
        "id": "bL8jBkyHL_U2"
      },
      "execution_count": null,
      "outputs": []
    },
    {
      "cell_type": "code",
      "source": [
        "model.moving_average"
      ],
      "metadata": {
        "colab": {
          "base_uri": "https://localhost:8080/"
        },
        "id": "1rmlw381MAHL",
        "outputId": "61ce725f-5b0d-475f-be0f-9afdff93da40"
      },
      "execution_count": null,
      "outputs": [
        {
          "output_type": "execute_result",
          "data": {
            "text/plain": [
              "tensor([46.6290, 44.9483, 48.9646, 45.4115, 48.1639, 45.4521, 45.4954, 47.3481,\n",
              "        48.9704, 46.0026, 50.9311, 49.8487, 50.9078, 47.6156, 47.4762])"
            ]
          },
          "metadata": {},
          "execution_count": 262
        }
      ]
    },
    {
      "cell_type": "code",
      "source": [
        "model.moving_standard_deviation"
      ],
      "metadata": {
        "colab": {
          "base_uri": "https://localhost:8080/"
        },
        "id": "lYwwPPnkMFaL",
        "outputId": "584765b6-0c90-4344-e613-71ef7361fbf0"
      },
      "execution_count": null,
      "outputs": [
        {
          "output_type": "execute_result",
          "data": {
            "text/plain": [
              "tensor([14.5950, 14.1369, 15.6731, 14.3643, 15.2127, 14.9167, 15.1798, 14.9895,\n",
              "        16.6470, 15.2006, 16.1493, 16.2587, 15.6886, 15.4498, 15.2196])"
            ]
          },
          "metadata": {},
          "execution_count": 263
        }
      ]
    },
    {
      "cell_type": "code",
      "source": [
        "test_loader_list = list(test_loader)\n",
        "features, target = test_loader_list[0]\n",
        "a1, a2 = model.forward(features.view(-1,28 * 28), True)\n"
      ],
      "metadata": {
        "id": "jhfTcJjbMbSa"
      },
      "execution_count": null,
      "outputs": []
    },
    {
      "cell_type": "code",
      "source": [],
      "metadata": {
        "id": "1gh_LBg6Py5C"
      },
      "execution_count": null,
      "outputs": []
    },
    {
      "cell_type": "code",
      "source": [
        "fig, axs = plt.subplots(5, 3)\n",
        "fig.set_figheight(10)\n",
        "fig.set_figwidth(15)\n",
        "cnt = 0\n",
        "for i in range(5):\n",
        "  for j in range(3):\n",
        "    axs[i, j].hist(a1[:, cnt])\n",
        "    cnt += 1\n",
        "\n",
        "\n",
        "\n",
        "\n",
        "\n",
        "\n",
        "\n",
        "\n",
        "\n",
        "\n",
        "\n",
        "\n",
        "\n",
        "\n",
        "\n",
        "\n",
        "\n",
        "\n"
      ],
      "metadata": {
        "colab": {
          "base_uri": "https://localhost:8080/",
          "height": 592
        },
        "id": "D7Aj3Z_aNAEl",
        "outputId": "c5d7d03c-af61-4d3c-a61d-9a76783a7e43"
      },
      "execution_count": null,
      "outputs": [
        {
          "output_type": "display_data",
          "data": {
            "text/plain": [
              "<Figure size 1080x720 with 15 Axes>"
            ],
            "image/png": "[encoded data removed]"
          },
          "metadata": {
            "needs_background": "light"
          }
        }
      ]
    },
    {
      "cell_type": "code",
      "source": [
        "fig, axs = plt.subplots(5, 2)\n",
        "fig.set_figheight(10)\n",
        "fig.set_figwidth(15)\n",
        "cnt = 0\n",
        "for i in range(5):\n",
        "  for j in range(2):\n",
        "    axs[i, j].hist(a2[:, cnt])\n",
        "    cnt += 1\n",
        "\n",
        "\n",
        "\n",
        "\n",
        "\n",
        "\n",
        "\n",
        "\n",
        "\n",
        "\n",
        "\n",
        "\n",
        "\n",
        "\n",
        "\n",
        "\n",
        "\n",
        "\n",
        "\n"
      ],
      "metadata": {
        "colab": {
          "base_uri": "https://localhost:8080/",
          "height": 592
        },
        "id": "3dsSay3GNDs8",
        "outputId": "06cd9ab5-25b4-46e7-b192-48fd17704951"
      },
      "execution_count": null,
      "outputs": [
        {
          "output_type": "display_data",
          "data": {
            "text/plain": [
              "<Figure size 1080x720 with 10 Axes>"
            ],
            "image/png": "[encoded data removed]"
          },
          "metadata": {
            "needs_background": "light"
          }
        }
      ]
    },
    {
      "cell_type": "code",
      "source": [],
      "metadata": {
        "id": "CljejfqwNHF4"
      },
      "execution_count": null,
      "outputs": []
    }
  ]
}