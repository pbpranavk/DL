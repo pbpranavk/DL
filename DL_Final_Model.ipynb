{
  "nbformat": 4,
  "nbformat_minor": 0,
  "metadata": {
    "colab": {
      "provenance": []
    },
    "kernelspec": {
      "name": "python3",
      "display_name": "Python 3"
    },
    "language_info": {
      "name": "python"
    },
    "accelerator": "GPU",
    "gpuClass": "standard"
  },
  "cells": [
    {
      "cell_type": "markdown",
      "source": [
        "## Imports"
      ],
      "metadata": {
        "id": "Mm8XE79FeRSS"
      }
    },
    {
      "cell_type": "code",
      "execution_count": null,
      "metadata": {
        "id": "j1jT_mkCA8a3"
      },
      "outputs": [],
      "source": [
        "import torch\n",
        "import torch.nn as nn\n",
        "import torch.optim as optim\n",
        "from torch.utils.data import DataLoader\n",
        "from torch.utils.data import sampler\n",
        "import torchvision.datasets as dset\n",
        "import torchvision.transforms as T\n",
        "import numpy as np\n",
        "import time\n",
        "from datetime import datetime\n",
        "import matplotlib.pyplot as plt\n",
        "from sklearn.model_selection import train_test_split\n",
        "import matplotlib.pyplot as plt"
      ]
    },
    {
      "cell_type": "code",
      "source": [
        "from google.colab import drive\n",
        "drive.mount('/content/gdrive/', force_remount=True)\n",
        "import sys\n",
        "sys.path.insert(0,'/content/gdrive/My Drive/Colab Notebooks')"
      ],
      "metadata": {
        "colab": {
          "base_uri": "https://localhost:8080/"
        },
        "id": "eR-xdJLnCO30",
        "outputId": "d280e39b-7f06-4e2d-f565-b7819383ca08"
      },
      "execution_count": null,
      "outputs": [
        {
          "output_type": "stream",
          "name": "stdout",
          "text": [
            "Mounted at /content/gdrive/\n"
          ]
        }
      ]
    },
    {
      "cell_type": "code",
      "source": [
        "from project_utilities import Loss\n",
        "from project_utilities import efficiency\n",
        "from project_utilities import ValueSet"
      ],
      "metadata": {
        "id": "CYAGACVgCPMh"
      },
      "execution_count": null,
      "outputs": []
    },
    {
      "cell_type": "code",
      "source": [
        "from helper_funcs import MyDataset\n",
        "from helper_funcs import get_random_indices, plot_values, plot_num_excitations, plot_non_zero_hist, plot_correlation\n",
        "from helper_funcs import get_train_test_split_indices, get_params, train, validate\n",
        "from helper_funcs import plot_training_graphs, plot_results\n"
      ],
      "metadata": {
        "id": "jYR-i2iXCUp6"
      },
      "execution_count": null,
      "outputs": []
    },
    {
      "cell_type": "markdown",
      "source": [
        "## DEVICE"
      ],
      "metadata": {
        "id": "XKfdJWlZCY12"
      }
    },
    {
      "cell_type": "code",
      "source": [
        "CUDA_DEVICE_NUM = 0\n",
        "DEVICE = torch.device(f'cuda:{CUDA_DEVICE_NUM}' if torch.cuda.is_available() else 'cpu')\n",
        "print('Device:', DEVICE)"
      ],
      "metadata": {
        "colab": {
          "base_uri": "https://localhost:8080/"
        },
        "id": "VWt1bSa1CW4y",
        "outputId": "c539761c-8f0d-4153-f616-d1fdb4bee6c2"
      },
      "execution_count": null,
      "outputs": [
        {
          "output_type": "stream",
          "name": "stdout",
          "text": [
            "Device: cuda:0\n"
          ]
        }
      ]
    },
    {
      "cell_type": "code",
      "source": [
        "%env CUBLAS_WORKSPACE_CONFIG=:4096:8"
      ],
      "metadata": {
        "colab": {
          "base_uri": "https://localhost:8080/"
        },
        "id": "KT2ggliBCaRv",
        "outputId": "3870003f-a4cf-4f5b-d11e-6337deaec956"
      },
      "execution_count": null,
      "outputs": [
        {
          "output_type": "stream",
          "name": "stdout",
          "text": [
            "env: CUBLAS_WORKSPACE_CONFIG=:4096:8\n"
          ]
        }
      ]
    },
    {
      "cell_type": "code",
      "source": [
        "import os\n",
        "print(os.environ[\"CUBLAS_WORKSPACE_CONFIG\"])"
      ],
      "metadata": {
        "colab": {
          "base_uri": "https://localhost:8080/"
        },
        "id": "x3AfLf_MCbxX",
        "outputId": "97865118-01bc-40ea-b3f6-8c76d896f927"
      },
      "execution_count": null,
      "outputs": [
        {
          "output_type": "stream",
          "name": "stdout",
          "text": [
            ":4096:8\n"
          ]
        }
      ]
    },
    {
      "cell_type": "code",
      "source": [
        "def set_deterministic():\n",
        "    if torch.cuda.is_available():\n",
        "        torch.backends.cudnn.benchmark = False\n",
        "        torch.backends.cudnn.deterministic = True\n",
        "    torch.use_deterministic_algorithms(True)\n",
        "set_deterministic()"
      ],
      "metadata": {
        "id": "Y7orMB_XCdXm"
      },
      "execution_count": null,
      "outputs": []
    },
    {
      "cell_type": "markdown",
      "source": [
        "## DATA"
      ],
      "metadata": {
        "id": "3S_ci0KLCfY9"
      }
    },
    {
      "cell_type": "code",
      "source": [
        "## Please change directory into\n",
        "%cd /content/gdrive/My Drive/dl_mid3/data"
      ],
      "metadata": {
        "colab": {
          "base_uri": "https://localhost:8080/"
        },
        "id": "brWDlygZCe4K",
        "outputId": "95465ade-bad4-43fc-891c-8d922189d333"
      },
      "execution_count": null,
      "outputs": [
        {
          "output_type": "stream",
          "name": "stdout",
          "text": [
            "/content/gdrive/My Drive/dl_mid3/data\n"
          ]
        }
      ]
    },
    {
      "cell_type": "code",
      "source": [
        "# Getting data set indices to test on\n",
        "train_set_idx_l, val_set_idx_l = get_train_test_split_indices(20)"
      ],
      "metadata": {
        "colab": {
          "base_uri": "https://localhost:8080/"
        },
        "id": "H7PrSb-3CiJS",
        "outputId": "c2841ba6-bdfe-41a3-d4b1-e438af738d6e"
      },
      "execution_count": null,
      "outputs": [
        {
          "output_type": "stream",
          "name": "stdout",
          "text": [
            "Training set len: 59 \n",
            "Training set indices: [74, 22, 41, 30, 75, 40, 31, 8, 14, 69, 21, 20, 72, 36, 52, 45, 34, 68, 18, 61, 49, 53, 23, 38, 65, 44, 62, 2, 19, 76, 25, 10, 79, 67, 73, 39, 46, 77, 7, 56, 78, 43, 9, 13, 63, 58, 11, 47, 48, 26, 27, 32, 70, 4, 42, 28, 15, 66, 51]\n",
            "Validation set len: 20 \n",
            "Validation set indices: [64, 59, 16, 50, 5, 37, 12, 29, 57, 6, 71, 24, 33, 54, 3, 1, 60, 35, 17, 55]\n"
          ]
        }
      ]
    },
    {
      "cell_type": "markdown",
      "source": [
        "## Architecture"
      ],
      "metadata": {
        "id": "ORnN-VOsCuao"
      }
    },
    {
      "cell_type": "code",
      "source": [
        "class Reshape(nn.Module):\n",
        "    def __init__(self, *args):\n",
        "        super().__init__()\n",
        "        self.shape = args\n",
        "\n",
        "    def forward(self, x):\n",
        "        return x.view(self.shape)\n",
        "\n",
        "class ConvolutedEncoder2(torch.nn.Module):\n",
        "  def __init__(self, num_input_features, num_ouput_features):\n",
        "    super(ConvolutedEncoder2, self).__init__()\n",
        "    self.encoder = torch.nn.Sequential(\n",
        "        torch.nn.Conv1d(in_channels=4, out_channels=8, kernel_size=1, stride=1, padding=0),\n",
        "        torch.nn.BatchNorm1d(8),\n",
        "        torch.nn.ReLU(inplace=True),\n",
        "        torch.nn.Conv1d(in_channels=8, out_channels=16, kernel_size=3, stride=1, padding=1),\n",
        "        torch.nn.BatchNorm1d(16),\n",
        "        torch.nn.ReLU(inplace=True),\n",
        "        torch.nn.Conv1d(in_channels=16, out_channels=32, kernel_size=1, stride=1, padding=0),\n",
        "        torch.nn.BatchNorm1d(32),\n",
        "        torch.nn.ReLU(inplace=True),\n",
        "        torch.nn.Conv1d(in_channels=32, out_channels=64, kernel_size=3, stride=1, padding=1),\n",
        "        torch.nn.BatchNorm1d(64),\n",
        "        torch.nn.ReLU(inplace=True),\n",
        "        torch.nn.Conv1d(in_channels=64, out_channels=128, kernel_size=3, stride=1, padding=1),\n",
        "        torch.nn.BatchNorm1d(128),\n",
        "        torch.nn.ReLU(inplace=True),\n",
        "    )\n",
        "\n",
        "    self.decoder = torch.nn.Sequential(\n",
        "        torch.nn.ConvTranspose1d(in_channels=128, out_channels=64, kernel_size=3, stride=1, padding=1),\n",
        "        torch.nn.BatchNorm1d(64),\n",
        "        torch.nn.ReLU(inplace=True),\n",
        "        torch.nn.ConvTranspose1d(in_channels=64, out_channels=32, kernel_size=3, stride=1, padding=1),\n",
        "        torch.nn.BatchNorm1d(32),\n",
        "        torch.nn.ReLU(inplace=True),\n",
        "        torch.nn.ConvTranspose1d(in_channels=32, out_channels=16, kernel_size=1, stride=1, padding=0),\n",
        "        torch.nn.BatchNorm1d(16),\n",
        "        torch.nn.ReLU(inplace=True),\n",
        "        torch.nn.ConvTranspose1d(in_channels=16, out_channels=8, kernel_size=3, stride=1, padding=1),\n",
        "        torch.nn.BatchNorm1d(8),\n",
        "        torch.nn.ReLU(inplace=True),\n",
        "        torch.nn.ConvTranspose1d(in_channels=8, out_channels=1, kernel_size=1, stride=1, padding=0),\n",
        "        torch.nn.BatchNorm1d(1),\n",
        "        torch.nn.ReLU(inplace=True),\n",
        "        torch.nn.Flatten(),\n",
        "    )\n",
        "\n",
        "\n",
        "  def forward(self, x):\n",
        "    x = self.encoder(x)\n",
        "    x = self.decoder(x)\n",
        "    return x"
      ],
      "metadata": {
        "id": "cZ5AWLE2Cvlc"
      },
      "execution_count": null,
      "outputs": []
    },
    {
      "cell_type": "code",
      "source": [
        "loss_model = Loss(0.00001)\n",
        "model = ConvolutedEncoder2(4*4000, 4000)\n",
        "model.to(DEVICE)"
      ],
      "metadata": {
        "colab": {
          "base_uri": "https://localhost:8080/"
        },
        "id": "ln7t5JmICwkA",
        "outputId": "2dca25fc-ee43-4c24-f0d9-d0a4882164ca"
      },
      "execution_count": null,
      "outputs": [
        {
          "output_type": "execute_result",
          "data": {
            "text/plain": [
              "ConvolutedEncoder2(\n",
              "  (encoder): Sequential(\n",
              "    (0): Conv1d(4, 8, kernel_size=(1,), stride=(1,))\n",
              "    (1): BatchNorm1d(8, eps=1e-05, momentum=0.1, affine=True, track_running_stats=True)\n",
              "    (2): ReLU(inplace=True)\n",
              "    (3): Conv1d(8, 16, kernel_size=(3,), stride=(1,), padding=(1,))\n",
              "    (4): BatchNorm1d(16, eps=1e-05, momentum=0.1, affine=True, track_running_stats=True)\n",
              "    (5): ReLU(inplace=True)\n",
              "    (6): Conv1d(16, 32, kernel_size=(1,), stride=(1,))\n",
              "    (7): BatchNorm1d(32, eps=1e-05, momentum=0.1, affine=True, track_running_stats=True)\n",
              "    (8): ReLU(inplace=True)\n",
              "    (9): Conv1d(32, 64, kernel_size=(3,), stride=(1,), padding=(1,))\n",
              "    (10): BatchNorm1d(64, eps=1e-05, momentum=0.1, affine=True, track_running_stats=True)\n",
              "    (11): ReLU(inplace=True)\n",
              "    (12): Conv1d(64, 128, kernel_size=(3,), stride=(1,), padding=(1,))\n",
              "    (13): BatchNorm1d(128, eps=1e-05, momentum=0.1, affine=True, track_running_stats=True)\n",
              "    (14): ReLU(inplace=True)\n",
              "  )\n",
              "  (decoder): Sequential(\n",
              "    (0): ConvTranspose1d(128, 64, kernel_size=(3,), stride=(1,), padding=(1,))\n",
              "    (1): BatchNorm1d(64, eps=1e-05, momentum=0.1, affine=True, track_running_stats=True)\n",
              "    (2): ReLU(inplace=True)\n",
              "    (3): ConvTranspose1d(64, 32, kernel_size=(3,), stride=(1,), padding=(1,))\n",
              "    (4): BatchNorm1d(32, eps=1e-05, momentum=0.1, affine=True, track_running_stats=True)\n",
              "    (5): ReLU(inplace=True)\n",
              "    (6): ConvTranspose1d(32, 16, kernel_size=(1,), stride=(1,))\n",
              "    (7): BatchNorm1d(16, eps=1e-05, momentum=0.1, affine=True, track_running_stats=True)\n",
              "    (8): ReLU(inplace=True)\n",
              "    (9): ConvTranspose1d(16, 8, kernel_size=(3,), stride=(1,), padding=(1,))\n",
              "    (10): BatchNorm1d(8, eps=1e-05, momentum=0.1, affine=True, track_running_stats=True)\n",
              "    (11): ReLU(inplace=True)\n",
              "    (12): ConvTranspose1d(8, 1, kernel_size=(1,), stride=(1,))\n",
              "    (13): BatchNorm1d(1, eps=1e-05, momentum=0.1, affine=True, track_running_stats=True)\n",
              "    (14): ReLU(inplace=True)\n",
              "    (15): Flatten(start_dim=1, end_dim=-1)\n",
              "  )\n",
              ")"
            ]
          },
          "metadata": {},
          "execution_count": 12
        }
      ]
    },
    {
      "cell_type": "code",
      "source": [
        "# Changing location to load parameters\n",
        "%cd /content/"
      ],
      "metadata": {
        "colab": {
          "base_uri": "https://localhost:8080/"
        },
        "id": "WTKuSbA5DlhZ",
        "outputId": "ca428cf8-47be-4dc8-acbc-592cc7dd1bbf"
      },
      "execution_count": null,
      "outputs": [
        {
          "output_type": "stream",
          "name": "stdout",
          "text": [
            "/content\n"
          ]
        }
      ]
    },
    {
      "cell_type": "code",
      "source": [
        "model.load_state_dict(torch.load(\"./M14883318_model_conv_encoder_2_rms.pt\"))"
      ],
      "metadata": {
        "colab": {
          "base_uri": "https://localhost:8080/"
        },
        "id": "LMZ73SMuCzE8",
        "outputId": "a3cd99cf-d6cd-4b99-b798-b2498c0c1d85"
      },
      "execution_count": null,
      "outputs": [
        {
          "output_type": "execute_result",
          "data": {
            "text/plain": [
              "<All keys matched successfully>"
            ]
          },
          "metadata": {},
          "execution_count": 15
        }
      ]
    },
    {
      "cell_type": "code",
      "source": [
        "#Changing directory for data\n",
        "%cd /content/gdrive/My Drive/dl_mid3/data"
      ],
      "metadata": {
        "colab": {
          "base_uri": "https://localhost:8080/"
        },
        "id": "_cfDptBxDo6C",
        "outputId": "a16b3596-5ac1-4cc1-b03c-b2ca4cd9d422"
      },
      "execution_count": null,
      "outputs": [
        {
          "output_type": "stream",
          "name": "stdout",
          "text": [
            "/content/gdrive/My Drive/dl_mid3/data\n"
          ]
        }
      ]
    },
    {
      "cell_type": "markdown",
      "source": [
        "### This validation function is coming from my helper files.\n",
        "### It is just a wrapper function to the validation function that we were given, I just used it to make the notebook cleaner as well as pass in the DEVICE as argument so that it can get trained on GPU."
      ],
      "metadata": {
        "id": "10f9CySE_rVz"
      }
    },
    {
      "cell_type": "code",
      "source": [
        "loss_val, eff_rate, fp_rate = validate(model, DEVICE, loss_model, val_set_idx_l)\n",
        "print('Loss: %0.3f ' % loss_val, end=\"\")\n",
        "print('  Efficiency: %0.3f' % eff_rate, end=\"\")\n",
        "print('  False positive rate: %0.3f' % fp_rate)"
      ],
      "metadata": {
        "colab": {
          "base_uri": "https://localhost:8080/"
        },
        "id": "qGQh6tMUDCKQ",
        "outputId": "c64a6d1e-6cae-41d7-d8db-32cb0966ffce"
      },
      "execution_count": null,
      "outputs": [
        {
          "output_type": "stream",
          "name": "stdout",
          "text": [
            "Validating \n",
            "64\n",
            "59\n",
            "16\n",
            "50\n",
            "5\n",
            "37\n",
            "12\n",
            "29\n",
            "57\n",
            "6\n",
            "71\n",
            "24\n",
            "33\n",
            "54\n",
            "3\n",
            "1\n",
            "60\n",
            "35\n",
            "17\n",
            "55\n",
            "Loss: 0.063   Efficiency: 0.822  False positive rate: 0.282\n"
          ]
        }
      ]
    },
    {
      "cell_type": "code",
      "source": [],
      "metadata": {
        "id": "4XdObbigDpzB"
      },
      "execution_count": null,
      "outputs": []
    }
  ]
}