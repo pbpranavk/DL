{
  "nbformat": 4,
  "nbformat_minor": 0,
  "metadata": {
    "colab": {
      "provenance": []
    },
    "kernelspec": {
      "name": "python3",
      "display_name": "Python 3"
    },
    "language_info": {
      "name": "python"
    }
  },
  "cells": [
    {
      "cell_type": "code",
      "source": [
        "import numpy as np"
      ],
      "metadata": {
        "id": "wk1sme_-acix"
      },
      "execution_count": null,
      "outputs": []
    },
    {
      "cell_type": "code",
      "execution_count": null,
      "metadata": {
        "id": "zTkBFygBV1Ah"
      },
      "outputs": [],
      "source": [
        "input_mat = np.array([[1,0,0,0,1],\n",
        "             [0,1,0,1,0],\n",
        "             [0,0,1,0,0],\n",
        "             [0,1,0,1,0],\n",
        "             [1,0,0,0,1]\n",
        "             ])"
      ]
    },
    {
      "cell_type": "code",
      "source": [
        "filter1= np.array([[1,0,1],\n",
        "          [0,1,0],\n",
        "          [1,0,1]])"
      ],
      "metadata": {
        "id": "v4dKWrKqWLvl"
      },
      "execution_count": null,
      "outputs": []
    },
    {
      "cell_type": "code",
      "source": [
        "output_mat = []\n",
        "for i in range(3):\n",
        "  temp = []\n",
        "  for j in range(3):\n",
        "    temp.append(np.sum(input_mat[i:i+3,j:j+3]*filter1))\n",
        "  output_mat.append(temp)"
      ],
      "metadata": {
        "id": "Z4gSPdk_WTwg"
      },
      "execution_count": null,
      "outputs": []
    },
    {
      "cell_type": "code",
      "source": [
        "output_mat\n",
        "\n",
        "## Pretty Priniting\n",
        "print(\"[\", end=\"\")\n",
        "for idx, i in  enumerate(output_mat):\n",
        "  print(i, end=\"\" if idx == 2 else \"\\n\")\n",
        "print(\"]\", end=\" \")"
      ],
      "metadata": {
        "colab": {
          "base_uri": "https://localhost:8080/"
        },
        "id": "EZGL9vtiWk1s",
        "outputId": "dfd7d1cd-3777-4a74-aee7-9aecd1433e33"
      },
      "execution_count": null,
      "outputs": [
        {
          "output_type": "stream",
          "name": "stdout",
          "text": [
            "[[3, 0, 3]\n",
            "[0, 5, 0]\n",
            "[3, 0, 3]] "
          ]
        }
      ]
    },
    {
      "cell_type": "code",
      "source": [
        "filter2 = np.array([[1, 0, 0],\n",
        "                    [0, 1, 0],\n",
        "                    [0, 0, 1]])"
      ],
      "metadata": {
        "id": "PoWVfPuBa1O7"
      },
      "execution_count": null,
      "outputs": []
    },
    {
      "cell_type": "code",
      "source": [
        "output_mat2 = []\n",
        "for i in range(3):\n",
        "  temp = []\n",
        "  for j in range(3):\n",
        "    temp.append(np.sum(input_mat[i:i+3,j:j+3]*filter2))\n",
        "  output_mat2.append(temp)"
      ],
      "metadata": {
        "id": "dd4BI3D6WmNg"
      },
      "execution_count": null,
      "outputs": []
    },
    {
      "cell_type": "code",
      "source": [
        "## Pretty Priniting\n",
        "print(\"[\", end=\"\")\n",
        "for idx, i in  enumerate(output_mat2):\n",
        "  print(i, end=\"\" if idx == 2 else \"\\n\")\n",
        "print(\"]\", end=\" \")"
      ],
      "metadata": {
        "colab": {
          "base_uri": "https://localhost:8080/"
        },
        "id": "A5XV4Acja__u",
        "outputId": "43f98acb-a12c-4a40-836e-423a80243024"
      },
      "execution_count": null,
      "outputs": [
        {
          "output_type": "stream",
          "name": "stdout",
          "text": [
            "[[3, 0, 1]\n",
            "[0, 3, 0]\n",
            "[1, 0, 3]] "
          ]
        }
      ]
    },
    {
      "cell_type": "code",
      "source": [
        "filter3 = np.array([[0, 0, 1],\n",
        "                    [0, 1, 0],\n",
        "                    [1, 0, 0]])"
      ],
      "metadata": {
        "id": "wLKhXM3ZbBLg"
      },
      "execution_count": null,
      "outputs": []
    },
    {
      "cell_type": "code",
      "source": [
        "output_mat3 = []\n",
        "for i in range(3):\n",
        "  temp = []\n",
        "  for j in range(3):\n",
        "    temp.append(np.sum(input_mat[i:i+3,j:j+3]*filter3))\n",
        "  output_mat3.append(temp)"
      ],
      "metadata": {
        "id": "Up41TpMqbJd1"
      },
      "execution_count": null,
      "outputs": []
    },
    {
      "cell_type": "code",
      "source": [
        "## Pretty Priniting\n",
        "print(\"[\", end=\"\")\n",
        "for idx, i in  enumerate(output_mat3):\n",
        "  print(i, end=\"\" if idx == 2 else \"\\n\")\n",
        "print(\"]\", end=\" \")"
      ],
      "metadata": {
        "colab": {
          "base_uri": "https://localhost:8080/"
        },
        "id": "wwL68ptjbOES",
        "outputId": "62e2619d-1a6c-4589-fef2-7da4f7592212"
      },
      "execution_count": null,
      "outputs": [
        {
          "output_type": "stream",
          "name": "stdout",
          "text": [
            "[[1, 0, 3]\n",
            "[0, 3, 0]\n",
            "[3, 0, 1]] "
          ]
        }
      ]
    },
    {
      "cell_type": "code",
      "source": [],
      "metadata": {
        "id": "jvvWh-INbPL5"
      },
      "execution_count": null,
      "outputs": []
    }
  ]
}