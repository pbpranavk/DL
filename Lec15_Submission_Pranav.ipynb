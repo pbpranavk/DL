{
  "nbformat": 4,
  "nbformat_minor": 0,
  "metadata": {
    "colab": {
      "provenance": []
    },
    "kernelspec": {
      "name": "python3",
      "display_name": "Python 3"
    },
    "language_info": {
      "name": "python"
    }
  },
  "cells": [
    {
      "cell_type": "code",
      "execution_count": null,
      "metadata": {
        "id": "TDX7NeU8IupT"
      },
      "outputs": [],
      "source": [
        "import torch\n",
        "import torch.nn.functional as F\n",
        "import pandas as pd\n",
        "import time\n",
        "import matplotlib.pyplot as plt\n",
        "%matplotlib inline\n",
        "\n",
        "RANDOM_SEED = 123\n",
        "DEVICE = ('cuda:0' if torch.cuda.is_available() else 'cpu')"
      ]
    },
    {
      "cell_type": "code",
      "source": [
        "df = pd.read_csv('xor.csv')\n",
        "X = df[['x1', 'x2']].values\n",
        "y = df['class label'].values"
      ],
      "metadata": {
        "id": "qfQZQC6JI9RP"
      },
      "execution_count": null,
      "outputs": []
    },
    {
      "cell_type": "code",
      "source": [
        "plt.scatter(X[y==0, 0], X[y==0, 1], marker='o')\n",
        "plt.scatter(X[y==1, 0], X[y==1, 1], marker='s')\n",
        "\n",
        "plt.tight_layout()\n",
        "#plt.savefig('xor.pdf')\n",
        "plt.show()"
      ],
      "metadata": {
        "colab": {
          "base_uri": "https://localhost:8080/",
          "height": 297
        },
        "id": "3xxIgVnuI-qW",
        "outputId": "f16e5060-ff68-4adc-bf22-4b514f49ca1f"
      },
      "execution_count": null,
      "outputs": [
        {
          "output_type": "display_data",
          "data": {
            "text/plain": [
              "<Figure size 432x288 with 1 Axes>"
            ],
            "image/png": "[encoded data removed]"
          },
          "metadata": {
            "needs_background": "light"
          }
        }
      ]
    },
    {
      "cell_type": "code",
      "source": [
        "y.shape"
      ],
      "metadata": {
        "colab": {
          "base_uri": "https://localhost:8080/"
        },
        "id": "mw6RtzCiJdW0",
        "outputId": "1897d944-5321-42a4-bc9c-1235b1e34f05"
      },
      "execution_count": null,
      "outputs": [
        {
          "output_type": "execute_result",
          "data": {
            "text/plain": [
              "(750,)"
            ]
          },
          "metadata": {},
          "execution_count": 90
        }
      ]
    },
    {
      "cell_type": "code",
      "source": [
        "X_train, X_test = X[:100], X[100:]\n",
        "Y_train, Y_test = y[:100], y[100:]"
      ],
      "metadata": {
        "id": "bcPyqwHRJpeF"
      },
      "execution_count": null,
      "outputs": []
    },
    {
      "cell_type": "code",
      "source": [
        "print(X_train.shape, X_test.shape)\n",
        "print(Y_train.shape, Y_test.shape)"
      ],
      "metadata": {
        "colab": {
          "base_uri": "https://localhost:8080/"
        },
        "id": "aJOpHSFXJyVW",
        "outputId": "3d8069d7-e1e7-441e-f49d-289491028c38"
      },
      "execution_count": null,
      "outputs": [
        {
          "output_type": "stream",
          "name": "stdout",
          "text": [
            "(100, 2) (650, 2)\n",
            "(100,) (650,)\n"
          ]
        }
      ]
    },
    {
      "cell_type": "code",
      "source": [
        "from matplotlib.colors import ListedColormap\n",
        "import numpy as np\n",
        "\n",
        "\n",
        "def plot_decision_regions(X, y, classifier, resolution=0.02):\n",
        "\n",
        "    # setup marker generator and color map\n",
        "    markers = ('s', 'x', 'o', '^', 'v')\n",
        "    colors = ('red', 'blue', 'lightgreen', 'gray', 'cyan')\n",
        "    cmap = ListedColormap(colors[:len(np.unique(y))])\n",
        "\n",
        "    # plot the decision surface\n",
        "    x1_min, x1_max = X[:, 0].min() - 1, X[:, 0].max() + 1\n",
        "    x2_min, x2_max = X[:, 1].min() - 1, X[:, 1].max() + 1\n",
        "    xx1, xx2 = np.meshgrid(np.arange(x1_min, x1_max, resolution),\n",
        "                           np.arange(x2_min, x2_max, resolution))\n",
        "    tensor = torch.tensor(np.array([xx1.ravel(), xx2.ravel()]).T).float()\n",
        "    logits, probas = classifier.forward(tensor)\n",
        "    Z = np.argmax(probas.detach().numpy(), axis=1)\n",
        "\n",
        "    Z = Z.reshape(xx1.shape)\n",
        "    plt.contourf(xx1, xx2, Z, alpha=0.4, cmap=cmap)\n",
        "    plt.xlim(xx1.min(), xx1.max())\n",
        "    plt.ylim(xx2.min(), xx2.max())\n",
        "\n",
        "    # plot class samples\n",
        "    for idx, cl in enumerate(np.unique(y)):\n",
        "        plt.scatter(x=X[y == cl, 0], y=X[y == cl, 1],\n",
        "                    alpha=0.8, color=cmap(idx),\n",
        "                    edgecolor='black',\n",
        "                    marker=markers[idx],\n",
        "                    label=cl)"
      ],
      "metadata": {
        "id": "nbwRjTyJJW8h"
      },
      "execution_count": null,
      "outputs": []
    },
    {
      "cell_type": "code",
      "source": [
        "class MLPReLU(torch.nn.Module):\n",
        "\n",
        "    def __init__(self, num_features, num_hidden_1, num_classes):\n",
        "        super(MLPReLU, self).__init__()\n",
        "\n",
        "        self.num_classes = num_classes\n",
        "\n",
        "        self.linear_1 = torch.nn.Linear(num_features, num_hidden_1)\n",
        "        self.linear_out = torch.nn.Linear(num_hidden_1, num_classes)\n",
        "\n",
        "    def forward(self, x):\n",
        "\n",
        "        out = self.linear_1(x)\n",
        "        out = F.relu(out)\n",
        "\n",
        "        logits = self.linear_out(out)\n",
        "        probas = F.softmax(logits, dim=1)\n",
        "        return logits, probas\n",
        "\n",
        "    def predict_labels(self, x):\n",
        "        logits, probas = self.forward(torch.tensor(x, dtype=torch.float).to(DEVICE))\n",
        "        Z = np.argmax(probas.detach().numpy(), axis=1)\n",
        "        return Z\n",
        "\n",
        "    def train(self, x, y):\n",
        "      start_time = time.time()\n",
        "      minibatch_cost = []\n",
        "\n",
        "      NUM_EPOCHS = 25\n",
        "\n",
        "      features = torch.tensor(x, dtype=torch.float).to(DEVICE)\n",
        "      targets = torch.tensor(y, dtype=torch.long).to(DEVICE)\n",
        "\n",
        "\n",
        "      for epoch in range(NUM_EPOCHS):\n",
        "\n",
        "          ### FORWARD AND BACK PROP\n",
        "          logits, probas = self.forward(features)\n",
        "\n",
        "          cost = F.cross_entropy(logits, targets)\n",
        "          optimizer.zero_grad()\n",
        "\n",
        "          cost.backward()\n",
        "          minibatch_cost.append(cost)\n",
        "          ### UPDATE MODEL PARAMETERS\n",
        "          optimizer.step()\n",
        "\n",
        "\n",
        "          ### LOGGING\n",
        "\n",
        "          print (f'Epoch: {epoch+1:03d}/{NUM_EPOCHS:03d} | Cost: {cost:.4f}')\n",
        "\n",
        "      print('Total Training Time: %.2f min' % ((time.time() - start_time)/60))\n",
        "\n",
        "    def evaluate(self, x, y):\n",
        "        labels = self.predict_labels(x)\n",
        "        # print(labels, y, torch.tensor(labels), torch.tensor(y))\n",
        "        # print(torch.tensor(labels) == torch.tensor(y))\n",
        "        # print(torch.sum(torch.tensor(labels) == torch.tensor(y)))\n",
        "        # print(torch.sum(torch.tensor(labels) == torch.tensor(y)).item())\n",
        "        # print(len(y))\n",
        "        accuracy = torch.sum(torch.tensor(labels, dtype=torch.float).float() == torch.tensor(y, dtype=torch.float).float()).item() / len(y)\n",
        "        return accuracy\n"
      ],
      "metadata": {
        "id": "nxYniy7PI_4G"
      },
      "execution_count": null,
      "outputs": []
    },
    {
      "cell_type": "code",
      "source": [
        "train_accuracies = []\n",
        "test_accuracies = []"
      ],
      "metadata": {
        "id": "p4OgeBcYQV0u"
      },
      "execution_count": null,
      "outputs": []
    },
    {
      "cell_type": "markdown",
      "source": [
        "## 10 Hidden Neurons"
      ],
      "metadata": {
        "id": "E9QzZyFAJ-jS"
      }
    },
    {
      "cell_type": "code",
      "source": [
        "torch.manual_seed(RANDOM_SEED)\n",
        "\n",
        "model_10 = MLPReLU(num_features=2,\n",
        "                num_hidden_1=10,\n",
        "                num_classes=2)\n",
        "\n",
        "model_10 = model_10.to(DEVICE)\n",
        "\n",
        "optimizer = torch.optim.SGD(model_10.parameters(), lr=0.1)"
      ],
      "metadata": {
        "id": "Khv7G_WeJJYd"
      },
      "execution_count": null,
      "outputs": []
    },
    {
      "cell_type": "code",
      "source": [
        "model_10.train(X_train, Y_train)"
      ],
      "metadata": {
        "colab": {
          "base_uri": "https://localhost:8080/"
        },
        "id": "DI-2lblSJKJH",
        "outputId": "b1c9fe73-7252-441e-93e3-f36822260ab1"
      },
      "execution_count": null,
      "outputs": [
        {
          "output_type": "stream",
          "name": "stdout",
          "text": [
            "Epoch: 001/025 | Cost: 0.7479\n",
            "Epoch: 002/025 | Cost: 0.7407\n",
            "Epoch: 003/025 | Cost: 0.7344\n",
            "Epoch: 004/025 | Cost: 0.7288\n",
            "Epoch: 005/025 | Cost: 0.7237\n",
            "Epoch: 006/025 | Cost: 0.7190\n",
            "Epoch: 007/025 | Cost: 0.7146\n",
            "Epoch: 008/025 | Cost: 0.7105\n",
            "Epoch: 009/025 | Cost: 0.7067\n",
            "Epoch: 010/025 | Cost: 0.7031\n",
            "Epoch: 011/025 | Cost: 0.6996\n",
            "Epoch: 012/025 | Cost: 0.6963\n",
            "Epoch: 013/025 | Cost: 0.6931\n",
            "Epoch: 014/025 | Cost: 0.6900\n",
            "Epoch: 015/025 | Cost: 0.6870\n",
            "Epoch: 016/025 | Cost: 0.6841\n",
            "Epoch: 017/025 | Cost: 0.6812\n",
            "Epoch: 018/025 | Cost: 0.6783\n",
            "Epoch: 019/025 | Cost: 0.6755\n",
            "Epoch: 020/025 | Cost: 0.6727\n",
            "Epoch: 021/025 | Cost: 0.6700\n",
            "Epoch: 022/025 | Cost: 0.6674\n",
            "Epoch: 023/025 | Cost: 0.6647\n",
            "Epoch: 024/025 | Cost: 0.6620\n",
            "Epoch: 025/025 | Cost: 0.6594\n",
            "Total Training Time: 0.00 min\n"
          ]
        }
      ]
    },
    {
      "cell_type": "code",
      "source": [
        "features = torch.tensor(X_train, dtype=torch.float).to(DEVICE)\n",
        "targets = torch.tensor(Y_train, dtype=torch.long).to(DEVICE)\n",
        "\n",
        "plot_decision_regions(features, targets, classifier=model_10)\n",
        "\n",
        "plt.tight_layout()\n",
        "#plt.savefig('xor2.pdf')\n",
        "plt.show()"
      ],
      "metadata": {
        "colab": {
          "base_uri": "https://localhost:8080/",
          "height": 297
        },
        "id": "29rdATYmJO-b",
        "outputId": "0058bcaa-c29b-42a8-b59e-0c985b59e7ba"
      },
      "execution_count": null,
      "outputs": [
        {
          "output_type": "display_data",
          "data": {
            "text/plain": [
              "<Figure size 432x288 with 1 Axes>"
            ],
            "image/png": "[encoded data removed]"
          },
          "metadata": {
            "needs_background": "light"
          }
        }
      ]
    },
    {
      "cell_type": "code",
      "source": [
        "train_accuracies.append(model_10.evaluate(X_train, Y_train))\n",
        "print(model_10.evaluate(X_train, Y_train))\n",
        "\n",
        "test_accuracies.append(model_10.evaluate(X_test, Y_test))\n",
        "print(model_10.evaluate(X_test, Y_test))"
      ],
      "metadata": {
        "colab": {
          "base_uri": "https://localhost:8080/"
        },
        "id": "20uGotpqMRyV",
        "outputId": "1ea0ef58-143b-4899-8239-03dc773dbabc"
      },
      "execution_count": null,
      "outputs": [
        {
          "output_type": "stream",
          "name": "stdout",
          "text": [
            "0.58\n",
            "0.6569230769230769\n"
          ]
        }
      ]
    },
    {
      "cell_type": "markdown",
      "source": [
        "## 25"
      ],
      "metadata": {
        "id": "_iIcaujEPSOB"
      }
    },
    {
      "cell_type": "code",
      "source": [
        "torch.manual_seed(RANDOM_SEED)\n",
        "\n",
        "model_25 = MLPReLU(num_features=2,\n",
        "                num_hidden_1=25,\n",
        "                num_classes=2)\n",
        "\n",
        "model_25 = model_25.to(DEVICE)\n",
        "\n",
        "optimizer = torch.optim.SGD(model_25.parameters(), lr=0.1)\n",
        "\n",
        "model_25.train(X_train, Y_train)\n",
        "\n",
        "features = torch.tensor(X_train, dtype=torch.float).to(DEVICE)\n",
        "targets = torch.tensor(Y_train, dtype=torch.long).to(DEVICE)\n",
        "\n",
        "plot_decision_regions(features, targets, classifier=model_25)\n",
        "\n",
        "plt.tight_layout()\n",
        "#plt.savefig('xor2.pdf')\n",
        "plt.show()\n",
        "\n",
        "train_accuracies.append(model_25.evaluate(X_train, Y_train))\n",
        "print(model_25.evaluate(X_train, Y_train))\n",
        "\n",
        "test_accuracies.append(model_25.evaluate(X_test, Y_test))\n",
        "print(model_25.evaluate(X_test, Y_test))"
      ],
      "metadata": {
        "colab": {
          "base_uri": "https://localhost:8080/",
          "height": 783
        },
        "id": "WyMGcf5eM3cz",
        "outputId": "291646d9-290b-4c06-ea44-c36bfe522f00"
      },
      "execution_count": null,
      "outputs": [
        {
          "output_type": "stream",
          "name": "stdout",
          "text": [
            "Epoch: 001/025 | Cost: 0.7460\n",
            "Epoch: 002/025 | Cost: 0.7177\n",
            "Epoch: 003/025 | Cost: 0.6955\n",
            "Epoch: 004/025 | Cost: 0.6773\n",
            "Epoch: 005/025 | Cost: 0.6618\n",
            "Epoch: 006/025 | Cost: 0.6482\n",
            "Epoch: 007/025 | Cost: 0.6358\n",
            "Epoch: 008/025 | Cost: 0.6243\n",
            "Epoch: 009/025 | Cost: 0.6135\n",
            "Epoch: 010/025 | Cost: 0.6031\n",
            "Epoch: 011/025 | Cost: 0.5931\n",
            "Epoch: 012/025 | Cost: 0.5834\n",
            "Epoch: 013/025 | Cost: 0.5739\n",
            "Epoch: 014/025 | Cost: 0.5647\n",
            "Epoch: 015/025 | Cost: 0.5556\n",
            "Epoch: 016/025 | Cost: 0.5467\n",
            "Epoch: 017/025 | Cost: 0.5378\n",
            "Epoch: 018/025 | Cost: 0.5291\n",
            "Epoch: 019/025 | Cost: 0.5205\n",
            "Epoch: 020/025 | Cost: 0.5120\n",
            "Epoch: 021/025 | Cost: 0.5035\n",
            "Epoch: 022/025 | Cost: 0.4951\n",
            "Epoch: 023/025 | Cost: 0.4868\n",
            "Epoch: 024/025 | Cost: 0.4786\n",
            "Epoch: 025/025 | Cost: 0.4704\n",
            "Total Training Time: 0.00 min\n"
          ]
        },
        {
          "output_type": "display_data",
          "data": {
            "text/plain": [
              "<Figure size 432x288 with 1 Axes>"
            ],
            "image/png": "[encoded data removed]"
          },
          "metadata": {
            "needs_background": "light"
          }
        },
        {
          "output_type": "stream",
          "name": "stdout",
          "text": [
            "0.97\n",
            "0.9784615384615385\n"
          ]
        }
      ]
    },
    {
      "cell_type": "markdown",
      "source": [
        "## 50"
      ],
      "metadata": {
        "id": "qIh7ps64Pf0v"
      }
    },
    {
      "cell_type": "code",
      "source": [
        "torch.manual_seed(RANDOM_SEED)\n",
        "\n",
        "model_50 = MLPReLU(num_features=2,\n",
        "                num_hidden_1=50,\n",
        "                num_classes=2)\n",
        "\n",
        "model_50 = model_50.to(DEVICE)\n",
        "\n",
        "optimizer = torch.optim.SGD(model_50.parameters(), lr=0.1)\n",
        "\n",
        "model_50.train(X_train, Y_train)\n",
        "\n",
        "features = torch.tensor(X_train, dtype=torch.float).to(DEVICE)\n",
        "targets = torch.tensor(Y_train, dtype=torch.long).to(DEVICE)\n",
        "\n",
        "plot_decision_regions(features, targets, classifier=model_50)\n",
        "\n",
        "plt.tight_layout()\n",
        "#plt.savefig('xor2.pdf')\n",
        "plt.show()\n",
        "\n",
        "train_accuracies.append(model_50.evaluate(X_train, Y_train))\n",
        "print(model_50.evaluate(X_train, Y_train))\n",
        "\n",
        "test_accuracies.append(model_50.evaluate(X_test, Y_test))\n",
        "print(model_50.evaluate(X_test, Y_test))"
      ],
      "metadata": {
        "colab": {
          "base_uri": "https://localhost:8080/",
          "height": 783
        },
        "id": "mzkm1XDTPcnU",
        "outputId": "ff4c6475-a012-4ae4-d956-3c1cdeff4760"
      },
      "execution_count": null,
      "outputs": [
        {
          "output_type": "stream",
          "name": "stdout",
          "text": [
            "Epoch: 001/025 | Cost: 0.7189\n",
            "Epoch: 002/025 | Cost: 0.6914\n",
            "Epoch: 003/025 | Cost: 0.6671\n",
            "Epoch: 004/025 | Cost: 0.6446\n",
            "Epoch: 005/025 | Cost: 0.6236\n",
            "Epoch: 006/025 | Cost: 0.6037\n",
            "Epoch: 007/025 | Cost: 0.5848\n",
            "Epoch: 008/025 | Cost: 0.5668\n",
            "Epoch: 009/025 | Cost: 0.5496\n",
            "Epoch: 010/025 | Cost: 0.5332\n",
            "Epoch: 011/025 | Cost: 0.5174\n",
            "Epoch: 012/025 | Cost: 0.5022\n",
            "Epoch: 013/025 | Cost: 0.4877\n",
            "Epoch: 014/025 | Cost: 0.4737\n",
            "Epoch: 015/025 | Cost: 0.4602\n",
            "Epoch: 016/025 | Cost: 0.4472\n",
            "Epoch: 017/025 | Cost: 0.4347\n",
            "Epoch: 018/025 | Cost: 0.4226\n",
            "Epoch: 019/025 | Cost: 0.4109\n",
            "Epoch: 020/025 | Cost: 0.3997\n",
            "Epoch: 021/025 | Cost: 0.3889\n",
            "Epoch: 022/025 | Cost: 0.3784\n",
            "Epoch: 023/025 | Cost: 0.3682\n",
            "Epoch: 024/025 | Cost: 0.3585\n",
            "Epoch: 025/025 | Cost: 0.3491\n",
            "Total Training Time: 0.00 min\n"
          ]
        },
        {
          "output_type": "display_data",
          "data": {
            "text/plain": [
              "<Figure size 432x288 with 1 Axes>"
            ],
            "image/png": "[encoded data removed]"
          },
          "metadata": {
            "needs_background": "light"
          }
        },
        {
          "output_type": "stream",
          "name": "stdout",
          "text": [
            "1.0\n",
            "0.9876923076923076\n"
          ]
        }
      ]
    },
    {
      "cell_type": "markdown",
      "source": [
        "## 100"
      ],
      "metadata": {
        "id": "DnRHicy7Plc_"
      }
    },
    {
      "cell_type": "code",
      "source": [
        "torch.manual_seed(RANDOM_SEED)\n",
        "\n",
        "model_100 = MLPReLU(num_features=2,\n",
        "                num_hidden_1=100,\n",
        "                num_classes=2)\n",
        "\n",
        "model_100 = model_100.to(DEVICE)\n",
        "\n",
        "optimizer = torch.optim.SGD(model_100.parameters(), lr=0.1)\n",
        "\n",
        "model_100.train(X_train, Y_train)\n",
        "\n",
        "features = torch.tensor(X_train, dtype=torch.float).to(DEVICE)\n",
        "targets = torch.tensor(Y_train, dtype=torch.long).to(DEVICE)\n",
        "\n",
        "plot_decision_regions(features, targets, classifier=model_100)\n",
        "\n",
        "plt.tight_layout()\n",
        "#plt.savefig('xor2.pdf')\n",
        "plt.show()\n",
        "\n",
        "train_accuracies.append(model_100.evaluate(X_train, Y_train))\n",
        "print(model_100.evaluate(X_train, Y_train))\n",
        "\n",
        "test_accuracies.append(model_100.evaluate(X_test, Y_test))\n",
        "print(model_100.evaluate(X_test, Y_test))"
      ],
      "metadata": {
        "colab": {
          "base_uri": "https://localhost:8080/",
          "height": 783
        },
        "id": "f44SHoFsPhlc",
        "outputId": "9fac31af-5fbc-4b9e-bdf1-8561331b7250"
      },
      "execution_count": null,
      "outputs": [
        {
          "output_type": "stream",
          "name": "stdout",
          "text": [
            "Epoch: 001/025 | Cost: 0.7917\n",
            "Epoch: 002/025 | Cost: 0.7071\n",
            "Epoch: 003/025 | Cost: 0.6561\n",
            "Epoch: 004/025 | Cost: 0.6135\n",
            "Epoch: 005/025 | Cost: 0.5758\n",
            "Epoch: 006/025 | Cost: 0.5419\n",
            "Epoch: 007/025 | Cost: 0.5114\n",
            "Epoch: 008/025 | Cost: 0.4837\n",
            "Epoch: 009/025 | Cost: 0.4586\n",
            "Epoch: 010/025 | Cost: 0.4357\n",
            "Epoch: 011/025 | Cost: 0.4147\n",
            "Epoch: 012/025 | Cost: 0.3955\n",
            "Epoch: 013/025 | Cost: 0.3778\n",
            "Epoch: 014/025 | Cost: 0.3615\n",
            "Epoch: 015/025 | Cost: 0.3465\n",
            "Epoch: 016/025 | Cost: 0.3325\n",
            "Epoch: 017/025 | Cost: 0.3196\n",
            "Epoch: 018/025 | Cost: 0.3075\n",
            "Epoch: 019/025 | Cost: 0.2962\n",
            "Epoch: 020/025 | Cost: 0.2857\n",
            "Epoch: 021/025 | Cost: 0.2759\n",
            "Epoch: 022/025 | Cost: 0.2667\n",
            "Epoch: 023/025 | Cost: 0.2581\n",
            "Epoch: 024/025 | Cost: 0.2499\n",
            "Epoch: 025/025 | Cost: 0.2423\n",
            "Total Training Time: 0.00 min\n"
          ]
        },
        {
          "output_type": "display_data",
          "data": {
            "text/plain": [
              "<Figure size 432x288 with 1 Axes>"
            ],
            "image/png": "[encoded data removed]"
          },
          "metadata": {
            "needs_background": "light"
          }
        },
        {
          "output_type": "stream",
          "name": "stdout",
          "text": [
            "1.0\n",
            "0.9861538461538462\n"
          ]
        }
      ]
    },
    {
      "cell_type": "markdown",
      "source": [
        "## 1000"
      ],
      "metadata": {
        "id": "yIEZd4KkPpFO"
      }
    },
    {
      "cell_type": "code",
      "source": [
        "torch.manual_seed(RANDOM_SEED)\n",
        "\n",
        "model_1000 = MLPReLU(num_features=2,\n",
        "                num_hidden_1=1000,\n",
        "                num_classes=2)\n",
        "\n",
        "model_1000 = model_1000.to(DEVICE)\n",
        "\n",
        "optimizer = torch.optim.SGD(model_1000.parameters(), lr=0.1)\n",
        "\n",
        "model_1000.train(X_train, Y_train)\n",
        "\n",
        "features = torch.tensor(X_train, dtype=torch.float).to(DEVICE)\n",
        "targets = torch.tensor(Y_train, dtype=torch.long).to(DEVICE)\n",
        "\n",
        "plot_decision_regions(features, targets, classifier=model_1000)\n",
        "\n",
        "plt.tight_layout()\n",
        "#plt.savefig('xor2.pdf')\n",
        "plt.show()\n",
        "\n",
        "train_accuracies.append(model_1000.evaluate(X_train, Y_train))\n",
        "print(model_1000.evaluate(X_train, Y_train))\n",
        "\n",
        "test_accuracies.append(model_1000.evaluate(X_test, Y_test))\n",
        "print(model_1000.evaluate(X_test, Y_test))"
      ],
      "metadata": {
        "colab": {
          "base_uri": "https://localhost:8080/",
          "height": 783
        },
        "id": "C5iXpC5LPoPm",
        "outputId": "1248a650-d2e4-4e88-ced1-f29f00c5614e"
      },
      "execution_count": null,
      "outputs": [
        {
          "output_type": "stream",
          "name": "stdout",
          "text": [
            "Epoch: 001/025 | Cost: 0.7268\n",
            "Epoch: 002/025 | Cost: 0.6563\n",
            "Epoch: 003/025 | Cost: 2.4291\n",
            "Epoch: 004/025 | Cost: 2.8922\n",
            "Epoch: 005/025 | Cost: 1.1829\n",
            "Epoch: 006/025 | Cost: 1.4733\n",
            "Epoch: 007/025 | Cost: 0.5606\n",
            "Epoch: 008/025 | Cost: 0.1735\n",
            "Epoch: 009/025 | Cost: 0.0330\n",
            "Epoch: 010/025 | Cost: 0.0322\n",
            "Epoch: 011/025 | Cost: 0.0316\n",
            "Epoch: 012/025 | Cost: 0.0311\n",
            "Epoch: 013/025 | Cost: 0.0306\n",
            "Epoch: 014/025 | Cost: 0.0302\n",
            "Epoch: 015/025 | Cost: 0.0299\n",
            "Epoch: 016/025 | Cost: 0.0296\n",
            "Epoch: 017/025 | Cost: 0.0293\n",
            "Epoch: 018/025 | Cost: 0.0290\n",
            "Epoch: 019/025 | Cost: 0.0287\n",
            "Epoch: 020/025 | Cost: 0.0285\n",
            "Epoch: 021/025 | Cost: 0.0282\n",
            "Epoch: 022/025 | Cost: 0.0280\n",
            "Epoch: 023/025 | Cost: 0.0277\n",
            "Epoch: 024/025 | Cost: 0.0275\n",
            "Epoch: 025/025 | Cost: 0.0272\n",
            "Total Training Time: 0.00 min\n"
          ]
        },
        {
          "output_type": "display_data",
          "data": {
            "text/plain": [
              "<Figure size 432x288 with 1 Axes>"
            ],
            "image/png": "[encoded data removed]"
          },
          "metadata": {
            "needs_background": "light"
          }
        },
        {
          "output_type": "stream",
          "name": "stdout",
          "text": [
            "1.0\n",
            "0.9876923076923076\n"
          ]
        }
      ]
    },
    {
      "cell_type": "markdown",
      "source": [
        "## 10000"
      ],
      "metadata": {
        "id": "tEZKCJxHPs4I"
      }
    },
    {
      "cell_type": "code",
      "source": [
        "torch.manual_seed(RANDOM_SEED)\n",
        "\n",
        "model_10000 = MLPReLU(num_features=2,\n",
        "                num_hidden_1=10000,\n",
        "                num_classes=2)\n",
        "\n",
        "model_10000 = model_10000.to(DEVICE)\n",
        "\n",
        "optimizer = torch.optim.SGD(model_10000.parameters(), lr=0.1)\n",
        "\n",
        "model_10000.train(X_train, Y_train)\n",
        "\n",
        "features = torch.tensor(X_train, dtype=torch.float).to(DEVICE)\n",
        "targets = torch.tensor(Y_train, dtype=torch.long).to(DEVICE)\n",
        "\n",
        "plot_decision_regions(features, targets, classifier=model_10000)\n",
        "\n",
        "plt.tight_layout()\n",
        "#plt.savefig('xor2.pdf')\n",
        "plt.show()\n",
        "\n",
        "train_accuracies.append(model_10000.evaluate(X_train, Y_train))\n",
        "print(model_10000.evaluate(X_train, Y_train))\n",
        "\n",
        "test_accuracies.append(model_10000.evaluate(X_test, Y_test))\n",
        "print(model_10000.evaluate(X_test, Y_test))"
      ],
      "metadata": {
        "colab": {
          "base_uri": "https://localhost:8080/",
          "height": 783
        },
        "id": "wkW4Wz1bPr89",
        "outputId": "92636617-b9de-48a8-9cd6-50913a5c4e88"
      },
      "execution_count": null,
      "outputs": [
        {
          "output_type": "stream",
          "name": "stdout",
          "text": [
            "Epoch: 001/025 | Cost: 0.6497\n",
            "Epoch: 002/025 | Cost: 1.9020\n",
            "Epoch: 003/025 | Cost: 25.4290\n",
            "Epoch: 004/025 | Cost: 22.7623\n",
            "Epoch: 005/025 | Cost: 9.3016\n",
            "Epoch: 006/025 | Cost: 9.3771\n",
            "Epoch: 007/025 | Cost: 12.0573\n",
            "Epoch: 008/025 | Cost: 7.1136\n",
            "Epoch: 009/025 | Cost: 1.1762\n",
            "Epoch: 010/025 | Cost: 0.0000\n",
            "Epoch: 011/025 | Cost: 0.0000\n",
            "Epoch: 012/025 | Cost: 0.0000\n",
            "Epoch: 013/025 | Cost: 0.0000\n",
            "Epoch: 014/025 | Cost: 0.0000\n",
            "Epoch: 015/025 | Cost: 0.0000\n",
            "Epoch: 016/025 | Cost: 0.0000\n",
            "Epoch: 017/025 | Cost: 0.0000\n",
            "Epoch: 018/025 | Cost: 0.0000\n",
            "Epoch: 019/025 | Cost: 0.0000\n",
            "Epoch: 020/025 | Cost: 0.0000\n",
            "Epoch: 021/025 | Cost: 0.0000\n",
            "Epoch: 022/025 | Cost: 0.0000\n",
            "Epoch: 023/025 | Cost: 0.0000\n",
            "Epoch: 024/025 | Cost: 0.0000\n",
            "Epoch: 025/025 | Cost: 0.0000\n",
            "Total Training Time: 0.02 min\n"
          ]
        },
        {
          "output_type": "display_data",
          "data": {
            "text/plain": [
              "<Figure size 432x288 with 1 Axes>"
            ],
            "image/png": "[encoded data removed]"
          },
          "metadata": {
            "needs_background": "light"
          }
        },
        {
          "output_type": "stream",
          "name": "stdout",
          "text": [
            "1.0\n",
            "0.9876923076923076\n"
          ]
        }
      ]
    },
    {
      "cell_type": "code",
      "source": [
        "train_accuracies"
      ],
      "metadata": {
        "colab": {
          "base_uri": "https://localhost:8080/"
        },
        "id": "LIjZdhFGPu6I",
        "outputId": "7c8d2a29-dd1a-4b83-9ac9-0f406fb088ff"
      },
      "execution_count": null,
      "outputs": [
        {
          "output_type": "execute_result",
          "data": {
            "text/plain": [
              "[0.58, 0.97, 1.0, 1.0, 1.0, 1.0]"
            ]
          },
          "metadata": {},
          "execution_count": 105
        }
      ]
    },
    {
      "cell_type": "code",
      "source": [
        "test_accuracies"
      ],
      "metadata": {
        "colab": {
          "base_uri": "https://localhost:8080/"
        },
        "id": "DoTm0CSJQ0JM",
        "outputId": "4c367c34-e2cd-4fc9-f273-2a3f76ee4aab"
      },
      "execution_count": null,
      "outputs": [
        {
          "output_type": "execute_result",
          "data": {
            "text/plain": [
              "[0.6569230769230769,\n",
              " 0.9784615384615385,\n",
              " 0.9876923076923076,\n",
              " 0.9861538461538462,\n",
              " 0.9876923076923076,\n",
              " 0.9876923076923076]"
            ]
          },
          "metadata": {},
          "execution_count": 106
        }
      ]
    },
    {
      "cell_type": "markdown",
      "source": [
        "## a answer -> plotting the graphs"
      ],
      "metadata": {
        "id": "dyCUkiKJfUgZ"
      }
    },
    {
      "cell_type": "code",
      "source": [
        "bar_plot_x = [10, 25, 50 ,100, 1000, 10000]\n",
        "\n",
        "X_axis = np.arange(len(bar_plot_x))\n",
        "\n",
        "\n",
        "plt.plot(X_axis , train_accuracies, label=\"Train Accuracies\")\n",
        "plt.plot(X_axis , test_accuracies, label=\"Test Accuracies\")\n",
        "\n",
        "plt.xticks(X_axis, bar_plot_x,)\n",
        "plt.xlabel(\"Number of hidden neurons\")\n",
        "plt.ylabel(\"Accuracy\")\n",
        "plt.ylim(0.4, 1.2)\n",
        "plt.title(\"Accuracy with respect to number of hidden neurons\")\n",
        "plt.legend(loc='upper right')\n",
        "plt.show()"
      ],
      "metadata": {
        "colab": {
          "base_uri": "https://localhost:8080/",
          "height": 295
        },
        "id": "wmYWYltUQ1GB",
        "outputId": "45da2eeb-3f12-45a8-ad8d-bd8bb5519f59"
      },
      "execution_count": null,
      "outputs": [
        {
          "output_type": "display_data",
          "data": {
            "text/plain": [
              "<Figure size 432x288 with 1 Axes>"
            ],
            "image/png": "[encoded data removed]"
          },
          "metadata": {
            "needs_background": "light"
          }
        }
      ]
    },
    {
      "cell_type": "markdown",
      "source": [
        "## b answer -> Observing underfitting and overfitting"
      ],
      "metadata": {
        "id": "Q4kSA6Q2qLWT"
      }
    },
    {
      "cell_type": "markdown",
      "source": [
        "## We can see that the model is underfit (very less training and testing accuracies) at 10 neurons\n",
        "\n",
        "## As the complexity increases(the number of neurons), the training and testing accuracies increases and are pretty close therby reducing underfitting.\n",
        "\n",
        "## But when the complexity of the network increases, the training accuracy hits 100 and the accuracy of test plataeus, we can see overfitting from 50 neurons, though the overfitting isn't that much"
      ],
      "metadata": {
        "id": "5gx8WmRXf3ss"
      }
    },
    {
      "cell_type": "markdown",
      "source": [
        "## C Answer\n",
        "\n",
        "## At smaller model complexity (10 hidden neurons), the model has high bias whereas as the model complexity increases, the bias deacreases, also as the model complexity increases the bias decreases.\n",
        "\n",
        "## Eventhough the complexity of the model increases, the variance changes initially (increases) but it doesn't change after a point of time (after 50 neurons). The variance is less and the overfit is not that much"
      ],
      "metadata": {
        "id": "JooqGroWjHnt"
      }
    },
    {
      "cell_type": "code",
      "source": [],
      "metadata": {
        "id": "sFWx9ib2Q_gV"
      },
      "execution_count": null,
      "outputs": []
    }
  ]
}