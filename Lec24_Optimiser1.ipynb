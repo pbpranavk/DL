{
  "nbformat": 4,
  "nbformat_minor": 0,
  "metadata": {
    "colab": {
      "provenance": []
    },
    "kernelspec": {
      "name": "python3",
      "display_name": "Python 3"
    },
    "language_info": {
      "name": "python"
    },
    "widgets": {
      "application/vnd.jupyter.widget-state+json": {
        "8bc2bf6f34bc4813b563b19f111d5bfa": {
          "model_module": "@jupyter-widgets/controls",
          "model_name": "HBoxModel",
          "model_module_version": "1.5.0",
          "state": {
            "_dom_classes": [],
            "_model_module": "@jupyter-widgets/controls",
            "_model_module_version": "1.5.0",
            "_model_name": "HBoxModel",
            "_view_count": null,
            "_view_module": "@jupyter-widgets/controls",
            "_view_module_version": "1.5.0",
            "_view_name": "HBoxView",
            "box_style": "",
            "children": [
              "IPY_MODEL_a3f57474e5904cc38714d8e969361657",
              "IPY_MODEL_7f727c3ad2fc48dc8597cffa30bd08ab",
              "IPY_MODEL_78bcd530ecea410fa178cf9e9cd5bbe3"
            ],
            "layout": "IPY_MODEL_9f42c60be1434fbab55df9aadf749947"
          }
        },
        "a3f57474e5904cc38714d8e969361657": {
          "model_module": "@jupyter-widgets/controls",
          "model_name": "HTMLModel",
          "model_module_version": "1.5.0",
          "state": {
            "_dom_classes": [],
            "_model_module": "@jupyter-widgets/controls",
            "_model_module_version": "1.5.0",
            "_model_name": "HTMLModel",
            "_view_count": null,
            "_view_module": "@jupyter-widgets/controls",
            "_view_module_version": "1.5.0",
            "_view_name": "HTMLView",
            "description": "",
            "description_tooltip": null,
            "layout": "IPY_MODEL_6ad73b39d83b444296c0f0837f15c359",
            "placeholder": "​",
            "style": "IPY_MODEL_905d38f099a04aa185ba678ecab6630a",
            "value": "100%"
          }
        },
        "7f727c3ad2fc48dc8597cffa30bd08ab": {
          "model_module": "@jupyter-widgets/controls",
          "model_name": "FloatProgressModel",
          "model_module_version": "1.5.0",
          "state": {
            "_dom_classes": [],
            "_model_module": "@jupyter-widgets/controls",
            "_model_module_version": "1.5.0",
            "_model_name": "FloatProgressModel",
            "_view_count": null,
            "_view_module": "@jupyter-widgets/controls",
            "_view_module_version": "1.5.0",
            "_view_name": "ProgressView",
            "bar_style": "success",
            "description": "",
            "description_tooltip": null,
            "layout": "IPY_MODEL_0035b512c25c4a0b8d00445c0e717e8f",
            "max": 170498071,
            "min": 0,
            "orientation": "horizontal",
            "style": "IPY_MODEL_1ca2344389f64ed19b15b6681da6ac4f",
            "value": 170498071
          }
        },
        "78bcd530ecea410fa178cf9e9cd5bbe3": {
          "model_module": "@jupyter-widgets/controls",
          "model_name": "HTMLModel",
          "model_module_version": "1.5.0",
          "state": {
            "_dom_classes": [],
            "_model_module": "@jupyter-widgets/controls",
            "_model_module_version": "1.5.0",
            "_model_name": "HTMLModel",
            "_view_count": null,
            "_view_module": "@jupyter-widgets/controls",
            "_view_module_version": "1.5.0",
            "_view_name": "HTMLView",
            "description": "",
            "description_tooltip": null,
            "layout": "IPY_MODEL_1d8d1f79049c4ab787cee29b47608ebb",
            "placeholder": "​",
            "style": "IPY_MODEL_e14583ecb86c481aa92a6c0ae73ffe23",
            "value": " 170498071/170498071 [00:10&lt;00:00, 17861031.45it/s]"
          }
        },
        "9f42c60be1434fbab55df9aadf749947": {
          "model_module": "@jupyter-widgets/base",
          "model_name": "LayoutModel",
          "model_module_version": "1.2.0",
          "state": {
            "_model_module": "@jupyter-widgets/base",
            "_model_module_version": "1.2.0",
            "_model_name": "LayoutModel",
            "_view_count": null,
            "_view_module": "@jupyter-widgets/base",
            "_view_module_version": "1.2.0",
            "_view_name": "LayoutView",
            "align_content": null,
            "align_items": null,
            "align_self": null,
            "border": null,
            "bottom": null,
            "display": null,
            "flex": null,
            "flex_flow": null,
            "grid_area": null,
            "grid_auto_columns": null,
            "grid_auto_flow": null,
            "grid_auto_rows": null,
            "grid_column": null,
            "grid_gap": null,
            "grid_row": null,
            "grid_template_areas": null,
            "grid_template_columns": null,
            "grid_template_rows": null,
            "height": null,
            "justify_content": null,
            "justify_items": null,
            "left": null,
            "margin": null,
            "max_height": null,
            "max_width": null,
            "min_height": null,
            "min_width": null,
            "object_fit": null,
            "object_position": null,
            "order": null,
            "overflow": null,
            "overflow_x": null,
            "overflow_y": null,
            "padding": null,
            "right": null,
            "top": null,
            "visibility": null,
            "width": null
          }
        },
        "6ad73b39d83b444296c0f0837f15c359": {
          "model_module": "@jupyter-widgets/base",
          "model_name": "LayoutModel",
          "model_module_version": "1.2.0",
          "state": {
            "_model_module": "@jupyter-widgets/base",
            "_model_module_version": "1.2.0",
            "_model_name": "LayoutModel",
            "_view_count": null,
            "_view_module": "@jupyter-widgets/base",
            "_view_module_version": "1.2.0",
            "_view_name": "LayoutView",
            "align_content": null,
            "align_items": null,
            "align_self": null,
            "border": null,
            "bottom": null,
            "display": null,
            "flex": null,
            "flex_flow": null,
            "grid_area": null,
            "grid_auto_columns": null,
            "grid_auto_flow": null,
            "grid_auto_rows": null,
            "grid_column": null,
            "grid_gap": null,
            "grid_row": null,
            "grid_template_areas": null,
            "grid_template_columns": null,
            "grid_template_rows": null,
            "height": null,
            "justify_content": null,
            "justify_items": null,
            "left": null,
            "margin": null,
            "max_height": null,
            "max_width": null,
            "min_height": null,
            "min_width": null,
            "object_fit": null,
            "object_position": null,
            "order": null,
            "overflow": null,
            "overflow_x": null,
            "overflow_y": null,
            "padding": null,
            "right": null,
            "top": null,
            "visibility": null,
            "width": null
          }
        },
        "905d38f099a04aa185ba678ecab6630a": {
          "model_module": "@jupyter-widgets/controls",
          "model_name": "DescriptionStyleModel",
          "model_module_version": "1.5.0",
          "state": {
            "_model_module": "@jupyter-widgets/controls",
            "_model_module_version": "1.5.0",
            "_model_name": "DescriptionStyleModel",
            "_view_count": null,
            "_view_module": "@jupyter-widgets/base",
            "_view_module_version": "1.2.0",
            "_view_name": "StyleView",
            "description_width": ""
          }
        },
        "0035b512c25c4a0b8d00445c0e717e8f": {
          "model_module": "@jupyter-widgets/base",
          "model_name": "LayoutModel",
          "model_module_version": "1.2.0",
          "state": {
            "_model_module": "@jupyter-widgets/base",
            "_model_module_version": "1.2.0",
            "_model_name": "LayoutModel",
            "_view_count": null,
            "_view_module": "@jupyter-widgets/base",
            "_view_module_version": "1.2.0",
            "_view_name": "LayoutView",
            "align_content": null,
            "align_items": null,
            "align_self": null,
            "border": null,
            "bottom": null,
            "display": null,
            "flex": null,
            "flex_flow": null,
            "grid_area": null,
            "grid_auto_columns": null,
            "grid_auto_flow": null,
            "grid_auto_rows": null,
            "grid_column": null,
            "grid_gap": null,
            "grid_row": null,
            "grid_template_areas": null,
            "grid_template_columns": null,
            "grid_template_rows": null,
            "height": null,
            "justify_content": null,
            "justify_items": null,
            "left": null,
            "margin": null,
            "max_height": null,
            "max_width": null,
            "min_height": null,
            "min_width": null,
            "object_fit": null,
            "object_position": null,
            "order": null,
            "overflow": null,
            "overflow_x": null,
            "overflow_y": null,
            "padding": null,
            "right": null,
            "top": null,
            "visibility": null,
            "width": null
          }
        },
        "1ca2344389f64ed19b15b6681da6ac4f": {
          "model_module": "@jupyter-widgets/controls",
          "model_name": "ProgressStyleModel",
          "model_module_version": "1.5.0",
          "state": {
            "_model_module": "@jupyter-widgets/controls",
            "_model_module_version": "1.5.0",
            "_model_name": "ProgressStyleModel",
            "_view_count": null,
            "_view_module": "@jupyter-widgets/base",
            "_view_module_version": "1.2.0",
            "_view_name": "StyleView",
            "bar_color": null,
            "description_width": ""
          }
        },
        "1d8d1f79049c4ab787cee29b47608ebb": {
          "model_module": "@jupyter-widgets/base",
          "model_name": "LayoutModel",
          "model_module_version": "1.2.0",
          "state": {
            "_model_module": "@jupyter-widgets/base",
            "_model_module_version": "1.2.0",
            "_model_name": "LayoutModel",
            "_view_count": null,
            "_view_module": "@jupyter-widgets/base",
            "_view_module_version": "1.2.0",
            "_view_name": "LayoutView",
            "align_content": null,
            "align_items": null,
            "align_self": null,
            "border": null,
            "bottom": null,
            "display": null,
            "flex": null,
            "flex_flow": null,
            "grid_area": null,
            "grid_auto_columns": null,
            "grid_auto_flow": null,
            "grid_auto_rows": null,
            "grid_column": null,
            "grid_gap": null,
            "grid_row": null,
            "grid_template_areas": null,
            "grid_template_columns": null,
            "grid_template_rows": null,
            "height": null,
            "justify_content": null,
            "justify_items": null,
            "left": null,
            "margin": null,
            "max_height": null,
            "max_width": null,
            "min_height": null,
            "min_width": null,
            "object_fit": null,
            "object_position": null,
            "order": null,
            "overflow": null,
            "overflow_x": null,
            "overflow_y": null,
            "padding": null,
            "right": null,
            "top": null,
            "visibility": null,
            "width": null
          }
        },
        "e14583ecb86c481aa92a6c0ae73ffe23": {
          "model_module": "@jupyter-widgets/controls",
          "model_name": "DescriptionStyleModel",
          "model_module_version": "1.5.0",
          "state": {
            "_model_module": "@jupyter-widgets/controls",
            "_model_module_version": "1.5.0",
            "_model_name": "DescriptionStyleModel",
            "_view_count": null,
            "_view_module": "@jupyter-widgets/base",
            "_view_module_version": "1.2.0",
            "_view_name": "StyleView",
            "description_width": ""
          }
        }
      }
    }
  },
  "cells": [
    {
      "cell_type": "markdown",
      "source": [
        "## Optimiser 1"
      ],
      "metadata": {
        "id": "WBv51ikE6vlt"
      }
    },
    {
      "cell_type": "code",
      "execution_count": null,
      "metadata": {
        "id": "qviEcrsemtYa"
      },
      "outputs": [],
      "source": [
        "import torch\n",
        "import torchvision\n",
        "import numpy as np\n",
        "import matplotlib.pyplot as plt\n",
        "import PIL\n",
        "from torchsummary import summary"
      ]
    },
    {
      "cell_type": "code",
      "source": [
        "# From local helper files\n",
        "from helper_evaluation import set_all_seeds, set_deterministic, compute_confusion_matrix\n",
        "from helper_train import train_model\n",
        "from helper_plotting import plot_training_loss, plot_accuracy, show_examples, plot_confusion_matrix\n",
        "from helper_dataset import get_dataloaders_cifar10, UnNormalize"
      ],
      "metadata": {
        "id": "E1kxe94-p4E2"
      },
      "execution_count": null,
      "outputs": []
    },
    {
      "cell_type": "code",
      "source": [
        "RANDOM_SEED = 123\n",
        "BATCH_SIZE = 256\n",
        "NUM_EPOCHS = 40\n",
        "DEVICE = torch.device('cuda:0' if torch.cuda.is_available() else 'cpu')"
      ],
      "metadata": {
        "id": "WZj_dpOHp8Lq"
      },
      "execution_count": null,
      "outputs": []
    },
    {
      "cell_type": "code",
      "source": [
        "train_transforms = torchvision.transforms.Compose([\n",
        "    torchvision.transforms.Resize((16, 16)),\n",
        "    torchvision.transforms.ToTensor(),\n",
        "    torchvision.transforms.Normalize((0.5, 0.5, 0.5), (0.5, 0.5, 0.5))\n",
        "                                      ])\n",
        "\n",
        "\n",
        "test_transforms = torchvision.transforms.Compose([\n",
        "    torchvision.transforms.Resize((16, 16)),\n",
        "    torchvision.transforms.ToTensor(),\n",
        "    torchvision.transforms.Normalize((0.5, 0.5, 0.5), (0.5, 0.5, 0.5))])\n",
        "\n",
        "\n",
        "train_loader, valid_loader, test_loader = get_dataloaders_cifar10(\n",
        "    batch_size=BATCH_SIZE,\n",
        "    validation_fraction=0.1,\n",
        "    train_transforms=train_transforms,\n",
        "    test_transforms=test_transforms,\n",
        "    num_workers=2)\n",
        "\n",
        "# Checking the dataset\n",
        "for images, labels in train_loader:\n",
        "    print('Image batch dimensions:', images.shape)\n",
        "    print('Image label dimensions:', labels.shape)\n",
        "    print('Class labels of 10 examples:', labels[:10])\n",
        "    break"
      ],
      "metadata": {
        "colab": {
          "base_uri": "https://localhost:8080/",
          "height": 136,
          "referenced_widgets": [
            "8bc2bf6f34bc4813b563b19f111d5bfa",
            "a3f57474e5904cc38714d8e969361657",
            "7f727c3ad2fc48dc8597cffa30bd08ab",
            "78bcd530ecea410fa178cf9e9cd5bbe3",
            "9f42c60be1434fbab55df9aadf749947",
            "6ad73b39d83b444296c0f0837f15c359",
            "905d38f099a04aa185ba678ecab6630a",
            "0035b512c25c4a0b8d00445c0e717e8f",
            "1ca2344389f64ed19b15b6681da6ac4f",
            "1d8d1f79049c4ab787cee29b47608ebb",
            "e14583ecb86c481aa92a6c0ae73ffe23"
          ]
        },
        "id": "j34W4A4mp9z5",
        "outputId": "16360764-6fad-4785-c5f1-d5cb37eaefa5"
      },
      "execution_count": null,
      "outputs": [
        {
          "output_type": "stream",
          "name": "stdout",
          "text": [
            "Downloading https://www.cs.toronto.edu/~kriz/cifar-10-python.tar.gz to data/cifar-10-python.tar.gz\n"
          ]
        },
        {
          "output_type": "display_data",
          "data": {
            "text/plain": [
              "  0%|          | 0/170498071 [00:00<?, ?it/s]"
            ],
            "application/vnd.jupyter.widget-view+json": {
              "version_major": 2,
              "version_minor": 0,
              "model_id": "8bc2bf6f34bc4813b563b19f111d5bfa"
            }
          },
          "metadata": {}
        },
        {
          "output_type": "stream",
          "name": "stdout",
          "text": [
            "Extracting data/cifar-10-python.tar.gz to data\n",
            "Image batch dimensions: torch.Size([256, 3, 16, 16])\n",
            "Image label dimensions: torch.Size([256])\n",
            "Class labels of 10 examples: tensor([1, 5, 4, 9, 3, 1, 0, 9, 9, 9])\n"
          ]
        }
      ]
    },
    {
      "cell_type": "code",
      "source": [
        "class CNN1RMS(torch.nn.Module):\n",
        "  def __init__(self, num_classes):\n",
        "    super().__init__()\n",
        "    self.features = torch.nn.Sequential(\n",
        "            # Conv 1\n",
        "            torch.nn.Conv2d(3, 16, kernel_size=3, padding=\"same\"), # output 16 - 3 + 1 => 16\n",
        "                            # , stride=4, padding=2),\n",
        "            torch.nn.ReLU(inplace=True),\n",
        "            torch.nn.MaxPool2d(kernel_size=2), # 16 / 2 => output 8\n",
        "\n",
        "            # Conv 2\n",
        "            torch.nn.Conv2d(16, 32, kernel_size=2, padding=\"same\"), # output 7 - 2 + 1 => 8\n",
        "                            # , padding=2),\n",
        "            torch.nn.ReLU(inplace=True),\n",
        "            torch.nn.MaxPool2d(kernel_size=2) #output 8 / 2 => output 4\n",
        "    )\n",
        "\n",
        "    self.classifier = torch.nn.Sequential(\n",
        "         torch.nn.Linear(32*4*4, 100),\n",
        "          torch.nn.ReLU(inplace=True),\n",
        "          torch.nn.Linear(100, num_classes),\n",
        "    )\n",
        "\n",
        "  def forward(self, x):\n",
        "    x = self.features(x)\n",
        "    x = torch.flatten(x, 1)\n",
        "    # print(x.size())\n",
        "    logits = self.classifier(x)\n",
        "    return logits"
      ],
      "metadata": {
        "id": "7uO5nUGwp_Lm"
      },
      "execution_count": null,
      "outputs": []
    },
    {
      "cell_type": "code",
      "source": [
        "model1_rms = CNN1RMS(num_classes=10)"
      ],
      "metadata": {
        "id": "rH2Rc1oaqCzN"
      },
      "execution_count": null,
      "outputs": []
    },
    {
      "cell_type": "code",
      "source": [
        "model1_rms = model1_rms.to(DEVICE)"
      ],
      "metadata": {
        "id": "vS9tLeXZqEVY"
      },
      "execution_count": null,
      "outputs": []
    },
    {
      "cell_type": "code",
      "source": [
        "print(summary(model1_rms, (3, 16, 16)))"
      ],
      "metadata": {
        "colab": {
          "base_uri": "https://localhost:8080/"
        },
        "id": "DntgCltWI4MV",
        "outputId": "192576ee-cfde-448d-a52c-78436d2a5710"
      },
      "execution_count": null,
      "outputs": [
        {
          "output_type": "stream",
          "name": "stdout",
          "text": [
            "----------------------------------------------------------------\n",
            "        Layer (type)               Output Shape         Param #\n",
            "================================================================\n",
            "            Conv2d-1           [-1, 16, 16, 16]             448\n",
            "              ReLU-2           [-1, 16, 16, 16]               0\n",
            "         MaxPool2d-3             [-1, 16, 8, 8]               0\n",
            "            Conv2d-4             [-1, 32, 8, 8]           2,080\n",
            "              ReLU-5             [-1, 32, 8, 8]               0\n",
            "         MaxPool2d-6             [-1, 32, 4, 4]               0\n",
            "            Linear-7                  [-1, 100]          51,300\n",
            "              ReLU-8                  [-1, 100]               0\n",
            "            Linear-9                   [-1, 10]           1,010\n",
            "================================================================\n",
            "Total params: 54,838\n",
            "Trainable params: 54,838\n",
            "Non-trainable params: 0\n",
            "----------------------------------------------------------------\n",
            "Input size (MB): 0.00\n",
            "Forward/backward pass size (MB): 0.11\n",
            "Params size (MB): 0.21\n",
            "Estimated Total Size (MB): 0.32\n",
            "----------------------------------------------------------------\n",
            "None\n"
          ]
        },
        {
          "output_type": "stream",
          "name": "stderr",
          "text": [
            "/usr/local/lib/python3.7/dist-packages/torch/nn/modules/conv.py:454: UserWarning: Using padding='same' with even kernel lengths and odd dilation may require a zero-padded copy of the input be created (Triggered internally at  ../aten/src/ATen/native/Convolution.cpp:882.)\n",
            "  self.padding, self.dilation, self.groups)\n"
          ]
        }
      ]
    },
    {
      "cell_type": "code",
      "source": [
        "optimizer_rms = torch.optim.RMSprop(model1_rms.parameters())\n",
        "scheduler_rms = torch.optim.lr_scheduler.ReduceLROnPlateau(optimizer_rms,\n",
        "                                                       factor=0.1,\n",
        "                                                       mode='max',\n",
        "                                                       verbose=True)\n"
      ],
      "metadata": {
        "id": "u6qIT6KHqFrE"
      },
      "execution_count": null,
      "outputs": []
    },
    {
      "cell_type": "code",
      "source": [
        "minibatch_loss_list_rms, train_acc_list_rms, valid_acc_list_rms = train_model(\n",
        "    model=model1_rms,\n",
        "    num_epochs=NUM_EPOCHS,\n",
        "    train_loader=train_loader,\n",
        "    valid_loader=valid_loader,\n",
        "    test_loader=test_loader,\n",
        "    optimizer=optimizer_rms,\n",
        "    device=DEVICE,\n",
        "    scheduler=None,\n",
        "    scheduler_on='valid_acc',\n",
        "    logging_interval=100)"
      ],
      "metadata": {
        "colab": {
          "base_uri": "https://localhost:8080/"
        },
        "id": "tnUCp5VmqG7a",
        "outputId": "83056881-4b4a-483b-b498-d2633e2769c7"
      },
      "execution_count": null,
      "outputs": [
        {
          "output_type": "stream",
          "name": "stderr",
          "text": [
            "/usr/local/lib/python3.7/dist-packages/torch/nn/modules/conv.py:454: UserWarning: Using padding='same' with even kernel lengths and odd dilation may require a zero-padded copy of the input be created (Triggered internally at  ../aten/src/ATen/native/Convolution.cpp:882.)\n",
            "  self.padding, self.dilation, self.groups)\n"
          ]
        },
        {
          "output_type": "stream",
          "name": "stdout",
          "text": [
            "Epoch: 001/040 | Batch 0000/0175 | Loss: 2.3066\n",
            "Epoch: 001/040 | Batch 0100/0175 | Loss: 1.6727\n",
            "Epoch: 001/040 | Train: 36.41% | Validation: 35.88%\n",
            "Time elapsed: 1.29 min\n",
            "Epoch: 002/040 | Batch 0000/0175 | Loss: 1.8147\n",
            "Epoch: 002/040 | Batch 0100/0175 | Loss: 1.5799\n",
            "Epoch: 002/040 | Train: 45.51% | Validation: 45.16%\n",
            "Time elapsed: 2.57 min\n",
            "Epoch: 003/040 | Batch 0000/0175 | Loss: 1.4227\n",
            "Epoch: 003/040 | Batch 0100/0175 | Loss: 1.3958\n",
            "Epoch: 003/040 | Train: 49.78% | Validation: 47.84%\n",
            "Time elapsed: 3.85 min\n",
            "Epoch: 004/040 | Batch 0000/0175 | Loss: 1.3738\n",
            "Epoch: 004/040 | Batch 0100/0175 | Loss: 1.4720\n",
            "Epoch: 004/040 | Train: 53.13% | Validation: 51.64%\n",
            "Time elapsed: 5.12 min\n",
            "Epoch: 005/040 | Batch 0000/0175 | Loss: 1.1610\n",
            "Epoch: 005/040 | Batch 0100/0175 | Loss: 1.4168\n",
            "Epoch: 005/040 | Train: 54.90% | Validation: 53.54%\n",
            "Time elapsed: 6.38 min\n",
            "Epoch: 006/040 | Batch 0000/0175 | Loss: 1.2862\n",
            "Epoch: 006/040 | Batch 0100/0175 | Loss: 1.1992\n",
            "Epoch: 006/040 | Train: 53.83% | Validation: 51.60%\n",
            "Time elapsed: 7.65 min\n",
            "Epoch: 007/040 | Batch 0000/0175 | Loss: 1.2769\n",
            "Epoch: 007/040 | Batch 0100/0175 | Loss: 1.2541\n",
            "Epoch: 007/040 | Train: 57.39% | Validation: 54.08%\n",
            "Time elapsed: 8.95 min\n",
            "Epoch: 008/040 | Batch 0000/0175 | Loss: 1.2493\n",
            "Epoch: 008/040 | Batch 0100/0175 | Loss: 1.1379\n",
            "Epoch: 008/040 | Train: 57.82% | Validation: 54.44%\n",
            "Time elapsed: 10.22 min\n",
            "Epoch: 009/040 | Batch 0000/0175 | Loss: 1.1674\n",
            "Epoch: 009/040 | Batch 0100/0175 | Loss: 1.2425\n",
            "Epoch: 009/040 | Train: 59.21% | Validation: 54.80%\n",
            "Time elapsed: 11.51 min\n",
            "Epoch: 010/040 | Batch 0000/0175 | Loss: 1.1207\n",
            "Epoch: 010/040 | Batch 0100/0175 | Loss: 1.0770\n",
            "Epoch: 010/040 | Train: 61.77% | Validation: 57.10%\n",
            "Time elapsed: 12.77 min\n",
            "Epoch: 011/040 | Batch 0000/0175 | Loss: 1.0477\n",
            "Epoch: 011/040 | Batch 0100/0175 | Loss: 1.0745\n",
            "Epoch: 011/040 | Train: 62.86% | Validation: 56.48%\n",
            "Time elapsed: 14.07 min\n",
            "Epoch: 012/040 | Batch 0000/0175 | Loss: 1.1040\n",
            "Epoch: 012/040 | Batch 0100/0175 | Loss: 1.0141\n",
            "Epoch: 012/040 | Train: 61.26% | Validation: 55.78%\n",
            "Time elapsed: 15.33 min\n",
            "Epoch: 013/040 | Batch 0000/0175 | Loss: 1.0578\n",
            "Epoch: 013/040 | Batch 0100/0175 | Loss: 1.1696\n",
            "Epoch: 013/040 | Train: 63.57% | Validation: 57.40%\n",
            "Time elapsed: 16.63 min\n",
            "Epoch: 014/040 | Batch 0000/0175 | Loss: 1.0281\n",
            "Epoch: 014/040 | Batch 0100/0175 | Loss: 1.1757\n",
            "Epoch: 014/040 | Train: 60.32% | Validation: 53.92%\n",
            "Time elapsed: 17.91 min\n",
            "Epoch: 015/040 | Batch 0000/0175 | Loss: 1.0546\n",
            "Epoch: 015/040 | Batch 0100/0175 | Loss: 1.0974\n",
            "Epoch: 015/040 | Train: 65.05% | Validation: 57.80%\n",
            "Time elapsed: 19.19 min\n",
            "Epoch: 016/040 | Batch 0000/0175 | Loss: 0.9788\n",
            "Epoch: 016/040 | Batch 0100/0175 | Loss: 1.2130\n",
            "Epoch: 016/040 | Train: 64.15% | Validation: 57.14%\n",
            "Time elapsed: 20.46 min\n",
            "Epoch: 017/040 | Batch 0000/0175 | Loss: 0.9675\n",
            "Epoch: 017/040 | Batch 0100/0175 | Loss: 1.1513\n",
            "Epoch: 017/040 | Train: 65.82% | Validation: 56.98%\n",
            "Time elapsed: 21.76 min\n",
            "Epoch: 018/040 | Batch 0000/0175 | Loss: 1.0524\n",
            "Epoch: 018/040 | Batch 0100/0175 | Loss: 1.1239\n",
            "Epoch: 018/040 | Train: 66.08% | Validation: 58.18%\n",
            "Time elapsed: 23.02 min\n",
            "Epoch: 019/040 | Batch 0000/0175 | Loss: 0.9635\n",
            "Epoch: 019/040 | Batch 0100/0175 | Loss: 0.9251\n",
            "Epoch: 019/040 | Train: 65.49% | Validation: 56.96%\n",
            "Time elapsed: 24.28 min\n",
            "Epoch: 020/040 | Batch 0000/0175 | Loss: 1.0072\n",
            "Epoch: 020/040 | Batch 0100/0175 | Loss: 1.0644\n",
            "Epoch: 020/040 | Train: 66.16% | Validation: 57.10%\n",
            "Time elapsed: 25.54 min\n",
            "Epoch: 021/040 | Batch 0000/0175 | Loss: 0.9348\n",
            "Epoch: 021/040 | Batch 0100/0175 | Loss: 1.0663\n",
            "Epoch: 021/040 | Train: 63.07% | Validation: 55.92%\n",
            "Time elapsed: 26.79 min\n",
            "Epoch: 022/040 | Batch 0000/0175 | Loss: 1.0222\n",
            "Epoch: 022/040 | Batch 0100/0175 | Loss: 0.9508\n",
            "Epoch: 022/040 | Train: 67.04% | Validation: 57.38%\n",
            "Time elapsed: 28.09 min\n",
            "Epoch: 023/040 | Batch 0000/0175 | Loss: 1.0092\n",
            "Epoch: 023/040 | Batch 0100/0175 | Loss: 1.0047\n",
            "Epoch: 023/040 | Train: 64.71% | Validation: 56.02%\n",
            "Time elapsed: 29.33 min\n",
            "Epoch: 024/040 | Batch 0000/0175 | Loss: 1.0173\n",
            "Epoch: 024/040 | Batch 0100/0175 | Loss: 1.0319\n",
            "Epoch: 024/040 | Train: 63.10% | Validation: 55.12%\n",
            "Time elapsed: 30.61 min\n",
            "Epoch: 025/040 | Batch 0000/0175 | Loss: 1.1428\n",
            "Epoch: 025/040 | Batch 0100/0175 | Loss: 1.1580\n",
            "Epoch: 025/040 | Train: 68.18% | Validation: 58.02%\n",
            "Time elapsed: 31.87 min\n",
            "Epoch: 026/040 | Batch 0000/0175 | Loss: 0.9158\n",
            "Epoch: 026/040 | Batch 0100/0175 | Loss: 1.0508\n",
            "Epoch: 026/040 | Train: 65.93% | Validation: 57.02%\n",
            "Time elapsed: 33.14 min\n",
            "Epoch: 027/040 | Batch 0000/0175 | Loss: 0.8112\n",
            "Epoch: 027/040 | Batch 0100/0175 | Loss: 0.8994\n",
            "Epoch: 027/040 | Train: 69.60% | Validation: 58.18%\n",
            "Time elapsed: 34.62 min\n",
            "Epoch: 028/040 | Batch 0000/0175 | Loss: 0.8734\n",
            "Epoch: 028/040 | Batch 0100/0175 | Loss: 0.9030\n",
            "Epoch: 028/040 | Train: 69.92% | Validation: 59.08%\n",
            "Time elapsed: 36.10 min\n",
            "Epoch: 029/040 | Batch 0000/0175 | Loss: 0.8366\n",
            "Epoch: 029/040 | Batch 0100/0175 | Loss: 0.8999\n",
            "Epoch: 029/040 | Train: 65.81% | Validation: 56.66%\n",
            "Time elapsed: 37.39 min\n",
            "Epoch: 030/040 | Batch 0000/0175 | Loss: 0.8541\n",
            "Epoch: 030/040 | Batch 0100/0175 | Loss: 0.9412\n",
            "Epoch: 030/040 | Train: 65.84% | Validation: 55.28%\n",
            "Time elapsed: 38.72 min\n",
            "Epoch: 031/040 | Batch 0000/0175 | Loss: 1.0237\n",
            "Epoch: 031/040 | Batch 0100/0175 | Loss: 0.9094\n",
            "Epoch: 031/040 | Train: 67.07% | Validation: 56.08%\n",
            "Time elapsed: 39.99 min\n",
            "Epoch: 032/040 | Batch 0000/0175 | Loss: 0.9595\n",
            "Epoch: 032/040 | Batch 0100/0175 | Loss: 0.7611\n",
            "Epoch: 032/040 | Train: 69.75% | Validation: 58.00%\n",
            "Time elapsed: 41.32 min\n",
            "Epoch: 033/040 | Batch 0000/0175 | Loss: 0.9488\n",
            "Epoch: 033/040 | Batch 0100/0175 | Loss: 0.8897\n",
            "Epoch: 033/040 | Train: 70.12% | Validation: 57.40%\n",
            "Time elapsed: 42.62 min\n",
            "Epoch: 034/040 | Batch 0000/0175 | Loss: 0.7435\n",
            "Epoch: 034/040 | Batch 0100/0175 | Loss: 0.9304\n",
            "Epoch: 034/040 | Train: 67.40% | Validation: 55.10%\n",
            "Time elapsed: 43.93 min\n",
            "Epoch: 035/040 | Batch 0000/0175 | Loss: 0.7586\n",
            "Epoch: 035/040 | Batch 0100/0175 | Loss: 0.9485\n",
            "Epoch: 035/040 | Train: 71.21% | Validation: 58.08%\n",
            "Time elapsed: 45.25 min\n",
            "Epoch: 036/040 | Batch 0000/0175 | Loss: 0.8069\n",
            "Epoch: 036/040 | Batch 0100/0175 | Loss: 0.9371\n",
            "Epoch: 036/040 | Train: 71.68% | Validation: 57.88%\n",
            "Time elapsed: 46.60 min\n",
            "Epoch: 037/040 | Batch 0000/0175 | Loss: 0.8526\n",
            "Epoch: 037/040 | Batch 0100/0175 | Loss: 0.8403\n",
            "Epoch: 037/040 | Train: 71.17% | Validation: 56.78%\n",
            "Time elapsed: 47.88 min\n",
            "Epoch: 038/040 | Batch 0000/0175 | Loss: 0.7887\n",
            "Epoch: 038/040 | Batch 0100/0175 | Loss: 1.2266\n",
            "Epoch: 038/040 | Train: 71.57% | Validation: 56.60%\n",
            "Time elapsed: 49.18 min\n",
            "Epoch: 039/040 | Batch 0000/0175 | Loss: 0.7900\n",
            "Epoch: 039/040 | Batch 0100/0175 | Loss: 0.9850\n",
            "Epoch: 039/040 | Train: 71.37% | Validation: 57.90%\n",
            "Time elapsed: 50.47 min\n",
            "Epoch: 040/040 | Batch 0000/0175 | Loss: 0.7807\n",
            "Epoch: 040/040 | Batch 0100/0175 | Loss: 0.8716\n",
            "Epoch: 040/040 | Train: 69.35% | Validation: 55.66%\n",
            "Time elapsed: 51.81 min\n",
            "Total Training Time: 51.81 min\n",
            "Test accuracy 55.17%\n"
          ]
        }
      ]
    },
    {
      "cell_type": "code",
      "source": [
        "plot_training_loss(minibatch_loss_list=minibatch_loss_list_rms,\n",
        "                   num_epochs=NUM_EPOCHS,\n",
        "                   iter_per_epoch=len(train_loader),\n",
        "                   results_dir=None,\n",
        "                   averaging_iterations=20)\n",
        "\n",
        "plt.show()\n",
        "\n",
        "plot_accuracy(train_acc_list=train_acc_list_rms,\n",
        "              valid_acc_list=valid_acc_list_rms,\n",
        "              results_dir=None)\n",
        "\n",
        "# plt.ylim([80, 100])\n",
        "plt.show()\n",
        "\n",
        "\n",
        "\n",
        "\n",
        "\n",
        "\n",
        "\n",
        "\n",
        "\n",
        "\n",
        "\n"
      ],
      "metadata": {
        "colab": {
          "base_uri": "https://localhost:8080/",
          "height": 577
        },
        "id": "Ako-QGAKqIKR",
        "outputId": "356c887e-3a38-41e1-9d5f-865f3e361f14"
      },
      "execution_count": null,
      "outputs": [
        {
          "output_type": "display_data",
          "data": {
            "text/plain": [
              "<Figure size 432x288 with 2 Axes>"
            ],
            "image/png": "[encoded data removed]"
          },
          "metadata": {
            "needs_background": "light"
          }
        },
        {
          "output_type": "display_data",
          "data": {
            "text/plain": [
              "<Figure size 432x288 with 1 Axes>"
            ],
            "image/png": "[encoded data removed]"
          },
          "metadata": {
            "needs_background": "light"
          }
        }
      ]
    },
    {
      "cell_type": "code",
      "source": [
        "class CNN2RMS(torch.nn.Module):\n",
        "  def __init__(self, num_classes):\n",
        "    super().__init__()\n",
        "    self.features = torch.nn.Sequential(\n",
        "            # Conv 1\n",
        "            torch.nn.Conv2d(3, 16, kernel_size=3, padding=\"same\"), # output 16 - 3 + 1 => 16\n",
        "                            # , stride=4, padding=2),\n",
        "            torch.nn.ReLU(inplace=True),\n",
        "            torch.nn.MaxPool2d(kernel_size=2), # 16 / 2 => output 8\n",
        "\n",
        "            # Conv 2\n",
        "            torch.nn.Conv2d(16, 32, kernel_size=2, padding=\"same\"), # output 7 - 2 + 1 => 8\n",
        "                            # , padding=2),\n",
        "            torch.nn.ReLU(inplace=True),\n",
        "            torch.nn.MaxPool2d(kernel_size=2), #output 8 / 2 => output 4\n",
        "\n",
        "            torch.nn.Conv2d(32, 64, kernel_size=2, padding=\"same\"), # output 7 - 2 + 1 => 8\n",
        "                            # , padding=2),\n",
        "            torch.nn.ReLU(inplace=True),\n",
        "            torch.nn.MaxPool2d(kernel_size=2) #output 8 / 2 => output 2\n",
        "    )\n",
        "\n",
        "    self.classifier = torch.nn.Sequential(\n",
        "         torch.nn.Linear(64*2*2, 100),\n",
        "          torch.nn.ReLU(inplace=True),\n",
        "          torch.nn.Linear(100, num_classes),\n",
        "    )\n",
        "\n",
        "  def forward(self, x):\n",
        "    x = self.features(x)\n",
        "    x = torch.flatten(x, 1)\n",
        "    # print(x.size())\n",
        "    logits = self.classifier(x)\n",
        "    return logits"
      ],
      "metadata": {
        "id": "fNwQmJCGxyEV"
      },
      "execution_count": null,
      "outputs": []
    },
    {
      "cell_type": "code",
      "source": [
        "model2_rms = CNN2RMS(num_classes=10)"
      ],
      "metadata": {
        "id": "wdHBAbKNx_jU"
      },
      "execution_count": null,
      "outputs": []
    },
    {
      "cell_type": "code",
      "source": [
        "model2_rms = model2_rms.to(DEVICE)"
      ],
      "metadata": {
        "id": "iUgU2nhFx_Y-"
      },
      "execution_count": null,
      "outputs": []
    },
    {
      "cell_type": "code",
      "source": [
        "print(summary(model2_rms, (3, 16, 16)))"
      ],
      "metadata": {
        "colab": {
          "base_uri": "https://localhost:8080/"
        },
        "id": "-JvwqNJ0I9is",
        "outputId": "915e4615-385e-49fd-c67f-5119709d76cd"
      },
      "execution_count": null,
      "outputs": [
        {
          "output_type": "stream",
          "name": "stdout",
          "text": [
            "----------------------------------------------------------------\n",
            "        Layer (type)               Output Shape         Param #\n",
            "================================================================\n",
            "            Conv2d-1           [-1, 16, 16, 16]             448\n",
            "              ReLU-2           [-1, 16, 16, 16]               0\n",
            "         MaxPool2d-3             [-1, 16, 8, 8]               0\n",
            "            Conv2d-4             [-1, 32, 8, 8]           2,080\n",
            "              ReLU-5             [-1, 32, 8, 8]               0\n",
            "         MaxPool2d-6             [-1, 32, 4, 4]               0\n",
            "            Conv2d-7             [-1, 64, 4, 4]           8,256\n",
            "              ReLU-8             [-1, 64, 4, 4]               0\n",
            "         MaxPool2d-9             [-1, 64, 2, 2]               0\n",
            "           Linear-10                  [-1, 100]          25,700\n",
            "             ReLU-11                  [-1, 100]               0\n",
            "           Linear-12                   [-1, 10]           1,010\n",
            "================================================================\n",
            "Total params: 37,494\n",
            "Trainable params: 37,494\n",
            "Non-trainable params: 0\n",
            "----------------------------------------------------------------\n",
            "Input size (MB): 0.00\n",
            "Forward/backward pass size (MB): 0.12\n",
            "Params size (MB): 0.14\n",
            "Estimated Total Size (MB): 0.27\n",
            "----------------------------------------------------------------\n",
            "None\n"
          ]
        }
      ]
    },
    {
      "cell_type": "code",
      "source": [
        "optimizer_rms2 = torch.optim.RMSprop(model2_rms.parameters())\n",
        "scheduler_rms2 = torch.optim.lr_scheduler.ReduceLROnPlateau(optimizer_rms2,\n",
        "                                                       factor=0.1,\n",
        "                                                       mode='max',\n",
        "                                                       verbose=True)\n"
      ],
      "metadata": {
        "id": "aHsMKm9Vx_PM"
      },
      "execution_count": null,
      "outputs": []
    },
    {
      "cell_type": "code",
      "source": [
        "minibatch_loss_list_rms2, train_acc_list_rms2, valid_acc_list_rms2 = train_model(\n",
        "    model=model2_rms,\n",
        "    num_epochs=NUM_EPOCHS,\n",
        "    train_loader=train_loader,\n",
        "    valid_loader=valid_loader,\n",
        "    test_loader=test_loader,\n",
        "    optimizer=optimizer_rms2,\n",
        "    device=DEVICE,\n",
        "    scheduler=None,\n",
        "    scheduler_on='valid_acc',\n",
        "    logging_interval=100)"
      ],
      "metadata": {
        "id": "pf-jS53Xx_GS",
        "colab": {
          "base_uri": "https://localhost:8080/"
        },
        "outputId": "c0ac06d6-e1ad-430f-989c-bc98593c522e"
      },
      "execution_count": null,
      "outputs": [
        {
          "metadata": {
            "tags": null
          },
          "name": "stderr",
          "output_type": "stream",
          "text": [
            "/usr/local/lib/python3.7/dist-packages/torch/nn/modules/conv.py:454: UserWarning: Using padding='same' with even kernel lengths and odd dilation may require a zero-padded copy of the input be created (Triggered internally at  ../aten/src/ATen/native/Convolution.cpp:882.)\n",
            "  self.padding, self.dilation, self.groups)\n"
          ]
        },
        {
          "output_type": "stream",
          "name": "stdout",
          "text": [
            "Epoch: 001/040 | Batch 0000/0175 | Loss: 2.3032\n",
            "Epoch: 001/040 | Batch 0100/0175 | Loss: 1.9729\n",
            "Epoch: 001/040 | Train: 30.66% | Validation: 30.14%\n",
            "Time elapsed: 1.26 min\n",
            "Epoch: 002/040 | Batch 0000/0175 | Loss: 1.8742\n",
            "Epoch: 002/040 | Batch 0100/0175 | Loss: 1.6683\n",
            "Epoch: 002/040 | Train: 40.05% | Validation: 40.40%\n",
            "Time elapsed: 2.52 min\n",
            "Epoch: 003/040 | Batch 0000/0175 | Loss: 1.6868\n",
            "Epoch: 003/040 | Batch 0100/0175 | Loss: 1.6765\n",
            "Epoch: 003/040 | Train: 43.42% | Validation: 42.76%\n",
            "Time elapsed: 3.77 min\n",
            "Epoch: 004/040 | Batch 0000/0175 | Loss: 1.6147\n",
            "Epoch: 004/040 | Batch 0100/0175 | Loss: 1.5127\n",
            "Epoch: 004/040 | Train: 42.78% | Validation: 41.92%\n",
            "Time elapsed: 5.03 min\n",
            "Epoch: 005/040 | Batch 0000/0175 | Loss: 1.6473\n",
            "Epoch: 005/040 | Batch 0100/0175 | Loss: 1.6414\n",
            "Epoch: 005/040 | Train: 46.92% | Validation: 45.38%\n",
            "Time elapsed: 6.29 min\n",
            "Epoch: 006/040 | Batch 0000/0175 | Loss: 1.5248\n",
            "Epoch: 006/040 | Batch 0100/0175 | Loss: 1.7662\n",
            "Epoch: 006/040 | Train: 46.45% | Validation: 45.42%\n",
            "Time elapsed: 7.55 min\n",
            "Epoch: 007/040 | Batch 0000/0175 | Loss: 1.4168\n",
            "Epoch: 007/040 | Batch 0100/0175 | Loss: 1.3527\n",
            "Epoch: 007/040 | Train: 51.52% | Validation: 50.04%\n",
            "Time elapsed: 8.80 min\n",
            "Epoch: 008/040 | Batch 0000/0175 | Loss: 1.4630\n",
            "Epoch: 008/040 | Batch 0100/0175 | Loss: 1.3553\n",
            "Epoch: 008/040 | Train: 50.48% | Validation: 49.74%\n",
            "Time elapsed: 10.06 min\n",
            "Epoch: 009/040 | Batch 0000/0175 | Loss: 1.3143\n",
            "Epoch: 009/040 | Batch 0100/0175 | Loss: 1.3965\n",
            "Epoch: 009/040 | Train: 50.99% | Validation: 49.42%\n",
            "Time elapsed: 11.33 min\n",
            "Epoch: 010/040 | Batch 0000/0175 | Loss: 1.2683\n",
            "Epoch: 010/040 | Batch 0100/0175 | Loss: 1.2291\n",
            "Epoch: 010/040 | Train: 53.25% | Validation: 51.00%\n",
            "Time elapsed: 12.56 min\n",
            "Epoch: 011/040 | Batch 0000/0175 | Loss: 1.3709\n",
            "Epoch: 011/040 | Batch 0100/0175 | Loss: 1.3455\n",
            "Epoch: 011/040 | Train: 53.52% | Validation: 51.66%\n",
            "Time elapsed: 13.81 min\n",
            "Epoch: 012/040 | Batch 0000/0175 | Loss: 1.3187\n",
            "Epoch: 012/040 | Batch 0100/0175 | Loss: 1.3236\n",
            "Epoch: 012/040 | Train: 53.44% | Validation: 50.46%\n",
            "Time elapsed: 15.05 min\n",
            "Epoch: 013/040 | Batch 0000/0175 | Loss: 1.2283\n",
            "Epoch: 013/040 | Batch 0100/0175 | Loss: 1.1696\n",
            "Epoch: 013/040 | Train: 55.91% | Validation: 53.48%\n",
            "Time elapsed: 16.30 min\n",
            "Epoch: 014/040 | Batch 0000/0175 | Loss: 1.2250\n",
            "Epoch: 014/040 | Batch 0100/0175 | Loss: 1.2540\n",
            "Epoch: 014/040 | Train: 55.15% | Validation: 52.20%\n",
            "Time elapsed: 17.55 min\n",
            "Epoch: 015/040 | Batch 0000/0175 | Loss: 1.2724\n",
            "Epoch: 015/040 | Batch 0100/0175 | Loss: 1.2332\n",
            "Epoch: 015/040 | Train: 56.23% | Validation: 53.60%\n",
            "Time elapsed: 18.81 min\n",
            "Epoch: 016/040 | Batch 0000/0175 | Loss: 1.1769\n",
            "Epoch: 016/040 | Batch 0100/0175 | Loss: 1.2487\n",
            "Epoch: 016/040 | Train: 55.88% | Validation: 52.84%\n",
            "Time elapsed: 20.05 min\n",
            "Epoch: 017/040 | Batch 0000/0175 | Loss: 1.2811\n",
            "Epoch: 017/040 | Batch 0100/0175 | Loss: 1.2496\n",
            "Epoch: 017/040 | Train: 52.52% | Validation: 48.54%\n",
            "Time elapsed: 21.29 min\n",
            "Epoch: 018/040 | Batch 0000/0175 | Loss: 1.2667\n",
            "Epoch: 018/040 | Batch 0100/0175 | Loss: 1.1773\n",
            "Epoch: 018/040 | Train: 58.38% | Validation: 53.20%\n",
            "Time elapsed: 22.53 min\n",
            "Epoch: 019/040 | Batch 0000/0175 | Loss: 1.1434\n",
            "Epoch: 019/040 | Batch 0100/0175 | Loss: 1.2157\n",
            "Epoch: 019/040 | Train: 56.60% | Validation: 52.88%\n",
            "Time elapsed: 23.78 min\n",
            "Epoch: 020/040 | Batch 0000/0175 | Loss: 1.1920\n",
            "Epoch: 020/040 | Batch 0100/0175 | Loss: 1.3042\n",
            "Epoch: 020/040 | Train: 58.08% | Validation: 54.02%\n",
            "Time elapsed: 25.03 min\n",
            "Epoch: 021/040 | Batch 0000/0175 | Loss: 1.0531\n",
            "Epoch: 021/040 | Batch 0100/0175 | Loss: 1.1051\n",
            "Epoch: 021/040 | Train: 56.94% | Validation: 53.12%\n",
            "Time elapsed: 26.27 min\n",
            "Epoch: 022/040 | Batch 0000/0175 | Loss: 1.2883\n",
            "Epoch: 022/040 | Batch 0100/0175 | Loss: 1.2688\n",
            "Epoch: 022/040 | Train: 58.28% | Validation: 53.38%\n",
            "Time elapsed: 27.51 min\n",
            "Epoch: 023/040 | Batch 0000/0175 | Loss: 1.1259\n",
            "Epoch: 023/040 | Batch 0100/0175 | Loss: 1.2191\n",
            "Epoch: 023/040 | Train: 57.71% | Validation: 53.16%\n",
            "Time elapsed: 28.76 min\n",
            "Epoch: 024/040 | Batch 0000/0175 | Loss: 1.1525\n",
            "Epoch: 024/040 | Batch 0100/0175 | Loss: 1.2438\n",
            "Epoch: 024/040 | Train: 57.76% | Validation: 52.70%\n",
            "Time elapsed: 30.02 min\n",
            "Epoch: 025/040 | Batch 0000/0175 | Loss: 1.1755\n",
            "Epoch: 025/040 | Batch 0100/0175 | Loss: 1.1265\n",
            "Epoch: 025/040 | Train: 60.26% | Validation: 55.70%\n",
            "Time elapsed: 31.25 min\n",
            "Epoch: 026/040 | Batch 0000/0175 | Loss: 1.1281\n",
            "Epoch: 026/040 | Batch 0100/0175 | Loss: 1.2524\n",
            "Epoch: 026/040 | Train: 59.85% | Validation: 54.44%\n",
            "Time elapsed: 32.51 min\n",
            "Epoch: 027/040 | Batch 0000/0175 | Loss: 1.0421\n",
            "Epoch: 027/040 | Batch 0100/0175 | Loss: 1.1558\n",
            "Epoch: 027/040 | Train: 59.20% | Validation: 53.76%\n",
            "Time elapsed: 33.77 min\n",
            "Epoch: 028/040 | Batch 0000/0175 | Loss: 1.1523\n",
            "Epoch: 028/040 | Batch 0100/0175 | Loss: 1.2989\n",
            "Epoch: 028/040 | Train: 59.63% | Validation: 54.40%\n",
            "Time elapsed: 35.02 min\n",
            "Epoch: 029/040 | Batch 0000/0175 | Loss: 1.1245\n",
            "Epoch: 029/040 | Batch 0100/0175 | Loss: 1.1143\n",
            "Epoch: 029/040 | Train: 61.10% | Validation: 56.48%\n",
            "Time elapsed: 36.28 min\n",
            "Epoch: 030/040 | Batch 0000/0175 | Loss: 1.1010\n",
            "Epoch: 030/040 | Batch 0100/0175 | Loss: 1.1053\n",
            "Epoch: 030/040 | Train: 60.92% | Validation: 55.18%\n",
            "Time elapsed: 37.52 min\n",
            "Epoch: 031/040 | Batch 0000/0175 | Loss: 1.1549\n",
            "Epoch: 031/040 | Batch 0100/0175 | Loss: 1.1747\n",
            "Epoch: 031/040 | Train: 61.56% | Validation: 54.72%\n",
            "Time elapsed: 38.77 min\n",
            "Epoch: 032/040 | Batch 0000/0175 | Loss: 1.1433\n",
            "Epoch: 032/040 | Batch 0100/0175 | Loss: 1.3005\n",
            "Epoch: 032/040 | Train: 61.34% | Validation: 55.06%\n",
            "Time elapsed: 40.02 min\n",
            "Epoch: 033/040 | Batch 0000/0175 | Loss: 1.0534\n",
            "Epoch: 033/040 | Batch 0100/0175 | Loss: 1.2882\n",
            "Epoch: 033/040 | Train: 59.89% | Validation: 54.82%\n",
            "Time elapsed: 41.27 min\n",
            "Epoch: 034/040 | Batch 0000/0175 | Loss: 1.1548\n",
            "Epoch: 034/040 | Batch 0100/0175 | Loss: 1.1691\n",
            "Epoch: 034/040 | Train: 62.45% | Validation: 56.44%\n",
            "Time elapsed: 42.51 min\n",
            "Epoch: 035/040 | Batch 0000/0175 | Loss: 0.9894\n",
            "Epoch: 035/040 | Batch 0100/0175 | Loss: 1.1030\n",
            "Epoch: 035/040 | Train: 61.92% | Validation: 55.58%\n",
            "Time elapsed: 43.77 min\n",
            "Epoch: 036/040 | Batch 0000/0175 | Loss: 1.0268\n",
            "Epoch: 036/040 | Batch 0100/0175 | Loss: 1.0481\n",
            "Epoch: 036/040 | Train: 59.92% | Validation: 54.12%\n",
            "Time elapsed: 45.01 min\n",
            "Epoch: 037/040 | Batch 0000/0175 | Loss: 1.0873\n",
            "Epoch: 037/040 | Batch 0100/0175 | Loss: 1.0833\n",
            "Epoch: 037/040 | Train: 53.34% | Validation: 48.46%\n",
            "Time elapsed: 46.26 min\n",
            "Epoch: 038/040 | Batch 0000/0175 | Loss: 1.3300\n",
            "Epoch: 038/040 | Batch 0100/0175 | Loss: 1.1263\n",
            "Epoch: 038/040 | Train: 61.58% | Validation: 54.84%\n",
            "Time elapsed: 47.51 min\n",
            "Epoch: 039/040 | Batch 0000/0175 | Loss: 1.1002\n",
            "Epoch: 039/040 | Batch 0100/0175 | Loss: 1.0842\n",
            "Epoch: 039/040 | Train: 63.25% | Validation: 56.04%\n",
            "Time elapsed: 48.76 min\n",
            "Epoch: 040/040 | Batch 0000/0175 | Loss: 1.0204\n",
            "Epoch: 040/040 | Batch 0100/0175 | Loss: 1.1030\n",
            "Epoch: 040/040 | Train: 63.51% | Validation: 55.92%\n",
            "Time elapsed: 50.02 min\n",
            "Total Training Time: 50.02 min\n",
            "Test accuracy 54.73%\n"
          ]
        }
      ]
    },
    {
      "cell_type": "code",
      "source": [
        "plot_training_loss(minibatch_loss_list=minibatch_loss_list_rms2,\n",
        "                   num_epochs=NUM_EPOCHS,\n",
        "                   iter_per_epoch=len(train_loader),\n",
        "                   results_dir=None,\n",
        "                   averaging_iterations=20)\n",
        "\n",
        "plt.show()\n",
        "\n",
        "plot_accuracy(train_acc_list=train_acc_list_rms2,\n",
        "              valid_acc_list=valid_acc_list_rms2,\n",
        "              results_dir=None)\n",
        "\n",
        "# plt.ylim([80, 100])\n",
        "plt.show()\n",
        "\n",
        "\n",
        "\n",
        "\n",
        "\n",
        "\n",
        "\n",
        "\n",
        "\n",
        "\n",
        "\n",
        "\n",
        "\n",
        "\n",
        "\n",
        "\n",
        "\n",
        "\n",
        "\n",
        "\n",
        "\n",
        "\n",
        "\n",
        "\n"
      ],
      "metadata": {
        "id": "vO9WwHRjx-9j",
        "colab": {
          "base_uri": "https://localhost:8080/",
          "height": 577
        },
        "outputId": "fc9d8cee-72b0-40ba-ed97-78d65b386c5d"
      },
      "execution_count": null,
      "outputs": [
        {
          "output_type": "display_data",
          "data": {
            "text/plain": [
              "<Figure size 432x288 with 2 Axes>"
            ],
            "image/png": "[encoded data removed]"
          },
          "metadata": {
            "needs_background": "light"
          }
        },
        {
          "output_type": "display_data",
          "data": {
            "text/plain": [
              "<Figure size 432x288 with 1 Axes>"
            ],
            "image/png": "[encoded data removed]"
          },
          "metadata": {
            "needs_background": "light"
          }
        }
      ]
    },
    {
      "cell_type": "code",
      "source": [
        "import pandas as pd"
      ],
      "metadata": {
        "id": "0vxSIeHq099y"
      },
      "execution_count": null,
      "outputs": []
    },
    {
      "cell_type": "code",
      "source": [
        "results = pd.DataFrame({\"Number of Parameters\": [54838, 37494], \"Accuracy\": [70, 63]}, index = [\"CNN1\", \"CNN2\"])"
      ],
      "metadata": {
        "id": "A7TicaK84CLp"
      },
      "execution_count": null,
      "outputs": []
    },
    {
      "cell_type": "code",
      "source": [
        "results"
      ],
      "metadata": {
        "colab": {
          "base_uri": "https://localhost:8080/",
          "height": 112
        },
        "id": "bL3pp1Cb4CDC",
        "outputId": "8b1df92f-f650-4b65-8a28-c0bea1b2be29"
      },
      "execution_count": null,
      "outputs": [
        {
          "output_type": "execute_result",
          "data": {
            "text/plain": [
              "      Number of Parameters  Accuracy\n",
              "CNN1                 54838        70\n",
              "CNN2                 37494        63"
            ],
            "text/html": [
              "\n",
              "  <div id=\"df-709f67dd-03f3-4849-825c-995406f20711\">\n",
              "    <div class=\"colab-df-container\">\n",
              "      <div>\n",
              "<style scoped>\n",
              "    .dataframe tbody tr th:only-of-type {\n",
              "        vertical-align: middle;\n",
              "    }\n",
              "\n",
              "    .dataframe tbody tr th {\n",
              "        vertical-align: top;\n",
              "    }\n",
              "\n",
              "    .dataframe thead th {\n",
              "        text-align: right;\n",
              "    }\n",
              "</style>\n",
              "<table border=\"1\" class=\"dataframe\">\n",
              "  <thead>\n",
              "    <tr style=\"text-align: right;\">\n",
              "      <th></th>\n",
              "      <th>Number of Parameters</th>\n",
              "      <th>Accuracy</th>\n",
              "    </tr>\n",
              "  </thead>\n",
              "  <tbody>\n",
              "    <tr>\n",
              "      <th>CNN1</th>\n",
              "      <td>54838</td>\n",
              "      <td>70</td>\n",
              "    </tr>\n",
              "    <tr>\n",
              "      <th>CNN2</th>\n",
              "      <td>37494</td>\n",
              "      <td>63</td>\n",
              "    </tr>\n",
              "  </tbody>\n",
              "</table>\n",
              "</div>\n",
              "      <button class=\"colab-df-convert\" onclick=\"convertToInteractive('df-709f67dd-03f3-4849-825c-995406f20711')\"\n",
              "              title=\"Convert this dataframe to an interactive table.\"\n",
              "              style=\"display:none;\">\n",
              "        \n",
              "  <svg xmlns=\"http://www.w3.org/2000/svg\" height=\"24px\"viewBox=\"0 0 24 24\"\n",
              "       width=\"24px\">\n",
              "    <path d=\"M0 0h24v24H0V0z\" fill=\"none\"/>\n",
              "    <path d=\"M18.56 5.44l.94 2.06.94-2.06 2.06-.94-2.06-.94-.94-2.06-.94 2.06-2.06.94zm-11 1L8.5 8.5l.94-2.06 2.06-.94-2.06-.94L8.5 2.5l-.94 2.06-2.06.94zm10 10l.94 2.06.94-2.06 2.06-.94-2.06-.94-.94-2.06-.94 2.06-2.06.94z\"/><path d=\"M17.41 7.96l-1.37-1.37c-.4-.4-.92-.59-1.43-.59-.52 0-1.04.2-1.43.59L10.3 9.45l-7.72 7.72c-.78.78-.78 2.05 0 2.83L4 21.41c.39.39.9.59 1.41.59.51 0 1.02-.2 1.41-.59l7.78-7.78 2.81-2.81c.8-.78.8-2.07 0-2.86zM5.41 20L4 18.59l7.72-7.72 1.47 1.35L5.41 20z\"/>\n",
              "  </svg>\n",
              "      </button>\n",
              "      \n",
              "  <style>\n",
              "    .colab-df-container {\n",
              "      display:flex;\n",
              "      flex-wrap:wrap;\n",
              "      gap: 12px;\n",
              "    }\n",
              "\n",
              "    .colab-df-convert {\n",
              "      background-color: #E8F0FE;\n",
              "      border: none;\n",
              "      border-radius: 50%;\n",
              "      cursor: pointer;\n",
              "      display: none;\n",
              "      fill: #1967D2;\n",
              "      height: 32px;\n",
              "      padding: 0 0 0 0;\n",
              "      width: 32px;\n",
              "    }\n",
              "\n",
              "    .colab-df-convert:hover {\n",
              "      background-color: #E2EBFA;\n",
              "      box-shadow: 0px 1px 2px rgba(60, 64, 67, 0.3), 0px 1px 3px 1px rgba(60, 64, 67, 0.15);\n",
              "      fill: #174EA6;\n",
              "    }\n",
              "\n",
              "    [theme=dark] .colab-df-convert {\n",
              "      background-color: #3B4455;\n",
              "      fill: #D2E3FC;\n",
              "    }\n",
              "\n",
              "    [theme=dark] .colab-df-convert:hover {\n",
              "      background-color: #434B5C;\n",
              "      box-shadow: 0px 1px 3px 1px rgba(0, 0, 0, 0.15);\n",
              "      filter: drop-shadow(0px 1px 2px rgba(0, 0, 0, 0.3));\n",
              "      fill: #FFFFFF;\n",
              "    }\n",
              "  </style>\n",
              "\n",
              "      <script>\n",
              "        const buttonEl =\n",
              "          document.querySelector('#df-709f67dd-03f3-4849-825c-995406f20711 button.colab-df-convert');\n",
              "        buttonEl.style.display =\n",
              "          google.colab.kernel.accessAllowed ? 'block' : 'none';\n",
              "\n",
              "        async function convertToInteractive(key) {\n",
              "          const element = document.querySelector('#df-709f67dd-03f3-4849-825c-995406f20711');\n",
              "          const dataTable =\n",
              "            await google.colab.kernel.invokeFunction('convertToInteractive',\n",
              "                                                     [key], {});\n",
              "          if (!dataTable) return;\n",
              "\n",
              "          const docLinkHtml = 'Like what you see? Visit the ' +\n",
              "            '<a target=\"_blank\" href=https://colab.research.google.com/notebooks/data_table.ipynb>data table notebook</a>'\n",
              "            + ' to learn more about interactive tables.';\n",
              "          element.innerHTML = '';\n",
              "          dataTable['output_type'] = 'display_data';\n",
              "          await google.colab.output.renderOutput(dataTable, element);\n",
              "          const docLink = document.createElement('div');\n",
              "          docLink.innerHTML = docLinkHtml;\n",
              "          element.appendChild(docLink);\n",
              "        }\n",
              "      </script>\n",
              "    </div>\n",
              "  </div>\n",
              "  "
            ]
          },
          "metadata": {},
          "execution_count": 3
        }
      ]
    },
    {
      "cell_type": "markdown",
      "source": [
        "## The RMS Prop optimiser was very good almost as good as the SGD optimiser but with lower overfitting, this could be combined with dropout for better results"
      ],
      "metadata": {
        "id": "9mFFqrf18LHR"
      }
    },
    {
      "cell_type": "code",
      "source": [],
      "metadata": {
        "id": "GjqKyKf_4M0d"
      },
      "execution_count": null,
      "outputs": []
    }
  ]
}